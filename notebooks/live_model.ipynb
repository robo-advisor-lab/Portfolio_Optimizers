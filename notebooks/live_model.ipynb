{
 "cells": [
  {
   "cell_type": "code",
   "execution_count": 1,
   "metadata": {},
   "outputs": [],
   "source": [
    "import pandas as pd\n",
    "import requests\n",
    "import numpy as np\n",
    "import yfinance as yf\n",
    "%matplotlib inline\n",
    "import random\n",
    "import plotly.io as pio\n",
    "\n",
    "import datetime as dt\n",
    "\n",
    "import os\n",
    "from dotenv import load_dotenv\n",
    "\n",
    "import datetime as dt\n",
    "from datetime import timedelta\n",
    "\n",
    "from stable_baselines3 import PPO\n",
    "\n",
    "import streamlit as st\n",
    "\n",
    "\n",
    "pio.templates[\"custom\"] = pio.templates[\"plotly\"]\n",
    "pio.templates[\"custom\"].layout.font.family = \"Cardo\"\n",
    "\n",
    "font_family = \"Cardo\"\n",
    "\n",
    "# Set the default template\n",
    "pio.templates.default = \"custom\""
   ]
  },
  {
   "cell_type": "code",
   "execution_count": 2,
   "metadata": {},
   "outputs": [],
   "source": [
    "from eth_account import Account\n",
    "from eth_account.signers.local import LocalAccount\n",
    "from web3 import Web3, EthereumTesterProvider\n",
    "from web3.exceptions import TransactionNotFound,TimeExhausted"
   ]
  },
  {
   "cell_type": "code",
   "execution_count": 3,
   "metadata": {},
   "outputs": [],
   "source": [
    "os.chdir('..')"
   ]
  },
  {
   "cell_type": "code",
   "execution_count": 4,
   "metadata": {},
   "outputs": [
    {
     "name": "stderr",
     "output_type": "stream",
     "text": [
      "e:\\Projects\\steth_optimizer\\steth_optimizer\\Lib\\site-packages\\pydantic\\_internal\\_config.py:341: UserWarning: Valid config keys have changed in V2:\n",
      "* 'fields' has been removed\n",
      "  warnings.warn(message, UserWarning)\n",
      "2024-12-16 23:06:26.497 WARNING streamlit.runtime.caching.cache_data_api: No runtime found, using MemoryCacheStorageManager\n",
      "2024-12-16 23:06:26.585 WARNING streamlit.runtime.caching.cache_data_api: No runtime found, using MemoryCacheStorageManager\n"
     ]
    },
    {
     "name": "stdout",
     "output_type": "stream",
     "text": [
      "Current Directory: e:\\Projects\\portfolio_optimizers\\dao_advisor_project\n"
     ]
    }
   ],
   "source": [
    "from python_scripts.utils import flipside_api_results, set_random_seed, to_time, clean_prices, calculate_cumulative_return, calculate_cagr, calculate_beta, fetch_and_process_tbill_data,data_cleaning,prepare_data_for_simulation,pull_data,mvo\n",
    "from sql_scripts.queries import lst_portfolio_prices,eth_btc_prices,dao_advisor_portfolio, yield_portfolio_prices,token_prices\n",
    "from models.testnet_model import Portfolio\n",
    "from python_scripts.apis import token_classifier_portfolio"
   ]
  },
  {
   "cell_type": "code",
   "execution_count": 5,
   "metadata": {},
   "outputs": [],
   "source": [
    "from diskcache import Cache"
   ]
  },
  {
   "cell_type": "code",
   "execution_count": 6,
   "metadata": {},
   "outputs": [
    {
     "name": "stdout",
     "output_type": "stream",
     "text": [
      "sys.path: ['C:\\\\Users\\\\brandyns pc\\\\AppData\\\\Local\\\\Programs\\\\Python\\\\Python311\\\\python311.zip', 'C:\\\\Users\\\\brandyns pc\\\\AppData\\\\Local\\\\Programs\\\\Python\\\\Python311\\\\DLLs', 'C:\\\\Users\\\\brandyns pc\\\\AppData\\\\Local\\\\Programs\\\\Python\\\\Python311\\\\Lib', 'C:\\\\Users\\\\brandyns pc\\\\AppData\\\\Local\\\\Programs\\\\Python\\\\Python311', 'e:\\\\Projects\\\\steth_optimizer\\\\steth_optimizer', '', 'e:\\\\Projects\\\\steth_optimizer\\\\steth_optimizer\\\\Lib\\\\site-packages', 'e:\\\\projects\\\\ournetwork\\\\pipeline', 'e:\\\\projects\\\\pipeline_pkg', 'e:\\\\projects\\\\chart_builder_pkg', 'e:\\\\Projects\\\\steth_optimizer\\\\steth_optimizer\\\\Lib\\\\site-packages\\\\win32', 'e:\\\\Projects\\\\steth_optimizer\\\\steth_optimizer\\\\Lib\\\\site-packages\\\\win32\\\\lib', 'e:\\\\Projects\\\\steth_optimizer\\\\steth_optimizer\\\\Lib\\\\site-packages\\\\Pythonwin', 'e:\\\\projects\\\\chart_builder_pkg\\\\chart_builder\\\\scripts']\n",
      "Current working directory: e:\\Projects\\portfolio_optimizers\\dao_advisor_project\n",
      "Current directory: e:\\projects\\chart_builder_pkg\\chart_builder\\scripts\n",
      "Current working directory: e:\\Projects\\portfolio_optimizers\\dao_advisor_project\n",
      "Current directory: e:\\projects\\chart_builder_pkg\\chart_builder\\scripts\n"
     ]
    }
   ],
   "source": [
    "from chart_builder.scripts.visualization_pipeline import visualization_pipeline\n",
    "from chart_builder.scripts.utils import main as chartBuilder"
   ]
  },
  {
   "cell_type": "code",
   "execution_count": 7,
   "metadata": {},
   "outputs": [],
   "source": [
    "from uniswap import Uniswap"
   ]
  },
  {
   "cell_type": "code",
   "execution_count": 8,
   "metadata": {},
   "outputs": [],
   "source": [
    "from apscheduler.schedulers.background import BackgroundScheduler\n",
    "from apscheduler.triggers.cron import CronTrigger\n",
    "import time\n"
   ]
  },
  {
   "cell_type": "code",
   "execution_count": 9,
   "metadata": {},
   "outputs": [],
   "source": [
    "load_dotenv()\n",
    "\n",
    "# Price Data API\n",
    "flipside_api_key = os.getenv(\"FLIPSIDE_API_KEY\")\n",
    "\n",
    "#Blockchain RPCs\n",
    "GNOSIS_GATEWAY = os.getenv('GNOSIS_GATEWAY')\n",
    "ARBITRUM_GATEWAY = os.getenv('ARBITRUM_GATEWAY')\n",
    "OPTIMISM_GATEWAY = os.getenv('OPTIMISM_GATEWAY')\n",
    "ETHEREUM_GATEWAY = os.getenv('ETHEREUM_GATEWAY')\n",
    "\n",
    "#Address Credentials\n",
    "ACCOUNT_ADDRESS = os.getenv('MODEL_ADDRESS')\n",
    "PRIVATE_KEY = os.getenv('MODEL_KEY')"
   ]
  },
  {
   "cell_type": "code",
   "execution_count": 10,
   "metadata": {},
   "outputs": [
    {
     "name": "stderr",
     "output_type": "stream",
     "text": [
      "2024-12-16 23:06:27.232 WARNING streamlit.runtime.caching.cache_data_api: No runtime found, using MemoryCacheStorageManager\n"
     ]
    }
   ],
   "source": [
    "@st.cache_data(ttl=timedelta(days=7))\n",
    "def fetch_and_process_tbill_data(api_url, data_key, date_column, value_column, date_format='datetime'):\n",
    "    api_key = os.getenv(\"FRED_API_KEY\")\n",
    "    api_url_with_key = f\"{api_url}&api_key={api_key}\"\n",
    "\n",
    "    response = requests.get(api_url_with_key)\n",
    "    if response.status_code == 200:\n",
    "        data = response.json()\n",
    "        df = pd.DataFrame(data[data_key])\n",
    "        \n",
    "        if date_format == 'datetime':\n",
    "            df[date_column] = pd.to_datetime(df[date_column])\n",
    "        \n",
    "        df.set_index(date_column, inplace=True)\n",
    "        df[value_column] = df[value_column].astype(float)\n",
    "        return df\n",
    "    else:\n",
    "        print(f\"Failed to retrieve data: {response.status_code}\")\n",
    "        return pd.DataFrame()  # Return an empty DataFrame in case of failure\n"
   ]
  },
  {
   "cell_type": "code",
   "execution_count": 11,
   "metadata": {},
   "outputs": [
    {
     "name": "stderr",
     "output_type": "stream",
     "text": [
      "2024-12-16 23:06:29.167 \n",
      "  \u001b[33m\u001b[1mWarning:\u001b[0m to view this Streamlit app on a browser, run it with the following\n",
      "  command:\n",
      "\n",
      "    streamlit run e:\\Projects\\steth_optimizer\\steth_optimizer\\Lib\\site-packages\\ipykernel_launcher.py [ARGUMENTS]\n",
      "2024-12-16 23:06:29.168 No runtime found, using MemoryCacheStorageManager\n"
     ]
    },
    {
     "name": "stdout",
     "output_type": "stream",
     "text": [
      "3-month T-bill data fetched:            realtime_start realtime_end  value  decimal\n",
      "date                                                  \n",
      "2024-07-01     2024-12-12   2024-12-12   5.20   0.0520\n",
      "2024-08-01     2024-12-12   2024-12-12   5.05   0.0505\n",
      "2024-09-01     2024-12-12   2024-12-12   4.72   0.0472\n",
      "2024-10-01     2024-12-12   2024-12-12   4.51   0.0451\n",
      "2024-11-01     2024-12-12   2024-12-12   4.42   0.0442\n"
     ]
    }
   ],
   "source": [
    "three_month_tbill_historical_api = \"https://api.stlouisfed.org/fred/series/observations?series_id=TB3MS&file_type=json\"\n",
    "\n",
    "try:\n",
    "    three_month_tbill = fetch_and_process_tbill_data(three_month_tbill_historical_api, \"observations\", \"date\", \"value\")\n",
    "    three_month_tbill['decimal'] = three_month_tbill['value'] / 100\n",
    "    current_risk_free = three_month_tbill['decimal'].iloc[-1]\n",
    "    print(f\"3-month T-bill data fetched: {three_month_tbill.tail()}\")\n",
    "except Exception as e:\n",
    "    print(f\"Error in fetching tbill data: {e}\")"
   ]
  },
  {
   "cell_type": "code",
   "execution_count": 12,
   "metadata": {},
   "outputs": [],
   "source": [
    "params_cache = Cache('test_model_cache')"
   ]
  },
  {
   "cell_type": "code",
   "execution_count": 13,
   "metadata": {},
   "outputs": [],
   "source": [
    "today_utc = dt.datetime.now(dt.timezone.utc) - timedelta(hours=5)\n",
    "formatted_today_utc = today_utc.strftime('%Y-%m-%d %H:00:00')"
   ]
  },
  {
   "cell_type": "code",
   "execution_count": 14,
   "metadata": {},
   "outputs": [],
   "source": [
    "end_date = dt.datetime.now(dt.timezone.utc).strftime('%Y-%m-%d %H:00:00') "
   ]
  },
  {
   "cell_type": "code",
   "execution_count": 15,
   "metadata": {},
   "outputs": [
    {
     "name": "stdout",
     "output_type": "stream",
     "text": [
      "['Savings Stables Model_2 Test Start', 'arbitrum_classifier Assets', 'arbitrum_classifier Classifier', 'arbitrum_classifier Params', 'arbitrum_classifier Test Start', 'ethereum_classifier Assets', 'ethereum_classifier Test Start', 'test_arbitrum Assets', 'to_save_cache Assets']\n"
     ]
    }
   ],
   "source": [
    "print(list(params_cache.iterkeys()))"
   ]
  },
  {
   "cell_type": "code",
   "execution_count": 97,
   "metadata": {},
   "outputs": [
    {
     "name": "stdout",
     "output_type": "stream",
     "text": [
      "model_name: arbitrum_classifier \n",
      "network: arbitrum\n",
      "test_start_date: 2024-10-31 12:00:00+00:00\n"
     ]
    }
   ],
   "source": [
    "model_name = 'arbitrum_classifier'\n",
    "cache = Cache(f'live_{model_name}_cache')\n",
    "normalized_value = 100\n",
    "\n",
    "clear_cache = True\n",
    " \n",
    "params = params_cache.get(f'{model_name} Params')\n",
    "network = params['network']\n",
    "chain = params['network']\n",
    "print(f'model_name: {model_name} \\nnetwork: {network}')\n",
    "\n",
    "test_start_date = params_cache.get(f'{model_name} Test Start') # First hour after end of training dataset; ensures no overlap\n",
    "filtered_assets = params_cache.get(f'{model_name} Assets')\n",
    "classifier_data = params_cache.get(f'{model_name} Classifier')\n",
    "\n",
    "days = params['days']\n",
    "function = params['function']\n",
    "seed = params['seed']\n",
    "\n",
    "rebalance_frequency = params['rebalance_frequency']\n",
    "\n",
    "test_start_date = str(test_start_date)\n",
    "start_date = formatted_today_utc\n",
    "print(f'test_start_date: {test_start_date}')\n",
    "\n",
    "diff_tolerance_threshold = 0.05 #percent for diff between new portfolio action and current portfolio\n"
   ]
  },
  {
   "cell_type": "code",
   "execution_count": 98,
   "metadata": {},
   "outputs": [],
   "source": [
    "if clear_cache:\n",
    "    cache.clear() "
   ]
  },
  {
   "cell_type": "code",
   "execution_count": 18,
   "metadata": {},
   "outputs": [],
   "source": [
    "historical_data = cache.get(f'{model_name} historical_data', pd.DataFrame())\n",
    "historical_port_values = cache.get(f'{model_name} historical_port_values', pd.DataFrame())\n",
    "oracle_prices = cache.get(f'{model_name} oracle_prices',pd.DataFrame())\n",
    "last_rebalance_time = cache.get(f'{model_name} last_rebalance_time', None)\n",
    "model_actions = cache.get(f'{model_name} actions', pd.DataFrame()) "
   ]
  },
  {
   "cell_type": "code",
   "execution_count": 19,
   "metadata": {},
   "outputs": [],
   "source": [
    "def prices_data_func(network,\n",
    "                     api_key,use_cached_data,name,days=None,\n",
    "                     function=None,start_date=None,\n",
    "                     backtest_period=None):\n",
    "    \n",
    "    if start_date is None and backtest_period is None:\n",
    "        raise KeyError(\"Provide either a start date or backtest_period\")\n",
    "    \n",
    "    print(f\"backtest days: {(pd.to_datetime(dt.datetime.now(dt.timezone.utc).strftime('%Y-%m-%d %H:00:00')) - pd.to_datetime(start_date)).days}\")\n",
    "    \n",
    "    if backtest_period is None:\n",
    "        backtest_period = (pd.to_datetime(dt.datetime.now(dt.timezone.utc).strftime('%Y-%m-%d %H:00:00')) - pd.to_datetime(start_date)).days * 24\n",
    "        if backtest_period < 1:\n",
    "            backtest_period = 1\n",
    "\n",
    "    if function is None:\n",
    "\n",
    "        data = token_classifier_portfolio(\n",
    "            network=network,\n",
    "            days=days,\n",
    "            name=name,\n",
    "            api_key = api_key,\n",
    "            use_cached_data=use_cached_data,\n",
    "            start_date = start_date,\n",
    "            prices_only=True\n",
    "        )\n",
    "\n",
    "        prices_df = data_cleaning(data['portfolio'])\n",
    "        prices_df\n",
    "    else: \n",
    "        data = pull_data(function=function,start_date=start_date, path=f'data/{name}.csv', api=not use_cached_data,model_name=name)\n",
    "        prices_df = data_cleaning(data['portfolio'])\n",
    "        prices_df = prices_df[prices_df.index >= start_date].dropna()\n",
    "        prices_df\n",
    "\n",
    "    # prices_df.columns = prices_df.columns.str.replace('_Price','')\n",
    "    filtered_assets_with_price = [f\"{asset}_Price\" for asset in filtered_assets]\n",
    "\n",
    "\n",
    "    return data, prices_df[filtered_assets_with_price]"
   ]
  },
  {
   "cell_type": "code",
   "execution_count": 21,
   "metadata": {},
   "outputs": [
    {
     "name": "stderr",
     "output_type": "stream",
     "text": [
      "2024-12-16 23:06:30.806 No runtime found, using MemoryCacheStorageManager\n"
     ]
    },
    {
     "name": "stdout",
     "output_type": "stream",
     "text": [
      "backtest days: 0\n",
      "use_cached_data: False\n",
      "volume_threshold: 1\n",
      "start_date: 2024-12-16 23:00:00\n",
      "prices_start: 2024-12-16 23:00:00\n",
      "Beginning: '2024-12-16 23:00:00'\n"
     ]
    },
    {
     "name": "stdout",
     "output_type": "stream",
     "text": [
      "Query not completed. Retrying in 30 seconds...\n",
      "cleaning prices\n",
      "cleaned prices:                        hour  ARB_Price  CRV_Price  GMX_Price  GRT_Price  \\\n",
      "0  2024-12-16T23:00:00.000Z   1.027000      1.092      37.96   0.280871   \n",
      "1  2024-12-17T00:00:00.000Z   1.020000      1.082      37.58   0.278554   \n",
      "2  2024-12-17T01:00:00.000Z   1.006000      1.073      37.30   0.275907   \n",
      "3  2024-12-17T02:00:00.000Z   0.986978      1.071      36.76   0.273421   \n",
      "\n",
      "   LINK_Price  MAGIC_Price  PENDLE_Price  UNI_Price  WBTC_Price  WETH_Price  \n",
      "0       29.08     0.595563          6.37      16.55    105775.0     4043.24  \n",
      "1       29.08     0.590684          6.38      16.45    105602.0     4028.73  \n",
      "2       28.84     0.584080          6.30      16.29    105600.0     3989.99  \n",
      "3       28.65     0.575840          6.19      15.99    105641.0     3965.85  \n",
      "DatetimeIndex(['2024-12-16 23:00:00+00:00', '2024-12-17 00:00:00+00:00',\n",
      "               '2024-12-17 01:00:00+00:00', '2024-12-17 02:00:00+00:00'],\n",
      "              dtype='datetime64[ns, UTC]', name='hour', freq=None)\n",
      "price index: DatetimeIndex(['2024-12-16 23:00:00+00:00', '2024-12-17 00:00:00+00:00',\n",
      "               '2024-12-17 01:00:00+00:00', '2024-12-17 02:00:00+00:00'],\n",
      "              dtype='datetime64[ns, UTC]', name='hour', freq=None)\n"
     ]
    },
    {
     "name": "stderr",
     "output_type": "stream",
     "text": [
      "e:\\Projects\\portfolio_optimizers\\dao_advisor_project\\python_scripts\\utils.py:307: FutureWarning:\n",
      "\n",
      "'H' is deprecated and will be removed in a future version, please use 'h' instead.\n",
      "\n",
      "e:\\Projects\\portfolio_optimizers\\dao_advisor_project\\python_scripts\\utils.py:314: FutureWarning:\n",
      "\n",
      "DataFrame.fillna with 'method' is deprecated and will raise in a future version. Use obj.ffill() or obj.bfill() instead.\n",
      "\n"
     ]
    }
   ],
   "source": [
    "data, prices_df = prices_data_func(\n",
    "                    network=network, \n",
    "                    name=model_name,\n",
    "                    api_key=flipside_api_key,\n",
    "                    use_cached_data=False,\n",
    "                    function=function,\n",
    "                    start_date=start_date,\n",
    "                    )\n",
    "prices_df = prepare_data_for_simulation(prices_df, start_date, end_date)\n"
   ]
  },
  {
   "cell_type": "code",
   "execution_count": 27,
   "metadata": {},
   "outputs": [
    {
     "data": {
      "text/html": [
       "<div>\n",
       "<style scoped>\n",
       "    .dataframe tbody tr th:only-of-type {\n",
       "        vertical-align: middle;\n",
       "    }\n",
       "\n",
       "    .dataframe tbody tr th {\n",
       "        vertical-align: top;\n",
       "    }\n",
       "\n",
       "    .dataframe thead th {\n",
       "        text-align: right;\n",
       "    }\n",
       "</style>\n",
       "<table border=\"1\" class=\"dataframe\">\n",
       "  <thead>\n",
       "    <tr style=\"text-align: right;\">\n",
       "      <th></th>\n",
       "      <th>symbol</th>\n",
       "      <th>token_address</th>\n",
       "      <th>latest_hour</th>\n",
       "      <th>latest_price</th>\n",
       "      <th>sixty_day_price</th>\n",
       "      <th>sixty_d_return</th>\n",
       "      <th>rolling_7d_avg</th>\n",
       "      <th>rolling_30d_avg</th>\n",
       "      <th>volume</th>\n",
       "      <th>average_order</th>\n",
       "      <th>__row_index</th>\n",
       "    </tr>\n",
       "  </thead>\n",
       "  <tbody>\n",
       "    <tr>\n",
       "      <th>0</th>\n",
       "      <td>CRV</td>\n",
       "      <td>0x11cdb42b0eb46d95f990bedd4695a6e3fa034978</td>\n",
       "      <td>2024-12-16 02:00:00+00:00</td>\n",
       "      <td>1.15</td>\n",
       "      <td>0.29075</td>\n",
       "      <td>2.955288</td>\n",
       "      <td>1.129338</td>\n",
       "      <td>0.752708</td>\n",
       "      <td>5.206880e+07</td>\n",
       "      <td>625.902174</td>\n",
       "      <td>0</td>\n",
       "    </tr>\n",
       "    <tr>\n",
       "      <th>1</th>\n",
       "      <td>LINK</td>\n",
       "      <td>0xf97f4df75117a78c1a5a0dbb814af92458539fb4</td>\n",
       "      <td>2024-12-16 02:00:00+00:00</td>\n",
       "      <td>29.34</td>\n",
       "      <td>13.84000</td>\n",
       "      <td>1.119942</td>\n",
       "      <td>26.477811</td>\n",
       "      <td>20.614286</td>\n",
       "      <td>1.569272e+08</td>\n",
       "      <td>1008.179565</td>\n",
       "      <td>1</td>\n",
       "    </tr>\n",
       "    <tr>\n",
       "      <th>2</th>\n",
       "      <td>UNI</td>\n",
       "      <td>0xfa7f8980b0f1e64a2062791cc3b0871572f1f7f0</td>\n",
       "      <td>2024-12-16 02:00:00+00:00</td>\n",
       "      <td>17.31</td>\n",
       "      <td>8.54000</td>\n",
       "      <td>1.026932</td>\n",
       "      <td>16.874615</td>\n",
       "      <td>13.356671</td>\n",
       "      <td>2.370339e+07</td>\n",
       "      <td>538.799173</td>\n",
       "      <td>2</td>\n",
       "    </tr>\n",
       "    <tr>\n",
       "      <th>9</th>\n",
       "      <td>WBTC</td>\n",
       "      <td>0x2f2a2543b76a4166549f7aab2e75bef0aefc5b0f</td>\n",
       "      <td>2024-12-16 02:00:00+00:00</td>\n",
       "      <td>105146.00</td>\n",
       "      <td>90781.00000</td>\n",
       "      <td>0.158238</td>\n",
       "      <td>99561.781065</td>\n",
       "      <td>96637.266297</td>\n",
       "      <td>2.611187e+09</td>\n",
       "      <td>2823.725555</td>\n",
       "      <td>9</td>\n",
       "    </tr>\n",
       "  </tbody>\n",
       "</table>\n",
       "</div>"
      ],
      "text/plain": [
       "  symbol                               token_address  \\\n",
       "0    CRV  0x11cdb42b0eb46d95f990bedd4695a6e3fa034978   \n",
       "1   LINK  0xf97f4df75117a78c1a5a0dbb814af92458539fb4   \n",
       "2    UNI  0xfa7f8980b0f1e64a2062791cc3b0871572f1f7f0   \n",
       "9   WBTC  0x2f2a2543b76a4166549f7aab2e75bef0aefc5b0f   \n",
       "\n",
       "                 latest_hour  latest_price  sixty_day_price  sixty_d_return  \\\n",
       "0  2024-12-16 02:00:00+00:00          1.15          0.29075        2.955288   \n",
       "1  2024-12-16 02:00:00+00:00         29.34         13.84000        1.119942   \n",
       "2  2024-12-16 02:00:00+00:00         17.31          8.54000        1.026932   \n",
       "9  2024-12-16 02:00:00+00:00     105146.00      90781.00000        0.158238   \n",
       "\n",
       "   rolling_7d_avg  rolling_30d_avg        volume  average_order  __row_index  \n",
       "0        1.129338         0.752708  5.206880e+07     625.902174            0  \n",
       "1       26.477811        20.614286  1.569272e+08    1008.179565            1  \n",
       "2       16.874615        13.356671  2.370339e+07     538.799173            2  \n",
       "9    99561.781065     96637.266297  2.611187e+09    2823.725555            9  "
      ]
     },
     "execution_count": 27,
     "metadata": {},
     "output_type": "execute_result"
    }
   ],
   "source": [
    "params_cache.get(f'{model_name} Classifier')"
   ]
  },
  {
   "cell_type": "code",
   "execution_count": 28,
   "metadata": {},
   "outputs": [
    {
     "name": "stdout",
     "output_type": "stream",
     "text": [
      "classifier:    symbol                               token_address  \\\n",
      "0     CRV  0x11cdb42b0eb46d95f990bedd4695a6e3fa034978   \n",
      "1    LINK  0xf97f4df75117a78c1a5a0dbb814af92458539fb4   \n",
      "2     UNI  0xfa7f8980b0f1e64a2062791cc3b0871572f1f7f0   \n",
      "3     ARB  0x912ce59144191c1204e64559fe8253a0e49e6548   \n",
      "4   MAGIC  0x539bde0d7dbd336b79148aa742883198bbf60342   \n",
      "5     GRT  0x9623063377ad1b27544c965ccd7342f7ea7e88c7   \n",
      "6     GMX  0xfc5a1a6eb076a2c7ad06ed22c90d7e710e35ad0a   \n",
      "7    WETH  0x82af49447d8a07e3bd95bd0d56f35241523fbab1   \n",
      "8  PENDLE  0x0c880f6761f1af8d9aa9c466984b80dab9a8c9e8   \n",
      "9    WBTC  0x2f2a2543b76a4166549f7aab2e75bef0aefc5b0f   \n",
      "\n",
      "                latest_hour   latest_price  sixty_day_price  sixty_d_return  \\\n",
      "0 2024-12-16 02:00:00+00:00       1.150000         0.290750        2.955288   \n",
      "1 2024-12-16 02:00:00+00:00      29.340000        13.840000        1.119942   \n",
      "2 2024-12-16 02:00:00+00:00      17.310000         8.540000        1.026932   \n",
      "3 2024-12-16 02:00:00+00:00       1.033000         0.609757        0.694117   \n",
      "4 2024-12-16 02:00:00+00:00       0.618469         0.372643        0.659682   \n",
      "5 2024-12-16 02:00:00+00:00       0.290933         0.184023        0.580960   \n",
      "6 2024-12-16 02:00:00+00:00      38.700000        27.430000        0.410864   \n",
      "7 2024-12-16 02:00:00+00:00    3992.520000      3101.030000        0.287482   \n",
      "8 2024-12-16 02:00:00+00:00       6.250000         5.270000        0.185958   \n",
      "9 2024-12-16 02:00:00+00:00  105146.000000     90781.000000        0.158238   \n",
      "\n",
      "   rolling_7d_avg  rolling_30d_avg        volume  average_order  __row_index  \\\n",
      "0        1.129338         0.752708  5.206880e+07     625.902174            0   \n",
      "1       26.477811        20.614286  1.569272e+08    1008.179565            1   \n",
      "2       16.874615        13.356671  2.370339e+07     538.799173            2   \n",
      "3        1.009794         0.930437  1.942699e+09     987.384088            3   \n",
      "4        0.615342         0.549903  2.856126e+07     348.993286            4   \n",
      "5        0.279076         0.267061  1.615773e+07     493.576907            5   \n",
      "6       39.022959        33.735423  5.831241e+07     831.668049            6   \n",
      "7     3840.036982      3581.746588  1.276830e+10    1985.605203            7   \n",
      "8        5.973491         5.736671  2.869556e+08    1007.059801            8   \n",
      "9    99561.781065     96637.266297  2.611187e+09    2823.725555            9   \n",
      "\n",
      "        original_latest_hour  \n",
      "0  2024-12-16 02:00:00+00:00  \n",
      "1  2024-12-16 02:00:00+00:00  \n",
      "2  2024-12-16 02:00:00+00:00  \n",
      "3  2024-12-16 02:00:00+00:00  \n",
      "4  2024-12-16 02:00:00+00:00  \n",
      "5  2024-12-16 02:00:00+00:00  \n",
      "6  2024-12-16 02:00:00+00:00  \n",
      "7  2024-12-16 02:00:00+00:00  \n",
      "8  2024-12-16 02:00:00+00:00  \n",
      "9  2024-12-16 02:00:00+00:00  \n",
      "portfolio:                         hour  symbol          price  __row_index\n",
      "0   2024-12-17T02:00:00.000Z     ARB       0.986978            0\n",
      "1   2024-12-17T02:00:00.000Z     CRV       1.071000            1\n",
      "2   2024-12-17T02:00:00.000Z     GMX      36.760000            2\n",
      "3   2024-12-17T02:00:00.000Z     GRT       0.273421            3\n",
      "4   2024-12-17T02:00:00.000Z    LINK      28.650000            4\n",
      "5   2024-12-17T02:00:00.000Z   MAGIC       0.575840            5\n",
      "6   2024-12-17T02:00:00.000Z  PENDLE       6.190000            6\n",
      "7   2024-12-17T02:00:00.000Z     UNI      15.990000            7\n",
      "8   2024-12-17T02:00:00.000Z    WBTC  105641.000000            8\n",
      "9   2024-12-17T02:00:00.000Z    WETH    3965.850000            9\n",
      "10  2024-12-17T01:00:00.000Z     ARB       1.006000           10\n",
      "11  2024-12-17T01:00:00.000Z     CRV       1.073000           11\n",
      "12  2024-12-17T01:00:00.000Z     GMX      37.300000           12\n",
      "13  2024-12-17T01:00:00.000Z     GRT       0.275907           13\n",
      "14  2024-12-17T01:00:00.000Z    LINK      28.840000           14\n",
      "15  2024-12-17T01:00:00.000Z   MAGIC       0.584080           15\n",
      "16  2024-12-17T01:00:00.000Z  PENDLE       6.300000           16\n",
      "17  2024-12-17T01:00:00.000Z     UNI      16.290000           17\n",
      "18  2024-12-17T01:00:00.000Z    WBTC  105600.000000           18\n",
      "19  2024-12-17T01:00:00.000Z    WETH    3989.990000           19\n",
      "20  2024-12-17T00:00:00.000Z     ARB       1.020000           20\n",
      "21  2024-12-17T00:00:00.000Z     CRV       1.082000           21\n",
      "22  2024-12-17T00:00:00.000Z     GMX      37.580000           22\n",
      "23  2024-12-17T00:00:00.000Z     GRT       0.278554           23\n",
      "24  2024-12-17T00:00:00.000Z    LINK      29.080000           24\n",
      "25  2024-12-17T00:00:00.000Z   MAGIC       0.590684           25\n",
      "26  2024-12-17T00:00:00.000Z  PENDLE       6.380000           26\n",
      "27  2024-12-17T00:00:00.000Z     UNI      16.450000           27\n",
      "28  2024-12-17T00:00:00.000Z    WBTC  105602.000000           28\n",
      "29  2024-12-17T00:00:00.000Z    WETH    4028.730000           29\n",
      "30  2024-12-16T23:00:00.000Z     ARB       1.027000           30\n",
      "31  2024-12-16T23:00:00.000Z     CRV       1.092000           31\n",
      "32  2024-12-16T23:00:00.000Z     GMX      37.960000           32\n",
      "33  2024-12-16T23:00:00.000Z     GRT       0.280871           33\n",
      "34  2024-12-16T23:00:00.000Z    LINK      29.080000           34\n",
      "35  2024-12-16T23:00:00.000Z   MAGIC       0.595563           35\n",
      "36  2024-12-16T23:00:00.000Z  PENDLE       6.370000           36\n",
      "37  2024-12-16T23:00:00.000Z     UNI      16.550000           37\n",
      "38  2024-12-16T23:00:00.000Z    WBTC  105775.000000           38\n",
      "39  2024-12-16T23:00:00.000Z    WETH    4043.240000           39\n",
      "data start: 2024-06-16 14:00:00\n",
      "latest_hour: 2024-12-16 02:00:00+00:00\n",
      "original_hour: 0    2024-12-16 02:00:00+00:00\n",
      "1    2024-12-16 02:00:00+00:00\n",
      "2    2024-12-16 02:00:00+00:00\n",
      "3    2024-12-16 02:00:00+00:00\n",
      "4    2024-12-16 02:00:00+00:00\n",
      "5    2024-12-16 02:00:00+00:00\n",
      "6    2024-12-16 02:00:00+00:00\n",
      "7    2024-12-16 02:00:00+00:00\n",
      "8    2024-12-16 02:00:00+00:00\n",
      "9    2024-12-16 02:00:00+00:00\n",
      "Name: original_latest_hour, dtype: object\n"
     ]
    }
   ],
   "source": [
    "for key in data.keys():\n",
    "    print(f'{key}: {data[key]}')\n"
   ]
  },
  {
   "cell_type": "markdown",
   "metadata": {},
   "source": [
    "#  Should only need to modify the router and factory contract addresses. The best way would probably be to add the ability to override the contract addresses using constructor arguments.\n",
    "\n",
    "- How to switch to Honeyswap on Gnosis"
   ]
  },
  {
   "cell_type": "code",
   "execution_count": 29,
   "metadata": {},
   "outputs": [
    {
     "data": {
      "text/plain": [
       "dict_keys(['classifier', 'portfolio', 'data start', 'latest_hour', 'original_hour'])"
      ]
     },
     "execution_count": 29,
     "metadata": {},
     "output_type": "execute_result"
    }
   ],
   "source": [
    "data.keys()"
   ]
  },
  {
   "cell_type": "code",
   "execution_count": 30,
   "metadata": {},
   "outputs": [
    {
     "data": {
      "text/plain": [
       "'2024-06-16 14:00:00'"
      ]
     },
     "execution_count": 30,
     "metadata": {},
     "output_type": "execute_result"
    }
   ],
   "source": [
    "data['data start']"
   ]
  },
  {
   "cell_type": "code",
   "execution_count": 31,
   "metadata": {},
   "outputs": [
    {
     "data": {
      "text/plain": [
       "Timestamp('2024-12-16 02:00:00+0000', tz='UTC')"
      ]
     },
     "execution_count": 31,
     "metadata": {},
     "output_type": "execute_result"
    }
   ],
   "source": [
    "data['latest_hour']"
   ]
  },
  {
   "cell_type": "code",
   "execution_count": 33,
   "metadata": {},
   "outputs": [
    {
     "data": {
      "text/html": [
       "<div>\n",
       "<style scoped>\n",
       "    .dataframe tbody tr th:only-of-type {\n",
       "        vertical-align: middle;\n",
       "    }\n",
       "\n",
       "    .dataframe tbody tr th {\n",
       "        vertical-align: top;\n",
       "    }\n",
       "\n",
       "    .dataframe thead th {\n",
       "        text-align: right;\n",
       "    }\n",
       "</style>\n",
       "<table border=\"1\" class=\"dataframe\">\n",
       "  <thead>\n",
       "    <tr style=\"text-align: right;\">\n",
       "      <th></th>\n",
       "      <th>symbol</th>\n",
       "      <th>token_address</th>\n",
       "    </tr>\n",
       "  </thead>\n",
       "  <tbody>\n",
       "    <tr>\n",
       "      <th>0</th>\n",
       "      <td>CRV</td>\n",
       "      <td>0x11cdb42b0eb46d95f990bedd4695a6e3fa034978</td>\n",
       "    </tr>\n",
       "    <tr>\n",
       "      <th>1</th>\n",
       "      <td>LINK</td>\n",
       "      <td>0xf97f4df75117a78c1a5a0dbb814af92458539fb4</td>\n",
       "    </tr>\n",
       "    <tr>\n",
       "      <th>2</th>\n",
       "      <td>UNI</td>\n",
       "      <td>0xfa7f8980b0f1e64a2062791cc3b0871572f1f7f0</td>\n",
       "    </tr>\n",
       "    <tr>\n",
       "      <th>9</th>\n",
       "      <td>WBTC</td>\n",
       "      <td>0x2f2a2543b76a4166549f7aab2e75bef0aefc5b0f</td>\n",
       "    </tr>\n",
       "  </tbody>\n",
       "</table>\n",
       "</div>"
      ],
      "text/plain": [
       "  symbol                               token_address\n",
       "0    CRV  0x11cdb42b0eb46d95f990bedd4695a6e3fa034978\n",
       "1   LINK  0xf97f4df75117a78c1a5a0dbb814af92458539fb4\n",
       "2    UNI  0xfa7f8980b0f1e64a2062791cc3b0871572f1f7f0\n",
       "9   WBTC  0x2f2a2543b76a4166549f7aab2e75bef0aefc5b0f"
      ]
     },
     "execution_count": 33,
     "metadata": {},
     "output_type": "execute_result"
    }
   ],
   "source": [
    "portfolio = classifier_data[['symbol','token_address']]\n",
    "portfolio"
   ]
  },
  {
   "cell_type": "code",
   "execution_count": 34,
   "metadata": {},
   "outputs": [
    {
     "name": "stdout",
     "output_type": "stream",
     "text": [
      "Initialized axes_data: {'y1': 'All', 'y2': []}\n",
      "tick0: min\n",
      "turn_to_time: False\n",
      "df sort order at init: ['CRV' 'LINK' 'UNI' 'WBTC']\n"
     ]
    }
   ],
   "source": [
    "classifier_fig1 = visualization_pipeline(\n",
    "    df=classifier_data,\n",
    "    groupby='symbol',\n",
    "    num_col='sixty_d_return',\n",
    "    chart_type='ranked bar',\n",
    "    title='Sixty Day Return by Symbol',\n",
    "    ticksuffix=dict(y1='%',y2=None),\n",
    "    to_percent=True,\n",
    "    text=True\n",
    "\n",
    ")"
   ]
  },
  {
   "cell_type": "code",
   "execution_count": 36,
   "metadata": {},
   "outputs": [
    {
     "name": "stdout",
     "output_type": "stream",
     "text": [
      "save:False\n",
      "logo path: ../img/Logos/None\n",
      "Generating ranked bar plot...\n",
      "sort_list vis pipe: True\n",
      "df sort order before ranked bar funct: ['CRV' 'LINK' 'UNI' 'WBTC']\n",
      "combined_colors: ['#2E91E5', '#E15F99', '#1CA71C', '#FB0D0D', '#DA16FF', '#222A2A', '#B68100', '#750D86', '#EB663B', '#511CFB', '#00A08B', '#FB00D1', '#FC0080', '#B2828D', '#6C7C32', '#778AAE', '#862A16', '#A777F1', '#620042', '#1616A7', '#DA60CA', '#6C4516', '#0D2A63', '#AF0038', 'rgb(141,211,199)', 'rgb(255,255,179)', 'rgb(190,186,218)', 'rgb(251,128,114)', 'rgb(128,177,211)', 'rgb(253,180,98)', 'rgb(179,222,105)', 'rgb(252,205,229)', 'rgb(217,217,217)', 'rgb(188,128,189)', 'rgb(204,235,197)', 'rgb(255,237,111)', '#FECB52', '#FF97FF', '#B6E880', '#FF6692', '#19D3F3', '#FFA15A', '#AB63FA', '#00CC96', '#EF553B', '#636EFA', '#1f77b4', '#ff7f0e', '#2ca02c', '#d62728', '#9467bd', '#8c564b', '#e377c2', '#7f7f7f', '#bcbd22', '#17becf', '#e41a1c', '#377eb8', '#4daf4a', '#984ea3', '#ff7f00', '#ffff33', '#a65628', '#f781bf', '#999999', '#d60000', '#8c3bff', '#018700', '#00acc6', '#e6a500', '#ff7ed1', '#6b004f', '#573b00', '#005659', '#15e18c', '#0000dd', '#a17569', '#bcb6ff', '#bf03b8', '#645472', '#790000', '#0774d8', '#729a7c', '#ff7752', '#004b00', '#8e7b01', '#f2007b', '#8eba00', '#a57bb8', '#5901a3', '#e2afaf', '#a03a52', '#a1c8c8', '#9e4b00', '#546744', '#bac389', '#5e7b87', '#60383b', '#8287ff', '#380000', '#e252ff', '#2f5282', '#7ecaff', '#c4668e', '#008069', '#919eb6', '#cc7407', '#7e2a8e', '#00bda3', '#2db152', '#4d33ff', '#00e400', '#ff00cd', '#c85748', '#e49cff', '#1ca1ff', '#6e70aa', '#c89a69', '#77563b', '#03dae6', '#c1a3c3', '#ff6989', '#ba00fd', '#915280', '#9e0174', '#93a14f', '#364424', '#af6dff', '#596d00', '#ff3146', '#828056', '#006d2d', '#8956af', '#5949a3', '#773416', '#85c39a', '#5e1123', '#d48580', '#a32818', '#0087b1', '#ca0044', '#ffa056', '#eb4d00', '#6b9700', '#528549', '#755900', '#c8c33f', '#91d370', '#4b9793', '#4d230c', '#60345b', '#8300cf', '#8a0031', '#9e6e31', '#ac8399', '#c63189', '#015438', '#086b83', '#87a8eb', '#6466ef', '#c35dba', '#019e70', '#805059', '#826e8c', '#b3bfda', '#b89028', '#ff97b1', '#a793e1', '#698cbd', '#4b4f01', '#4801cc', '#60006e', '#446966', '#9c5642', '#7bacb5', '#cd83bc', '#0054c1', '#7b2f4f', '#fb7c00', '#34bf00', '#ff9c87', '#e1b669', '#526077', '#5b3a7c', '#eda5da', '#ef52a3', '#5d7e69', '#c3774f', '#d14867', '#6e00eb', '#1f3400', '#c14103', '#6dd4c1', '#46709e', '#a101c3', '#0a8289', '#afa501', '#a55b6b', '#fd77ff', '#8a85ae', '#c67ee8', '#9aaa85', '#876bd8', '#01baf6', '#af5dd1', '#59502a', '#b5005e', '#7cb569', '#4985ff', '#00c182', '#d195aa', '#a34ba8', '#e205e2', '#16a300', '#382d00', '#832f33', '#5d95aa', '#590f00', '#7b4600', '#6e6e31', '#335726', '#4d60b5', '#a19564', '#623f28', '#44d457', '#70aacf', '#2d6b4d', '#72af9e', '#fd1500', '#d8b391', '#79893b', '#7cc6d8', '#db9036', '#eb605d', '#eb5ed4', '#e47ba7', '#a56b97', '#009744', '#ba5e21', '#bcac52', '#87d82f', '#873472', '#aea8d1', '#e28c62', '#d1b1eb', '#36429e', '#3abdc1', '#669c4d', '#9e0399', '#4d4d79', '#7b4b85', '#c33431', '#8c6677', '#aa002d', '#7e0175', '#01824d', '#724967', '#727790', '#6e0099', '#a0ba52', '#e16e31', '#c46970', '#6d5b95', '#a33b74', '#316200', '#87004f', '#335769', '#ba8c7c', '#1859ff', '#909101', '#2b8ad4', '#1626ff', '#21d3ff', '#a390af', '#8a6d4f', '#5d213d', '#db03b3', '#6e56ca', '#642821', '#ac7700', '#a3bff6', '#b58346', '#9738db', '#b15093', '#7242a3', '#878ed1', '#8970b1', '#6baf36', '#5979c8', '#c69eff', '#56831a', '#00d6a7', '#824638', '#11421c', '#59aa75', '#905b01', '#f64470', '#ff9703', '#e14231', '#ba91cf', '#34574d', '#f7807c', '#903400', '#b3cd00', '#2d9ed3', '#798a9e', '#50807c', '#c136d6', '#eb0552', '#b8ac7e', '#487031', '#839564', '#d89c89', '#0064a3', '#4b9077', '#8e6097', '#ff5238', '#a7423b', '#006e70', '#97833d', '#dbafc8', '#d60000', '#018700', '#b500ff', '#05acc6', '#97ff00', '#ffa52f', '#ff8ec8', '#79525e', '#00fdcf', '#afa5ff', '#93ac83', '#9a6900', '#366962', '#d3008c', '#fdf490', '#c86e66', '#9ee2ff', '#00c846', '#a877ac', '#b8ba01', '#f4bfb1', '#ff28fd', '#f2cdff', '#009e7c', '#ff6200', '#56642a', '#953f1f', '#90318e', '#ff3464', '#a0e491', '#8c9ab1', '#829026', '#ae083f', '#77c6ba', '#bc9157', '#e48eff', '#72b8ff', '#c6a5c1', '#ff9070', '#d3c37c', '#bceddb', '#6b8567', '#916e56', '#f9ff00', '#bac1df', '#ac567c', '#ffcd03', '#ff49b1', '#c15603', '#5d8c90', '#c144bc', '#00753f', '#ba6efd', '#00d493', '#00ff75', '#49a150', '#cc9790', '#00ebed', '#db7e01', '#f77589', '#b89500', '#c84248', '#00cff9', '#755726', '#85d401', '#ebffd4', '#a77b87', '#db72c8', '#cae256', '#8abf5d', '#a1216b', '#855b89', '#89bacf', '#ffbad6', '#b6cfaa', '#97414d', '#67aa00', '#fde1b1', '#ff3628', '#80793d', '#d6e8ff', '#a795c6', '#7ea59a', '#d182a3', '#54823b', '#e6a872', '#9cffff', '#da5480', '#05b3aa', '#ffaaf6', '#d1afef', '#da015d', '#ac1a13', '#60b385', '#d442fd', '#acaa59', '#fb9ca7', '#b3723b', '#f26952', '#aed1d4', '#9affc3', '#dbb333', '#eb01c3', '#9900c4', '#cfff9e', '#a55949', '#3b6d01', '#008579', '#959167', '#89dbb3', '#6d7400', '#aa5dca', '#07ef00', '#804f3d', '#d88052', '#ffc862', '#b8009e', '#99acdd', '#904f00', '#8c4470', '#4f6e52', '#ff8734', '#c68ecd', '#d4e29e', '#b1826d', '#9cfb75', '#56dd77', '#f90087', '#a1cdff', '#13cad1', '#118e54', '#d154a5', '#00dfc3', '#a3832f', '#77975b', '#baaa80', '#70a3af', '#d6fbff', '#e8013a', '#d84621', '#ff82ed', '#b63862', '#b6cd72', '#97626b', '#897490', '#00a316', '#00f4a1', '#bf90f2', '#89e4d8', '#a34d95', '#6e5d00', '#8cc68e', '#95aa2a', '#c672dd', '#b33b01', '#d69a36', '#dfacb6', '#009aa0', '#599000', '#97bca8', '#ac8ca8', '#dad4ff', '#547c72', '#00ba69', '#ffc38e', '#b800d4', '#dfcf5b', '#629a7b', '#bfedbc', '#c1bdfd', '#80d3dd', '#e2857e', '#f9eb4d', '#bf6d82', '#caff4f', '#ef72aa', '#ed67ff', '#9946ae', '#6d6942', '#e25660', '#dd662d', '#9cdb5d', '#e29ccf', '#b87500', '#c6002d', '#dfbcda', '#59b5df', '#ff59da', '#38c1a1', '#9e698c', '#acaac8', '#95622f', '#b55662', '#2b7e60', '#b1e400', '#eda590', '#95fde2', '#ff548e', '#bd6ea1', '#aa3b36', '#d8cf00', '#aa80cd', '#a08052', '#e100e8', '#c35b3d', '#b53a85', '#8c7700', '#dbbc95', '#529e93', '#afbc82', '#91b5b6', '#a75423', '#ffd4ef', '#79ae6b', '#5db54b', '#80fb9a', '#48ffef', '#979548', '#9387a7', '#31d400', '#6ee956', '#b6d4eb', '#705470', '#f2db8a', '#aad4c1', '#7ecdf2', '#89ba00', '#64b6ba', '#ffb500', '#c38285', '#caaa5e', '#647748', '#59e2ff', '#df4dcd', '#e9ff79', '#bc66b8', '#c395a5', '#64c674', '#d19570', '#70cf4f', '#aa6e66', '#9c60a5', '#00b800', '#e299b3', '#bc006b', '#b3e8ef', '#cdbfe4', '#77a342', '#856277', '#568e5b', '#9eafc4', '#e82fa0', '#247c2a', '#826723', '#bfbc4d', '#ddd3a5']\n",
      "primary_color: None\n",
      "df sort order before ranked cleaning: ['CRV' 'LINK' 'UNI' 'WBTC']\n",
      "df in ranked cleaning:   symbol  sixty_d_return\n",
      "0    CRV      295.528805\n",
      "1   LINK      111.994220\n",
      "2    UNI      102.693208\n",
      "9   WBTC       15.823796\n",
      "orig sort order: ['CRV' 'LINK' 'UNI' 'WBTC']\n",
      "use_sort_list: True\n",
      "df:   symbol  sixty_d_return\n",
      "0    CRV      295.528805\n",
      "1   LINK      111.994220\n",
      "2    UNI      102.693208\n",
      "9   WBTC       15.823796\n",
      "Decimal Places: 1\n",
      "sort_list: ['CRV' 'LINK' 'UNI' 'WBTC']\n",
      "sort list: ['CRV' 'LINK' 'UNI' 'WBTC']\n",
      "i: CRV \n",
      "idx: 0 \n",
      "prefix: %\n",
      "x:295.5288048\n",
      "idx: 0 i: CRV\n",
      "use_single_color:False\n",
      "color: #2E91E5\n",
      "i: LINK \n",
      "idx: 1 \n",
      "prefix: %\n",
      "x:111.9942197\n",
      "idx: 1 i: LINK\n",
      "use_single_color:False\n",
      "color: #E15F99\n",
      "i: UNI \n",
      "idx: 2 \n",
      "prefix: %\n",
      "x:102.6932084\n",
      "idx: 2 i: UNI\n",
      "use_single_color:False\n",
      "color: #1CA71C\n",
      "i: WBTC \n",
      "idx: 3 \n",
      "prefix: %\n",
      "x:15.82379573\n",
      "idx: 3 i: WBTC\n",
      "use_single_color:False\n",
      "color: #FB0D0D\n",
      "text: True\n",
      "Columns: Index(['symbol', 'sixty_d_return'], dtype='object') \n",
      "Index: Index([0, 1, 2, 9], dtype='int64')\n"
     ]
    },
    {
     "data": {
      "application/vnd.plotly.v1+json": {
       "config": {
        "linkText": "Export to plot.ly",
        "plotlyServerURL": "https://plot.ly",
        "showLink": false
       },
       "data": [
        {
         "marker": {
          "color": "#2E91E5"
         },
         "orientation": "v",
         "showlegend": false,
         "text": [
          "295.5%"
         ],
         "textfont": {
          "color": "black",
          "size": 14
         },
         "textposition": "outside",
         "type": "bar",
         "x": [
          "CRV"
         ],
         "xaxis": "x",
         "y": [
          295.5288048
         ],
         "yaxis": "y"
        },
        {
         "marker": {
          "color": "#E15F99"
         },
         "orientation": "v",
         "showlegend": false,
         "text": [
          "112.0%"
         ],
         "textfont": {
          "color": "black",
          "size": 14
         },
         "textposition": "outside",
         "type": "bar",
         "x": [
          "LINK"
         ],
         "xaxis": "x",
         "y": [
          111.9942197
         ],
         "yaxis": "y"
        },
        {
         "marker": {
          "color": "#1CA71C"
         },
         "orientation": "v",
         "showlegend": false,
         "text": [
          "102.7%"
         ],
         "textfont": {
          "color": "black",
          "size": 14
         },
         "textposition": "outside",
         "type": "bar",
         "x": [
          "UNI"
         ],
         "xaxis": "x",
         "y": [
          102.6932084
         ],
         "yaxis": "y"
        },
        {
         "marker": {
          "color": "#FB0D0D"
         },
         "orientation": "v",
         "showlegend": false,
         "text": [
          "15.8%"
         ],
         "textfont": {
          "color": "black",
          "size": 14
         },
         "textposition": "outside",
         "type": "bar",
         "x": [
          "WBTC"
         ],
         "xaxis": "x",
         "y": [
          15.82379573
         ],
         "yaxis": "y"
        }
       ],
       "layout": {
        "autosize": true,
        "barmode": "stack",
        "font": {
         "color": "black",
         "family": "Cardo",
         "size": 18
        },
        "height": 400,
        "legend": {
         "bgcolor": "rgba(0,0,0,0)",
         "font": {
          "color": "black",
          "family": "Cardo",
          "size": 14
         },
         "itemsizing": "constant",
         "orientation": "v",
         "traceorder": "normal",
         "x": 0.025,
         "xanchor": "left",
         "y": 1,
         "yanchor": "top"
        },
        "margin": {
         "b": 0,
         "l": 0,
         "r": 0,
         "t": 25
        },
        "paper_bgcolor": "rgba(0,0,0,0)",
        "plot_bgcolor": "rgba(0,0,0,0)",
        "template": {
         "data": {
          "bar": [
           {
            "error_x": {
             "color": "#2a3f5f"
            },
            "error_y": {
             "color": "#2a3f5f"
            },
            "marker": {
             "line": {
              "color": "#E5ECF6",
              "width": 0.5
             },
             "pattern": {
              "fillmode": "overlay",
              "size": 10,
              "solidity": 0.2
             }
            },
            "type": "bar"
           }
          ],
          "barpolar": [
           {
            "marker": {
             "line": {
              "color": "#E5ECF6",
              "width": 0.5
             },
             "pattern": {
              "fillmode": "overlay",
              "size": 10,
              "solidity": 0.2
             }
            },
            "type": "barpolar"
           }
          ],
          "carpet": [
           {
            "aaxis": {
             "endlinecolor": "#2a3f5f",
             "gridcolor": "white",
             "linecolor": "white",
             "minorgridcolor": "white",
             "startlinecolor": "#2a3f5f"
            },
            "baxis": {
             "endlinecolor": "#2a3f5f",
             "gridcolor": "white",
             "linecolor": "white",
             "minorgridcolor": "white",
             "startlinecolor": "#2a3f5f"
            },
            "type": "carpet"
           }
          ],
          "choropleth": [
           {
            "colorbar": {
             "outlinewidth": 0,
             "ticks": ""
            },
            "type": "choropleth"
           }
          ],
          "contour": [
           {
            "colorbar": {
             "outlinewidth": 0,
             "ticks": ""
            },
            "colorscale": [
             [
              0,
              "#0d0887"
             ],
             [
              0.1111111111111111,
              "#46039f"
             ],
             [
              0.2222222222222222,
              "#7201a8"
             ],
             [
              0.3333333333333333,
              "#9c179e"
             ],
             [
              0.4444444444444444,
              "#bd3786"
             ],
             [
              0.5555555555555556,
              "#d8576b"
             ],
             [
              0.6666666666666666,
              "#ed7953"
             ],
             [
              0.7777777777777778,
              "#fb9f3a"
             ],
             [
              0.8888888888888888,
              "#fdca26"
             ],
             [
              1,
              "#f0f921"
             ]
            ],
            "type": "contour"
           }
          ],
          "contourcarpet": [
           {
            "colorbar": {
             "outlinewidth": 0,
             "ticks": ""
            },
            "type": "contourcarpet"
           }
          ],
          "heatmap": [
           {
            "colorbar": {
             "outlinewidth": 0,
             "ticks": ""
            },
            "colorscale": [
             [
              0,
              "#0d0887"
             ],
             [
              0.1111111111111111,
              "#46039f"
             ],
             [
              0.2222222222222222,
              "#7201a8"
             ],
             [
              0.3333333333333333,
              "#9c179e"
             ],
             [
              0.4444444444444444,
              "#bd3786"
             ],
             [
              0.5555555555555556,
              "#d8576b"
             ],
             [
              0.6666666666666666,
              "#ed7953"
             ],
             [
              0.7777777777777778,
              "#fb9f3a"
             ],
             [
              0.8888888888888888,
              "#fdca26"
             ],
             [
              1,
              "#f0f921"
             ]
            ],
            "type": "heatmap"
           }
          ],
          "heatmapgl": [
           {
            "colorbar": {
             "outlinewidth": 0,
             "ticks": ""
            },
            "colorscale": [
             [
              0,
              "#0d0887"
             ],
             [
              0.1111111111111111,
              "#46039f"
             ],
             [
              0.2222222222222222,
              "#7201a8"
             ],
             [
              0.3333333333333333,
              "#9c179e"
             ],
             [
              0.4444444444444444,
              "#bd3786"
             ],
             [
              0.5555555555555556,
              "#d8576b"
             ],
             [
              0.6666666666666666,
              "#ed7953"
             ],
             [
              0.7777777777777778,
              "#fb9f3a"
             ],
             [
              0.8888888888888888,
              "#fdca26"
             ],
             [
              1,
              "#f0f921"
             ]
            ],
            "type": "heatmapgl"
           }
          ],
          "histogram": [
           {
            "marker": {
             "pattern": {
              "fillmode": "overlay",
              "size": 10,
              "solidity": 0.2
             }
            },
            "type": "histogram"
           }
          ],
          "histogram2d": [
           {
            "colorbar": {
             "outlinewidth": 0,
             "ticks": ""
            },
            "colorscale": [
             [
              0,
              "#0d0887"
             ],
             [
              0.1111111111111111,
              "#46039f"
             ],
             [
              0.2222222222222222,
              "#7201a8"
             ],
             [
              0.3333333333333333,
              "#9c179e"
             ],
             [
              0.4444444444444444,
              "#bd3786"
             ],
             [
              0.5555555555555556,
              "#d8576b"
             ],
             [
              0.6666666666666666,
              "#ed7953"
             ],
             [
              0.7777777777777778,
              "#fb9f3a"
             ],
             [
              0.8888888888888888,
              "#fdca26"
             ],
             [
              1,
              "#f0f921"
             ]
            ],
            "type": "histogram2d"
           }
          ],
          "histogram2dcontour": [
           {
            "colorbar": {
             "outlinewidth": 0,
             "ticks": ""
            },
            "colorscale": [
             [
              0,
              "#0d0887"
             ],
             [
              0.1111111111111111,
              "#46039f"
             ],
             [
              0.2222222222222222,
              "#7201a8"
             ],
             [
              0.3333333333333333,
              "#9c179e"
             ],
             [
              0.4444444444444444,
              "#bd3786"
             ],
             [
              0.5555555555555556,
              "#d8576b"
             ],
             [
              0.6666666666666666,
              "#ed7953"
             ],
             [
              0.7777777777777778,
              "#fb9f3a"
             ],
             [
              0.8888888888888888,
              "#fdca26"
             ],
             [
              1,
              "#f0f921"
             ]
            ],
            "type": "histogram2dcontour"
           }
          ],
          "mesh3d": [
           {
            "colorbar": {
             "outlinewidth": 0,
             "ticks": ""
            },
            "type": "mesh3d"
           }
          ],
          "parcoords": [
           {
            "line": {
             "colorbar": {
              "outlinewidth": 0,
              "ticks": ""
             }
            },
            "type": "parcoords"
           }
          ],
          "pie": [
           {
            "automargin": true,
            "type": "pie"
           }
          ],
          "scatter": [
           {
            "fillpattern": {
             "fillmode": "overlay",
             "size": 10,
             "solidity": 0.2
            },
            "type": "scatter"
           }
          ],
          "scatter3d": [
           {
            "line": {
             "colorbar": {
              "outlinewidth": 0,
              "ticks": ""
             }
            },
            "marker": {
             "colorbar": {
              "outlinewidth": 0,
              "ticks": ""
             }
            },
            "type": "scatter3d"
           }
          ],
          "scattercarpet": [
           {
            "marker": {
             "colorbar": {
              "outlinewidth": 0,
              "ticks": ""
             }
            },
            "type": "scattercarpet"
           }
          ],
          "scattergeo": [
           {
            "marker": {
             "colorbar": {
              "outlinewidth": 0,
              "ticks": ""
             }
            },
            "type": "scattergeo"
           }
          ],
          "scattergl": [
           {
            "marker": {
             "colorbar": {
              "outlinewidth": 0,
              "ticks": ""
             }
            },
            "type": "scattergl"
           }
          ],
          "scattermapbox": [
           {
            "marker": {
             "colorbar": {
              "outlinewidth": 0,
              "ticks": ""
             }
            },
            "type": "scattermapbox"
           }
          ],
          "scatterpolar": [
           {
            "marker": {
             "colorbar": {
              "outlinewidth": 0,
              "ticks": ""
             }
            },
            "type": "scatterpolar"
           }
          ],
          "scatterpolargl": [
           {
            "marker": {
             "colorbar": {
              "outlinewidth": 0,
              "ticks": ""
             }
            },
            "type": "scatterpolargl"
           }
          ],
          "scatterternary": [
           {
            "marker": {
             "colorbar": {
              "outlinewidth": 0,
              "ticks": ""
             }
            },
            "type": "scatterternary"
           }
          ],
          "surface": [
           {
            "colorbar": {
             "outlinewidth": 0,
             "ticks": ""
            },
            "colorscale": [
             [
              0,
              "#0d0887"
             ],
             [
              0.1111111111111111,
              "#46039f"
             ],
             [
              0.2222222222222222,
              "#7201a8"
             ],
             [
              0.3333333333333333,
              "#9c179e"
             ],
             [
              0.4444444444444444,
              "#bd3786"
             ],
             [
              0.5555555555555556,
              "#d8576b"
             ],
             [
              0.6666666666666666,
              "#ed7953"
             ],
             [
              0.7777777777777778,
              "#fb9f3a"
             ],
             [
              0.8888888888888888,
              "#fdca26"
             ],
             [
              1,
              "#f0f921"
             ]
            ],
            "type": "surface"
           }
          ],
          "table": [
           {
            "cells": {
             "fill": {
              "color": "#EBF0F8"
             },
             "line": {
              "color": "white"
             }
            },
            "header": {
             "fill": {
              "color": "#C8D4E3"
             },
             "line": {
              "color": "white"
             }
            },
            "type": "table"
           }
          ]
         },
         "layout": {
          "annotationdefaults": {
           "arrowcolor": "#2a3f5f",
           "arrowhead": 0,
           "arrowwidth": 1
          },
          "autotypenumbers": "strict",
          "coloraxis": {
           "colorbar": {
            "outlinewidth": 0,
            "ticks": ""
           }
          },
          "colorscale": {
           "diverging": [
            [
             0,
             "#8e0152"
            ],
            [
             0.1,
             "#c51b7d"
            ],
            [
             0.2,
             "#de77ae"
            ],
            [
             0.3,
             "#f1b6da"
            ],
            [
             0.4,
             "#fde0ef"
            ],
            [
             0.5,
             "#f7f7f7"
            ],
            [
             0.6,
             "#e6f5d0"
            ],
            [
             0.7,
             "#b8e186"
            ],
            [
             0.8,
             "#7fbc41"
            ],
            [
             0.9,
             "#4d9221"
            ],
            [
             1,
             "#276419"
            ]
           ],
           "sequential": [
            [
             0,
             "#0d0887"
            ],
            [
             0.1111111111111111,
             "#46039f"
            ],
            [
             0.2222222222222222,
             "#7201a8"
            ],
            [
             0.3333333333333333,
             "#9c179e"
            ],
            [
             0.4444444444444444,
             "#bd3786"
            ],
            [
             0.5555555555555556,
             "#d8576b"
            ],
            [
             0.6666666666666666,
             "#ed7953"
            ],
            [
             0.7777777777777778,
             "#fb9f3a"
            ],
            [
             0.8888888888888888,
             "#fdca26"
            ],
            [
             1,
             "#f0f921"
            ]
           ],
           "sequentialminus": [
            [
             0,
             "#0d0887"
            ],
            [
             0.1111111111111111,
             "#46039f"
            ],
            [
             0.2222222222222222,
             "#7201a8"
            ],
            [
             0.3333333333333333,
             "#9c179e"
            ],
            [
             0.4444444444444444,
             "#bd3786"
            ],
            [
             0.5555555555555556,
             "#d8576b"
            ],
            [
             0.6666666666666666,
             "#ed7953"
            ],
            [
             0.7777777777777778,
             "#fb9f3a"
            ],
            [
             0.8888888888888888,
             "#fdca26"
            ],
            [
             1,
             "#f0f921"
            ]
           ]
          },
          "colorway": [
           "#636efa",
           "#EF553B",
           "#00cc96",
           "#ab63fa",
           "#FFA15A",
           "#19d3f3",
           "#FF6692",
           "#B6E880",
           "#FF97FF",
           "#FECB52"
          ],
          "font": {
           "color": "#2a3f5f",
           "family": "Cardo"
          },
          "geo": {
           "bgcolor": "white",
           "lakecolor": "white",
           "landcolor": "#E5ECF6",
           "showlakes": true,
           "showland": true,
           "subunitcolor": "white"
          },
          "hoverlabel": {
           "align": "left"
          },
          "hovermode": "closest",
          "mapbox": {
           "style": "light"
          },
          "paper_bgcolor": "white",
          "plot_bgcolor": "#E5ECF6",
          "polar": {
           "angularaxis": {
            "gridcolor": "white",
            "linecolor": "white",
            "ticks": ""
           },
           "bgcolor": "#E5ECF6",
           "radialaxis": {
            "gridcolor": "white",
            "linecolor": "white",
            "ticks": ""
           }
          },
          "scene": {
           "xaxis": {
            "backgroundcolor": "#E5ECF6",
            "gridcolor": "white",
            "gridwidth": 2,
            "linecolor": "white",
            "showbackground": true,
            "ticks": "",
            "zerolinecolor": "white"
           },
           "yaxis": {
            "backgroundcolor": "#E5ECF6",
            "gridcolor": "white",
            "gridwidth": 2,
            "linecolor": "white",
            "showbackground": true,
            "ticks": "",
            "zerolinecolor": "white"
           },
           "zaxis": {
            "backgroundcolor": "#E5ECF6",
            "gridcolor": "white",
            "gridwidth": 2,
            "linecolor": "white",
            "showbackground": true,
            "ticks": "",
            "zerolinecolor": "white"
           }
          },
          "shapedefaults": {
           "line": {
            "color": "#2a3f5f"
           }
          },
          "ternary": {
           "aaxis": {
            "gridcolor": "white",
            "linecolor": "white",
            "ticks": ""
           },
           "baxis": {
            "gridcolor": "white",
            "linecolor": "white",
            "ticks": ""
           },
           "bgcolor": "#E5ECF6",
           "caxis": {
            "gridcolor": "white",
            "linecolor": "white",
            "ticks": ""
           }
          },
          "title": {
           "x": 0.05
          },
          "xaxis": {
           "automargin": true,
           "gridcolor": "white",
           "linecolor": "white",
           "ticks": "",
           "title": {
            "standoff": 15
           },
           "zerolinecolor": "white",
           "zerolinewidth": 2
          },
          "yaxis": {
           "automargin": true,
           "gridcolor": "white",
           "linecolor": "white",
           "ticks": "",
           "title": {
            "standoff": 15
           },
           "zerolinecolor": "white",
           "zerolinewidth": 2
          }
         }
        },
        "title": {
         "font": {
          "color": "black",
          "family": "Cardo",
          "size": 27
         },
         "text": "<span style='color: black; font-weight: normal;'>ARBITRUM Tokens Classifier <br> 30D Return</span><br><sub style='font-size: 18px; color: black; font-weight: normal;'></sub>",
         "x": 0.6,
         "xanchor": "left",
         "y": 0.8,
         "yanchor": "top"
        },
        "uniformtext": {
         "minsize": 14,
         "mode": "show"
        },
        "width": 730,
        "xaxis": {
         "anchor": "y",
         "domain": [
          0,
          0.94
         ],
         "tickfont": {
          "color": "black",
          "family": "Cardo",
          "size": 18
         },
         "title": {
          "font": {
           "color": "black",
           "family": "Cardo",
           "size": 18
          }
         }
        },
        "yaxis": {
         "anchor": "x",
         "domain": [
          0,
          1
         ],
         "tickfont": {
          "color": "black",
          "family": "Cardo",
          "size": 18
         },
         "ticksuffix": "%",
         "ticktext": [
          0,
          1,
          2,
          3
         ],
         "tickvals": [
          "",
          "",
          "",
          ""
         ]
        },
        "yaxis2": {
         "anchor": "x",
         "overlaying": "y",
         "side": "right"
        }
       }
      }
     },
     "metadata": {},
     "output_type": "display_data"
    }
   ],
   "source": [
    "chartBuilder(\n",
    "    classifier_fig1,\n",
    "    title_xy=dict(x=0.6,y=0.8),\n",
    "    title=f'{network.upper()} Tokens Classifier <br> {days}D Return',\n",
    "    dt_index=False,\n",
    "    add_the_date=False,\n",
    "    save=False,\n",
    "    show=False\n",
    ")"
   ]
  },
  {
   "cell_type": "code",
   "execution_count": 37,
   "metadata": {},
   "outputs": [
    {
     "data": {
      "text/html": [
       "<div>\n",
       "<style scoped>\n",
       "    .dataframe tbody tr th:only-of-type {\n",
       "        vertical-align: middle;\n",
       "    }\n",
       "\n",
       "    .dataframe tbody tr th {\n",
       "        vertical-align: top;\n",
       "    }\n",
       "\n",
       "    .dataframe thead th {\n",
       "        text-align: right;\n",
       "    }\n",
       "</style>\n",
       "<table border=\"1\" class=\"dataframe\">\n",
       "  <thead>\n",
       "    <tr style=\"text-align: right;\">\n",
       "      <th></th>\n",
       "      <th>WBTC_Price</th>\n",
       "      <th>UNI_Price</th>\n",
       "      <th>LINK_Price</th>\n",
       "      <th>CRV_Price</th>\n",
       "    </tr>\n",
       "  </thead>\n",
       "  <tbody>\n",
       "    <tr>\n",
       "      <th>2024-12-16 23:00:00</th>\n",
       "      <td>105775.0</td>\n",
       "      <td>16.55</td>\n",
       "      <td>29.08</td>\n",
       "      <td>1.092</td>\n",
       "    </tr>\n",
       "    <tr>\n",
       "      <th>2024-12-17 00:00:00</th>\n",
       "      <td>105602.0</td>\n",
       "      <td>16.45</td>\n",
       "      <td>29.08</td>\n",
       "      <td>1.082</td>\n",
       "    </tr>\n",
       "    <tr>\n",
       "      <th>2024-12-17 01:00:00</th>\n",
       "      <td>105600.0</td>\n",
       "      <td>16.29</td>\n",
       "      <td>28.84</td>\n",
       "      <td>1.073</td>\n",
       "    </tr>\n",
       "    <tr>\n",
       "      <th>2024-12-17 02:00:00</th>\n",
       "      <td>105641.0</td>\n",
       "      <td>15.99</td>\n",
       "      <td>28.65</td>\n",
       "      <td>1.071</td>\n",
       "    </tr>\n",
       "    <tr>\n",
       "      <th>2024-12-17 03:00:00</th>\n",
       "      <td>105641.0</td>\n",
       "      <td>15.99</td>\n",
       "      <td>28.65</td>\n",
       "      <td>1.071</td>\n",
       "    </tr>\n",
       "    <tr>\n",
       "      <th>2024-12-17 04:00:00</th>\n",
       "      <td>105641.0</td>\n",
       "      <td>15.99</td>\n",
       "      <td>28.65</td>\n",
       "      <td>1.071</td>\n",
       "    </tr>\n",
       "  </tbody>\n",
       "</table>\n",
       "</div>"
      ],
      "text/plain": [
       "                     WBTC_Price  UNI_Price  LINK_Price  CRV_Price\n",
       "2024-12-16 23:00:00    105775.0      16.55       29.08      1.092\n",
       "2024-12-17 00:00:00    105602.0      16.45       29.08      1.082\n",
       "2024-12-17 01:00:00    105600.0      16.29       28.84      1.073\n",
       "2024-12-17 02:00:00    105641.0      15.99       28.65      1.071\n",
       "2024-12-17 03:00:00    105641.0      15.99       28.65      1.071\n",
       "2024-12-17 04:00:00    105641.0      15.99       28.65      1.071"
      ]
     },
     "execution_count": 37,
     "metadata": {},
     "output_type": "execute_result"
    }
   ],
   "source": [
    "prices_df"
   ]
  },
  {
   "cell_type": "code",
   "execution_count": 38,
   "metadata": {},
   "outputs": [
    {
     "name": "stdout",
     "output_type": "stream",
     "text": [
      "Gateway: https://arb-mainnet.g.alchemy.com/v2/sDx1aRO1I82_YWxxUK9S_jnDXHTXEqFl\n",
      "Connected to arbitrum via https://arb-mainnet.g.alchemy.com/v2/sDx1aRO1I82_YWxxUK9S_jnDXHTXEqFl: 285580868 block\n",
      "Connected account: 0x75baD5ae9f46e8AEBf61e4A7179cEf3A0CeD6766\n"
     ]
    }
   ],
   "source": [
    "erc20_abi = [\n",
    "    {\n",
    "        \"constant\": False,\n",
    "        \"inputs\": [\n",
    "            {\"name\": \"_to\", \"type\": \"address\"},\n",
    "            {\"name\": \"_value\", \"type\": \"uint256\"}\n",
    "        ],\n",
    "        \"name\": \"transfer\",\n",
    "        \"outputs\": [{\"name\": \"\", \"type\": \"bool\"}],\n",
    "        \"type\": \"function\"\n",
    "    }\n",
    "]\n",
    "\n",
    "def network(chain):\n",
    "    if chain == 'gnosis':\n",
    "        primary_gateway = GNOSIS_GATEWAY  # Replace with your Infura URL\n",
    "        backup_gateway = 'https://lb.nodies.app/v1/406d8dcc043f4cb3959ed7d6673d311a'  # Your backup gateway\n",
    "    elif chain == 'arbitrum':\n",
    "        primary_gateway = ARBITRUM_GATEWAY  # Replace with your Infura URL\n",
    "        backup_gateway = ARBITRUM_GATEWAY\n",
    "    elif chain == 'optimism':\n",
    "        primary_gateway = OPTIMISM_GATEWAY  # Replace with your Infura URL\n",
    "        backup_gateway = OPTIMISM_GATEWAY\n",
    "    elif chain == 'ethereum':\n",
    "        primary_gateway = ETHEREUM_GATEWAY  # Replace with your Infura URL\n",
    "        backup_gateway = ETHEREUM_GATEWAY\n",
    "\n",
    "    print(f'Gateway: {primary_gateway}')\n",
    "\n",
    "    for gateway in [primary_gateway, backup_gateway]:\n",
    "        w3 = Web3(Web3.HTTPProvider(gateway))\n",
    "        if w3.is_connected():\n",
    "            try:\n",
    "                latest_block = w3.eth.get_block('latest')['number']  # Only try this if connected\n",
    "                print(f\"Connected to {chain} via {gateway}: {latest_block} block\")\n",
    "                return w3, gateway\n",
    "            except Exception as e:\n",
    "                print(f\"Connected to {gateway} but failed to fetch latest block. Error: {e}\")\n",
    "        else:\n",
    "            print(f\"Failed to connect to {chain} via {gateway}. Trying next gateway...\")\n",
    "\n",
    "    raise ConnectionError(f\"Failed to connect to {chain} network using both primary and backup gateways.\")\n",
    "\n",
    "\n",
    "\n",
    "w3, gateway = network(chain)\n",
    "\n",
    "account = Account.from_key(PRIVATE_KEY)\n",
    "w3.eth.default_account = account.address\n",
    "\n",
    "print(f\"Connected account: {account.address}\")"
   ]
  },
  {
   "cell_type": "code",
   "execution_count": 39,
   "metadata": {},
   "outputs": [
    {
     "data": {
      "text/plain": [
       "{'CRV': '0x11cdb42b0eb46d95f990bedd4695a6e3fa034978',\n",
       " 'LINK': '0xf97f4df75117a78c1a5a0dbb814af92458539fb4',\n",
       " 'UNI': '0xfa7f8980b0f1e64a2062791cc3b0871572f1f7f0',\n",
       " 'WBTC': '0x2f2a2543b76a4166549f7aab2e75bef0aefc5b0f'}"
      ]
     },
     "execution_count": 39,
     "metadata": {},
     "output_type": "execute_result"
    }
   ],
   "source": [
    "TOKEN_CONTRACTS = {\n",
    "    row['symbol']: row['token_address'] for _, row in portfolio.iterrows()\n",
    "}\n",
    "\n",
    "TOKEN_CONTRACTS"
   ]
  },
  {
   "cell_type": "code",
   "execution_count": 40,
   "metadata": {},
   "outputs": [],
   "source": [
    "def get_token_decimals(TOKEN_CONTRACTS):\n",
    "    \"\"\"Fetch decimals for each token contract using Web3.\"\"\"\n",
    "    try:\n",
    "        # ERC20 ABI for decimals function\n",
    "        decimals_abi = [\n",
    "            {\n",
    "                \"constant\": True,\n",
    "                \"inputs\": [],\n",
    "                \"name\": \"decimals\",\n",
    "                \"outputs\": [{\"name\": \"\", \"type\": \"uint8\"}],\n",
    "                \"type\": \"function\"\n",
    "            }\n",
    "        ]\n",
    "\n",
    "        # Dictionary to store decimals for each token\n",
    "        token_decimals = {}\n",
    "\n",
    "        for token, address in TOKEN_CONTRACTS.items():\n",
    "            if address:\n",
    "                try:\n",
    "                    contract = w3.eth.contract(address=Web3.to_checksum_address(address), abi=decimals_abi)\n",
    "                    decimals = contract.functions.decimals().call()\n",
    "                    token_decimals[token] = decimals\n",
    "                except Exception as e:\n",
    "                    print(f\"Error fetching decimals for {token}: {e}\")\n",
    "                    token_decimals[token] = None\n",
    "            else:\n",
    "                print(f\"Contract address for {token} is not set.\")\n",
    "                token_decimals[token] = None\n",
    "\n",
    "        return token_decimals\n",
    "\n",
    "    except Exception as e:\n",
    "        print(f\"Error: {e}\")\n",
    "        return None"
   ]
  },
  {
   "cell_type": "code",
   "execution_count": 41,
   "metadata": {},
   "outputs": [],
   "source": [
    "def get_balance(TOKEN_CONTRACTS, TOKEN_DECIMALS, ACCOUNT_ADDRESS):\n",
    "    \"\"\"Fetch token balances using Web3 with provided decimal adjustments.\"\"\"\n",
    "    try:\n",
    "        # ERC20 ABI for balanceOf function\n",
    "        erc20_abi = [\n",
    "            {\n",
    "                \"constant\": True,\n",
    "                \"inputs\": [{\"name\": \"_owner\", \"type\": \"address\"}],\n",
    "                \"name\": \"balanceOf\",\n",
    "                \"outputs\": [{\"name\": \"balance\", \"type\": \"uint256\"}],\n",
    "                \"type\": \"function\"\n",
    "            }\n",
    "        ]\n",
    "\n",
    "        # Fetch balances using the provided decimals\n",
    "        balances = {}\n",
    "        for token, address in TOKEN_CONTRACTS.items():\n",
    "            decimals = TOKEN_DECIMALS.get(token)\n",
    "\n",
    "            if address and decimals is not None:\n",
    "                try:\n",
    "                    contract = w3.eth.contract(address=Web3.to_checksum_address(address), abi=erc20_abi)\n",
    "                    balance_wei = contract.functions.balanceOf(ACCOUNT_ADDRESS).call()\n",
    "                    balances[token] = balance_wei / 10**decimals\n",
    "                except Exception as e:\n",
    "                    print(f\"Error fetching balance for {token}: {e}\")\n",
    "                    balances[token] = None\n",
    "            else:\n",
    "                print(f\"Skipping {token} due to missing address or decimals.\")\n",
    "                balances[token] = None\n",
    "\n",
    "        # Print and return balances\n",
    "        print(f\"Balances for account {ACCOUNT_ADDRESS}: {balances}\")\n",
    "        return balances\n",
    "\n",
    "    except Exception as e:\n",
    "        print(f\"Error fetching balances: {e}\")\n",
    "        return None"
   ]
  },
  {
   "cell_type": "code",
   "execution_count": 42,
   "metadata": {},
   "outputs": [],
   "source": [
    "def convert_to_usd(balances, prices,TOKEN_CONTRACTS):\n",
    "    \"\"\"\n",
    "    Convert token balances to their USD equivalent using token prices.\n",
    "\n",
    "    Parameters:\n",
    "    - balances (dict): Dictionary of token balances.\n",
    "    - prices (dict): Dictionary of token prices.\n",
    "\n",
    "    Returns:\n",
    "    - dict: Dictionary of token balances converted to USD.\n",
    "    \"\"\"\n",
    "    # Convert token keys to upper case for consistency\n",
    "    print(f'balances: {balances.keys()}')\n",
    "    print(f'TOKEN_CONTRACTS.keys(): {TOKEN_CONTRACTS.keys()}')\n",
    "\n",
    "    for token in TOKEN_CONTRACTS.keys():\n",
    "        if f\"{token}\" not in prices:\n",
    "            print(f\"Missing price for token: {token}\")\n",
    "\n",
    "    usd_balances = {\n",
    "        token: balances[token] * prices[f\"{token}\"]\n",
    "        for token in TOKEN_CONTRACTS.keys()\n",
    "        if f\"{token}\" in prices\n",
    "    }\n",
    "    return usd_balances"
   ]
  },
  {
   "cell_type": "code",
   "execution_count": 43,
   "metadata": {},
   "outputs": [],
   "source": [
    "def calculate_compositions(balances_usd, total_balance):\n",
    "    \"\"\"\n",
    "    Calculate the composition of each token in the portfolio.\n",
    "\n",
    "    Parameters:\n",
    "    - balances_usd (dict): Dictionary of token balances in USD.\n",
    "    - total_balance (float): Total portfolio balance in USD.\n",
    "\n",
    "    Returns:\n",
    "    - dict: Dictionary of token compositions.\n",
    "    \"\"\"\n",
    "    if total_balance == 0:\n",
    "        print(\"Warning: Total portfolio balance is zero. Setting all compositions to 0.\")\n",
    "        return {f\"{token} comp\": 0.0 for token in balances_usd}\n",
    "\n",
    "    # Calculate composition for each token\n",
    "    compositions = {f\"{token} comp\": balance_usd / total_balance for token, balance_usd in balances_usd.items()}\n",
    "    return compositions"
   ]
  },
  {
   "cell_type": "code",
   "execution_count": 44,
   "metadata": {},
   "outputs": [],
   "source": [
    "def update_historical_data(live_comp):\n",
    "    global historical_data\n",
    "    new_data = pd.DataFrame([live_comp])\n",
    "    historical_data = pd.concat([historical_data, new_data]).reset_index(drop=True)\n",
    "    historical_data.drop_duplicates(subset='date', keep='last', inplace=True)\n",
    "    cache.set(f'{model_name} historical_data', historical_data)\n",
    "\n",
    "def update_portfolio_data(values):\n",
    "    global historical_port_values\n",
    "    print(f'values: {values}')\n",
    "    values = pd.DataFrame([values])\n",
    "    historical_port_values = pd.concat([historical_port_values, values]).reset_index(drop=True)\n",
    "    historical_port_values.drop_duplicates(subset='date', keep='last', inplace=True)\n",
    "    cache.set(f'{model_name} historical_port_values', historical_port_values)\n",
    "\n",
    "def update_price_data(values):\n",
    "    global oracle_prices\n",
    "\n",
    "    # Ensure the 'hour' column exists by resetting index if necessary\n",
    "    if isinstance(values.index, pd.DatetimeIndex):\n",
    "        values = values.reset_index().rename(columns={'index': 'hour'})\n",
    "    \n",
    "    if 'hour' not in values.columns:\n",
    "        raise ValueError(\"The provided DataFrame must have a 'hour' column.\")\n",
    "\n",
    "    # Concatenate the new values with the existing oracle_prices\n",
    "    oracle_prices = pd.concat([oracle_prices, values]).drop_duplicates(subset='hour', keep='last').reset_index(drop=True)\n",
    "    \n",
    "    # Cache the updated oracle_prices\n",
    "    cache.set(f'{model_name} oracle_prices', oracle_prices)\n",
    "\n",
    "    print(f'Updated oracle_prices:\\n{oracle_prices}')\n",
    "\n",
    "def update_model_actions(actions):\n",
    "    global model_actions\n",
    "    print(f'model actions before update: {model_actions}')\n",
    "    new_data = pd.DataFrame(actions)\n",
    "    print(f'new data: {new_data}')\n",
    "    model_actions = pd.concat([model_actions, new_data]).reset_index(drop=True)\n",
    "    model_actions.drop_duplicates(subset='Date', keep='last', inplace=True)\n",
    "    cache.set(f'{model_name} actions', model_actions)"
   ]
  },
  {
   "cell_type": "code",
   "execution_count": 45,
   "metadata": {},
   "outputs": [],
   "source": [
    "TOKEN_DECIMALS = get_token_decimals(TOKEN_CONTRACTS)"
   ]
  },
  {
   "cell_type": "code",
   "execution_count": 46,
   "metadata": {},
   "outputs": [
    {
     "name": "stdout",
     "output_type": "stream",
     "text": [
      "Balances for account 0x75baD5ae9f46e8AEBf61e4A7179cEf3A0CeD6766: {'CRV': 4.291008269e-09, 'LINK': 1.652236831399549, 'UNI': 0.18303746793932313, 'WBTC': 0.0}\n"
     ]
    }
   ],
   "source": [
    "model_balances = get_balance(TOKEN_CONTRACTS,TOKEN_DECIMALS,ACCOUNT_ADDRESS)"
   ]
  },
  {
   "cell_type": "code",
   "execution_count": 48,
   "metadata": {},
   "outputs": [
    {
     "data": {
      "text/plain": [
       "dict_keys(['CRV', 'LINK', 'UNI', 'WBTC'])"
      ]
     },
     "execution_count": 48,
     "metadata": {},
     "output_type": "execute_result"
    }
   ],
   "source": [
    "TOKEN_CONTRACTS.keys()"
   ]
  },
  {
   "cell_type": "code",
   "execution_count": 49,
   "metadata": {},
   "outputs": [
    {
     "data": {
      "text/plain": [
       "{'CRV': 1.071, 'LINK': 28.65, 'UNI': 15.99, 'WBTC': 105641.0}"
      ]
     },
     "execution_count": 49,
     "metadata": {},
     "output_type": "execute_result"
    }
   ],
   "source": [
    "latest_prices = {\n",
    "    token: float(prices_df[f\"{token}_Price\"].iloc[-1])\n",
    "    for token in TOKEN_CONTRACTS.keys()\n",
    "    if f\"{token}_Price\" in prices_df.columns\n",
    "}\n",
    "\n",
    "latest_prices\n"
   ]
  },
  {
   "cell_type": "code",
   "execution_count": 51,
   "metadata": {},
   "outputs": [
    {
     "name": "stdout",
     "output_type": "stream",
     "text": [
      "Updated oracle_prices:\n",
      "                 hour  WBTC_Price  UNI_Price  LINK_Price  CRV_Price\n",
      "0 2024-12-16 07:00:00    104384.0      16.70       29.04      1.099\n",
      "1 2024-12-16 22:00:00    105760.0      16.60       29.66      1.099\n",
      "2                 NaT    105641.0      15.99       28.65      1.071\n",
      "3 2024-12-16 23:00:00    105775.0      16.55       29.08      1.092\n",
      "4 2024-12-17 00:00:00    105602.0      16.45       29.08      1.082\n",
      "5 2024-12-17 01:00:00    105600.0      16.29       28.84      1.073\n",
      "6 2024-12-17 02:00:00    105641.0      15.99       28.65      1.071\n",
      "7 2024-12-17 03:00:00    105641.0      15.99       28.65      1.071\n",
      "8 2024-12-17 04:00:00    105641.0      15.99       28.65      1.071\n"
     ]
    },
    {
     "data": {
      "text/html": [
       "<div>\n",
       "<style scoped>\n",
       "    .dataframe tbody tr th:only-of-type {\n",
       "        vertical-align: middle;\n",
       "    }\n",
       "\n",
       "    .dataframe tbody tr th {\n",
       "        vertical-align: top;\n",
       "    }\n",
       "\n",
       "    .dataframe thead th {\n",
       "        text-align: right;\n",
       "    }\n",
       "</style>\n",
       "<table border=\"1\" class=\"dataframe\">\n",
       "  <thead>\n",
       "    <tr style=\"text-align: right;\">\n",
       "      <th></th>\n",
       "      <th>hour</th>\n",
       "      <th>WBTC_Price</th>\n",
       "      <th>UNI_Price</th>\n",
       "      <th>LINK_Price</th>\n",
       "      <th>CRV_Price</th>\n",
       "    </tr>\n",
       "  </thead>\n",
       "  <tbody>\n",
       "    <tr>\n",
       "      <th>0</th>\n",
       "      <td>2024-12-16 07:00:00</td>\n",
       "      <td>104384.0</td>\n",
       "      <td>16.70</td>\n",
       "      <td>29.04</td>\n",
       "      <td>1.099</td>\n",
       "    </tr>\n",
       "    <tr>\n",
       "      <th>1</th>\n",
       "      <td>2024-12-16 22:00:00</td>\n",
       "      <td>105760.0</td>\n",
       "      <td>16.60</td>\n",
       "      <td>29.66</td>\n",
       "      <td>1.099</td>\n",
       "    </tr>\n",
       "    <tr>\n",
       "      <th>2</th>\n",
       "      <td>NaT</td>\n",
       "      <td>105641.0</td>\n",
       "      <td>15.99</td>\n",
       "      <td>28.65</td>\n",
       "      <td>1.071</td>\n",
       "    </tr>\n",
       "    <tr>\n",
       "      <th>3</th>\n",
       "      <td>2024-12-16 23:00:00</td>\n",
       "      <td>105775.0</td>\n",
       "      <td>16.55</td>\n",
       "      <td>29.08</td>\n",
       "      <td>1.092</td>\n",
       "    </tr>\n",
       "    <tr>\n",
       "      <th>4</th>\n",
       "      <td>2024-12-17 00:00:00</td>\n",
       "      <td>105602.0</td>\n",
       "      <td>16.45</td>\n",
       "      <td>29.08</td>\n",
       "      <td>1.082</td>\n",
       "    </tr>\n",
       "    <tr>\n",
       "      <th>5</th>\n",
       "      <td>2024-12-17 01:00:00</td>\n",
       "      <td>105600.0</td>\n",
       "      <td>16.29</td>\n",
       "      <td>28.84</td>\n",
       "      <td>1.073</td>\n",
       "    </tr>\n",
       "    <tr>\n",
       "      <th>6</th>\n",
       "      <td>2024-12-17 02:00:00</td>\n",
       "      <td>105641.0</td>\n",
       "      <td>15.99</td>\n",
       "      <td>28.65</td>\n",
       "      <td>1.071</td>\n",
       "    </tr>\n",
       "    <tr>\n",
       "      <th>7</th>\n",
       "      <td>2024-12-17 03:00:00</td>\n",
       "      <td>105641.0</td>\n",
       "      <td>15.99</td>\n",
       "      <td>28.65</td>\n",
       "      <td>1.071</td>\n",
       "    </tr>\n",
       "    <tr>\n",
       "      <th>8</th>\n",
       "      <td>2024-12-17 04:00:00</td>\n",
       "      <td>105641.0</td>\n",
       "      <td>15.99</td>\n",
       "      <td>28.65</td>\n",
       "      <td>1.071</td>\n",
       "    </tr>\n",
       "  </tbody>\n",
       "</table>\n",
       "</div>"
      ],
      "text/plain": [
       "                 hour  WBTC_Price  UNI_Price  LINK_Price  CRV_Price\n",
       "0 2024-12-16 07:00:00    104384.0      16.70       29.04      1.099\n",
       "1 2024-12-16 22:00:00    105760.0      16.60       29.66      1.099\n",
       "2                 NaT    105641.0      15.99       28.65      1.071\n",
       "3 2024-12-16 23:00:00    105775.0      16.55       29.08      1.092\n",
       "4 2024-12-17 00:00:00    105602.0      16.45       29.08      1.082\n",
       "5 2024-12-17 01:00:00    105600.0      16.29       28.84      1.073\n",
       "6 2024-12-17 02:00:00    105641.0      15.99       28.65      1.071\n",
       "7 2024-12-17 03:00:00    105641.0      15.99       28.65      1.071\n",
       "8 2024-12-17 04:00:00    105641.0      15.99       28.65      1.071"
      ]
     },
     "execution_count": 51,
     "metadata": {},
     "output_type": "execute_result"
    }
   ],
   "source": [
    "update_price_data(prices_df)\n",
    "oracle_prices"
   ]
  },
  {
   "cell_type": "code",
   "execution_count": 52,
   "metadata": {},
   "outputs": [
    {
     "data": {
      "text/plain": [
       "{'CRV': 4.291008269e-09,\n",
       " 'LINK': 1.652236831399549,\n",
       " 'UNI': 0.18303746793932313,\n",
       " 'WBTC': 0.0}"
      ]
     },
     "execution_count": 52,
     "metadata": {},
     "output_type": "execute_result"
    }
   ],
   "source": [
    "model_balances"
   ]
  },
  {
   "cell_type": "code",
   "execution_count": 53,
   "metadata": {},
   "outputs": [
    {
     "data": {
      "text/plain": [
       "{'CRV': 1.071, 'LINK': 28.65, 'UNI': 15.99, 'WBTC': 105641.0}"
      ]
     },
     "execution_count": 53,
     "metadata": {},
     "output_type": "execute_result"
    }
   ],
   "source": [
    "latest_prices"
   ]
  },
  {
   "cell_type": "code",
   "execution_count": 54,
   "metadata": {},
   "outputs": [
    {
     "data": {
      "text/plain": [
       "0.0"
      ]
     },
     "execution_count": 54,
     "metadata": {},
     "output_type": "execute_result"
    }
   ],
   "source": [
    "latest_prices['WBTC'] * model_balances['WBTC']"
   ]
  },
  {
   "cell_type": "code",
   "execution_count": 55,
   "metadata": {},
   "outputs": [
    {
     "name": "stdout",
     "output_type": "stream",
     "text": [
      "balances: dict_keys(['CRV', 'LINK', 'UNI', 'WBTC'])\n",
      "TOKEN_CONTRACTS.keys(): dict_keys(['CRV', 'LINK', 'UNI', 'WBTC'])\n"
     ]
    }
   ],
   "source": [
    "model_balances_usd = convert_to_usd(model_balances,latest_prices,TOKEN_CONTRACTS)\n",
    "portfolio_balance = sum(model_balances_usd.values())"
   ]
  },
  {
   "cell_type": "code",
   "execution_count": 56,
   "metadata": {},
   "outputs": [
    {
     "data": {
      "text/plain": [
       "{'CRV': 4.595669856099e-09,\n",
       " 'LINK': 47.336585219597076,\n",
       " 'UNI': 2.9267691123497768,\n",
       " 'WBTC': 0.0}"
      ]
     },
     "execution_count": 56,
     "metadata": {},
     "output_type": "execute_result"
    }
   ],
   "source": [
    "model_balances_usd"
   ]
  },
  {
   "cell_type": "code",
   "execution_count": 57,
   "metadata": {},
   "outputs": [],
   "source": [
    "comp_dict = {\n",
    "    f\"{token} comp\": balance_usd / portfolio_balance\n",
    "    for token, balance_usd in model_balances_usd.items()\n",
    "}\n",
    "\n",
    "comp_dict[\"date\"] = formatted_today_utc"
   ]
  },
  {
   "cell_type": "code",
   "execution_count": 58,
   "metadata": {},
   "outputs": [
    {
     "data": {
      "text/plain": [
       "dict_values([4.595669856099e-09, 47.336585219597076, 2.9267691123497768, 0.0])"
      ]
     },
     "execution_count": 58,
     "metadata": {},
     "output_type": "execute_result"
    }
   ],
   "source": [
    "model_balances_usd.values()"
   ]
  },
  {
   "cell_type": "code",
   "execution_count": 59,
   "metadata": {},
   "outputs": [
    {
     "data": {
      "text/plain": [
       "{'CRV comp': 9.143181780762791e-11,\n",
       " 'LINK comp': 0.9417713132046657,\n",
       " 'UNI comp': 0.05822868670390256,\n",
       " 'WBTC comp': 0.0,\n",
       " 'date': '2024-12-16 23:00:00'}"
      ]
     },
     "execution_count": 59,
     "metadata": {},
     "output_type": "execute_result"
    }
   ],
   "source": [
    "comp_dict"
   ]
  },
  {
   "cell_type": "code",
   "execution_count": 60,
   "metadata": {},
   "outputs": [
    {
     "data": {
      "text/html": [
       "<div>\n",
       "<style scoped>\n",
       "    .dataframe tbody tr th:only-of-type {\n",
       "        vertical-align: middle;\n",
       "    }\n",
       "\n",
       "    .dataframe tbody tr th {\n",
       "        vertical-align: top;\n",
       "    }\n",
       "\n",
       "    .dataframe thead th {\n",
       "        text-align: right;\n",
       "    }\n",
       "</style>\n",
       "<table border=\"1\" class=\"dataframe\">\n",
       "  <thead>\n",
       "    <tr style=\"text-align: right;\">\n",
       "      <th></th>\n",
       "      <th>CRV comp</th>\n",
       "      <th>LINK comp</th>\n",
       "      <th>UNI comp</th>\n",
       "      <th>WBTC comp</th>\n",
       "      <th>date</th>\n",
       "    </tr>\n",
       "  </thead>\n",
       "  <tbody>\n",
       "    <tr>\n",
       "      <th>0</th>\n",
       "      <td>9.239875e-11</td>\n",
       "      <td>0.940108</td>\n",
       "      <td>0.059892</td>\n",
       "      <td>0.0</td>\n",
       "      <td>2024-12-16 07:00:00</td>\n",
       "    </tr>\n",
       "    <tr>\n",
       "      <th>1</th>\n",
       "      <td>9.143182e-11</td>\n",
       "      <td>0.941771</td>\n",
       "      <td>0.058229</td>\n",
       "      <td>0.0</td>\n",
       "      <td>2024-12-16 22:00:00</td>\n",
       "    </tr>\n",
       "    <tr>\n",
       "      <th>3</th>\n",
       "      <td>9.143182e-11</td>\n",
       "      <td>0.941771</td>\n",
       "      <td>0.058229</td>\n",
       "      <td>0.0</td>\n",
       "      <td>2024-12-16 23:00:00</td>\n",
       "    </tr>\n",
       "  </tbody>\n",
       "</table>\n",
       "</div>"
      ],
      "text/plain": [
       "       CRV comp  LINK comp  UNI comp  WBTC comp                 date\n",
       "0  9.239875e-11   0.940108  0.059892        0.0  2024-12-16 07:00:00\n",
       "1  9.143182e-11   0.941771  0.058229        0.0  2024-12-16 22:00:00\n",
       "3  9.143182e-11   0.941771  0.058229        0.0  2024-12-16 23:00:00"
      ]
     },
     "execution_count": 60,
     "metadata": {},
     "output_type": "execute_result"
    }
   ],
   "source": [
    "update_historical_data(comp_dict)\n",
    "\n",
    "historical_data"
   ]
  },
  {
   "cell_type": "code",
   "execution_count": 61,
   "metadata": {},
   "outputs": [
    {
     "name": "stdout",
     "output_type": "stream",
     "text": [
      "values: {'Portfolio Value': 50.26335433654252, 'date': '2024-12-16 23:00:00'}\n"
     ]
    },
    {
     "data": {
      "text/html": [
       "<div>\n",
       "<style scoped>\n",
       "    .dataframe tbody tr th:only-of-type {\n",
       "        vertical-align: middle;\n",
       "    }\n",
       "\n",
       "    .dataframe tbody tr th {\n",
       "        vertical-align: top;\n",
       "    }\n",
       "\n",
       "    .dataframe thead th {\n",
       "        text-align: right;\n",
       "    }\n",
       "</style>\n",
       "<table border=\"1\" class=\"dataframe\">\n",
       "  <thead>\n",
       "    <tr style=\"text-align: right;\">\n",
       "      <th></th>\n",
       "      <th>Portfolio Value</th>\n",
       "      <th>date</th>\n",
       "    </tr>\n",
       "  </thead>\n",
       "  <tbody>\n",
       "    <tr>\n",
       "      <th>0</th>\n",
       "      <td>51.037683</td>\n",
       "      <td>2024-12-16 07:00:00</td>\n",
       "    </tr>\n",
       "    <tr>\n",
       "      <th>1</th>\n",
       "      <td>50.263354</td>\n",
       "      <td>2024-12-16 22:00:00</td>\n",
       "    </tr>\n",
       "    <tr>\n",
       "      <th>2</th>\n",
       "      <td>50.263354</td>\n",
       "      <td>2024-12-17 03:00:00</td>\n",
       "    </tr>\n",
       "    <tr>\n",
       "      <th>4</th>\n",
       "      <td>50.263354</td>\n",
       "      <td>2024-12-16 23:00:00</td>\n",
       "    </tr>\n",
       "  </tbody>\n",
       "</table>\n",
       "</div>"
      ],
      "text/plain": [
       "   Portfolio Value                 date\n",
       "0        51.037683  2024-12-16 07:00:00\n",
       "1        50.263354  2024-12-16 22:00:00\n",
       "2        50.263354  2024-12-17 03:00:00\n",
       "4        50.263354  2024-12-16 23:00:00"
      ]
     },
     "execution_count": 61,
     "metadata": {},
     "output_type": "execute_result"
    }
   ],
   "source": [
    "portfolio_dict = {\n",
    "    \"Portfolio Value\": portfolio_balance,\n",
    "    \"date\": formatted_today_utc\n",
    "}\n",
    "\n",
    "update_portfolio_data(portfolio_dict)\n",
    "historical_port_values"
   ]
  },
  {
   "cell_type": "markdown",
   "metadata": {},
   "source": [
    "# DEX Swap"
   ]
  },
  {
   "cell_type": "code",
   "execution_count": 62,
   "metadata": {},
   "outputs": [],
   "source": [
    "network = params['network']"
   ]
  },
  {
   "cell_type": "code",
   "execution_count": 63,
   "metadata": {},
   "outputs": [],
   "source": [
    "#Gnosis - uses version 2\n",
    "#Arbitrum - uses version 3\n",
    "#Ethereum is the default; using version 3\n",
    "\n",
    "if network == 'gnosis':\n",
    "    factory = '0xA818b4F111Ccac7AA31D0BCc0806d64F2E0737D7'\n",
    "    router = '0x1C232F01118CB8B424793ae03F870aa7D0ac7f77'\n",
    "    version = 2\n",
    "elif network == 'arbitrum':\n",
    "    factory = '0x1F98431c8aD98523631AE4a59f267346ea31F984'\n",
    "    router = '0x5E325eDA8064b456f4781070C0738d849c824258'\n",
    "    version = 3\n",
    "elif network == 'ethereum':\n",
    "    factory = None\n",
    "    router = None\n",
    "    version = 3"
   ]
  },
  {
   "cell_type": "code",
   "execution_count": 64,
   "metadata": {},
   "outputs": [
    {
     "name": "stderr",
     "output_type": "stream",
     "text": [
      "2024-12-16 23:07:10,154 INFO uniswap.uniswap Using <web3.main.Web3 object at 0x0000021A15DFE410> ('arbitrum', netid: 42161)\n",
      "2024-12-16 23:07:10,474 INFO uniswap.uniswap Using factory contract: <web3._utils.datatypes.Contract object at 0x0000021A16572B90>\n"
     ]
    }
   ],
   "source": [
    "uniswap = Uniswap(address=ACCOUNT_ADDRESS, private_key=PRIVATE_KEY, version=version, provider=gateway,router_contract_addr=router,factory_contract_addr=factory)"
   ]
  },
  {
   "cell_type": "code",
   "execution_count": 65,
   "metadata": {},
   "outputs": [
    {
     "data": {
      "text/html": [
       "<div>\n",
       "<style scoped>\n",
       "    .dataframe tbody tr th:only-of-type {\n",
       "        vertical-align: middle;\n",
       "    }\n",
       "\n",
       "    .dataframe tbody tr th {\n",
       "        vertical-align: top;\n",
       "    }\n",
       "\n",
       "    .dataframe thead th {\n",
       "        text-align: right;\n",
       "    }\n",
       "</style>\n",
       "<table border=\"1\" class=\"dataframe\">\n",
       "  <thead>\n",
       "    <tr style=\"text-align: right;\">\n",
       "      <th></th>\n",
       "      <th>symbol</th>\n",
       "      <th>token_address</th>\n",
       "    </tr>\n",
       "  </thead>\n",
       "  <tbody>\n",
       "    <tr>\n",
       "      <th>0</th>\n",
       "      <td>CRV</td>\n",
       "      <td>0x11cdb42b0eb46d95f990bedd4695a6e3fa034978</td>\n",
       "    </tr>\n",
       "    <tr>\n",
       "      <th>1</th>\n",
       "      <td>LINK</td>\n",
       "      <td>0xf97f4df75117a78c1a5a0dbb814af92458539fb4</td>\n",
       "    </tr>\n",
       "    <tr>\n",
       "      <th>2</th>\n",
       "      <td>UNI</td>\n",
       "      <td>0xfa7f8980b0f1e64a2062791cc3b0871572f1f7f0</td>\n",
       "    </tr>\n",
       "    <tr>\n",
       "      <th>9</th>\n",
       "      <td>WBTC</td>\n",
       "      <td>0x2f2a2543b76a4166549f7aab2e75bef0aefc5b0f</td>\n",
       "    </tr>\n",
       "  </tbody>\n",
       "</table>\n",
       "</div>"
      ],
      "text/plain": [
       "  symbol                               token_address\n",
       "0    CRV  0x11cdb42b0eb46d95f990bedd4695a6e3fa034978\n",
       "1   LINK  0xf97f4df75117a78c1a5a0dbb814af92458539fb4\n",
       "2    UNI  0xfa7f8980b0f1e64a2062791cc3b0871572f1f7f0\n",
       "9   WBTC  0x2f2a2543b76a4166549f7aab2e75bef0aefc5b0f"
      ]
     },
     "execution_count": 65,
     "metadata": {},
     "output_type": "execute_result"
    }
   ],
   "source": [
    "portfolio"
   ]
  },
  {
   "cell_type": "code",
   "execution_count": 66,
   "metadata": {},
   "outputs": [
    {
     "data": {
      "text/plain": [
       "['WBTC', 'UNI', 'LINK', 'CRV']"
      ]
     },
     "execution_count": 66,
     "metadata": {},
     "output_type": "execute_result"
    }
   ],
   "source": [
    "filtered_assets"
   ]
  },
  {
   "cell_type": "code",
   "execution_count": 67,
   "metadata": {},
   "outputs": [
    {
     "data": {
      "text/plain": [
       "{'CRV': '0x11cdb42b0eb46d95f990bedd4695a6e3fa034978',\n",
       " 'LINK': '0xf97f4df75117a78c1a5a0dbb814af92458539fb4',\n",
       " 'UNI': '0xfa7f8980b0f1e64a2062791cc3b0871572f1f7f0',\n",
       " 'WBTC': '0x2f2a2543b76a4166549f7aab2e75bef0aefc5b0f'}"
      ]
     },
     "execution_count": 67,
     "metadata": {},
     "output_type": "execute_result"
    }
   ],
   "source": [
    "TOKEN_CONTRACTS"
   ]
  },
  {
   "cell_type": "code",
   "execution_count": 68,
   "metadata": {},
   "outputs": [
    {
     "data": {
      "text/plain": [
       "{'CRV': 18, 'LINK': 18, 'UNI': 18, 'WBTC': 8}"
      ]
     },
     "execution_count": 68,
     "metadata": {},
     "output_type": "execute_result"
    }
   ],
   "source": [
    "TOKEN_DECIMALS"
   ]
  },
  {
   "cell_type": "code",
   "execution_count": 69,
   "metadata": {},
   "outputs": [
    {
     "data": {
      "text/plain": [
       "{'CRV': 4.291008269e-09,\n",
       " 'LINK': 1.652236831399549,\n",
       " 'UNI': 0.18303746793932313,\n",
       " 'WBTC': 0.0}"
      ]
     },
     "execution_count": 69,
     "metadata": {},
     "output_type": "execute_result"
    }
   ],
   "source": [
    "model_balances"
   ]
  },
  {
   "cell_type": "code",
   "execution_count": 70,
   "metadata": {},
   "outputs": [
    {
     "data": {
      "text/plain": [
       "{'CRV': 4.595669856099e-09,\n",
       " 'LINK': 47.336585219597076,\n",
       " 'UNI': 2.9267691123497768,\n",
       " 'WBTC': 0.0}"
      ]
     },
     "execution_count": 70,
     "metadata": {},
     "output_type": "execute_result"
    }
   ],
   "source": [
    "model_balances_usd"
   ]
  },
  {
   "cell_type": "code",
   "execution_count": 71,
   "metadata": {},
   "outputs": [
    {
     "name": "stderr",
     "output_type": "stream",
     "text": [
      "2024-12-16 23:07:10.638 No runtime found, using MemoryCacheStorageManager\n"
     ]
    }
   ],
   "source": [
    "import time\n",
    "import streamlit as st\n",
    "\n",
    "coingecko_key = os.getenv('COINGECKO_KEY')\n",
    "\n",
    "@st.cache_data(ttl=timedelta(hours=1))\n",
    "def coingecko_api():\n",
    "\n",
    "    headers = {\n",
    "        \"accept\": \"application/json\",\n",
    "        \"x-cg-demo-api-key\": coingecko_key\n",
    "    }\n",
    "\n",
    "    base_url = f\"https://api.coingecko.com/api/v3/coins/markets?vs_currency=usd&ids=ethereum\"\n",
    "    \n",
    "    response = requests.get(base_url, headers=headers)\n",
    "\n",
    "    if response.status_code != 200:\n",
    "        print(f\"Error: {response.status_code}, {response.text}\")\n",
    "        return None\n",
    "\n",
    "    data = response.json()\n",
    "    df = pd.DataFrame(data)\n",
    "    df.to_csv('data/list_data.csv', index=False)\n",
    "\n",
    "    return df"
   ]
  },
  {
   "cell_type": "code",
   "execution_count": 72,
   "metadata": {},
   "outputs": [
    {
     "name": "stderr",
     "output_type": "stream",
     "text": [
      "2024-12-16 23:07:10.671 No runtime found, using MemoryCacheStorageManager\n"
     ]
    },
    {
     "data": {
      "text/html": [
       "<div>\n",
       "<style scoped>\n",
       "    .dataframe tbody tr th:only-of-type {\n",
       "        vertical-align: middle;\n",
       "    }\n",
       "\n",
       "    .dataframe tbody tr th {\n",
       "        vertical-align: top;\n",
       "    }\n",
       "\n",
       "    .dataframe thead th {\n",
       "        text-align: right;\n",
       "    }\n",
       "</style>\n",
       "<table border=\"1\" class=\"dataframe\">\n",
       "  <thead>\n",
       "    <tr style=\"text-align: right;\">\n",
       "      <th></th>\n",
       "      <th>symbol</th>\n",
       "      <th>current_price</th>\n",
       "      <th>last_updated</th>\n",
       "    </tr>\n",
       "  </thead>\n",
       "  <tbody>\n",
       "    <tr>\n",
       "      <th>0</th>\n",
       "      <td>eth</td>\n",
       "      <td>4036.61</td>\n",
       "      <td>2024-12-17T03:53:51.636Z</td>\n",
       "    </tr>\n",
       "  </tbody>\n",
       "</table>\n",
       "</div>"
      ],
      "text/plain": [
       "  symbol  current_price              last_updated\n",
       "0    eth        4036.61  2024-12-17T03:53:51.636Z"
      ]
     },
     "execution_count": 72,
     "metadata": {},
     "output_type": "execute_result"
    }
   ],
   "source": [
    "eth_data = coingecko_api()\n",
    "latest_eth_price = eth_data['current_price'].values[0]\n",
    "eth_data[['symbol','current_price','last_updated']]"
   ]
  },
  {
   "cell_type": "code",
   "execution_count": 73,
   "metadata": {},
   "outputs": [],
   "source": [
    "# tokens = ['0x75baD5ae9f46e8AEBf61e4A7179cEf3A0CeD6766'] # WETH Price\n",
    "# token_prices_query = token_prices(tokens,network,start_date)\n",
    "# tokens_df = flipside_api_results(token_prices_query,flipside_api_key)"
   ]
  },
  {
   "cell_type": "code",
   "execution_count": 74,
   "metadata": {},
   "outputs": [],
   "source": [
    "WETH_ADDRESS = '0x82aF49447D8a07e3bd95BD0d56f35241523fBab1'\n",
    "checksum_weth_address = Web3.to_checksum_address(WETH_ADDRESS)"
   ]
  },
  {
   "cell_type": "code",
   "execution_count": 75,
   "metadata": {},
   "outputs": [],
   "source": [
    "import pandas as pd\n",
    "from uniswap import Uniswap\n",
    "from web3 import Web3\n",
    "import math\n",
    "\n",
    "def rebalance_portfolio(\n",
    "    uniswap, \n",
    "    token_contracts, \n",
    "    token_decimals, \n",
    "    target_compositions, \n",
    "    account_address, \n",
    "):\n",
    "    \"\"\"\n",
    "    Rebalances the portfolio by selling all tokens into WETH and then buying target allocations using WETH.\n",
    "\n",
    "    Parameters:\n",
    "    - uniswap: Initialized Uniswap class instance.\n",
    "    - token_contracts: Dict of token addresses.\n",
    "    - token_decimals: Dict of token decimals.\n",
    "    - target_compositions: Dict of target compositions as fractions summing to 1.\n",
    "    - account_address: ETH wallet address.\n",
    "    - web3: Initialized Web3 instance.\n",
    "    \"\"\"\n",
    "\n",
    "    # WETH address and checksum\n",
    "    WETH_ADDRESS = '0x82aF49447D8a07e3bd95BD0d56f35241523fBab1'\n",
    "    checksum_weth_address = Web3.to_checksum_address(WETH_ADDRESS)\n",
    "\n",
    "    # Step 1: Convert Token Addresses to Checksum Format\n",
    "    checksum_addresses = {token: Web3.to_checksum_address(address) for token, address in token_contracts.items()}\n",
    "\n",
    "    # Step 2: Sell All Current Token Holdings into WETH\n",
    "    for token, address in checksum_addresses.items():\n",
    "        try:\n",
    "            balance_wei = uniswap.get_token_balance(address)\n",
    "            balance = balance_wei / 10**token_decimals[token]\n",
    "            \n",
    "            # Adjust the balance to avoid precision issues (round down to 6 decimal places)\n",
    "            adjusted_balance = math.floor(balance * 10**8) / 10**8\n",
    "            \n",
    "            if adjusted_balance > 0:\n",
    "                amount_to_sell = int(adjusted_balance * 10**token_decimals[token])\n",
    "                print(f\"Selling {adjusted_balance:.6f} {token} for WETH\")\n",
    "                uniswap.make_trade(\n",
    "                    checksum_addresses[token],\n",
    "                    checksum_weth_address,  # WETH as output token\n",
    "                    amount_to_sell\n",
    "                )\n",
    "                wait_time = random.randint(15, 30)\n",
    "                print(f\"Waiting {wait_time} seconds before the next call...\")\n",
    "                time.sleep(wait_time)\n",
    "        except Exception as e:\n",
    "            print(f\"Error selling {token}: {e}\")\n",
    "\n",
    "    # Step 3: Get Current WETH Balance\n",
    "    weth_balance_wei = uniswap.get_token_balance(checksum_weth_address)\n",
    "    weth_balance = weth_balance_wei / 10**18\n",
    "    print(f\"Total WETH balance after selling: {weth_balance:.6f} WETH\")\n",
    "\n",
    "    # Step 4: Buy Target Tokens Based on Target Compositions\n",
    "    for token, target_weight in target_compositions.items():\n",
    "        if target_weight > 0:\n",
    "            weth_to_spend = weth_balance * target_weight\n",
    "            \n",
    "            # Adjust the WETH amount to avoid precision issues (round down to 6 decimal places)\n",
    "            adjusted_weth_to_spend = math.floor(weth_to_spend * 10**8) / 10**8\n",
    "\n",
    "            if adjusted_weth_to_spend <= 0:\n",
    "                continue\n",
    "\n",
    "            try:\n",
    "                print(f\"Buying {token} with {adjusted_weth_to_spend:.6f} WETH\")\n",
    "\n",
    "                uniswap.make_trade(\n",
    "                    checksum_weth_address,        # WETH as input token\n",
    "                    checksum_addresses[token],    # Target token\n",
    "                    int(adjusted_weth_to_spend * 10**18),  # Convert WETH amount to wei\n",
    "                    fee=3000                      # Assuming 0.3% fee pool for Uniswap V3\n",
    "                )\n",
    "\n",
    "                wait_time = random.randint(15, 30)\n",
    "                print(f\"Waiting {wait_time} seconds before the next call...\")\n",
    "                time.sleep(wait_time)\n",
    "\n",
    "            except Exception as e:\n",
    "                print(f\"Error buying {token}: {e}\")\n",
    "\n",
    "    # Step 5: Log the Rebalancing Info\n",
    "    final_weth_balance = uniswap.get_token_balance(checksum_weth_address) / 10**18\n",
    "    print(f\"Final WETH balance: {final_weth_balance:.6f} WETH\")\n",
    "\n",
    "    rebal_info = {\n",
    "        \"account_address\": account_address,\n",
    "        \"initial_weth_balance\": weth_balance,\n",
    "        \"final_weth_balance\": final_weth_balance,\n",
    "        \"purchases\": target_compositions,\n",
    "    }\n",
    "\n",
    "    # Save rebalancing info to CSV\n",
    "    rebal_df = pd.DataFrame([rebal_info])\n",
    "    rebal_df.to_csv('data/live_rebal_results.csv', index=False)\n",
    "    print(\"Rebalancing info saved to 'data/live_rebal_results.csv'.\")\n"
   ]
  },
  {
   "cell_type": "code",
   "execution_count": 76,
   "metadata": {},
   "outputs": [
    {
     "data": {
      "text/plain": [
       "{'CRV': 1.071, 'LINK': 28.65, 'UNI': 15.99, 'WBTC': 105641.0}"
      ]
     },
     "execution_count": 76,
     "metadata": {},
     "output_type": "execute_result"
    }
   ],
   "source": [
    "latest_prices"
   ]
  },
  {
   "cell_type": "code",
   "execution_count": 77,
   "metadata": {},
   "outputs": [
    {
     "data": {
      "text/plain": [
       "4036.61"
      ]
     },
     "execution_count": 77,
     "metadata": {},
     "output_type": "execute_result"
    }
   ],
   "source": [
    "latest_eth_price"
   ]
  },
  {
   "cell_type": "code",
   "execution_count": 78,
   "metadata": {},
   "outputs": [
    {
     "data": {
      "text/plain": [
       "{'CRV': 1.071, 'LINK': 28.65, 'UNI': 15.99, 'WBTC': 105641.0}"
      ]
     },
     "execution_count": 78,
     "metadata": {},
     "output_type": "execute_result"
    }
   ],
   "source": [
    "latest_prices"
   ]
  },
  {
   "cell_type": "code",
   "execution_count": 79,
   "metadata": {},
   "outputs": [
    {
     "data": {
      "text/plain": [
       "{'CRV': '0x11cdb42b0eb46d95f990bedd4695a6e3fa034978',\n",
       " 'LINK': '0xf97f4df75117a78c1a5a0dbb814af92458539fb4',\n",
       " 'UNI': '0xfa7f8980b0f1e64a2062791cc3b0871572f1f7f0',\n",
       " 'WBTC': '0x2f2a2543b76a4166549f7aab2e75bef0aefc5b0f'}"
      ]
     },
     "execution_count": 79,
     "metadata": {},
     "output_type": "execute_result"
    }
   ],
   "source": [
    "TOKEN_CONTRACTS"
   ]
  },
  {
   "cell_type": "code",
   "execution_count": 80,
   "metadata": {},
   "outputs": [],
   "source": [
    "def should_rebalance(current_time, actions_df, rebalancing_frequency):\n",
    "    global last_rebalance_time\n",
    "\n",
    "    # Convert current_time to a Timestamp object\n",
    "    current_time = pd.to_datetime(current_time).replace(tzinfo=None, minute=0, second=0, microsecond=0)\n",
    "\n",
    "    print(f'last rebal time: {last_rebalance_time}')\n",
    "    print(f'current time {current_time}')\n",
    "    print(f'actions df {actions_df}')\n",
    "    print(f'rebalancing frequency {rebalancing_frequency}')\n",
    "\n",
    "    print(f'should rebal current time: {current_time}')\n",
    "\n",
    "    if rebalancing_frequency == 1:\n",
    "        # Check if last_rebalance_time is None (first rebalance) or if more than an hour has passed\n",
    "        if last_rebalance_time is None or (current_time - last_rebalance_time).total_seconds() >= 3600:\n",
    "            last_rebalance_time = current_time\n",
    "            cache.set('last_rebalance_time', last_rebalance_time)\n",
    "            print(f'last_rebalance_time updated to: {last_rebalance_time}')\n",
    "            return True\n",
    "        else:\n",
    "            print(\"Rebalancing is not required at this time.\")\n",
    "            return False\n",
    "    else:\n",
    "        actions_df = actions_df.sort_values(by='Date')\n",
    "        print(f'actions df: {actions_df}')\n",
    "\n",
    "        last_rebalance_time_from_actions = pd.to_datetime(actions_df['Date'].iloc[-1])\n",
    "\n",
    "        # Ensure last_rebalance_time_from_actions is tz-naive and truncate to date and hour\n",
    "        last_rebalance_time_from_actions = last_rebalance_time_from_actions.replace(tzinfo=None, minute=0, second=0, microsecond=0)\n",
    "        print(f'should rebal last rebal time: {last_rebalance_time_from_actions}')\n",
    "\n",
    "        # Calculate hours since last rebalance\n",
    "        hours_since_last_rebalance = (current_time - last_rebalance_time_from_actions).total_seconds() / 3600\n",
    "        print(f'hours since last rebal: {hours_since_last_rebalance}')\n",
    "        \n",
    "        if hours_since_last_rebalance == 0:\n",
    "            print('initial rebalance')\n",
    "            if last_rebalance_time is None or (current_time - last_rebalance_time).total_seconds() >= 3600:\n",
    "                last_rebalance_time = current_time\n",
    "                cache.set('last_rebalance_time', last_rebalance_time)\n",
    "                print(f'last_rebalance_time updated to: {last_rebalance_time}')\n",
    "                return True\n",
    "            else:\n",
    "                print(\"Rebalancing is not required at this time.\")\n",
    "                return False\n",
    "        elif hours_since_last_rebalance >= rebalancing_frequency:\n",
    "            print(\"Rebalancing required based on frequency.\")\n",
    "            if last_rebalance_time is None or (current_time - last_rebalance_time).total_seconds() >= rebalancing_frequency * 3600:\n",
    "                last_rebalance_time = current_time\n",
    "                cache.set('last_rebalance_time', last_rebalance_time)\n",
    "                print(f'last_rebalance_time updated to: {last_rebalance_time}')\n",
    "                return True\n",
    "            else:\n",
    "                print(\"Rebalancing is not required at this time.\")\n",
    "                return False\n",
    "        else:\n",
    "            print(\"Rebalancing is not required at this time.\")\n",
    "            return False\n"
   ]
  },
  {
   "cell_type": "code",
   "execution_count": 81,
   "metadata": {},
   "outputs": [
    {
     "data": {
      "text/plain": [
       "360"
      ]
     },
     "execution_count": 81,
     "metadata": {},
     "output_type": "execute_result"
    }
   ],
   "source": [
    "rebalance_frequency"
   ]
  },
  {
   "cell_type": "code",
   "execution_count": 82,
   "metadata": {},
   "outputs": [],
   "source": [
    "from python_scripts.utils import set_global_seed"
   ]
  },
  {
   "cell_type": "code",
   "execution_count": 83,
   "metadata": {},
   "outputs": [],
   "source": [
    "def run_sim(model,prices_df, hist_comp, seed, rebalancing_frequency):\n",
    "    print(f'prices before sim: {prices_df}')\n",
    "\n",
    "    model = PPO.load(f\"AI_Models/{model}\")\n",
    "    \n",
    "    env = Portfolio(df=prices_df, compositions=hist_comp, seed=seed, rebalance_frequency=rebalancing_frequency,\n",
    "                    risk_free_annual=current_risk_free)\n",
    "\n",
    "    set_global_seed(env,seed)\n",
    "\n",
    "    states = []\n",
    "    rewards = []\n",
    "    actions = []\n",
    "    portfolio_values = []\n",
    "    compositions = []\n",
    "    dates = []\n",
    "\n",
    "    # Reset the environment to get the initial state\n",
    "    state, _ = env.reset(seed=seed)  # Get the initial state\n",
    "    done = False\n",
    "\n",
    "    while not done:\n",
    "        # Use the model to predict the action\n",
    "        action, _states = model.predict(state)\n",
    "        \n",
    "        # Take a step in the environment\n",
    "        next_state, reward, done, truncated, info = env.step(action)\n",
    "        \n",
    "        # Break the loop if done to avoid processing a None state\n",
    "        if done:\n",
    "            print(\"Episode done. Exiting the loop.\")\n",
    "            break\n",
    "        \n",
    "        # Normalize the action to ensure it sums to 1\n",
    "        # action = action / np.sum(action)\n",
    "        \n",
    "        # Store the results\n",
    "        if next_state is not None:\n",
    "            states.append(next_state.flatten())  # Ensure the state is flattened\n",
    "        rewards.append(reward)\n",
    "        actions.append(action.flatten())  # Ensure the action is flattened\n",
    "        compositions.append(env.portfolio)  # Store the portfolio composition\n",
    "        print(f'Action: {action}')\n",
    "\n",
    "        # Update the state\n",
    "        state = next_state\n",
    "\n",
    "        # Print debug information\n",
    "        print(f\"Step: {env.current_step}\")\n",
    "        print(f\"State: {next_state}\")\n",
    "        print(f'Action: {action}')\n",
    "        print(f\"Reward: {reward}\")\n",
    "        print(f\"Done: {done}\")\n",
    "        print(f\"Info: {info}\")\n",
    "\n",
    "    states_df = env.get_states_df()\n",
    "    rewards_df = env.get_rewards_df()\n",
    "    actions_df = env.get_actions_df()\n",
    "    returns_df = env.get_returns_df()\n",
    "    sortino_ratios = env.get_sortino_ratios_df()\n",
    "\n",
    "\n",
    "    return states_df, rewards_df, actions_df, returns_df, sortino_ratios\n",
    "\n"
   ]
  },
  {
   "cell_type": "code",
   "execution_count": 84,
   "metadata": {},
   "outputs": [
    {
     "data": {
      "text/plain": [
       "'2024-12-16 23:00:00'"
      ]
     },
     "execution_count": 84,
     "metadata": {},
     "output_type": "execute_result"
    }
   ],
   "source": [
    "formatted_today_utc"
   ]
  },
  {
   "cell_type": "code",
   "execution_count": 85,
   "metadata": {},
   "outputs": [
    {
     "name": "stdout",
     "output_type": "stream",
     "text": [
      "hist comp for env                          CRV comp  LINK comp  UNI comp  WBTC comp\n",
      "date                                                             \n",
      "2024-12-16 07:00:00  9.239875e-11   0.940108  0.059892        0.0\n",
      "2024-12-16 22:00:00  9.143182e-11   0.941771  0.058229        0.0\n",
      "2024-12-16 23:00:00  9.143182e-11   0.941771  0.058229        0.0\n"
     ]
    }
   ],
   "source": [
    "hist_comp = historical_data.copy()\n",
    "hist_comp.set_index('date', inplace=True)\n",
    "hist_comp.index = pd.to_datetime(hist_comp.index)\n",
    "# hist_comp = prepare_data_for_simulation(hist_comp, start_date, end_date)\n",
    "print(f'hist comp for env {hist_comp}')"
   ]
  },
  {
   "cell_type": "code",
   "execution_count": 86,
   "metadata": {},
   "outputs": [
    {
     "data": {
      "text/html": [
       "<div>\n",
       "<style scoped>\n",
       "    .dataframe tbody tr th:only-of-type {\n",
       "        vertical-align: middle;\n",
       "    }\n",
       "\n",
       "    .dataframe tbody tr th {\n",
       "        vertical-align: top;\n",
       "    }\n",
       "\n",
       "    .dataframe thead th {\n",
       "        text-align: right;\n",
       "    }\n",
       "</style>\n",
       "<table border=\"1\" class=\"dataframe\">\n",
       "  <thead>\n",
       "    <tr style=\"text-align: right;\">\n",
       "      <th></th>\n",
       "      <th>CRV comp</th>\n",
       "      <th>LINK comp</th>\n",
       "      <th>UNI comp</th>\n",
       "      <th>WBTC comp</th>\n",
       "    </tr>\n",
       "    <tr>\n",
       "      <th>date</th>\n",
       "      <th></th>\n",
       "      <th></th>\n",
       "      <th></th>\n",
       "      <th></th>\n",
       "    </tr>\n",
       "  </thead>\n",
       "  <tbody>\n",
       "    <tr>\n",
       "      <th>2024-12-16 07:00:00</th>\n",
       "      <td>9.239875e-11</td>\n",
       "      <td>0.940108</td>\n",
       "      <td>0.059892</td>\n",
       "      <td>0.0</td>\n",
       "    </tr>\n",
       "    <tr>\n",
       "      <th>2024-12-16 22:00:00</th>\n",
       "      <td>9.143182e-11</td>\n",
       "      <td>0.941771</td>\n",
       "      <td>0.058229</td>\n",
       "      <td>0.0</td>\n",
       "    </tr>\n",
       "    <tr>\n",
       "      <th>2024-12-16 23:00:00</th>\n",
       "      <td>9.143182e-11</td>\n",
       "      <td>0.941771</td>\n",
       "      <td>0.058229</td>\n",
       "      <td>0.0</td>\n",
       "    </tr>\n",
       "  </tbody>\n",
       "</table>\n",
       "</div>"
      ],
      "text/plain": [
       "                         CRV comp  LINK comp  UNI comp  WBTC comp\n",
       "date                                                             \n",
       "2024-12-16 07:00:00  9.239875e-11   0.940108  0.059892        0.0\n",
       "2024-12-16 22:00:00  9.143182e-11   0.941771  0.058229        0.0\n",
       "2024-12-16 23:00:00  9.143182e-11   0.941771  0.058229        0.0"
      ]
     },
     "execution_count": 86,
     "metadata": {},
     "output_type": "execute_result"
    }
   ],
   "source": [
    "hist_comp"
   ]
  },
  {
   "cell_type": "code",
   "execution_count": 87,
   "metadata": {},
   "outputs": [
    {
     "data": {
      "text/plain": [
       "'2024-12-16 23:00:00'"
      ]
     },
     "execution_count": 87,
     "metadata": {},
     "output_type": "execute_result"
    }
   ],
   "source": [
    "start_date"
   ]
  },
  {
   "cell_type": "code",
   "execution_count": 88,
   "metadata": {},
   "outputs": [],
   "source": [
    "oralce_copy = oracle_prices.copy().set_index('hour')"
   ]
  },
  {
   "cell_type": "code",
   "execution_count": 89,
   "metadata": {},
   "outputs": [
    {
     "data": {
      "text/html": [
       "<div>\n",
       "<style scoped>\n",
       "    .dataframe tbody tr th:only-of-type {\n",
       "        vertical-align: middle;\n",
       "    }\n",
       "\n",
       "    .dataframe tbody tr th {\n",
       "        vertical-align: top;\n",
       "    }\n",
       "\n",
       "    .dataframe thead th {\n",
       "        text-align: right;\n",
       "    }\n",
       "</style>\n",
       "<table border=\"1\" class=\"dataframe\">\n",
       "  <thead>\n",
       "    <tr style=\"text-align: right;\">\n",
       "      <th></th>\n",
       "      <th>CRV comp</th>\n",
       "      <th>LINK comp</th>\n",
       "      <th>UNI comp</th>\n",
       "      <th>WBTC comp</th>\n",
       "    </tr>\n",
       "    <tr>\n",
       "      <th>date</th>\n",
       "      <th></th>\n",
       "      <th></th>\n",
       "      <th></th>\n",
       "      <th></th>\n",
       "    </tr>\n",
       "  </thead>\n",
       "  <tbody>\n",
       "    <tr>\n",
       "      <th>2024-12-16 07:00:00</th>\n",
       "      <td>9.239875e-11</td>\n",
       "      <td>0.940108</td>\n",
       "      <td>0.059892</td>\n",
       "      <td>0.0</td>\n",
       "    </tr>\n",
       "    <tr>\n",
       "      <th>2024-12-16 22:00:00</th>\n",
       "      <td>9.143182e-11</td>\n",
       "      <td>0.941771</td>\n",
       "      <td>0.058229</td>\n",
       "      <td>0.0</td>\n",
       "    </tr>\n",
       "    <tr>\n",
       "      <th>2024-12-16 23:00:00</th>\n",
       "      <td>9.143182e-11</td>\n",
       "      <td>0.941771</td>\n",
       "      <td>0.058229</td>\n",
       "      <td>0.0</td>\n",
       "    </tr>\n",
       "  </tbody>\n",
       "</table>\n",
       "</div>"
      ],
      "text/plain": [
       "                         CRV comp  LINK comp  UNI comp  WBTC comp\n",
       "date                                                             \n",
       "2024-12-16 07:00:00  9.239875e-11   0.940108  0.059892        0.0\n",
       "2024-12-16 22:00:00  9.143182e-11   0.941771  0.058229        0.0\n",
       "2024-12-16 23:00:00  9.143182e-11   0.941771  0.058229        0.0"
      ]
     },
     "execution_count": 89,
     "metadata": {},
     "output_type": "execute_result"
    }
   ],
   "source": [
    "hist_comp"
   ]
  },
  {
   "cell_type": "code",
   "execution_count": 90,
   "metadata": {},
   "outputs": [
    {
     "data": {
      "text/html": [
       "<div>\n",
       "<style scoped>\n",
       "    .dataframe tbody tr th:only-of-type {\n",
       "        vertical-align: middle;\n",
       "    }\n",
       "\n",
       "    .dataframe tbody tr th {\n",
       "        vertical-align: top;\n",
       "    }\n",
       "\n",
       "    .dataframe thead th {\n",
       "        text-align: right;\n",
       "    }\n",
       "</style>\n",
       "<table border=\"1\" class=\"dataframe\">\n",
       "  <thead>\n",
       "    <tr style=\"text-align: right;\">\n",
       "      <th></th>\n",
       "      <th>symbol</th>\n",
       "      <th>token_address</th>\n",
       "      <th>latest_hour</th>\n",
       "      <th>latest_price</th>\n",
       "      <th>sixty_day_price</th>\n",
       "      <th>sixty_d_return</th>\n",
       "      <th>rolling_7d_avg</th>\n",
       "      <th>rolling_30d_avg</th>\n",
       "      <th>volume</th>\n",
       "      <th>average_order</th>\n",
       "      <th>__row_index</th>\n",
       "    </tr>\n",
       "  </thead>\n",
       "  <tbody>\n",
       "    <tr>\n",
       "      <th>0</th>\n",
       "      <td>CRV</td>\n",
       "      <td>0x11cdb42b0eb46d95f990bedd4695a6e3fa034978</td>\n",
       "      <td>2024-12-16 02:00:00+00:00</td>\n",
       "      <td>1.15</td>\n",
       "      <td>0.29075</td>\n",
       "      <td>2.955288</td>\n",
       "      <td>1.129338</td>\n",
       "      <td>0.752708</td>\n",
       "      <td>5.206880e+07</td>\n",
       "      <td>625.902174</td>\n",
       "      <td>0</td>\n",
       "    </tr>\n",
       "    <tr>\n",
       "      <th>1</th>\n",
       "      <td>LINK</td>\n",
       "      <td>0xf97f4df75117a78c1a5a0dbb814af92458539fb4</td>\n",
       "      <td>2024-12-16 02:00:00+00:00</td>\n",
       "      <td>29.34</td>\n",
       "      <td>13.84000</td>\n",
       "      <td>1.119942</td>\n",
       "      <td>26.477811</td>\n",
       "      <td>20.614286</td>\n",
       "      <td>1.569272e+08</td>\n",
       "      <td>1008.179565</td>\n",
       "      <td>1</td>\n",
       "    </tr>\n",
       "    <tr>\n",
       "      <th>2</th>\n",
       "      <td>UNI</td>\n",
       "      <td>0xfa7f8980b0f1e64a2062791cc3b0871572f1f7f0</td>\n",
       "      <td>2024-12-16 02:00:00+00:00</td>\n",
       "      <td>17.31</td>\n",
       "      <td>8.54000</td>\n",
       "      <td>1.026932</td>\n",
       "      <td>16.874615</td>\n",
       "      <td>13.356671</td>\n",
       "      <td>2.370339e+07</td>\n",
       "      <td>538.799173</td>\n",
       "      <td>2</td>\n",
       "    </tr>\n",
       "    <tr>\n",
       "      <th>9</th>\n",
       "      <td>WBTC</td>\n",
       "      <td>0x2f2a2543b76a4166549f7aab2e75bef0aefc5b0f</td>\n",
       "      <td>2024-12-16 02:00:00+00:00</td>\n",
       "      <td>105146.00</td>\n",
       "      <td>90781.00000</td>\n",
       "      <td>0.158238</td>\n",
       "      <td>99561.781065</td>\n",
       "      <td>96637.266297</td>\n",
       "      <td>2.611187e+09</td>\n",
       "      <td>2823.725555</td>\n",
       "      <td>9</td>\n",
       "    </tr>\n",
       "  </tbody>\n",
       "</table>\n",
       "</div>"
      ],
      "text/plain": [
       "  symbol                               token_address  \\\n",
       "0    CRV  0x11cdb42b0eb46d95f990bedd4695a6e3fa034978   \n",
       "1   LINK  0xf97f4df75117a78c1a5a0dbb814af92458539fb4   \n",
       "2    UNI  0xfa7f8980b0f1e64a2062791cc3b0871572f1f7f0   \n",
       "9   WBTC  0x2f2a2543b76a4166549f7aab2e75bef0aefc5b0f   \n",
       "\n",
       "                 latest_hour  latest_price  sixty_day_price  sixty_d_return  \\\n",
       "0  2024-12-16 02:00:00+00:00          1.15          0.29075        2.955288   \n",
       "1  2024-12-16 02:00:00+00:00         29.34         13.84000        1.119942   \n",
       "2  2024-12-16 02:00:00+00:00         17.31          8.54000        1.026932   \n",
       "9  2024-12-16 02:00:00+00:00     105146.00      90781.00000        0.158238   \n",
       "\n",
       "   rolling_7d_avg  rolling_30d_avg        volume  average_order  __row_index  \n",
       "0        1.129338         0.752708  5.206880e+07     625.902174            0  \n",
       "1       26.477811        20.614286  1.569272e+08    1008.179565            1  \n",
       "2       16.874615        13.356671  2.370339e+07     538.799173            2  \n",
       "9    99561.781065     96637.266297  2.611187e+09    2823.725555            9  "
      ]
     },
     "execution_count": 90,
     "metadata": {},
     "output_type": "execute_result"
    }
   ],
   "source": [
    "classifier_data"
   ]
  },
  {
   "cell_type": "code",
   "execution_count": 91,
   "metadata": {},
   "outputs": [
    {
     "data": {
      "text/plain": [
       "'2024-12-16 23:00:00'"
      ]
     },
     "execution_count": 91,
     "metadata": {},
     "output_type": "execute_result"
    }
   ],
   "source": [
    "formatted_today_utc"
   ]
  },
  {
   "cell_type": "code",
   "execution_count": 92,
   "metadata": {},
   "outputs": [
    {
     "data": {
      "text/plain": [
       "DatetimeIndex(['2024-12-16 07:00:00', '2024-12-16 22:00:00',\n",
       "                               'NaT', '2024-12-16 23:00:00',\n",
       "               '2024-12-17 00:00:00', '2024-12-17 01:00:00',\n",
       "               '2024-12-17 02:00:00', '2024-12-17 03:00:00',\n",
       "               '2024-12-17 04:00:00'],\n",
       "              dtype='datetime64[ns]', name='hour', freq=None)"
      ]
     },
     "execution_count": 92,
     "metadata": {},
     "output_type": "execute_result"
    }
   ],
   "source": [
    "oralce_copy.index"
   ]
  },
  {
   "cell_type": "code",
   "execution_count": 93,
   "metadata": {},
   "outputs": [
    {
     "data": {
      "text/html": [
       "<div>\n",
       "<style scoped>\n",
       "    .dataframe tbody tr th:only-of-type {\n",
       "        vertical-align: middle;\n",
       "    }\n",
       "\n",
       "    .dataframe tbody tr th {\n",
       "        vertical-align: top;\n",
       "    }\n",
       "\n",
       "    .dataframe thead th {\n",
       "        text-align: right;\n",
       "    }\n",
       "</style>\n",
       "<table border=\"1\" class=\"dataframe\">\n",
       "  <thead>\n",
       "    <tr style=\"text-align: right;\">\n",
       "      <th></th>\n",
       "      <th>hour</th>\n",
       "      <th>WBTC_Price</th>\n",
       "      <th>UNI_Price</th>\n",
       "      <th>LINK_Price</th>\n",
       "      <th>CRV_Price</th>\n",
       "    </tr>\n",
       "  </thead>\n",
       "  <tbody>\n",
       "    <tr>\n",
       "      <th>0</th>\n",
       "      <td>2024-12-16 07:00:00</td>\n",
       "      <td>104384.0</td>\n",
       "      <td>16.70</td>\n",
       "      <td>29.04</td>\n",
       "      <td>1.099</td>\n",
       "    </tr>\n",
       "    <tr>\n",
       "      <th>1</th>\n",
       "      <td>2024-12-16 22:00:00</td>\n",
       "      <td>105760.0</td>\n",
       "      <td>16.60</td>\n",
       "      <td>29.66</td>\n",
       "      <td>1.099</td>\n",
       "    </tr>\n",
       "    <tr>\n",
       "      <th>2</th>\n",
       "      <td>NaT</td>\n",
       "      <td>105641.0</td>\n",
       "      <td>15.99</td>\n",
       "      <td>28.65</td>\n",
       "      <td>1.071</td>\n",
       "    </tr>\n",
       "    <tr>\n",
       "      <th>3</th>\n",
       "      <td>2024-12-16 23:00:00</td>\n",
       "      <td>105775.0</td>\n",
       "      <td>16.55</td>\n",
       "      <td>29.08</td>\n",
       "      <td>1.092</td>\n",
       "    </tr>\n",
       "    <tr>\n",
       "      <th>4</th>\n",
       "      <td>2024-12-17 00:00:00</td>\n",
       "      <td>105602.0</td>\n",
       "      <td>16.45</td>\n",
       "      <td>29.08</td>\n",
       "      <td>1.082</td>\n",
       "    </tr>\n",
       "    <tr>\n",
       "      <th>5</th>\n",
       "      <td>2024-12-17 01:00:00</td>\n",
       "      <td>105600.0</td>\n",
       "      <td>16.29</td>\n",
       "      <td>28.84</td>\n",
       "      <td>1.073</td>\n",
       "    </tr>\n",
       "    <tr>\n",
       "      <th>6</th>\n",
       "      <td>2024-12-17 02:00:00</td>\n",
       "      <td>105641.0</td>\n",
       "      <td>15.99</td>\n",
       "      <td>28.65</td>\n",
       "      <td>1.071</td>\n",
       "    </tr>\n",
       "    <tr>\n",
       "      <th>7</th>\n",
       "      <td>2024-12-17 03:00:00</td>\n",
       "      <td>105641.0</td>\n",
       "      <td>15.99</td>\n",
       "      <td>28.65</td>\n",
       "      <td>1.071</td>\n",
       "    </tr>\n",
       "    <tr>\n",
       "      <th>8</th>\n",
       "      <td>2024-12-17 04:00:00</td>\n",
       "      <td>105641.0</td>\n",
       "      <td>15.99</td>\n",
       "      <td>28.65</td>\n",
       "      <td>1.071</td>\n",
       "    </tr>\n",
       "  </tbody>\n",
       "</table>\n",
       "</div>"
      ],
      "text/plain": [
       "                 hour  WBTC_Price  UNI_Price  LINK_Price  CRV_Price\n",
       "0 2024-12-16 07:00:00    104384.0      16.70       29.04      1.099\n",
       "1 2024-12-16 22:00:00    105760.0      16.60       29.66      1.099\n",
       "2                 NaT    105641.0      15.99       28.65      1.071\n",
       "3 2024-12-16 23:00:00    105775.0      16.55       29.08      1.092\n",
       "4 2024-12-17 00:00:00    105602.0      16.45       29.08      1.082\n",
       "5 2024-12-17 01:00:00    105600.0      16.29       28.84      1.073\n",
       "6 2024-12-17 02:00:00    105641.0      15.99       28.65      1.071\n",
       "7 2024-12-17 03:00:00    105641.0      15.99       28.65      1.071\n",
       "8 2024-12-17 04:00:00    105641.0      15.99       28.65      1.071"
      ]
     },
     "execution_count": 93,
     "metadata": {},
     "output_type": "execute_result"
    }
   ],
   "source": [
    "oracle_prices"
   ]
  },
  {
   "cell_type": "code",
   "execution_count": 94,
   "metadata": {},
   "outputs": [
    {
     "data": {
      "text/html": [
       "<div>\n",
       "<style scoped>\n",
       "    .dataframe tbody tr th:only-of-type {\n",
       "        vertical-align: middle;\n",
       "    }\n",
       "\n",
       "    .dataframe tbody tr th {\n",
       "        vertical-align: top;\n",
       "    }\n",
       "\n",
       "    .dataframe thead th {\n",
       "        text-align: right;\n",
       "    }\n",
       "</style>\n",
       "<table border=\"1\" class=\"dataframe\">\n",
       "  <thead>\n",
       "    <tr style=\"text-align: right;\">\n",
       "      <th></th>\n",
       "      <th>WBTC_Price</th>\n",
       "      <th>UNI_Price</th>\n",
       "      <th>LINK_Price</th>\n",
       "      <th>CRV_Price</th>\n",
       "    </tr>\n",
       "    <tr>\n",
       "      <th>hour</th>\n",
       "      <th></th>\n",
       "      <th></th>\n",
       "      <th></th>\n",
       "      <th></th>\n",
       "    </tr>\n",
       "  </thead>\n",
       "  <tbody>\n",
       "    <tr>\n",
       "      <th>2024-12-16 07:00:00</th>\n",
       "      <td>104384.0</td>\n",
       "      <td>16.70</td>\n",
       "      <td>29.04</td>\n",
       "      <td>1.099</td>\n",
       "    </tr>\n",
       "    <tr>\n",
       "      <th>2024-12-16 22:00:00</th>\n",
       "      <td>105760.0</td>\n",
       "      <td>16.60</td>\n",
       "      <td>29.66</td>\n",
       "      <td>1.099</td>\n",
       "    </tr>\n",
       "    <tr>\n",
       "      <th>NaT</th>\n",
       "      <td>105641.0</td>\n",
       "      <td>15.99</td>\n",
       "      <td>28.65</td>\n",
       "      <td>1.071</td>\n",
       "    </tr>\n",
       "    <tr>\n",
       "      <th>2024-12-16 23:00:00</th>\n",
       "      <td>105775.0</td>\n",
       "      <td>16.55</td>\n",
       "      <td>29.08</td>\n",
       "      <td>1.092</td>\n",
       "    </tr>\n",
       "    <tr>\n",
       "      <th>2024-12-17 00:00:00</th>\n",
       "      <td>105602.0</td>\n",
       "      <td>16.45</td>\n",
       "      <td>29.08</td>\n",
       "      <td>1.082</td>\n",
       "    </tr>\n",
       "    <tr>\n",
       "      <th>2024-12-17 01:00:00</th>\n",
       "      <td>105600.0</td>\n",
       "      <td>16.29</td>\n",
       "      <td>28.84</td>\n",
       "      <td>1.073</td>\n",
       "    </tr>\n",
       "    <tr>\n",
       "      <th>2024-12-17 02:00:00</th>\n",
       "      <td>105641.0</td>\n",
       "      <td>15.99</td>\n",
       "      <td>28.65</td>\n",
       "      <td>1.071</td>\n",
       "    </tr>\n",
       "    <tr>\n",
       "      <th>2024-12-17 03:00:00</th>\n",
       "      <td>105641.0</td>\n",
       "      <td>15.99</td>\n",
       "      <td>28.65</td>\n",
       "      <td>1.071</td>\n",
       "    </tr>\n",
       "    <tr>\n",
       "      <th>2024-12-17 04:00:00</th>\n",
       "      <td>105641.0</td>\n",
       "      <td>15.99</td>\n",
       "      <td>28.65</td>\n",
       "      <td>1.071</td>\n",
       "    </tr>\n",
       "  </tbody>\n",
       "</table>\n",
       "</div>"
      ],
      "text/plain": [
       "                     WBTC_Price  UNI_Price  LINK_Price  CRV_Price\n",
       "hour                                                             \n",
       "2024-12-16 07:00:00    104384.0      16.70       29.04      1.099\n",
       "2024-12-16 22:00:00    105760.0      16.60       29.66      1.099\n",
       "NaT                    105641.0      15.99       28.65      1.071\n",
       "2024-12-16 23:00:00    105775.0      16.55       29.08      1.092\n",
       "2024-12-17 00:00:00    105602.0      16.45       29.08      1.082\n",
       "2024-12-17 01:00:00    105600.0      16.29       28.84      1.073\n",
       "2024-12-17 02:00:00    105641.0      15.99       28.65      1.071\n",
       "2024-12-17 03:00:00    105641.0      15.99       28.65      1.071\n",
       "2024-12-17 04:00:00    105641.0      15.99       28.65      1.071"
      ]
     },
     "execution_count": 94,
     "metadata": {},
     "output_type": "execute_result"
    }
   ],
   "source": [
    "oralce_copy"
   ]
  },
  {
   "cell_type": "code",
   "execution_count": 95,
   "metadata": {},
   "outputs": [
    {
     "data": {
      "text/html": [
       "<div>\n",
       "<style scoped>\n",
       "    .dataframe tbody tr th:only-of-type {\n",
       "        vertical-align: middle;\n",
       "    }\n",
       "\n",
       "    .dataframe tbody tr th {\n",
       "        vertical-align: top;\n",
       "    }\n",
       "\n",
       "    .dataframe thead th {\n",
       "        text-align: right;\n",
       "    }\n",
       "</style>\n",
       "<table border=\"1\" class=\"dataframe\">\n",
       "  <thead>\n",
       "    <tr style=\"text-align: right;\">\n",
       "      <th></th>\n",
       "      <th>CRV comp</th>\n",
       "      <th>LINK comp</th>\n",
       "      <th>UNI comp</th>\n",
       "      <th>WBTC comp</th>\n",
       "    </tr>\n",
       "    <tr>\n",
       "      <th>date</th>\n",
       "      <th></th>\n",
       "      <th></th>\n",
       "      <th></th>\n",
       "      <th></th>\n",
       "    </tr>\n",
       "  </thead>\n",
       "  <tbody>\n",
       "    <tr>\n",
       "      <th>2024-12-16 07:00:00</th>\n",
       "      <td>9.239875e-11</td>\n",
       "      <td>0.940108</td>\n",
       "      <td>0.059892</td>\n",
       "      <td>0.0</td>\n",
       "    </tr>\n",
       "    <tr>\n",
       "      <th>2024-12-16 22:00:00</th>\n",
       "      <td>9.143182e-11</td>\n",
       "      <td>0.941771</td>\n",
       "      <td>0.058229</td>\n",
       "      <td>0.0</td>\n",
       "    </tr>\n",
       "    <tr>\n",
       "      <th>2024-12-16 23:00:00</th>\n",
       "      <td>9.143182e-11</td>\n",
       "      <td>0.941771</td>\n",
       "      <td>0.058229</td>\n",
       "      <td>0.0</td>\n",
       "    </tr>\n",
       "  </tbody>\n",
       "</table>\n",
       "</div>"
      ],
      "text/plain": [
       "                         CRV comp  LINK comp  UNI comp  WBTC comp\n",
       "date                                                             \n",
       "2024-12-16 07:00:00  9.239875e-11   0.940108  0.059892        0.0\n",
       "2024-12-16 22:00:00  9.143182e-11   0.941771  0.058229        0.0\n",
       "2024-12-16 23:00:00  9.143182e-11   0.941771  0.058229        0.0"
      ]
     },
     "execution_count": 95,
     "metadata": {},
     "output_type": "execute_result"
    }
   ],
   "source": [
    "hist_comp"
   ]
  },
  {
   "cell_type": "code",
   "execution_count": null,
   "metadata": {},
   "outputs": [
    {
     "ename": "KeyError",
     "evalue": "\"None of ['hour'] are in the columns\"",
     "output_type": "error",
     "traceback": [
      "\u001b[1;31m---------------------------------------------------------------------------\u001b[0m",
      "\u001b[1;31mKeyError\u001b[0m                                  Traceback (most recent call last)",
      "\u001b[1;32m~\\AppData\\Local\\Temp\\ipykernel_37376\\1987055617.py\u001b[0m in \u001b[0;36m?\u001b[1;34m()\u001b[0m\n\u001b[1;32m----> 1\u001b[1;33m \u001b[0mhist_comp\u001b[0m\u001b[1;33m.\u001b[0m\u001b[0mset_index\u001b[0m\u001b[1;33m(\u001b[0m\u001b[1;34m'hour'\u001b[0m\u001b[1;33m,\u001b[0m\u001b[0minplace\u001b[0m\u001b[1;33m=\u001b[0m\u001b[1;32mTrue\u001b[0m\u001b[1;33m)\u001b[0m\u001b[1;33m\u001b[0m\u001b[1;33m\u001b[0m\u001b[0m\n\u001b[0m\u001b[0;32m      2\u001b[0m \u001b[0mhist_comp\u001b[0m\u001b[1;33m.\u001b[0m\u001b[0mindex\u001b[0m \u001b[1;33m=\u001b[0m \u001b[0mpd\u001b[0m\u001b[1;33m.\u001b[0m\u001b[0mto_datetime\u001b[0m\u001b[1;33m(\u001b[0m\u001b[0mhist_comp\u001b[0m\u001b[1;33m.\u001b[0m\u001b[0mindex\u001b[0m\u001b[1;33m)\u001b[0m\u001b[1;33m\u001b[0m\u001b[1;33m\u001b[0m\u001b[0m\n",
      "\u001b[1;32me:\\Projects\\steth_optimizer\\steth_optimizer\\Lib\\site-packages\\pandas\\core\\frame.py\u001b[0m in \u001b[0;36m?\u001b[1;34m(self, keys, drop, append, inplace, verify_integrity)\u001b[0m\n\u001b[0;32m   6118\u001b[0m                     \u001b[1;32mif\u001b[0m \u001b[1;32mnot\u001b[0m \u001b[0mfound\u001b[0m\u001b[1;33m:\u001b[0m\u001b[1;33m\u001b[0m\u001b[1;33m\u001b[0m\u001b[0m\n\u001b[0;32m   6119\u001b[0m                         \u001b[0mmissing\u001b[0m\u001b[1;33m.\u001b[0m\u001b[0mappend\u001b[0m\u001b[1;33m(\u001b[0m\u001b[0mcol\u001b[0m\u001b[1;33m)\u001b[0m\u001b[1;33m\u001b[0m\u001b[1;33m\u001b[0m\u001b[0m\n\u001b[0;32m   6120\u001b[0m \u001b[1;33m\u001b[0m\u001b[0m\n\u001b[0;32m   6121\u001b[0m         \u001b[1;32mif\u001b[0m \u001b[0mmissing\u001b[0m\u001b[1;33m:\u001b[0m\u001b[1;33m\u001b[0m\u001b[1;33m\u001b[0m\u001b[0m\n\u001b[1;32m-> 6122\u001b[1;33m             \u001b[1;32mraise\u001b[0m \u001b[0mKeyError\u001b[0m\u001b[1;33m(\u001b[0m\u001b[1;34mf\"None of {missing} are in the columns\"\u001b[0m\u001b[1;33m)\u001b[0m\u001b[1;33m\u001b[0m\u001b[1;33m\u001b[0m\u001b[0m\n\u001b[0m\u001b[0;32m   6123\u001b[0m \u001b[1;33m\u001b[0m\u001b[0m\n\u001b[0;32m   6124\u001b[0m         \u001b[1;32mif\u001b[0m \u001b[0minplace\u001b[0m\u001b[1;33m:\u001b[0m\u001b[1;33m\u001b[0m\u001b[1;33m\u001b[0m\u001b[0m\n\u001b[0;32m   6125\u001b[0m             \u001b[0mframe\u001b[0m \u001b[1;33m=\u001b[0m \u001b[0mself\u001b[0m\u001b[1;33m\u001b[0m\u001b[1;33m\u001b[0m\u001b[0m\n",
      "\u001b[1;31mKeyError\u001b[0m: \"None of ['hour'] are in the columns\""
     ]
    }
   ],
   "source": [
    "# hist_comp.set_index('hour',inplace=True)\n",
    "# hist_comp.index = pd.to_datetime(hist_comp.index)"
   ]
  },
  {
   "cell_type": "code",
   "execution_count": 94,
   "metadata": {},
   "outputs": [],
   "source": [
    "# hist_comp.index = pd.to_datetime(hist_comp.index)"
   ]
  },
  {
   "cell_type": "code",
   "execution_count": 95,
   "metadata": {},
   "outputs": [
    {
     "data": {
      "text/html": [
       "<div>\n",
       "<style scoped>\n",
       "    .dataframe tbody tr th:only-of-type {\n",
       "        vertical-align: middle;\n",
       "    }\n",
       "\n",
       "    .dataframe tbody tr th {\n",
       "        vertical-align: top;\n",
       "    }\n",
       "\n",
       "    .dataframe thead th {\n",
       "        text-align: right;\n",
       "    }\n",
       "</style>\n",
       "<table border=\"1\" class=\"dataframe\">\n",
       "  <thead>\n",
       "    <tr style=\"text-align: right;\">\n",
       "      <th></th>\n",
       "      <th>CRV comp</th>\n",
       "      <th>LINK comp</th>\n",
       "      <th>UNI comp</th>\n",
       "      <th>WBTC comp</th>\n",
       "    </tr>\n",
       "    <tr>\n",
       "      <th>hour</th>\n",
       "      <th></th>\n",
       "      <th></th>\n",
       "      <th></th>\n",
       "      <th></th>\n",
       "    </tr>\n",
       "  </thead>\n",
       "  <tbody>\n",
       "    <tr>\n",
       "      <th>2024-12-16 07:00:00</th>\n",
       "      <td>9.239875e-11</td>\n",
       "      <td>0.940108</td>\n",
       "      <td>0.059892</td>\n",
       "      <td>0.0</td>\n",
       "    </tr>\n",
       "    <tr>\n",
       "      <th>2024-12-16 22:00:00</th>\n",
       "      <td>9.143182e-11</td>\n",
       "      <td>0.941771</td>\n",
       "      <td>0.058229</td>\n",
       "      <td>0.0</td>\n",
       "    </tr>\n",
       "    <tr>\n",
       "      <th>2024-12-16 23:00:00</th>\n",
       "      <td>9.143182e-11</td>\n",
       "      <td>0.941771</td>\n",
       "      <td>0.058229</td>\n",
       "      <td>0.0</td>\n",
       "    </tr>\n",
       "    <tr>\n",
       "      <th>2024-12-17 00:00:00</th>\n",
       "      <td>9.143182e-11</td>\n",
       "      <td>0.941771</td>\n",
       "      <td>0.058229</td>\n",
       "      <td>0.0</td>\n",
       "    </tr>\n",
       "    <tr>\n",
       "      <th>2024-12-17 01:00:00</th>\n",
       "      <td>9.143182e-11</td>\n",
       "      <td>0.941771</td>\n",
       "      <td>0.058229</td>\n",
       "      <td>0.0</td>\n",
       "    </tr>\n",
       "    <tr>\n",
       "      <th>2024-12-17 02:00:00</th>\n",
       "      <td>9.143182e-11</td>\n",
       "      <td>0.941771</td>\n",
       "      <td>0.058229</td>\n",
       "      <td>0.0</td>\n",
       "    </tr>\n",
       "    <tr>\n",
       "      <th>2024-12-17 03:00:00</th>\n",
       "      <td>9.143182e-11</td>\n",
       "      <td>0.941771</td>\n",
       "      <td>0.058229</td>\n",
       "      <td>0.0</td>\n",
       "    </tr>\n",
       "  </tbody>\n",
       "</table>\n",
       "</div>"
      ],
      "text/plain": [
       "                         CRV comp  LINK comp  UNI comp  WBTC comp\n",
       "hour                                                             \n",
       "2024-12-16 07:00:00  9.239875e-11   0.940108  0.059892        0.0\n",
       "2024-12-16 22:00:00  9.143182e-11   0.941771  0.058229        0.0\n",
       "2024-12-16 23:00:00  9.143182e-11   0.941771  0.058229        0.0\n",
       "2024-12-17 00:00:00  9.143182e-11   0.941771  0.058229        0.0\n",
       "2024-12-17 01:00:00  9.143182e-11   0.941771  0.058229        0.0\n",
       "2024-12-17 02:00:00  9.143182e-11   0.941771  0.058229        0.0\n",
       "2024-12-17 03:00:00  9.143182e-11   0.941771  0.058229        0.0"
      ]
     },
     "execution_count": 95,
     "metadata": {},
     "output_type": "execute_result"
    }
   ],
   "source": [
    "hist_comp"
   ]
  },
  {
   "cell_type": "code",
   "execution_count": 96,
   "metadata": {},
   "outputs": [
    {
     "data": {
      "text/html": [
       "<div>\n",
       "<style scoped>\n",
       "    .dataframe tbody tr th:only-of-type {\n",
       "        vertical-align: middle;\n",
       "    }\n",
       "\n",
       "    .dataframe tbody tr th {\n",
       "        vertical-align: top;\n",
       "    }\n",
       "\n",
       "    .dataframe thead th {\n",
       "        text-align: right;\n",
       "    }\n",
       "</style>\n",
       "<table border=\"1\" class=\"dataframe\">\n",
       "  <thead>\n",
       "    <tr style=\"text-align: right;\">\n",
       "      <th></th>\n",
       "      <th>WBTC_Price</th>\n",
       "      <th>UNI_Price</th>\n",
       "      <th>LINK_Price</th>\n",
       "      <th>CRV_Price</th>\n",
       "    </tr>\n",
       "    <tr>\n",
       "      <th>hour</th>\n",
       "      <th></th>\n",
       "      <th></th>\n",
       "      <th></th>\n",
       "      <th></th>\n",
       "    </tr>\n",
       "  </thead>\n",
       "  <tbody>\n",
       "    <tr>\n",
       "      <th>2024-12-16 07:00:00</th>\n",
       "      <td>104384.0</td>\n",
       "      <td>16.70</td>\n",
       "      <td>29.04</td>\n",
       "      <td>1.099</td>\n",
       "    </tr>\n",
       "    <tr>\n",
       "      <th>2024-12-16 22:00:00</th>\n",
       "      <td>105760.0</td>\n",
       "      <td>16.60</td>\n",
       "      <td>29.66</td>\n",
       "      <td>1.099</td>\n",
       "    </tr>\n",
       "    <tr>\n",
       "      <th>2024-12-16 23:00:00</th>\n",
       "      <td>105775.0</td>\n",
       "      <td>16.55</td>\n",
       "      <td>29.08</td>\n",
       "      <td>1.092</td>\n",
       "    </tr>\n",
       "    <tr>\n",
       "      <th>2024-12-17 00:00:00</th>\n",
       "      <td>105602.0</td>\n",
       "      <td>16.45</td>\n",
       "      <td>29.08</td>\n",
       "      <td>1.082</td>\n",
       "    </tr>\n",
       "    <tr>\n",
       "      <th>2024-12-17 01:00:00</th>\n",
       "      <td>105600.0</td>\n",
       "      <td>16.29</td>\n",
       "      <td>28.84</td>\n",
       "      <td>1.073</td>\n",
       "    </tr>\n",
       "    <tr>\n",
       "      <th>2024-12-17 02:00:00</th>\n",
       "      <td>105641.0</td>\n",
       "      <td>15.99</td>\n",
       "      <td>28.65</td>\n",
       "      <td>1.071</td>\n",
       "    </tr>\n",
       "  </tbody>\n",
       "</table>\n",
       "</div>"
      ],
      "text/plain": [
       "                     WBTC_Price  UNI_Price  LINK_Price  CRV_Price\n",
       "hour                                                             \n",
       "2024-12-16 07:00:00    104384.0      16.70       29.04      1.099\n",
       "2024-12-16 22:00:00    105760.0      16.60       29.66      1.099\n",
       "2024-12-16 23:00:00    105775.0      16.55       29.08      1.092\n",
       "2024-12-17 00:00:00    105602.0      16.45       29.08      1.082\n",
       "2024-12-17 01:00:00    105600.0      16.29       28.84      1.073\n",
       "2024-12-17 02:00:00    105641.0      15.99       28.65      1.071"
      ]
     },
     "execution_count": 96,
     "metadata": {},
     "output_type": "execute_result"
    }
   ],
   "source": [
    "oralce_copy"
   ]
  },
  {
   "cell_type": "code",
   "execution_count": null,
   "metadata": {},
   "outputs": [
    {
     "name": "stdout",
     "output_type": "stream",
     "text": [
      "prices before sim:                      WBTC_Price  UNI_Price  LINK_Price  CRV_Price\n",
      "hour                                                             \n",
      "2024-12-16 07:00:00    104384.0      16.70       29.04      1.099\n",
      "2024-12-16 22:00:00    105760.0      16.60       29.66      1.099\n",
      "2024-12-16 23:00:00    105775.0      16.55       29.08      1.092\n",
      "2024-12-17 00:00:00    105602.0      16.45       29.08      1.082\n",
      "2024-12-17 01:00:00    105600.0      16.29       28.84      1.073\n",
      "2024-12-17 02:00:00    105641.0      15.99       28.65      1.071\n",
      "seed: 20\n",
      "\n",
      "--- Step 0 ---\n",
      "Action after clipping: [0.         0.06277151 1.         0.        ]\n",
      "Current prices: [1.04384e+05 1.67000e+01 2.90400e+01 1.09900e+00]\n",
      "Portfolio:                          CRV comp  LINK comp  UNI comp  WBTC comp\n",
      "hour                                                             \n",
      "2024-12-16 07:00:00  9.239875e-11   0.940108  0.059892        0.0\n",
      "2024-12-16 22:00:00  9.143182e-11   0.941771  0.058229        0.0\n",
      "2024-12-16 23:00:00  9.143182e-11   0.941771  0.058229        0.0\n",
      "2024-12-17 00:00:00  9.143182e-11   0.941771  0.058229        0.0\n",
      "2024-12-17 01:00:00  9.143182e-11   0.941771  0.058229        0.0\n",
      "2024-12-17 02:00:00  9.143182e-11   0.941771  0.058229        0.0\n",
      "2024-12-17 03:00:00  9.143182e-11   0.941771  0.058229        0.0\n",
      "tokens_price:['WBTC', 'UNI', 'LINK', 'CRV']\n",
      "tokens_comp:['CRV', 'LINK', 'UNI', 'WBTC']\n",
      "common_tokens: {'WBTC', 'CRV', 'UNI', 'LINK'}\n",
      "comp_columns: ['WBTC comp', 'CRV comp', 'UNI comp', 'LINK comp']\n",
      "common_index: DatetimeIndex(['2024-12-16 07:00:00'], dtype='datetime64[ns]', name='hour', freq=None)\n",
      "compositions:                      WBTC comp      CRV comp  UNI comp  LINK comp\n",
      "hour                                                             \n",
      "2024-12-16 07:00:00        0.0  9.239875e-11  0.059892   0.940108\n",
      "returns:                     WBTC_Price  CRV_Price  UNI_Price  LINK_Price\n",
      "hour                                                             \n",
      "2024-12-16 07:00:00         0.0        0.0        0.0         0.0\n",
      "compositions:                      WBTC comp      CRV comp  UNI comp  LINK comp\n",
      "hour                                                             \n",
      "2024-12-16 07:00:00        0.0  9.239875e-11  0.059892   0.940108\n",
      "returns:                     WBTC_Price  CRV_Price  UNI_Price  LINK_Price\n",
      "hour                                                             \n",
      "2024-12-16 07:00:00         0.0        0.0        0.0         0.0\n",
      "portfolio_return: hour\n",
      "2024-12-16 07:00:00    0.0\n",
      "Name: Portfolio_Return, dtype: float64\n",
      "Rebalancing portfolio...\n",
      "Action percentages: [0.         0.05906397 0.94093597 0.        ]\n",
      "self.target_return: 0.044199999999999996\n",
      "data_at_mvo:(                     WBTC_Price  UNI_Price  LINK_Price  CRV_Price\n",
      "hour                                                             \n",
      "2024-12-16 07:00:00    104384.0       16.7       29.04      1.099,                          CRV comp  LINK comp  UNI comp  WBTC comp\n",
      "hour                                                             \n",
      "2024-12-16 07:00:00  9.239875e-11   0.940108  0.059892        0.0\n",
      "2024-12-16 22:00:00  9.143182e-11   0.941771  0.058229        0.0\n",
      "2024-12-16 23:00:00  9.143182e-11   0.941771  0.058229        0.0\n",
      "2024-12-17 00:00:00  9.143182e-11   0.941771  0.058229        0.0\n",
      "2024-12-17 01:00:00  9.143182e-11   0.941771  0.058229        0.0\n",
      "2024-12-17 02:00:00  9.143182e-11   0.941771  0.058229        0.0\n",
      "2024-12-17 03:00:00  9.143182e-11   0.941771  0.058229        0.0, 0.044199999999999996)\n",
      "Converted hourly risk-free rate: 4.93734574957827e-06\n",
      "data at mvo:\n",
      "                     WBTC_Price  UNI_Price  LINK_Price  CRV_Price\n",
      "hour                                                             \n",
      "2024-12-16 07:00:00    104384.0       16.7       29.04      1.099\n",
      "portfolio:                          CRV comp  LINK comp  UNI comp  WBTC comp\n",
      "hour                                                             \n",
      "2024-12-16 07:00:00  9.239875e-11   0.940108  0.059892        0.0\n",
      "2024-12-16 22:00:00  9.143182e-11   0.941771  0.058229        0.0\n",
      "2024-12-16 23:00:00  9.143182e-11   0.941771  0.058229        0.0\n",
      "2024-12-17 00:00:00  9.143182e-11   0.941771  0.058229        0.0\n",
      "2024-12-17 01:00:00  9.143182e-11   0.941771  0.058229        0.0\n",
      "2024-12-17 02:00:00  9.143182e-11   0.941771  0.058229        0.0\n",
      "2024-12-17 03:00:00  9.143182e-11   0.941771  0.058229        0.0\n",
      "risk_free_rate (annual): 0.044199999999999996\n",
      "tokens_price:['WBTC', 'UNI', 'LINK', 'CRV']\n",
      "tokens_comp:['CRV', 'LINK', 'UNI', 'WBTC']\n",
      "common_tokens: {'WBTC', 'CRV', 'UNI', 'LINK'}\n",
      "comp_columns: ['WBTC comp', 'CRV comp', 'UNI comp', 'LINK comp']\n",
      "common_index: DatetimeIndex(['2024-12-16 07:00:00'], dtype='datetime64[ns]', name='hour', freq=None)\n",
      "compositions:                      WBTC comp      CRV comp  UNI comp  LINK comp\n",
      "hour                                                             \n",
      "2024-12-16 07:00:00        0.0  9.239875e-11  0.059892   0.940108\n",
      "returns:                     WBTC_Price  CRV_Price  UNI_Price  LINK_Price\n",
      "hour                                                             \n",
      "2024-12-16 07:00:00         0.0        0.0        0.0         0.0\n",
      "compositions:                      WBTC comp      CRV comp  UNI comp  LINK comp\n",
      "hour                                                             \n",
      "2024-12-16 07:00:00        0.0  9.239875e-11  0.059892   0.940108\n",
      "returns:                     WBTC_Price  CRV_Price  UNI_Price  LINK_Price\n",
      "hour                                                             \n",
      "2024-12-16 07:00:00         0.0        0.0        0.0         0.0\n",
      "`gtol` termination condition is satisfied.\n",
      "Number of iterations: 18, function evaluations: 50, CG iterations: 15, optimality: 7.59e-09, constraint violation: 0.00e+00, execution time: 0.031 s.\n",
      "portfolio:                          CRV comp  LINK comp  UNI comp  WBTC comp\n",
      "hour                                                             \n",
      "2024-12-16 07:00:00  9.239875e-11   0.940108  0.059892        0.0\n",
      "2024-12-16 22:00:00  9.143182e-11   0.941771  0.058229        0.0\n",
      "2024-12-16 23:00:00  9.143182e-11   0.941771  0.058229        0.0\n",
      "2024-12-17 00:00:00  9.143182e-11   0.941771  0.058229        0.0\n",
      "2024-12-17 01:00:00  9.143182e-11   0.941771  0.058229        0.0\n",
      "2024-12-17 02:00:00  9.143182e-11   0.941771  0.058229        0.0\n",
      "2024-12-17 03:00:00  9.143182e-11   0.941771  0.058229        0.0, optimized_portfolio: [0.24012941 0.2798313  0.24028672 0.24012941], sortino_ratio: -91.59991798209839\n",
      "self.portfolio.iloc[-1]: CRV comp     9.143182e-11\n",
      "LINK comp    9.417713e-01\n",
      "UNI comp     5.822869e-02\n",
      "WBTC comp    0.000000e+00\n",
      "Name: 2024-12-17 03:00:00, dtype: float64\n",
      "Reward: hour\n",
      "2024-12-16 07:00:00   -0.0\n",
      "Name: Portfolio_Return, dtype: float64\n",
      "Action: [0.         0.06277151 1.         0.        ]\n",
      "Step: 1\n",
      "State: [1.0576e+05 1.6600e+01 2.9660e+01 1.0990e+00]\n",
      "Action: [0.         0.06277151 1.         0.        ]\n",
      "Reward: hour\n",
      "2024-12-16 07:00:00   -0.0\n",
      "Name: Portfolio_Return, dtype: float64\n",
      "Done: False\n",
      "Info: {}\n",
      "\n",
      "--- Step 1 ---\n",
      "Action after clipping: [0. 0. 0. 0.]\n",
      "Current prices: [1.0576e+05 1.6600e+01 2.9660e+01 1.0990e+00]\n",
      "Portfolio:                          CRV comp  LINK comp  UNI comp  WBTC comp\n",
      "hour                                                             \n",
      "2024-12-16 07:00:00  9.239875e-11   0.940108  0.059892        0.0\n",
      "2024-12-16 22:00:00  9.143182e-11   0.941771  0.058229        0.0\n",
      "2024-12-16 23:00:00  9.143182e-11   0.941771  0.058229        0.0\n",
      "2024-12-17 00:00:00  9.143182e-11   0.941771  0.058229        0.0\n",
      "2024-12-17 01:00:00  9.143182e-11   0.941771  0.058229        0.0\n",
      "2024-12-17 02:00:00  9.143182e-11   0.941771  0.058229        0.0\n",
      "2024-12-17 03:00:00  9.143182e-11   0.941771  0.058229        0.0\n",
      "tokens_price:['WBTC', 'UNI', 'LINK', 'CRV']\n",
      "tokens_comp:['CRV', 'LINK', 'UNI', 'WBTC']\n",
      "common_tokens: {'WBTC', 'CRV', 'UNI', 'LINK'}\n",
      "comp_columns: ['WBTC comp', 'CRV comp', 'UNI comp', 'LINK comp']\n",
      "common_index: DatetimeIndex(['2024-12-16 07:00:00', '2024-12-16 22:00:00'], dtype='datetime64[ns]', name='hour', freq=None)\n",
      "compositions:                      WBTC comp      CRV comp  UNI comp  LINK comp\n",
      "hour                                                             \n",
      "2024-12-16 07:00:00        0.0  9.239875e-11  0.059892   0.940108\n",
      "2024-12-16 22:00:00        0.0  9.143182e-11  0.058229   0.941771\n",
      "returns:                     WBTC_Price  CRV_Price  UNI_Price  LINK_Price\n",
      "hour                                                             \n",
      "2024-12-16 07:00:00    0.000000        0.0   0.000000    0.000000\n",
      "2024-12-16 22:00:00    0.013096        0.0  -0.006006    0.021125\n",
      "compositions:                      WBTC comp      CRV comp  UNI comp  LINK comp\n",
      "hour                                                             \n",
      "2024-12-16 07:00:00        0.0  9.239875e-11  0.059892   0.940108\n",
      "2024-12-16 22:00:00        0.0  9.143182e-11  0.058229   0.941771\n",
      "returns:                     WBTC_Price  CRV_Price  UNI_Price  LINK_Price\n",
      "hour                                                             \n",
      "2024-12-16 07:00:00    0.000000        0.0   0.000000    0.000000\n",
      "2024-12-16 22:00:00    0.013096        0.0  -0.006006    0.021125\n",
      "portfolio_return: hour\n",
      "2024-12-16 07:00:00    0.000000\n",
      "2024-12-16 22:00:00    0.019545\n",
      "Name: Portfolio_Return, dtype: float64\n",
      "self.target_return: 0.044199999999999996\n",
      "data_at_mvo:(                     WBTC_Price  UNI_Price  LINK_Price  CRV_Price\n",
      "hour                                                             \n",
      "2024-12-16 07:00:00    104384.0       16.7       29.04      1.099\n",
      "2024-12-16 22:00:00    105760.0       16.6       29.66      1.099,                          CRV comp  LINK comp  UNI comp  WBTC comp\n",
      "hour                                                             \n",
      "2024-12-16 07:00:00  9.239875e-11   0.940108  0.059892        0.0\n",
      "2024-12-16 22:00:00  9.143182e-11   0.941771  0.058229        0.0\n",
      "2024-12-16 23:00:00  9.143182e-11   0.941771  0.058229        0.0\n",
      "2024-12-17 00:00:00  9.143182e-11   0.941771  0.058229        0.0\n",
      "2024-12-17 01:00:00  9.143182e-11   0.941771  0.058229        0.0\n",
      "2024-12-17 02:00:00  9.143182e-11   0.941771  0.058229        0.0\n",
      "2024-12-17 03:00:00  9.143182e-11   0.941771  0.058229        0.0, 0.044199999999999996)\n",
      "Converted hourly risk-free rate: 4.93734574957827e-06\n",
      "data at mvo:\n",
      "                     WBTC_Price  UNI_Price  LINK_Price  CRV_Price\n",
      "hour                                                             \n",
      "2024-12-16 07:00:00    104384.0       16.7       29.04      1.099\n",
      "2024-12-16 22:00:00    105760.0       16.6       29.66      1.099\n",
      "portfolio:                          CRV comp  LINK comp  UNI comp  WBTC comp\n",
      "hour                                                             \n",
      "2024-12-16 07:00:00  9.239875e-11   0.940108  0.059892        0.0\n",
      "2024-12-16 22:00:00  9.143182e-11   0.941771  0.058229        0.0\n",
      "2024-12-16 23:00:00  9.143182e-11   0.941771  0.058229        0.0\n",
      "2024-12-17 00:00:00  9.143182e-11   0.941771  0.058229        0.0\n",
      "2024-12-17 01:00:00  9.143182e-11   0.941771  0.058229        0.0\n",
      "2024-12-17 02:00:00  9.143182e-11   0.941771  0.058229        0.0\n",
      "2024-12-17 03:00:00  9.143182e-11   0.941771  0.058229        0.0\n",
      "risk_free_rate (annual): 0.044199999999999996\n",
      "tokens_price:['WBTC', 'UNI', 'LINK', 'CRV']\n",
      "tokens_comp:['CRV', 'LINK', 'UNI', 'WBTC']\n",
      "common_tokens: {'WBTC', 'CRV', 'UNI', 'LINK'}\n",
      "comp_columns: ['WBTC comp', 'CRV comp', 'UNI comp', 'LINK comp']\n",
      "common_index: DatetimeIndex(['2024-12-16 07:00:00', '2024-12-16 22:00:00'], dtype='datetime64[ns]', name='hour', freq=None)\n",
      "compositions:                      WBTC comp      CRV comp  UNI comp  LINK comp\n",
      "hour                                                             \n",
      "2024-12-16 07:00:00        0.0  9.239875e-11  0.059892   0.940108\n",
      "2024-12-16 22:00:00        0.0  9.143182e-11  0.058229   0.941771\n",
      "returns:                     WBTC_Price  CRV_Price  UNI_Price  LINK_Price\n",
      "hour                                                             \n",
      "2024-12-16 07:00:00    0.000000        0.0   0.000000    0.000000\n",
      "2024-12-16 22:00:00    0.013096        0.0  -0.006006    0.021125\n",
      "compositions:                      WBTC comp      CRV comp  UNI comp  LINK comp\n",
      "hour                                                             \n",
      "2024-12-16 07:00:00        0.0  9.239875e-11  0.059892   0.940108\n",
      "2024-12-16 22:00:00        0.0  9.143182e-11  0.058229   0.941771\n",
      "returns:                     WBTC_Price  CRV_Price  UNI_Price  LINK_Price\n",
      "hour                                                             \n",
      "2024-12-16 07:00:00    0.000000        0.0   0.000000    0.000000\n",
      "2024-12-16 22:00:00    0.013096        0.0  -0.006006    0.021125\n",
      "`gtol` termination condition is satisfied.\n",
      "Number of iterations: 22, function evaluations: 85, CG iterations: 28, optimality: 2.35e-09, constraint violation: 0.00e+00, execution time: 0.043 s.\n",
      "portfolio:                          CRV comp  LINK comp  UNI comp  WBTC comp\n",
      "hour                                                             \n",
      "2024-12-16 07:00:00  9.239875e-11   0.940108  0.059892        0.0\n",
      "2024-12-16 22:00:00  9.143182e-11   0.941771  0.058229        0.0\n",
      "2024-12-16 23:00:00  9.143182e-11   0.941771  0.058229        0.0\n",
      "2024-12-17 00:00:00  9.143182e-11   0.941771  0.058229        0.0\n",
      "2024-12-17 01:00:00  9.143182e-11   0.941771  0.058229        0.0\n",
      "2024-12-17 02:00:00  9.143182e-11   0.941771  0.058229        0.0\n",
      "2024-12-17 03:00:00  9.143182e-11   0.941771  0.058229        0.0, optimized_portfolio: [5.52329563e-06 9.99992304e-01 7.17336741e-06 5.69225077e-03], sortino_ratio: 1.9400710164271404e+40\n",
      "self.portfolio.iloc[-1]: CRV comp     9.143182e-11\n",
      "LINK comp    9.417713e-01\n",
      "UNI comp     5.822869e-02\n",
      "WBTC comp    0.000000e+00\n",
      "Name: 2024-12-17 03:00:00, dtype: float64\n",
      "Reward: hour\n",
      "2024-12-16 07:00:00    0.000000e+00\n",
      "2024-12-16 22:00:00    3.791934e+38\n",
      "Name: Portfolio_Return, dtype: float64\n",
      "Action: [0. 0. 0. 0.]\n",
      "Step: 2\n",
      "State: [1.05775e+05 1.65500e+01 2.90800e+01 1.09200e+00]\n",
      "Action: [0. 0. 0. 0.]\n",
      "Reward: hour\n",
      "2024-12-16 07:00:00    0.000000e+00\n",
      "2024-12-16 22:00:00    3.791934e+38\n",
      "Name: Portfolio_Return, dtype: float64\n",
      "Done: False\n",
      "Info: {}\n",
      "\n",
      "--- Step 2 ---\n",
      "Action after clipping: [0.         0.01125013 0.         0.        ]\n",
      "Current prices: [1.05775e+05 1.65500e+01 2.90800e+01 1.09200e+00]\n",
      "Portfolio:                          CRV comp  LINK comp  UNI comp  WBTC comp\n",
      "hour                                                             \n",
      "2024-12-16 07:00:00  9.239875e-11   0.940108  0.059892        0.0\n",
      "2024-12-16 22:00:00  9.143182e-11   0.941771  0.058229        0.0\n",
      "2024-12-16 23:00:00  9.143182e-11   0.941771  0.058229        0.0\n",
      "2024-12-17 00:00:00  9.143182e-11   0.941771  0.058229        0.0\n",
      "2024-12-17 01:00:00  9.143182e-11   0.941771  0.058229        0.0\n",
      "2024-12-17 02:00:00  9.143182e-11   0.941771  0.058229        0.0\n",
      "2024-12-17 03:00:00  9.143182e-11   0.941771  0.058229        0.0\n",
      "tokens_price:['WBTC', 'UNI', 'LINK', 'CRV']\n",
      "tokens_comp:['CRV', 'LINK', 'UNI', 'WBTC']\n",
      "common_tokens: {'WBTC', 'CRV', 'UNI', 'LINK'}\n",
      "comp_columns: ['WBTC comp', 'CRV comp', 'UNI comp', 'LINK comp']\n",
      "common_index: DatetimeIndex(['2024-12-16 07:00:00', '2024-12-16 22:00:00',\n",
      "               '2024-12-16 23:00:00'],\n",
      "              dtype='datetime64[ns]', name='hour', freq=None)\n",
      "compositions:                      WBTC comp      CRV comp  UNI comp  LINK comp\n",
      "hour                                                             \n",
      "2024-12-16 07:00:00        0.0  9.239875e-11  0.059892   0.940108\n",
      "2024-12-16 22:00:00        0.0  9.143182e-11  0.058229   0.941771\n",
      "2024-12-16 23:00:00        0.0  9.143182e-11  0.058229   0.941771\n",
      "returns:                     WBTC_Price  CRV_Price  UNI_Price  LINK_Price\n",
      "hour                                                             \n",
      "2024-12-16 07:00:00    0.000000    0.00000   0.000000    0.000000\n",
      "2024-12-16 22:00:00    0.013096    0.00000  -0.006006    0.021125\n",
      "2024-12-16 23:00:00    0.000142   -0.00639  -0.003017   -0.019749\n",
      "compositions:                      WBTC comp      CRV comp  UNI comp  LINK comp\n",
      "hour                                                             \n",
      "2024-12-16 07:00:00        0.0  9.239875e-11  0.059892   0.940108\n",
      "2024-12-16 22:00:00        0.0  9.143182e-11  0.058229   0.941771\n",
      "2024-12-16 23:00:00        0.0  9.143182e-11  0.058229   0.941771\n",
      "returns:                     WBTC_Price  CRV_Price  UNI_Price  LINK_Price\n",
      "hour                                                             \n",
      "2024-12-16 07:00:00    0.000000    0.00000   0.000000    0.000000\n",
      "2024-12-16 22:00:00    0.013096    0.00000  -0.006006    0.021125\n",
      "2024-12-16 23:00:00    0.000142   -0.00639  -0.003017   -0.019749\n",
      "portfolio_return: hour\n",
      "2024-12-16 07:00:00    0.000000\n",
      "2024-12-16 22:00:00    0.019545\n",
      "2024-12-16 23:00:00   -0.018774\n",
      "Name: Portfolio_Return, dtype: float64\n",
      "self.target_return: 0.044199999999999996\n",
      "data_at_mvo:(                     WBTC_Price  UNI_Price  LINK_Price  CRV_Price\n",
      "hour                                                             \n",
      "2024-12-16 07:00:00    104384.0      16.70       29.04      1.099\n",
      "2024-12-16 22:00:00    105760.0      16.60       29.66      1.099\n",
      "2024-12-16 23:00:00    105775.0      16.55       29.08      1.092,                          CRV comp  LINK comp  UNI comp  WBTC comp\n",
      "hour                                                             \n",
      "2024-12-16 07:00:00  9.239875e-11   0.940108  0.059892        0.0\n",
      "2024-12-16 22:00:00  9.143182e-11   0.941771  0.058229        0.0\n",
      "2024-12-16 23:00:00  9.143182e-11   0.941771  0.058229        0.0\n",
      "2024-12-17 00:00:00  9.143182e-11   0.941771  0.058229        0.0\n",
      "2024-12-17 01:00:00  9.143182e-11   0.941771  0.058229        0.0\n",
      "2024-12-17 02:00:00  9.143182e-11   0.941771  0.058229        0.0\n",
      "2024-12-17 03:00:00  9.143182e-11   0.941771  0.058229        0.0, 0.044199999999999996)\n",
      "Converted hourly risk-free rate: 4.93734574957827e-06\n",
      "data at mvo:\n",
      "                     WBTC_Price  UNI_Price  LINK_Price  CRV_Price\n",
      "hour                                                             \n",
      "2024-12-16 07:00:00    104384.0      16.70       29.04      1.099\n",
      "2024-12-16 22:00:00    105760.0      16.60       29.66      1.099\n",
      "2024-12-16 23:00:00    105775.0      16.55       29.08      1.092\n",
      "portfolio:                          CRV comp  LINK comp  UNI comp  WBTC comp\n",
      "hour                                                             \n",
      "2024-12-16 07:00:00  9.239875e-11   0.940108  0.059892        0.0\n",
      "2024-12-16 22:00:00  9.143182e-11   0.941771  0.058229        0.0\n",
      "2024-12-16 23:00:00  9.143182e-11   0.941771  0.058229        0.0\n",
      "2024-12-17 00:00:00  9.143182e-11   0.941771  0.058229        0.0\n",
      "2024-12-17 01:00:00  9.143182e-11   0.941771  0.058229        0.0\n",
      "2024-12-17 02:00:00  9.143182e-11   0.941771  0.058229        0.0\n",
      "2024-12-17 03:00:00  9.143182e-11   0.941771  0.058229        0.0\n",
      "risk_free_rate (annual): 0.044199999999999996\n"
     ]
    },
    {
     "name": "stderr",
     "output_type": "stream",
     "text": [
      "e:\\Projects\\steth_optimizer\\steth_optimizer\\Lib\\site-packages\\scipy\\optimize\\_differentiable_functions.py:231: UserWarning:\n",
      "\n",
      "delta_grad == 0.0. Check if the approximated function is linear. If the function is linear better results can be obtained by defining the Hessian as zero instead of using quasi-Newton approximations.\n",
      "\n",
      "e:\\Projects\\portfolio_optimizers\\dao_advisor_project\\models\\testnet_model.py:439: FutureWarning:\n",
      "\n",
      "Series.__getitem__ treating keys as positions is deprecated. In a future version, integer keys will always be treated as labels (consistent with DataFrame behavior). To access a value by position, use `ser.iloc[pos]`\n",
      "\n",
      "e:\\Projects\\portfolio_optimizers\\dao_advisor_project\\models\\testnet_model.py:439: FutureWarning:\n",
      "\n",
      "Series.__getitem__ treating keys as positions is deprecated. In a future version, integer keys will always be treated as labels (consistent with DataFrame behavior). To access a value by position, use `ser.iloc[pos]`\n",
      "\n",
      "e:\\Projects\\portfolio_optimizers\\dao_advisor_project\\models\\testnet_model.py:439: FutureWarning:\n",
      "\n",
      "Series.__getitem__ treating keys as positions is deprecated. In a future version, integer keys will always be treated as labels (consistent with DataFrame behavior). To access a value by position, use `ser.iloc[pos]`\n",
      "\n"
     ]
    },
    {
     "name": "stdout",
     "output_type": "stream",
     "text": [
      "tokens_price:['WBTC', 'UNI', 'LINK', 'CRV']\n",
      "tokens_comp:['CRV', 'LINK', 'UNI', 'WBTC']\n",
      "common_tokens: {'WBTC', 'CRV', 'UNI', 'LINK'}\n",
      "comp_columns: ['WBTC comp', 'CRV comp', 'UNI comp', 'LINK comp']\n",
      "common_index: DatetimeIndex(['2024-12-16 07:00:00', '2024-12-16 22:00:00',\n",
      "               '2024-12-16 23:00:00'],\n",
      "              dtype='datetime64[ns]', name='hour', freq=None)\n",
      "compositions:                      WBTC comp      CRV comp  UNI comp  LINK comp\n",
      "hour                                                             \n",
      "2024-12-16 07:00:00        0.0  9.239875e-11  0.059892   0.940108\n",
      "2024-12-16 22:00:00        0.0  9.143182e-11  0.058229   0.941771\n",
      "2024-12-16 23:00:00        0.0  9.143182e-11  0.058229   0.941771\n",
      "returns:                     WBTC_Price  CRV_Price  UNI_Price  LINK_Price\n",
      "hour                                                             \n",
      "2024-12-16 07:00:00    0.000000    0.00000   0.000000    0.000000\n",
      "2024-12-16 22:00:00    0.013096    0.00000  -0.006006    0.021125\n",
      "2024-12-16 23:00:00    0.000142   -0.00639  -0.003017   -0.019749\n",
      "compositions:                      WBTC comp      CRV comp  UNI comp  LINK comp\n",
      "hour                                                             \n",
      "2024-12-16 07:00:00        0.0  9.239875e-11  0.059892   0.940108\n",
      "2024-12-16 22:00:00        0.0  9.143182e-11  0.058229   0.941771\n",
      "2024-12-16 23:00:00        0.0  9.143182e-11  0.058229   0.941771\n",
      "returns:                     WBTC_Price  CRV_Price  UNI_Price  LINK_Price\n",
      "hour                                                             \n",
      "2024-12-16 07:00:00    0.000000    0.00000   0.000000    0.000000\n",
      "2024-12-16 22:00:00    0.013096    0.00000  -0.006006    0.021125\n",
      "2024-12-16 23:00:00    0.000142   -0.00639  -0.003017   -0.019749\n",
      "`gtol` termination condition is satisfied.\n",
      "Number of iterations: 16, function evaluations: 60, CG iterations: 18, optimality: 3.66e-09, constraint violation: 0.00e+00, execution time: 0.031 s.\n",
      "portfolio:                          CRV comp  LINK comp  UNI comp  WBTC comp\n",
      "hour                                                             \n",
      "2024-12-16 07:00:00  9.239875e-11   0.940108  0.059892        0.0\n",
      "2024-12-16 22:00:00  9.143182e-11   0.941771  0.058229        0.0\n",
      "2024-12-16 23:00:00  9.143182e-11   0.941771  0.058229        0.0\n",
      "2024-12-17 00:00:00  9.143182e-11   0.941771  0.058229        0.0\n",
      "2024-12-17 01:00:00  9.143182e-11   0.941771  0.058229        0.0\n",
      "2024-12-17 02:00:00  9.143182e-11   0.941771  0.058229        0.0\n",
      "2024-12-17 03:00:00  9.143182e-11   0.941771  0.058229        0.0, optimized_portfolio: [2.40169069e-05 9.99880705e-01 3.09491415e-05 9.93575239e-03], sortino_ratio: 2.083955112108555\n",
      "self.portfolio.iloc[-1]: CRV comp     9.143182e-11\n",
      "LINK comp    9.417713e-01\n",
      "UNI comp     5.822869e-02\n",
      "WBTC comp    0.000000e+00\n",
      "Name: 2024-12-17 03:00:00, dtype: float64\n",
      "Reward: hour\n",
      "2024-12-16 07:00:00    0.000000\n",
      "2024-12-16 22:00:00    0.039906\n",
      "2024-12-16 23:00:00   -0.038332\n",
      "Name: Portfolio_Return, dtype: float64\n",
      "Action: [0.         0.01125013 0.         0.        ]\n",
      "Step: 3\n",
      "State: [1.05602e+05 1.64500e+01 2.90800e+01 1.08200e+00]\n",
      "Action: [0.         0.01125013 0.         0.        ]\n",
      "Reward: hour\n",
      "2024-12-16 07:00:00    0.000000\n",
      "2024-12-16 22:00:00    0.039906\n",
      "2024-12-16 23:00:00   -0.038332\n",
      "Name: Portfolio_Return, dtype: float64\n",
      "Done: False\n",
      "Info: {}\n",
      "\n",
      "--- Step 3 ---\n",
      "Action after clipping: [0. 0. 0. 0.]\n",
      "Current prices: [1.05602e+05 1.64500e+01 2.90800e+01 1.08200e+00]\n",
      "Portfolio:                          CRV comp  LINK comp  UNI comp  WBTC comp\n",
      "hour                                                             \n",
      "2024-12-16 07:00:00  9.239875e-11   0.940108  0.059892        0.0\n",
      "2024-12-16 22:00:00  9.143182e-11   0.941771  0.058229        0.0\n",
      "2024-12-16 23:00:00  9.143182e-11   0.941771  0.058229        0.0\n",
      "2024-12-17 00:00:00  9.143182e-11   0.941771  0.058229        0.0\n",
      "2024-12-17 01:00:00  9.143182e-11   0.941771  0.058229        0.0\n",
      "2024-12-17 02:00:00  9.143182e-11   0.941771  0.058229        0.0\n",
      "2024-12-17 03:00:00  9.143182e-11   0.941771  0.058229        0.0\n",
      "tokens_price:['WBTC', 'UNI', 'LINK', 'CRV']\n",
      "tokens_comp:['CRV', 'LINK', 'UNI', 'WBTC']\n",
      "common_tokens: {'WBTC', 'CRV', 'UNI', 'LINK'}\n",
      "comp_columns: ['WBTC comp', 'CRV comp', 'UNI comp', 'LINK comp']\n",
      "common_index: DatetimeIndex(['2024-12-16 07:00:00', '2024-12-16 22:00:00',\n",
      "               '2024-12-16 23:00:00', '2024-12-17 00:00:00'],\n",
      "              dtype='datetime64[ns]', name='hour', freq=None)\n",
      "compositions:                      WBTC comp      CRV comp  UNI comp  LINK comp\n",
      "hour                                                             \n",
      "2024-12-16 07:00:00        0.0  9.239875e-11  0.059892   0.940108\n",
      "2024-12-16 22:00:00        0.0  9.143182e-11  0.058229   0.941771\n",
      "2024-12-16 23:00:00        0.0  9.143182e-11  0.058229   0.941771\n",
      "2024-12-17 00:00:00        0.0  9.143182e-11  0.058229   0.941771\n",
      "returns:                     WBTC_Price  CRV_Price  UNI_Price  LINK_Price\n",
      "hour                                                             \n",
      "2024-12-16 07:00:00    0.000000    0.00000   0.000000    0.000000\n",
      "2024-12-16 22:00:00    0.013096    0.00000  -0.006006    0.021125\n",
      "2024-12-16 23:00:00    0.000142   -0.00639  -0.003017   -0.019749\n",
      "2024-12-17 00:00:00   -0.001637   -0.00920  -0.006061    0.000000\n",
      "compositions:                      WBTC comp      CRV comp  UNI comp  LINK comp\n",
      "hour                                                             \n",
      "2024-12-16 07:00:00        0.0  9.239875e-11  0.059892   0.940108\n",
      "2024-12-16 22:00:00        0.0  9.143182e-11  0.058229   0.941771\n",
      "2024-12-16 23:00:00        0.0  9.143182e-11  0.058229   0.941771\n",
      "2024-12-17 00:00:00        0.0  9.143182e-11  0.058229   0.941771\n",
      "returns:                     WBTC_Price  CRV_Price  UNI_Price  LINK_Price\n",
      "hour                                                             \n",
      "2024-12-16 07:00:00    0.000000    0.00000   0.000000    0.000000\n",
      "2024-12-16 22:00:00    0.013096    0.00000  -0.006006    0.021125\n",
      "2024-12-16 23:00:00    0.000142   -0.00639  -0.003017   -0.019749\n",
      "2024-12-17 00:00:00   -0.001637   -0.00920  -0.006061    0.000000\n",
      "portfolio_return: hour\n",
      "2024-12-16 07:00:00    0.000000\n",
      "2024-12-16 22:00:00    0.019545\n",
      "2024-12-16 23:00:00   -0.018774\n",
      "2024-12-17 00:00:00   -0.000353\n",
      "Name: Portfolio_Return, dtype: float64\n",
      "self.target_return: 0.044199999999999996\n",
      "data_at_mvo:(                     WBTC_Price  UNI_Price  LINK_Price  CRV_Price\n",
      "hour                                                             \n",
      "2024-12-16 07:00:00    104384.0      16.70       29.04      1.099\n",
      "2024-12-16 22:00:00    105760.0      16.60       29.66      1.099\n",
      "2024-12-16 23:00:00    105775.0      16.55       29.08      1.092\n",
      "2024-12-17 00:00:00    105602.0      16.45       29.08      1.082,                          CRV comp  LINK comp  UNI comp  WBTC comp\n",
      "hour                                                             \n",
      "2024-12-16 07:00:00  9.239875e-11   0.940108  0.059892        0.0\n",
      "2024-12-16 22:00:00  9.143182e-11   0.941771  0.058229        0.0\n",
      "2024-12-16 23:00:00  9.143182e-11   0.941771  0.058229        0.0\n",
      "2024-12-17 00:00:00  9.143182e-11   0.941771  0.058229        0.0\n",
      "2024-12-17 01:00:00  9.143182e-11   0.941771  0.058229        0.0\n",
      "2024-12-17 02:00:00  9.143182e-11   0.941771  0.058229        0.0\n",
      "2024-12-17 03:00:00  9.143182e-11   0.941771  0.058229        0.0, 0.044199999999999996)\n",
      "Converted hourly risk-free rate: 4.93734574957827e-06\n",
      "data at mvo:\n",
      "                     WBTC_Price  UNI_Price  LINK_Price  CRV_Price\n",
      "hour                                                             \n",
      "2024-12-16 07:00:00    104384.0      16.70       29.04      1.099\n",
      "2024-12-16 22:00:00    105760.0      16.60       29.66      1.099\n",
      "2024-12-16 23:00:00    105775.0      16.55       29.08      1.092\n",
      "2024-12-17 00:00:00    105602.0      16.45       29.08      1.082\n",
      "portfolio:                          CRV comp  LINK comp  UNI comp  WBTC comp\n",
      "hour                                                             \n",
      "2024-12-16 07:00:00  9.239875e-11   0.940108  0.059892        0.0\n",
      "2024-12-16 22:00:00  9.143182e-11   0.941771  0.058229        0.0\n",
      "2024-12-16 23:00:00  9.143182e-11   0.941771  0.058229        0.0\n",
      "2024-12-17 00:00:00  9.143182e-11   0.941771  0.058229        0.0\n",
      "2024-12-17 01:00:00  9.143182e-11   0.941771  0.058229        0.0\n",
      "2024-12-17 02:00:00  9.143182e-11   0.941771  0.058229        0.0\n",
      "2024-12-17 03:00:00  9.143182e-11   0.941771  0.058229        0.0\n",
      "risk_free_rate (annual): 0.044199999999999996\n",
      "tokens_price:['WBTC', 'UNI', 'LINK', 'CRV']\n",
      "tokens_comp:['CRV', 'LINK', 'UNI', 'WBTC']\n",
      "common_tokens: {'WBTC', 'CRV', 'UNI', 'LINK'}\n",
      "comp_columns: ['WBTC comp', 'CRV comp', 'UNI comp', 'LINK comp']\n",
      "common_index: DatetimeIndex(['2024-12-16 07:00:00', '2024-12-16 22:00:00',\n",
      "               '2024-12-16 23:00:00', '2024-12-17 00:00:00'],\n",
      "              dtype='datetime64[ns]', name='hour', freq=None)\n",
      "compositions:                      WBTC comp      CRV comp  UNI comp  LINK comp\n",
      "hour                                                             \n",
      "2024-12-16 07:00:00        0.0  9.239875e-11  0.059892   0.940108\n",
      "2024-12-16 22:00:00        0.0  9.143182e-11  0.058229   0.941771\n",
      "2024-12-16 23:00:00        0.0  9.143182e-11  0.058229   0.941771\n",
      "2024-12-17 00:00:00        0.0  9.143182e-11  0.058229   0.941771\n",
      "returns:                     WBTC_Price  CRV_Price  UNI_Price  LINK_Price\n",
      "hour                                                             \n",
      "2024-12-16 07:00:00    0.000000    0.00000   0.000000    0.000000\n",
      "2024-12-16 22:00:00    0.013096    0.00000  -0.006006    0.021125\n",
      "2024-12-16 23:00:00    0.000142   -0.00639  -0.003017   -0.019749\n",
      "2024-12-17 00:00:00   -0.001637   -0.00920  -0.006061    0.000000\n",
      "compositions:                      WBTC comp      CRV comp  UNI comp  LINK comp\n",
      "hour                                                             \n",
      "2024-12-16 07:00:00        0.0  9.239875e-11  0.059892   0.940108\n",
      "2024-12-16 22:00:00        0.0  9.143182e-11  0.058229   0.941771\n",
      "2024-12-16 23:00:00        0.0  9.143182e-11  0.058229   0.941771\n",
      "2024-12-17 00:00:00        0.0  9.143182e-11  0.058229   0.941771\n",
      "returns:                     WBTC_Price  CRV_Price  UNI_Price  LINK_Price\n",
      "hour                                                             \n",
      "2024-12-16 07:00:00    0.000000    0.00000   0.000000    0.000000\n",
      "2024-12-16 22:00:00    0.013096    0.00000  -0.006006    0.021125\n",
      "2024-12-16 23:00:00    0.000142   -0.00639  -0.003017   -0.019749\n",
      "2024-12-17 00:00:00   -0.001637   -0.00920  -0.006061    0.000000\n"
     ]
    },
    {
     "name": "stderr",
     "output_type": "stream",
     "text": [
      "e:\\Projects\\steth_optimizer\\steth_optimizer\\Lib\\site-packages\\scipy\\optimize\\_differentiable_functions.py:231: UserWarning:\n",
      "\n",
      "delta_grad == 0.0. Check if the approximated function is linear. If the function is linear better results can be obtained by defining the Hessian as zero instead of using quasi-Newton approximations.\n",
      "\n"
     ]
    },
    {
     "name": "stdout",
     "output_type": "stream",
     "text": [
      "`xtol` termination condition is satisfied.\n",
      "Number of iterations: 349, function evaluations: 3240, CG iterations: 389, optimality: 1.17e-02, constraint violation: 0.00e+00, execution time: 0.84 s.\n",
      "portfolio:                          CRV comp  LINK comp  UNI comp  WBTC comp\n",
      "hour                                                             \n",
      "2024-12-16 07:00:00  9.239875e-11   0.940108  0.059892        0.0\n",
      "2024-12-16 22:00:00  9.143182e-11   0.941771  0.058229        0.0\n",
      "2024-12-16 23:00:00  9.143182e-11   0.941771  0.058229        0.0\n",
      "2024-12-17 00:00:00  9.143182e-11   0.941771  0.058229        0.0\n",
      "2024-12-17 01:00:00  9.143182e-11   0.941771  0.058229        0.0\n",
      "2024-12-17 02:00:00  9.143182e-11   0.941771  0.058229        0.0\n",
      "2024-12-17 03:00:00  9.143182e-11   0.941771  0.058229        0.0, optimized_portfolio: [1.00000000e+00 5.63984256e-17 1.00000000e-02 5.29061670e-16], sortino_ratio: 0.08042310587504761\n",
      "self.portfolio.iloc[-1]: CRV comp     9.143182e-11\n",
      "LINK comp    9.417713e-01\n",
      "UNI comp     5.822869e-02\n",
      "WBTC comp    0.000000e+00\n",
      "Name: 2024-12-17 03:00:00, dtype: float64\n",
      "Reward: hour\n",
      "2024-12-16 07:00:00   -0.000000\n",
      "2024-12-16 22:00:00   -0.011437\n",
      "2024-12-16 23:00:00    0.010985\n",
      "2024-12-17 00:00:00    0.000206\n",
      "Name: Portfolio_Return, dtype: float64\n",
      "Action: [0. 0. 0. 0.]\n",
      "Step: 4\n",
      "State: [1.056e+05 1.629e+01 2.884e+01 1.073e+00]\n",
      "Action: [0. 0. 0. 0.]\n",
      "Reward: hour\n",
      "2024-12-16 07:00:00   -0.000000\n",
      "2024-12-16 22:00:00   -0.011437\n",
      "2024-12-16 23:00:00    0.010985\n",
      "2024-12-17 00:00:00    0.000206\n",
      "Name: Portfolio_Return, dtype: float64\n",
      "Done: False\n",
      "Info: {}\n",
      "\n",
      "--- Step 4 ---\n",
      "Action after clipping: [1. 0. 1. 0.]\n",
      "Current prices: [1.056e+05 1.629e+01 2.884e+01 1.073e+00]\n",
      "Portfolio:                          CRV comp  LINK comp  UNI comp  WBTC comp\n",
      "hour                                                             \n",
      "2024-12-16 07:00:00  9.239875e-11   0.940108  0.059892        0.0\n",
      "2024-12-16 22:00:00  9.143182e-11   0.941771  0.058229        0.0\n",
      "2024-12-16 23:00:00  9.143182e-11   0.941771  0.058229        0.0\n",
      "2024-12-17 00:00:00  9.143182e-11   0.941771  0.058229        0.0\n",
      "2024-12-17 01:00:00  9.143182e-11   0.941771  0.058229        0.0\n",
      "2024-12-17 02:00:00  9.143182e-11   0.941771  0.058229        0.0\n",
      "2024-12-17 03:00:00  9.143182e-11   0.941771  0.058229        0.0\n",
      "tokens_price:['WBTC', 'UNI', 'LINK', 'CRV']\n",
      "tokens_comp:['CRV', 'LINK', 'UNI', 'WBTC']\n",
      "common_tokens: {'WBTC', 'CRV', 'UNI', 'LINK'}\n",
      "comp_columns: ['WBTC comp', 'CRV comp', 'UNI comp', 'LINK comp']\n",
      "common_index: DatetimeIndex(['2024-12-16 07:00:00', '2024-12-16 22:00:00',\n",
      "               '2024-12-16 23:00:00', '2024-12-17 00:00:00',\n",
      "               '2024-12-17 01:00:00'],\n",
      "              dtype='datetime64[ns]', name='hour', freq=None)\n",
      "compositions:                      WBTC comp      CRV comp  UNI comp  LINK comp\n",
      "hour                                                             \n",
      "2024-12-16 07:00:00        0.0  9.239875e-11  0.059892   0.940108\n",
      "2024-12-16 22:00:00        0.0  9.143182e-11  0.058229   0.941771\n",
      "2024-12-16 23:00:00        0.0  9.143182e-11  0.058229   0.941771\n",
      "2024-12-17 00:00:00        0.0  9.143182e-11  0.058229   0.941771\n",
      "2024-12-17 01:00:00        0.0  9.143182e-11  0.058229   0.941771\n",
      "returns:                     WBTC_Price  CRV_Price  UNI_Price  LINK_Price\n",
      "hour                                                             \n",
      "2024-12-16 07:00:00    0.000000   0.000000   0.000000    0.000000\n",
      "2024-12-16 22:00:00    0.013096   0.000000  -0.006006    0.021125\n",
      "2024-12-16 23:00:00    0.000142  -0.006390  -0.003017   -0.019749\n",
      "2024-12-17 00:00:00   -0.001637  -0.009200  -0.006061    0.000000\n",
      "2024-12-17 01:00:00   -0.000019  -0.008353  -0.009774   -0.008287\n",
      "compositions:                      WBTC comp      CRV comp  UNI comp  LINK comp\n",
      "hour                                                             \n",
      "2024-12-16 07:00:00        0.0  9.239875e-11  0.059892   0.940108\n",
      "2024-12-16 22:00:00        0.0  9.143182e-11  0.058229   0.941771\n",
      "2024-12-16 23:00:00        0.0  9.143182e-11  0.058229   0.941771\n",
      "2024-12-17 00:00:00        0.0  9.143182e-11  0.058229   0.941771\n",
      "2024-12-17 01:00:00        0.0  9.143182e-11  0.058229   0.941771\n",
      "returns:                     WBTC_Price  CRV_Price  UNI_Price  LINK_Price\n",
      "hour                                                             \n",
      "2024-12-16 07:00:00    0.000000   0.000000   0.000000    0.000000\n",
      "2024-12-16 22:00:00    0.013096   0.000000  -0.006006    0.021125\n",
      "2024-12-16 23:00:00    0.000142  -0.006390  -0.003017   -0.019749\n",
      "2024-12-17 00:00:00   -0.001637  -0.009200  -0.006061    0.000000\n",
      "2024-12-17 01:00:00   -0.000019  -0.008353  -0.009774   -0.008287\n",
      "portfolio_return: hour\n",
      "2024-12-16 07:00:00    0.000000\n",
      "2024-12-16 22:00:00    0.019545\n",
      "2024-12-16 23:00:00   -0.018774\n",
      "2024-12-17 00:00:00   -0.000353\n",
      "2024-12-17 01:00:00   -0.008374\n",
      "Name: Portfolio_Return, dtype: float64\n",
      "self.target_return: 0.044199999999999996\n",
      "data_at_mvo:(                     WBTC_Price  UNI_Price  LINK_Price  CRV_Price\n",
      "hour                                                             \n",
      "2024-12-16 07:00:00    104384.0      16.70       29.04      1.099\n",
      "2024-12-16 22:00:00    105760.0      16.60       29.66      1.099\n",
      "2024-12-16 23:00:00    105775.0      16.55       29.08      1.092\n",
      "2024-12-17 00:00:00    105602.0      16.45       29.08      1.082\n",
      "2024-12-17 01:00:00    105600.0      16.29       28.84      1.073,                          CRV comp  LINK comp  UNI comp  WBTC comp\n",
      "hour                                                             \n",
      "2024-12-16 07:00:00  9.239875e-11   0.940108  0.059892        0.0\n",
      "2024-12-16 22:00:00  9.143182e-11   0.941771  0.058229        0.0\n",
      "2024-12-16 23:00:00  9.143182e-11   0.941771  0.058229        0.0\n",
      "2024-12-17 00:00:00  9.143182e-11   0.941771  0.058229        0.0\n",
      "2024-12-17 01:00:00  9.143182e-11   0.941771  0.058229        0.0\n",
      "2024-12-17 02:00:00  9.143182e-11   0.941771  0.058229        0.0\n",
      "2024-12-17 03:00:00  9.143182e-11   0.941771  0.058229        0.0, 0.044199999999999996)\n",
      "Converted hourly risk-free rate: 4.93734574957827e-06\n",
      "data at mvo:\n",
      "                     WBTC_Price  UNI_Price  LINK_Price  CRV_Price\n",
      "hour                                                             \n",
      "2024-12-16 07:00:00    104384.0      16.70       29.04      1.099\n",
      "2024-12-16 22:00:00    105760.0      16.60       29.66      1.099\n",
      "2024-12-16 23:00:00    105775.0      16.55       29.08      1.092\n",
      "2024-12-17 00:00:00    105602.0      16.45       29.08      1.082\n",
      "2024-12-17 01:00:00    105600.0      16.29       28.84      1.073\n",
      "portfolio:                          CRV comp  LINK comp  UNI comp  WBTC comp\n",
      "hour                                                             \n",
      "2024-12-16 07:00:00  9.239875e-11   0.940108  0.059892        0.0\n",
      "2024-12-16 22:00:00  9.143182e-11   0.941771  0.058229        0.0\n",
      "2024-12-16 23:00:00  9.143182e-11   0.941771  0.058229        0.0\n",
      "2024-12-17 00:00:00  9.143182e-11   0.941771  0.058229        0.0\n",
      "2024-12-17 01:00:00  9.143182e-11   0.941771  0.058229        0.0\n",
      "2024-12-17 02:00:00  9.143182e-11   0.941771  0.058229        0.0\n",
      "2024-12-17 03:00:00  9.143182e-11   0.941771  0.058229        0.0\n",
      "risk_free_rate (annual): 0.044199999999999996\n",
      "tokens_price:['WBTC', 'UNI', 'LINK', 'CRV']\n",
      "tokens_comp:['CRV', 'LINK', 'UNI', 'WBTC']\n",
      "common_tokens: {'WBTC', 'CRV', 'UNI', 'LINK'}\n",
      "comp_columns: ['WBTC comp', 'CRV comp', 'UNI comp', 'LINK comp']\n",
      "common_index: DatetimeIndex(['2024-12-16 07:00:00', '2024-12-16 22:00:00',\n",
      "               '2024-12-16 23:00:00', '2024-12-17 00:00:00',\n",
      "               '2024-12-17 01:00:00'],\n",
      "              dtype='datetime64[ns]', name='hour', freq=None)\n",
      "compositions:                      WBTC comp      CRV comp  UNI comp  LINK comp\n",
      "hour                                                             \n",
      "2024-12-16 07:00:00        0.0  9.239875e-11  0.059892   0.940108\n",
      "2024-12-16 22:00:00        0.0  9.143182e-11  0.058229   0.941771\n",
      "2024-12-16 23:00:00        0.0  9.143182e-11  0.058229   0.941771\n",
      "2024-12-17 00:00:00        0.0  9.143182e-11  0.058229   0.941771\n",
      "2024-12-17 01:00:00        0.0  9.143182e-11  0.058229   0.941771\n",
      "returns:                     WBTC_Price  CRV_Price  UNI_Price  LINK_Price\n",
      "hour                                                             \n",
      "2024-12-16 07:00:00    0.000000   0.000000   0.000000    0.000000\n",
      "2024-12-16 22:00:00    0.013096   0.000000  -0.006006    0.021125\n",
      "2024-12-16 23:00:00    0.000142  -0.006390  -0.003017   -0.019749\n",
      "2024-12-17 00:00:00   -0.001637  -0.009200  -0.006061    0.000000\n",
      "2024-12-17 01:00:00   -0.000019  -0.008353  -0.009774   -0.008287\n",
      "compositions:                      WBTC comp      CRV comp  UNI comp  LINK comp\n",
      "hour                                                             \n",
      "2024-12-16 07:00:00        0.0  9.239875e-11  0.059892   0.940108\n",
      "2024-12-16 22:00:00        0.0  9.143182e-11  0.058229   0.941771\n",
      "2024-12-16 23:00:00        0.0  9.143182e-11  0.058229   0.941771\n",
      "2024-12-17 00:00:00        0.0  9.143182e-11  0.058229   0.941771\n",
      "2024-12-17 01:00:00        0.0  9.143182e-11  0.058229   0.941771\n",
      "returns:                     WBTC_Price  CRV_Price  UNI_Price  LINK_Price\n",
      "hour                                                             \n",
      "2024-12-16 07:00:00    0.000000   0.000000   0.000000    0.000000\n",
      "2024-12-16 22:00:00    0.013096   0.000000  -0.006006    0.021125\n",
      "2024-12-16 23:00:00    0.000142  -0.006390  -0.003017   -0.019749\n",
      "2024-12-17 00:00:00   -0.001637  -0.009200  -0.006061    0.000000\n",
      "2024-12-17 01:00:00   -0.000019  -0.008353  -0.009774   -0.008287\n",
      "`gtol` termination condition is satisfied.\n",
      "Number of iterations: 29, function evaluations: 120, CG iterations: 31, optimality: 1.84e-09, constraint violation: 0.00e+00, execution time: 0.057 s.\n",
      "portfolio:                          CRV comp  LINK comp  UNI comp  WBTC comp\n",
      "hour                                                             \n",
      "2024-12-16 07:00:00  9.239875e-11   0.940108  0.059892        0.0\n",
      "2024-12-16 22:00:00  9.143182e-11   0.941771  0.058229        0.0\n",
      "2024-12-16 23:00:00  9.143182e-11   0.941771  0.058229        0.0\n",
      "2024-12-17 00:00:00  9.143182e-11   0.941771  0.058229        0.0\n",
      "2024-12-17 01:00:00  9.143182e-11   0.941771  0.058229        0.0\n",
      "2024-12-17 02:00:00  9.143182e-11   0.941771  0.058229        0.0\n",
      "2024-12-17 03:00:00  9.143182e-11   0.941771  0.058229        0.0, optimized_portfolio: [1.03119592e-04 2.69450715e-05 9.99945087e-01 9.83643543e-03], sortino_ratio: -1.1616207652554968\n",
      "self.portfolio.iloc[-1]: CRV comp     9.143182e-11\n",
      "LINK comp    9.417713e-01\n",
      "UNI comp     5.822869e-02\n",
      "WBTC comp    0.000000e+00\n",
      "Name: 2024-12-17 03:00:00, dtype: float64\n",
      "Reward: hour\n",
      "2024-12-16 07:00:00   -0.000000\n",
      "2024-12-16 22:00:00   -0.035081\n",
      "2024-12-16 23:00:00    0.033697\n",
      "2024-12-17 00:00:00    0.000633\n",
      "2024-12-17 01:00:00    0.015030\n",
      "Name: Portfolio_Return, dtype: float64\n",
      "Episode done. Exiting the loop.\n"
     ]
    },
    {
     "name": "stderr",
     "output_type": "stream",
     "text": [
      "e:\\Projects\\portfolio_optimizers\\dao_advisor_project\\models\\testnet_model.py:439: FutureWarning:\n",
      "\n",
      "Series.__getitem__ treating keys as positions is deprecated. In a future version, integer keys will always be treated as labels (consistent with DataFrame behavior). To access a value by position, use `ser.iloc[pos]`\n",
      "\n",
      "e:\\Projects\\portfolio_optimizers\\dao_advisor_project\\models\\testnet_model.py:439: FutureWarning:\n",
      "\n",
      "Series.__getitem__ treating keys as positions is deprecated. In a future version, integer keys will always be treated as labels (consistent with DataFrame behavior). To access a value by position, use `ser.iloc[pos]`\n",
      "\n"
     ]
    }
   ],
   "source": [
    "states_df, rewards_df, actions_df, portfolio_values_df, composition = run_sim(\n",
    "    model_name,oralce_copy,hist_comp,seed,rebalance_frequency\n",
    ")\n"
   ]
  },
  {
   "cell_type": "code",
   "execution_count": 98,
   "metadata": {},
   "outputs": [
    {
     "data": {
      "text/html": [
       "<div>\n",
       "<style scoped>\n",
       "    .dataframe tbody tr th:only-of-type {\n",
       "        vertical-align: middle;\n",
       "    }\n",
       "\n",
       "    .dataframe tbody tr th {\n",
       "        vertical-align: top;\n",
       "    }\n",
       "\n",
       "    .dataframe thead th {\n",
       "        text-align: right;\n",
       "    }\n",
       "</style>\n",
       "<table border=\"1\" class=\"dataframe\">\n",
       "  <thead>\n",
       "    <tr style=\"text-align: right;\">\n",
       "      <th></th>\n",
       "      <th>Return</th>\n",
       "      <th>Date</th>\n",
       "    </tr>\n",
       "  </thead>\n",
       "  <tbody>\n",
       "    <tr>\n",
       "      <th>0</th>\n",
       "      <td>0.000000</td>\n",
       "      <td>2024-12-16 07:00:00</td>\n",
       "    </tr>\n",
       "    <tr>\n",
       "      <th>1</th>\n",
       "      <td>0.019545</td>\n",
       "      <td>2024-12-16 22:00:00</td>\n",
       "    </tr>\n",
       "    <tr>\n",
       "      <th>2</th>\n",
       "      <td>-0.018774</td>\n",
       "      <td>2024-12-16 23:00:00</td>\n",
       "    </tr>\n",
       "    <tr>\n",
       "      <th>3</th>\n",
       "      <td>-0.000353</td>\n",
       "      <td>2024-12-17 00:00:00</td>\n",
       "    </tr>\n",
       "    <tr>\n",
       "      <th>4</th>\n",
       "      <td>-0.008374</td>\n",
       "      <td>2024-12-17 01:00:00</td>\n",
       "    </tr>\n",
       "  </tbody>\n",
       "</table>\n",
       "</div>"
      ],
      "text/plain": [
       "     Return                Date\n",
       "0  0.000000 2024-12-16 07:00:00\n",
       "1  0.019545 2024-12-16 22:00:00\n",
       "2 -0.018774 2024-12-16 23:00:00\n",
       "3 -0.000353 2024-12-17 00:00:00\n",
       "4 -0.008374 2024-12-17 01:00:00"
      ]
     },
     "execution_count": 98,
     "metadata": {},
     "output_type": "execute_result"
    }
   ],
   "source": [
    "portfolio_values_df"
   ]
  },
  {
   "cell_type": "code",
   "execution_count": 99,
   "metadata": {},
   "outputs": [
    {
     "name": "stdout",
     "output_type": "stream",
     "text": [
      "model actions before update: Empty DataFrame\n",
      "Columns: []\n",
      "Index: []\n",
      "new data:    WBTC_weight  UNI_weight  LINK_weight  CRV_weight                Date\n",
      "0          0.0    0.059064     0.940936         0.0 2024-12-16 07:00:00\n"
     ]
    }
   ],
   "source": [
    "update_model_actions(actions_df.to_dict())\n",
    "\n",
    "current_time = dt.datetime.now(dt.timezone.utc).strftime('%Y-%m-%d %H:00:00')\n",
    "current_time = pd.to_datetime(current_time)"
   ]
  },
  {
   "cell_type": "code",
   "execution_count": 100,
   "metadata": {},
   "outputs": [],
   "source": [
    "new_compositions = {\n",
    "            token: float(model_actions.iloc[-1][f\"{token}_weight\"]) for token in TOKEN_CONTRACTS\n",
    "                }"
   ]
  },
  {
   "cell_type": "code",
   "execution_count": 101,
   "metadata": {},
   "outputs": [
    {
     "data": {
      "text/plain": [
       "{'CRV': 0.0,\n",
       " 'LINK': 0.9409359693527222,\n",
       " 'UNI': 0.059063974767923355,\n",
       " 'WBTC': 0.0}"
      ]
     },
     "execution_count": 101,
     "metadata": {},
     "output_type": "execute_result"
    }
   ],
   "source": [
    "new_compositions"
   ]
  },
  {
   "cell_type": "code",
   "execution_count": 102,
   "metadata": {},
   "outputs": [
    {
     "name": "stdout",
     "output_type": "stream",
     "text": [
      "None\n"
     ]
    }
   ],
   "source": [
    "print(last_rebalance_time)"
   ]
  },
  {
   "cell_type": "code",
   "execution_count": 103,
   "metadata": {},
   "outputs": [],
   "source": [
    "latest_comp = hist_comp.iloc[-1]\n",
    "\n",
    "latest_comp.index = latest_comp.index.str.replace('comp','')\n",
    "latest_comp = latest_comp.to_dict()"
   ]
  },
  {
   "cell_type": "code",
   "execution_count": 104,
   "metadata": {},
   "outputs": [
    {
     "data": {
      "text/plain": [
       "{'CRV ': 9.143181780762791e-11,\n",
       " 'LINK ': 0.9417713132046657,\n",
       " 'UNI ': 0.05822868670390256,\n",
       " 'WBTC ': 0.0}"
      ]
     },
     "execution_count": 104,
     "metadata": {},
     "output_type": "execute_result"
    }
   ],
   "source": [
    "latest_comp"
   ]
  },
  {
   "cell_type": "code",
   "execution_count": 105,
   "metadata": {},
   "outputs": [
    {
     "data": {
      "text/plain": [
       "{'CRV': 0.0,\n",
       " 'LINK': 0.9409359693527222,\n",
       " 'UNI': 0.059063974767923355,\n",
       " 'WBTC': 0.0}"
      ]
     },
     "execution_count": 105,
     "metadata": {},
     "output_type": "execute_result"
    }
   ],
   "source": [
    "new_compositions"
   ]
  },
  {
   "cell_type": "code",
   "execution_count": 106,
   "metadata": {},
   "outputs": [],
   "source": [
    "def composition_difference_exceeds_threshold(latest_comp, new_compositions, threshold=0.05):\n",
    "    \"\"\"\n",
    "    Check if the difference between the latest and new compositions exceeds the threshold.\n",
    "\n",
    "    Parameters:\n",
    "    - latest_comp: Dict of the current portfolio composition.\n",
    "    - new_compositions: Dict of the target portfolio composition.\n",
    "    - threshold: The tolerance threshold (default 5%).\n",
    "\n",
    "    Returns:\n",
    "    - True if the difference exceeds the threshold for any token, False otherwise.\n",
    "    \"\"\"\n",
    "    print(f'new_compositions: {new_compositions}')\n",
    "    print(f'latest_comp: {latest_comp}')\n",
    "    for token in new_compositions:\n",
    "        latest_value = latest_comp.get(token, 0)\n",
    "        new_value = new_compositions.get(token, 0)\n",
    "        \n",
    "        # Calculate the absolute difference\n",
    "        difference = abs(latest_value - new_value)\n",
    "        \n",
    "        print(f\"{token}: Latest: {latest_value:.6f}, New: {new_value:.6f}, Difference: {difference:.6f}\")\n",
    "        \n",
    "        # Check if the difference exceeds the threshold\n",
    "        if difference > threshold:\n",
    "            return True\n",
    "\n",
    "    return False"
   ]
  },
  {
   "cell_type": "code",
   "execution_count": 107,
   "metadata": {},
   "outputs": [
    {
     "name": "stdout",
     "output_type": "stream",
     "text": [
      "last rebal time: None\n",
      "current time 2024-12-16 22:00:00\n",
      "actions df    WBTC_weight  UNI_weight  LINK_weight  CRV_weight                Date\n",
      "0          0.0    0.059064     0.940936         0.0 2024-12-16 07:00:00\n",
      "rebalancing frequency 360\n",
      "should rebal current time: 2024-12-16 22:00:00\n",
      "actions df:    WBTC_weight  UNI_weight  LINK_weight  CRV_weight                Date\n",
      "0          0.0    0.059064     0.940936         0.0 2024-12-16 07:00:00\n",
      "should rebal last rebal time: 2024-12-16 07:00:00\n",
      "hours since last rebal: 15.0\n",
      "Rebalancing is not required at this time.\n"
     ]
    }
   ],
   "source": [
    "# target_compositions = {\n",
    "#     'WBTC': 0.25,\n",
    "#     'LINK': 0.25,\n",
    "#     'UNI': 0.25,\n",
    "#     'CRV': 0.25\n",
    "# }\n",
    "\n",
    "if should_rebalance(start_date,actions_df,rebalance_frequency):\n",
    "    if composition_difference_exceeds_threshold(latest_comp, new_compositions, diff_tolerance_threshold):\n",
    "        rebalance_portfolio(uniswap, \n",
    "                            TOKEN_CONTRACTS, \n",
    "                            TOKEN_DECIMALS, \n",
    "                            new_compositions, \n",
    "                            ACCOUNT_ADDRESS, \n",
    "                        )\n",
    "        "
   ]
  },
  {
   "cell_type": "code",
   "execution_count": 108,
   "metadata": {},
   "outputs": [
    {
     "data": {
      "text/html": [
       "<div>\n",
       "<style scoped>\n",
       "    .dataframe tbody tr th:only-of-type {\n",
       "        vertical-align: middle;\n",
       "    }\n",
       "\n",
       "    .dataframe tbody tr th {\n",
       "        vertical-align: top;\n",
       "    }\n",
       "\n",
       "    .dataframe thead th {\n",
       "        text-align: right;\n",
       "    }\n",
       "</style>\n",
       "<table border=\"1\" class=\"dataframe\">\n",
       "  <thead>\n",
       "    <tr style=\"text-align: right;\">\n",
       "      <th></th>\n",
       "      <th>CRV comp</th>\n",
       "      <th>LINK comp</th>\n",
       "      <th>UNI comp</th>\n",
       "      <th>WBTC comp</th>\n",
       "      <th>date</th>\n",
       "    </tr>\n",
       "  </thead>\n",
       "  <tbody>\n",
       "    <tr>\n",
       "      <th>0</th>\n",
       "      <td>9.239875e-11</td>\n",
       "      <td>0.940108</td>\n",
       "      <td>0.059892</td>\n",
       "      <td>0.0</td>\n",
       "      <td>2024-12-16 07:00:00</td>\n",
       "    </tr>\n",
       "    <tr>\n",
       "      <th>1</th>\n",
       "      <td>9.143182e-11</td>\n",
       "      <td>0.941771</td>\n",
       "      <td>0.058229</td>\n",
       "      <td>0.0</td>\n",
       "      <td>2024-12-16 22:00:00</td>\n",
       "    </tr>\n",
       "  </tbody>\n",
       "</table>\n",
       "</div>"
      ],
      "text/plain": [
       "       CRV comp  LINK comp  UNI comp  WBTC comp                 date\n",
       "0  9.239875e-11   0.940108  0.059892        0.0  2024-12-16 07:00:00\n",
       "1  9.143182e-11   0.941771  0.058229        0.0  2024-12-16 22:00:00"
      ]
     },
     "execution_count": 108,
     "metadata": {},
     "output_type": "execute_result"
    }
   ],
   "source": [
    "historical_data"
   ]
  },
  {
   "cell_type": "code",
   "execution_count": 109,
   "metadata": {},
   "outputs": [
    {
     "data": {
      "text/html": [
       "<div>\n",
       "<style scoped>\n",
       "    .dataframe tbody tr th:only-of-type {\n",
       "        vertical-align: middle;\n",
       "    }\n",
       "\n",
       "    .dataframe tbody tr th {\n",
       "        vertical-align: top;\n",
       "    }\n",
       "\n",
       "    .dataframe thead th {\n",
       "        text-align: right;\n",
       "    }\n",
       "</style>\n",
       "<table border=\"1\" class=\"dataframe\">\n",
       "  <thead>\n",
       "    <tr style=\"text-align: right;\">\n",
       "      <th></th>\n",
       "      <th>hour</th>\n",
       "      <th>WBTC_Price</th>\n",
       "      <th>UNI_Price</th>\n",
       "      <th>LINK_Price</th>\n",
       "      <th>CRV_Price</th>\n",
       "    </tr>\n",
       "  </thead>\n",
       "  <tbody>\n",
       "    <tr>\n",
       "      <th>0</th>\n",
       "      <td>2024-12-16 07:00:00</td>\n",
       "      <td>104384.0</td>\n",
       "      <td>16.70</td>\n",
       "      <td>29.04</td>\n",
       "      <td>1.099</td>\n",
       "    </tr>\n",
       "    <tr>\n",
       "      <th>1</th>\n",
       "      <td>2024-12-16 22:00:00</td>\n",
       "      <td>105760.0</td>\n",
       "      <td>16.60</td>\n",
       "      <td>29.66</td>\n",
       "      <td>1.099</td>\n",
       "    </tr>\n",
       "    <tr>\n",
       "      <th>2</th>\n",
       "      <td>2024-12-16 23:00:00</td>\n",
       "      <td>105775.0</td>\n",
       "      <td>16.55</td>\n",
       "      <td>29.08</td>\n",
       "      <td>1.092</td>\n",
       "    </tr>\n",
       "    <tr>\n",
       "      <th>3</th>\n",
       "      <td>2024-12-17 00:00:00</td>\n",
       "      <td>105602.0</td>\n",
       "      <td>16.45</td>\n",
       "      <td>29.08</td>\n",
       "      <td>1.082</td>\n",
       "    </tr>\n",
       "    <tr>\n",
       "      <th>4</th>\n",
       "      <td>2024-12-17 01:00:00</td>\n",
       "      <td>105600.0</td>\n",
       "      <td>16.29</td>\n",
       "      <td>28.84</td>\n",
       "      <td>1.073</td>\n",
       "    </tr>\n",
       "    <tr>\n",
       "      <th>5</th>\n",
       "      <td>2024-12-17 02:00:00</td>\n",
       "      <td>105641.0</td>\n",
       "      <td>15.99</td>\n",
       "      <td>28.65</td>\n",
       "      <td>1.071</td>\n",
       "    </tr>\n",
       "  </tbody>\n",
       "</table>\n",
       "</div>"
      ],
      "text/plain": [
       "                 hour  WBTC_Price  UNI_Price  LINK_Price  CRV_Price\n",
       "0 2024-12-16 07:00:00    104384.0      16.70       29.04      1.099\n",
       "1 2024-12-16 22:00:00    105760.0      16.60       29.66      1.099\n",
       "2 2024-12-16 23:00:00    105775.0      16.55       29.08      1.092\n",
       "3 2024-12-17 00:00:00    105602.0      16.45       29.08      1.082\n",
       "4 2024-12-17 01:00:00    105600.0      16.29       28.84      1.073\n",
       "5 2024-12-17 02:00:00    105641.0      15.99       28.65      1.071"
      ]
     },
     "execution_count": 109,
     "metadata": {},
     "output_type": "execute_result"
    }
   ],
   "source": [
    "oracle_prices"
   ]
  },
  {
   "cell_type": "code",
   "execution_count": 110,
   "metadata": {},
   "outputs": [],
   "source": [
    "def calculate_log_returns(prices):\n",
    "    return np.log(prices / prices.shift(1)).fillna(0)"
   ]
  },
  {
   "cell_type": "code",
   "execution_count": 111,
   "metadata": {},
   "outputs": [
    {
     "data": {
      "text/html": [
       "<div>\n",
       "<style scoped>\n",
       "    .dataframe tbody tr th:only-of-type {\n",
       "        vertical-align: middle;\n",
       "    }\n",
       "\n",
       "    .dataframe tbody tr th {\n",
       "        vertical-align: top;\n",
       "    }\n",
       "\n",
       "    .dataframe thead th {\n",
       "        text-align: right;\n",
       "    }\n",
       "</style>\n",
       "<table border=\"1\" class=\"dataframe\">\n",
       "  <thead>\n",
       "    <tr style=\"text-align: right;\">\n",
       "      <th></th>\n",
       "      <th>WBTC_Price</th>\n",
       "      <th>UNI_Price</th>\n",
       "      <th>LINK_Price</th>\n",
       "      <th>CRV_Price</th>\n",
       "    </tr>\n",
       "    <tr>\n",
       "      <th>hour</th>\n",
       "      <th></th>\n",
       "      <th></th>\n",
       "      <th></th>\n",
       "      <th></th>\n",
       "    </tr>\n",
       "  </thead>\n",
       "  <tbody>\n",
       "    <tr>\n",
       "      <th>2024-12-16 07:00:00</th>\n",
       "      <td>0.000000</td>\n",
       "      <td>0.000000</td>\n",
       "      <td>0.000000</td>\n",
       "      <td>0.000000</td>\n",
       "    </tr>\n",
       "    <tr>\n",
       "      <th>2024-12-16 22:00:00</th>\n",
       "      <td>0.013096</td>\n",
       "      <td>-0.006006</td>\n",
       "      <td>0.021125</td>\n",
       "      <td>0.000000</td>\n",
       "    </tr>\n",
       "    <tr>\n",
       "      <th>2024-12-16 23:00:00</th>\n",
       "      <td>0.000142</td>\n",
       "      <td>-0.003017</td>\n",
       "      <td>-0.019749</td>\n",
       "      <td>-0.006390</td>\n",
       "    </tr>\n",
       "    <tr>\n",
       "      <th>2024-12-17 00:00:00</th>\n",
       "      <td>-0.001637</td>\n",
       "      <td>-0.006061</td>\n",
       "      <td>0.000000</td>\n",
       "      <td>-0.009200</td>\n",
       "    </tr>\n",
       "    <tr>\n",
       "      <th>2024-12-17 01:00:00</th>\n",
       "      <td>-0.000019</td>\n",
       "      <td>-0.009774</td>\n",
       "      <td>-0.008287</td>\n",
       "      <td>-0.008353</td>\n",
       "    </tr>\n",
       "    <tr>\n",
       "      <th>2024-12-17 02:00:00</th>\n",
       "      <td>0.000388</td>\n",
       "      <td>-0.018588</td>\n",
       "      <td>-0.006610</td>\n",
       "      <td>-0.001866</td>\n",
       "    </tr>\n",
       "  </tbody>\n",
       "</table>\n",
       "</div>"
      ],
      "text/plain": [
       "                     WBTC_Price  UNI_Price  LINK_Price  CRV_Price\n",
       "hour                                                             \n",
       "2024-12-16 07:00:00    0.000000   0.000000    0.000000   0.000000\n",
       "2024-12-16 22:00:00    0.013096  -0.006006    0.021125   0.000000\n",
       "2024-12-16 23:00:00    0.000142  -0.003017   -0.019749  -0.006390\n",
       "2024-12-17 00:00:00   -0.001637  -0.006061    0.000000  -0.009200\n",
       "2024-12-17 01:00:00   -0.000019  -0.009774   -0.008287  -0.008353\n",
       "2024-12-17 02:00:00    0.000388  -0.018588   -0.006610  -0.001866"
      ]
     },
     "execution_count": 111,
     "metadata": {},
     "output_type": "execute_result"
    }
   ],
   "source": [
    "price_returns = calculate_log_returns(oralce_copy)\n",
    "price_returns"
   ]
  },
  {
   "cell_type": "code",
   "execution_count": 112,
   "metadata": {},
   "outputs": [],
   "source": [
    "hist_comp.index = pd.to_datetime(hist_comp.index)"
   ]
  },
  {
   "cell_type": "code",
   "execution_count": 113,
   "metadata": {},
   "outputs": [
    {
     "data": {
      "text/plain": [
       "DatetimeIndex(['2024-12-16 07:00:00', '2024-12-16 22:00:00',\n",
       "               '2024-12-16 23:00:00', '2024-12-17 00:00:00',\n",
       "               '2024-12-17 01:00:00', '2024-12-17 02:00:00'],\n",
       "              dtype='datetime64[ns]', name='hour', freq=None)"
      ]
     },
     "execution_count": 113,
     "metadata": {},
     "output_type": "execute_result"
    }
   ],
   "source": [
    "price_returns.index"
   ]
  },
  {
   "cell_type": "code",
   "execution_count": 114,
   "metadata": {},
   "outputs": [
    {
     "data": {
      "text/html": [
       "<div>\n",
       "<style scoped>\n",
       "    .dataframe tbody tr th:only-of-type {\n",
       "        vertical-align: middle;\n",
       "    }\n",
       "\n",
       "    .dataframe tbody tr th {\n",
       "        vertical-align: top;\n",
       "    }\n",
       "\n",
       "    .dataframe thead th {\n",
       "        text-align: right;\n",
       "    }\n",
       "</style>\n",
       "<table border=\"1\" class=\"dataframe\">\n",
       "  <thead>\n",
       "    <tr style=\"text-align: right;\">\n",
       "      <th></th>\n",
       "      <th>WBTC_Price</th>\n",
       "      <th>UNI_Price</th>\n",
       "      <th>LINK_Price</th>\n",
       "      <th>CRV_Price</th>\n",
       "    </tr>\n",
       "    <tr>\n",
       "      <th>hour</th>\n",
       "      <th></th>\n",
       "      <th></th>\n",
       "      <th></th>\n",
       "      <th></th>\n",
       "    </tr>\n",
       "  </thead>\n",
       "  <tbody>\n",
       "    <tr>\n",
       "      <th>2024-12-16 07:00:00</th>\n",
       "      <td>104384.0</td>\n",
       "      <td>16.70</td>\n",
       "      <td>29.04</td>\n",
       "      <td>1.099</td>\n",
       "    </tr>\n",
       "    <tr>\n",
       "      <th>2024-12-16 22:00:00</th>\n",
       "      <td>105760.0</td>\n",
       "      <td>16.60</td>\n",
       "      <td>29.66</td>\n",
       "      <td>1.099</td>\n",
       "    </tr>\n",
       "    <tr>\n",
       "      <th>2024-12-16 23:00:00</th>\n",
       "      <td>105775.0</td>\n",
       "      <td>16.55</td>\n",
       "      <td>29.08</td>\n",
       "      <td>1.092</td>\n",
       "    </tr>\n",
       "    <tr>\n",
       "      <th>2024-12-17 00:00:00</th>\n",
       "      <td>105602.0</td>\n",
       "      <td>16.45</td>\n",
       "      <td>29.08</td>\n",
       "      <td>1.082</td>\n",
       "    </tr>\n",
       "    <tr>\n",
       "      <th>2024-12-17 01:00:00</th>\n",
       "      <td>105600.0</td>\n",
       "      <td>16.29</td>\n",
       "      <td>28.84</td>\n",
       "      <td>1.073</td>\n",
       "    </tr>\n",
       "    <tr>\n",
       "      <th>2024-12-17 02:00:00</th>\n",
       "      <td>105641.0</td>\n",
       "      <td>15.99</td>\n",
       "      <td>28.65</td>\n",
       "      <td>1.071</td>\n",
       "    </tr>\n",
       "  </tbody>\n",
       "</table>\n",
       "</div>"
      ],
      "text/plain": [
       "                     WBTC_Price  UNI_Price  LINK_Price  CRV_Price\n",
       "hour                                                             \n",
       "2024-12-16 07:00:00    104384.0      16.70       29.04      1.099\n",
       "2024-12-16 22:00:00    105760.0      16.60       29.66      1.099\n",
       "2024-12-16 23:00:00    105775.0      16.55       29.08      1.092\n",
       "2024-12-17 00:00:00    105602.0      16.45       29.08      1.082\n",
       "2024-12-17 01:00:00    105600.0      16.29       28.84      1.073\n",
       "2024-12-17 02:00:00    105641.0      15.99       28.65      1.071"
      ]
     },
     "execution_count": 114,
     "metadata": {},
     "output_type": "execute_result"
    }
   ],
   "source": [
    "oralce_copy"
   ]
  },
  {
   "cell_type": "code",
   "execution_count": 115,
   "metadata": {},
   "outputs": [
    {
     "data": {
      "text/html": [
       "<div>\n",
       "<style scoped>\n",
       "    .dataframe tbody tr th:only-of-type {\n",
       "        vertical-align: middle;\n",
       "    }\n",
       "\n",
       "    .dataframe tbody tr th {\n",
       "        vertical-align: top;\n",
       "    }\n",
       "\n",
       "    .dataframe thead th {\n",
       "        text-align: right;\n",
       "    }\n",
       "</style>\n",
       "<table border=\"1\" class=\"dataframe\">\n",
       "  <thead>\n",
       "    <tr style=\"text-align: right;\">\n",
       "      <th></th>\n",
       "      <th>CRV comp</th>\n",
       "      <th>LINK comp</th>\n",
       "      <th>UNI comp</th>\n",
       "      <th>WBTC comp</th>\n",
       "    </tr>\n",
       "    <tr>\n",
       "      <th>hour</th>\n",
       "      <th></th>\n",
       "      <th></th>\n",
       "      <th></th>\n",
       "      <th></th>\n",
       "    </tr>\n",
       "  </thead>\n",
       "  <tbody>\n",
       "    <tr>\n",
       "      <th>2024-12-16 07:00:00</th>\n",
       "      <td>9.239875e-11</td>\n",
       "      <td>0.940108</td>\n",
       "      <td>0.059892</td>\n",
       "      <td>0.0</td>\n",
       "    </tr>\n",
       "    <tr>\n",
       "      <th>2024-12-16 22:00:00</th>\n",
       "      <td>9.143182e-11</td>\n",
       "      <td>0.941771</td>\n",
       "      <td>0.058229</td>\n",
       "      <td>0.0</td>\n",
       "    </tr>\n",
       "    <tr>\n",
       "      <th>2024-12-16 23:00:00</th>\n",
       "      <td>9.143182e-11</td>\n",
       "      <td>0.941771</td>\n",
       "      <td>0.058229</td>\n",
       "      <td>0.0</td>\n",
       "    </tr>\n",
       "    <tr>\n",
       "      <th>2024-12-17 00:00:00</th>\n",
       "      <td>9.143182e-11</td>\n",
       "      <td>0.941771</td>\n",
       "      <td>0.058229</td>\n",
       "      <td>0.0</td>\n",
       "    </tr>\n",
       "    <tr>\n",
       "      <th>2024-12-17 01:00:00</th>\n",
       "      <td>9.143182e-11</td>\n",
       "      <td>0.941771</td>\n",
       "      <td>0.058229</td>\n",
       "      <td>0.0</td>\n",
       "    </tr>\n",
       "    <tr>\n",
       "      <th>2024-12-17 02:00:00</th>\n",
       "      <td>9.143182e-11</td>\n",
       "      <td>0.941771</td>\n",
       "      <td>0.058229</td>\n",
       "      <td>0.0</td>\n",
       "    </tr>\n",
       "    <tr>\n",
       "      <th>2024-12-17 03:00:00</th>\n",
       "      <td>9.143182e-11</td>\n",
       "      <td>0.941771</td>\n",
       "      <td>0.058229</td>\n",
       "      <td>0.0</td>\n",
       "    </tr>\n",
       "  </tbody>\n",
       "</table>\n",
       "</div>"
      ],
      "text/plain": [
       "                         CRV comp  LINK comp  UNI comp  WBTC comp\n",
       "hour                                                             \n",
       "2024-12-16 07:00:00  9.239875e-11   0.940108  0.059892        0.0\n",
       "2024-12-16 22:00:00  9.143182e-11   0.941771  0.058229        0.0\n",
       "2024-12-16 23:00:00  9.143182e-11   0.941771  0.058229        0.0\n",
       "2024-12-17 00:00:00  9.143182e-11   0.941771  0.058229        0.0\n",
       "2024-12-17 01:00:00  9.143182e-11   0.941771  0.058229        0.0\n",
       "2024-12-17 02:00:00  9.143182e-11   0.941771  0.058229        0.0\n",
       "2024-12-17 03:00:00  9.143182e-11   0.941771  0.058229        0.0"
      ]
     },
     "execution_count": 115,
     "metadata": {},
     "output_type": "execute_result"
    }
   ],
   "source": [
    "hist_comp"
   ]
  },
  {
   "cell_type": "code",
   "execution_count": 116,
   "metadata": {},
   "outputs": [
    {
     "data": {
      "text/plain": [
       "0.044199999999999996"
      ]
     },
     "execution_count": 116,
     "metadata": {},
     "output_type": "execute_result"
    }
   ],
   "source": [
    "current_risk_free"
   ]
  },
  {
   "cell_type": "code",
   "execution_count": 117,
   "metadata": {},
   "outputs": [],
   "source": [
    "from scipy.optimize import minimize, Bounds, LinearConstraint"
   ]
  },
  {
   "cell_type": "code",
   "execution_count": 118,
   "metadata": {},
   "outputs": [
    {
     "data": {
      "text/html": [
       "<div>\n",
       "<style scoped>\n",
       "    .dataframe tbody tr th:only-of-type {\n",
       "        vertical-align: middle;\n",
       "    }\n",
       "\n",
       "    .dataframe tbody tr th {\n",
       "        vertical-align: top;\n",
       "    }\n",
       "\n",
       "    .dataframe thead th {\n",
       "        text-align: right;\n",
       "    }\n",
       "</style>\n",
       "<table border=\"1\" class=\"dataframe\">\n",
       "  <thead>\n",
       "    <tr style=\"text-align: right;\">\n",
       "      <th></th>\n",
       "      <th>WBTC_Price</th>\n",
       "      <th>UNI_Price</th>\n",
       "      <th>LINK_Price</th>\n",
       "      <th>CRV_Price</th>\n",
       "    </tr>\n",
       "    <tr>\n",
       "      <th>hour</th>\n",
       "      <th></th>\n",
       "      <th></th>\n",
       "      <th></th>\n",
       "      <th></th>\n",
       "    </tr>\n",
       "  </thead>\n",
       "  <tbody>\n",
       "    <tr>\n",
       "      <th>2024-12-16 07:00:00</th>\n",
       "      <td>104384.0</td>\n",
       "      <td>16.70</td>\n",
       "      <td>29.04</td>\n",
       "      <td>1.099</td>\n",
       "    </tr>\n",
       "    <tr>\n",
       "      <th>2024-12-16 22:00:00</th>\n",
       "      <td>105760.0</td>\n",
       "      <td>16.60</td>\n",
       "      <td>29.66</td>\n",
       "      <td>1.099</td>\n",
       "    </tr>\n",
       "    <tr>\n",
       "      <th>2024-12-16 23:00:00</th>\n",
       "      <td>105775.0</td>\n",
       "      <td>16.55</td>\n",
       "      <td>29.08</td>\n",
       "      <td>1.092</td>\n",
       "    </tr>\n",
       "    <tr>\n",
       "      <th>2024-12-17 00:00:00</th>\n",
       "      <td>105602.0</td>\n",
       "      <td>16.45</td>\n",
       "      <td>29.08</td>\n",
       "      <td>1.082</td>\n",
       "    </tr>\n",
       "    <tr>\n",
       "      <th>2024-12-17 01:00:00</th>\n",
       "      <td>105600.0</td>\n",
       "      <td>16.29</td>\n",
       "      <td>28.84</td>\n",
       "      <td>1.073</td>\n",
       "    </tr>\n",
       "    <tr>\n",
       "      <th>2024-12-17 02:00:00</th>\n",
       "      <td>105641.0</td>\n",
       "      <td>15.99</td>\n",
       "      <td>28.65</td>\n",
       "      <td>1.071</td>\n",
       "    </tr>\n",
       "  </tbody>\n",
       "</table>\n",
       "</div>"
      ],
      "text/plain": [
       "                     WBTC_Price  UNI_Price  LINK_Price  CRV_Price\n",
       "hour                                                             \n",
       "2024-12-16 07:00:00    104384.0      16.70       29.04      1.099\n",
       "2024-12-16 22:00:00    105760.0      16.60       29.66      1.099\n",
       "2024-12-16 23:00:00    105775.0      16.55       29.08      1.092\n",
       "2024-12-17 00:00:00    105602.0      16.45       29.08      1.082\n",
       "2024-12-17 01:00:00    105600.0      16.29       28.84      1.073\n",
       "2024-12-17 02:00:00    105641.0      15.99       28.65      1.071"
      ]
     },
     "execution_count": 118,
     "metadata": {},
     "output_type": "execute_result"
    }
   ],
   "source": [
    "oralce_copy"
   ]
  },
  {
   "cell_type": "code",
   "execution_count": 119,
   "metadata": {},
   "outputs": [
    {
     "data": {
      "text/html": [
       "<div>\n",
       "<style scoped>\n",
       "    .dataframe tbody tr th:only-of-type {\n",
       "        vertical-align: middle;\n",
       "    }\n",
       "\n",
       "    .dataframe tbody tr th {\n",
       "        vertical-align: top;\n",
       "    }\n",
       "\n",
       "    .dataframe thead th {\n",
       "        text-align: right;\n",
       "    }\n",
       "</style>\n",
       "<table border=\"1\" class=\"dataframe\">\n",
       "  <thead>\n",
       "    <tr style=\"text-align: right;\">\n",
       "      <th></th>\n",
       "      <th>CRV comp</th>\n",
       "      <th>LINK comp</th>\n",
       "      <th>UNI comp</th>\n",
       "      <th>WBTC comp</th>\n",
       "    </tr>\n",
       "    <tr>\n",
       "      <th>hour</th>\n",
       "      <th></th>\n",
       "      <th></th>\n",
       "      <th></th>\n",
       "      <th></th>\n",
       "    </tr>\n",
       "  </thead>\n",
       "  <tbody>\n",
       "    <tr>\n",
       "      <th>2024-12-16 07:00:00</th>\n",
       "      <td>9.239875e-11</td>\n",
       "      <td>0.940108</td>\n",
       "      <td>0.059892</td>\n",
       "      <td>0.0</td>\n",
       "    </tr>\n",
       "    <tr>\n",
       "      <th>2024-12-16 22:00:00</th>\n",
       "      <td>9.143182e-11</td>\n",
       "      <td>0.941771</td>\n",
       "      <td>0.058229</td>\n",
       "      <td>0.0</td>\n",
       "    </tr>\n",
       "    <tr>\n",
       "      <th>2024-12-16 23:00:00</th>\n",
       "      <td>9.143182e-11</td>\n",
       "      <td>0.941771</td>\n",
       "      <td>0.058229</td>\n",
       "      <td>0.0</td>\n",
       "    </tr>\n",
       "    <tr>\n",
       "      <th>2024-12-17 00:00:00</th>\n",
       "      <td>9.143182e-11</td>\n",
       "      <td>0.941771</td>\n",
       "      <td>0.058229</td>\n",
       "      <td>0.0</td>\n",
       "    </tr>\n",
       "    <tr>\n",
       "      <th>2024-12-17 01:00:00</th>\n",
       "      <td>9.143182e-11</td>\n",
       "      <td>0.941771</td>\n",
       "      <td>0.058229</td>\n",
       "      <td>0.0</td>\n",
       "    </tr>\n",
       "    <tr>\n",
       "      <th>2024-12-17 02:00:00</th>\n",
       "      <td>9.143182e-11</td>\n",
       "      <td>0.941771</td>\n",
       "      <td>0.058229</td>\n",
       "      <td>0.0</td>\n",
       "    </tr>\n",
       "    <tr>\n",
       "      <th>2024-12-17 03:00:00</th>\n",
       "      <td>9.143182e-11</td>\n",
       "      <td>0.941771</td>\n",
       "      <td>0.058229</td>\n",
       "      <td>0.0</td>\n",
       "    </tr>\n",
       "  </tbody>\n",
       "</table>\n",
       "</div>"
      ],
      "text/plain": [
       "                         CRV comp  LINK comp  UNI comp  WBTC comp\n",
       "hour                                                             \n",
       "2024-12-16 07:00:00  9.239875e-11   0.940108  0.059892        0.0\n",
       "2024-12-16 22:00:00  9.143182e-11   0.941771  0.058229        0.0\n",
       "2024-12-16 23:00:00  9.143182e-11   0.941771  0.058229        0.0\n",
       "2024-12-17 00:00:00  9.143182e-11   0.941771  0.058229        0.0\n",
       "2024-12-17 01:00:00  9.143182e-11   0.941771  0.058229        0.0\n",
       "2024-12-17 02:00:00  9.143182e-11   0.941771  0.058229        0.0\n",
       "2024-12-17 03:00:00  9.143182e-11   0.941771  0.058229        0.0"
      ]
     },
     "execution_count": 119,
     "metadata": {},
     "output_type": "execute_result"
    }
   ],
   "source": [
    "hist_comp"
   ]
  },
  {
   "cell_type": "code",
   "execution_count": 120,
   "metadata": {},
   "outputs": [
    {
     "data": {
      "text/plain": [
       "0.044199999999999996"
      ]
     },
     "execution_count": 120,
     "metadata": {},
     "output_type": "execute_result"
    }
   ],
   "source": [
    "current_risk_free"
   ]
  },
  {
   "cell_type": "code",
   "execution_count": 121,
   "metadata": {},
   "outputs": [],
   "source": [
    "oracle_copy_2 = oracle_prices.copy()"
   ]
  },
  {
   "cell_type": "code",
   "execution_count": 122,
   "metadata": {},
   "outputs": [
    {
     "data": {
      "text/html": [
       "<div>\n",
       "<style scoped>\n",
       "    .dataframe tbody tr th:only-of-type {\n",
       "        vertical-align: middle;\n",
       "    }\n",
       "\n",
       "    .dataframe tbody tr th {\n",
       "        vertical-align: top;\n",
       "    }\n",
       "\n",
       "    .dataframe thead th {\n",
       "        text-align: right;\n",
       "    }\n",
       "</style>\n",
       "<table border=\"1\" class=\"dataframe\">\n",
       "  <thead>\n",
       "    <tr style=\"text-align: right;\">\n",
       "      <th></th>\n",
       "      <th>hour</th>\n",
       "      <th>WBTC_Price</th>\n",
       "      <th>UNI_Price</th>\n",
       "      <th>LINK_Price</th>\n",
       "      <th>CRV_Price</th>\n",
       "    </tr>\n",
       "  </thead>\n",
       "  <tbody>\n",
       "    <tr>\n",
       "      <th>0</th>\n",
       "      <td>2024-12-16 07:00:00</td>\n",
       "      <td>104384.0</td>\n",
       "      <td>16.70</td>\n",
       "      <td>29.04</td>\n",
       "      <td>1.099</td>\n",
       "    </tr>\n",
       "    <tr>\n",
       "      <th>1</th>\n",
       "      <td>2024-12-16 22:00:00</td>\n",
       "      <td>105760.0</td>\n",
       "      <td>16.60</td>\n",
       "      <td>29.66</td>\n",
       "      <td>1.099</td>\n",
       "    </tr>\n",
       "    <tr>\n",
       "      <th>2</th>\n",
       "      <td>2024-12-16 23:00:00</td>\n",
       "      <td>105775.0</td>\n",
       "      <td>16.55</td>\n",
       "      <td>29.08</td>\n",
       "      <td>1.092</td>\n",
       "    </tr>\n",
       "    <tr>\n",
       "      <th>3</th>\n",
       "      <td>2024-12-17 00:00:00</td>\n",
       "      <td>105602.0</td>\n",
       "      <td>16.45</td>\n",
       "      <td>29.08</td>\n",
       "      <td>1.082</td>\n",
       "    </tr>\n",
       "    <tr>\n",
       "      <th>4</th>\n",
       "      <td>2024-12-17 01:00:00</td>\n",
       "      <td>105600.0</td>\n",
       "      <td>16.29</td>\n",
       "      <td>28.84</td>\n",
       "      <td>1.073</td>\n",
       "    </tr>\n",
       "    <tr>\n",
       "      <th>5</th>\n",
       "      <td>2024-12-17 02:00:00</td>\n",
       "      <td>105641.0</td>\n",
       "      <td>15.99</td>\n",
       "      <td>28.65</td>\n",
       "      <td>1.071</td>\n",
       "    </tr>\n",
       "  </tbody>\n",
       "</table>\n",
       "</div>"
      ],
      "text/plain": [
       "                 hour  WBTC_Price  UNI_Price  LINK_Price  CRV_Price\n",
       "0 2024-12-16 07:00:00    104384.0      16.70       29.04      1.099\n",
       "1 2024-12-16 22:00:00    105760.0      16.60       29.66      1.099\n",
       "2 2024-12-16 23:00:00    105775.0      16.55       29.08      1.092\n",
       "3 2024-12-17 00:00:00    105602.0      16.45       29.08      1.082\n",
       "4 2024-12-17 01:00:00    105600.0      16.29       28.84      1.073\n",
       "5 2024-12-17 02:00:00    105641.0      15.99       28.65      1.071"
      ]
     },
     "execution_count": 122,
     "metadata": {},
     "output_type": "execute_result"
    }
   ],
   "source": [
    "oracle_copy_2"
   ]
  },
  {
   "cell_type": "code",
   "execution_count": 123,
   "metadata": {},
   "outputs": [],
   "source": [
    "oracle_copy_2.set_index('hour',inplace=True)\n",
    "oracle_copy_2.index = pd.to_datetime(oracle_copy_2.index)"
   ]
  },
  {
   "cell_type": "code",
   "execution_count": 124,
   "metadata": {},
   "outputs": [
    {
     "data": {
      "text/plain": [
       "DatetimeIndex(['2024-12-16 07:00:00', '2024-12-16 22:00:00',\n",
       "               '2024-12-16 23:00:00', '2024-12-17 00:00:00',\n",
       "               '2024-12-17 01:00:00', '2024-12-17 02:00:00'],\n",
       "              dtype='datetime64[ns]', name='hour', freq=None)"
      ]
     },
     "execution_count": 124,
     "metadata": {},
     "output_type": "execute_result"
    }
   ],
   "source": [
    "oracle_copy_2.index"
   ]
  },
  {
   "cell_type": "code",
   "execution_count": 125,
   "metadata": {},
   "outputs": [
    {
     "data": {
      "text/plain": [
       "DatetimeIndex(['2024-12-16 07:00:00', '2024-12-16 22:00:00',\n",
       "               '2024-12-16 23:00:00', '2024-12-17 00:00:00',\n",
       "               '2024-12-17 01:00:00', '2024-12-17 02:00:00',\n",
       "               '2024-12-17 03:00:00'],\n",
       "              dtype='datetime64[ns]', name='hour', freq=None)"
      ]
     },
     "execution_count": 125,
     "metadata": {},
     "output_type": "execute_result"
    }
   ],
   "source": [
    "hist_comp.index"
   ]
  },
  {
   "cell_type": "code",
   "execution_count": 126,
   "metadata": {},
   "outputs": [],
   "source": [
    "# hist_comp.columns = hist_comp.columns.str.replace('comp','')"
   ]
  },
  {
   "cell_type": "code",
   "execution_count": 127,
   "metadata": {},
   "outputs": [
    {
     "data": {
      "text/html": [
       "<div>\n",
       "<style scoped>\n",
       "    .dataframe tbody tr th:only-of-type {\n",
       "        vertical-align: middle;\n",
       "    }\n",
       "\n",
       "    .dataframe tbody tr th {\n",
       "        vertical-align: top;\n",
       "    }\n",
       "\n",
       "    .dataframe thead th {\n",
       "        text-align: right;\n",
       "    }\n",
       "</style>\n",
       "<table border=\"1\" class=\"dataframe\">\n",
       "  <thead>\n",
       "    <tr style=\"text-align: right;\">\n",
       "      <th></th>\n",
       "      <th>CRV comp</th>\n",
       "      <th>LINK comp</th>\n",
       "      <th>UNI comp</th>\n",
       "      <th>WBTC comp</th>\n",
       "    </tr>\n",
       "    <tr>\n",
       "      <th>hour</th>\n",
       "      <th></th>\n",
       "      <th></th>\n",
       "      <th></th>\n",
       "      <th></th>\n",
       "    </tr>\n",
       "  </thead>\n",
       "  <tbody>\n",
       "    <tr>\n",
       "      <th>2024-12-16 07:00:00</th>\n",
       "      <td>9.239875e-11</td>\n",
       "      <td>0.940108</td>\n",
       "      <td>0.059892</td>\n",
       "      <td>0.0</td>\n",
       "    </tr>\n",
       "    <tr>\n",
       "      <th>2024-12-16 22:00:00</th>\n",
       "      <td>9.143182e-11</td>\n",
       "      <td>0.941771</td>\n",
       "      <td>0.058229</td>\n",
       "      <td>0.0</td>\n",
       "    </tr>\n",
       "    <tr>\n",
       "      <th>2024-12-16 23:00:00</th>\n",
       "      <td>9.143182e-11</td>\n",
       "      <td>0.941771</td>\n",
       "      <td>0.058229</td>\n",
       "      <td>0.0</td>\n",
       "    </tr>\n",
       "    <tr>\n",
       "      <th>2024-12-17 00:00:00</th>\n",
       "      <td>9.143182e-11</td>\n",
       "      <td>0.941771</td>\n",
       "      <td>0.058229</td>\n",
       "      <td>0.0</td>\n",
       "    </tr>\n",
       "    <tr>\n",
       "      <th>2024-12-17 01:00:00</th>\n",
       "      <td>9.143182e-11</td>\n",
       "      <td>0.941771</td>\n",
       "      <td>0.058229</td>\n",
       "      <td>0.0</td>\n",
       "    </tr>\n",
       "    <tr>\n",
       "      <th>2024-12-17 02:00:00</th>\n",
       "      <td>9.143182e-11</td>\n",
       "      <td>0.941771</td>\n",
       "      <td>0.058229</td>\n",
       "      <td>0.0</td>\n",
       "    </tr>\n",
       "    <tr>\n",
       "      <th>2024-12-17 03:00:00</th>\n",
       "      <td>9.143182e-11</td>\n",
       "      <td>0.941771</td>\n",
       "      <td>0.058229</td>\n",
       "      <td>0.0</td>\n",
       "    </tr>\n",
       "  </tbody>\n",
       "</table>\n",
       "</div>"
      ],
      "text/plain": [
       "                         CRV comp  LINK comp  UNI comp  WBTC comp\n",
       "hour                                                             \n",
       "2024-12-16 07:00:00  9.239875e-11   0.940108  0.059892        0.0\n",
       "2024-12-16 22:00:00  9.143182e-11   0.941771  0.058229        0.0\n",
       "2024-12-16 23:00:00  9.143182e-11   0.941771  0.058229        0.0\n",
       "2024-12-17 00:00:00  9.143182e-11   0.941771  0.058229        0.0\n",
       "2024-12-17 01:00:00  9.143182e-11   0.941771  0.058229        0.0\n",
       "2024-12-17 02:00:00  9.143182e-11   0.941771  0.058229        0.0\n",
       "2024-12-17 03:00:00  9.143182e-11   0.941771  0.058229        0.0"
      ]
     },
     "execution_count": 127,
     "metadata": {},
     "output_type": "execute_result"
    }
   ],
   "source": [
    "hist_comp"
   ]
  },
  {
   "cell_type": "code",
   "execution_count": 128,
   "metadata": {},
   "outputs": [
    {
     "data": {
      "text/html": [
       "<div>\n",
       "<style scoped>\n",
       "    .dataframe tbody tr th:only-of-type {\n",
       "        vertical-align: middle;\n",
       "    }\n",
       "\n",
       "    .dataframe tbody tr th {\n",
       "        vertical-align: top;\n",
       "    }\n",
       "\n",
       "    .dataframe thead th {\n",
       "        text-align: right;\n",
       "    }\n",
       "</style>\n",
       "<table border=\"1\" class=\"dataframe\">\n",
       "  <thead>\n",
       "    <tr style=\"text-align: right;\">\n",
       "      <th></th>\n",
       "      <th>WBTC_Price</th>\n",
       "      <th>UNI_Price</th>\n",
       "      <th>LINK_Price</th>\n",
       "      <th>CRV_Price</th>\n",
       "    </tr>\n",
       "    <tr>\n",
       "      <th>hour</th>\n",
       "      <th></th>\n",
       "      <th></th>\n",
       "      <th></th>\n",
       "      <th></th>\n",
       "    </tr>\n",
       "  </thead>\n",
       "  <tbody>\n",
       "    <tr>\n",
       "      <th>2024-12-16 07:00:00</th>\n",
       "      <td>104384.0</td>\n",
       "      <td>16.70</td>\n",
       "      <td>29.04</td>\n",
       "      <td>1.099</td>\n",
       "    </tr>\n",
       "    <tr>\n",
       "      <th>2024-12-16 22:00:00</th>\n",
       "      <td>105760.0</td>\n",
       "      <td>16.60</td>\n",
       "      <td>29.66</td>\n",
       "      <td>1.099</td>\n",
       "    </tr>\n",
       "    <tr>\n",
       "      <th>2024-12-16 23:00:00</th>\n",
       "      <td>105775.0</td>\n",
       "      <td>16.55</td>\n",
       "      <td>29.08</td>\n",
       "      <td>1.092</td>\n",
       "    </tr>\n",
       "    <tr>\n",
       "      <th>2024-12-17 00:00:00</th>\n",
       "      <td>105602.0</td>\n",
       "      <td>16.45</td>\n",
       "      <td>29.08</td>\n",
       "      <td>1.082</td>\n",
       "    </tr>\n",
       "    <tr>\n",
       "      <th>2024-12-17 01:00:00</th>\n",
       "      <td>105600.0</td>\n",
       "      <td>16.29</td>\n",
       "      <td>28.84</td>\n",
       "      <td>1.073</td>\n",
       "    </tr>\n",
       "    <tr>\n",
       "      <th>2024-12-17 02:00:00</th>\n",
       "      <td>105641.0</td>\n",
       "      <td>15.99</td>\n",
       "      <td>28.65</td>\n",
       "      <td>1.071</td>\n",
       "    </tr>\n",
       "  </tbody>\n",
       "</table>\n",
       "</div>"
      ],
      "text/plain": [
       "                     WBTC_Price  UNI_Price  LINK_Price  CRV_Price\n",
       "hour                                                             \n",
       "2024-12-16 07:00:00    104384.0      16.70       29.04      1.099\n",
       "2024-12-16 22:00:00    105760.0      16.60       29.66      1.099\n",
       "2024-12-16 23:00:00    105775.0      16.55       29.08      1.092\n",
       "2024-12-17 00:00:00    105602.0      16.45       29.08      1.082\n",
       "2024-12-17 01:00:00    105600.0      16.29       28.84      1.073\n",
       "2024-12-17 02:00:00    105641.0      15.99       28.65      1.071"
      ]
     },
     "execution_count": 128,
     "metadata": {},
     "output_type": "execute_result"
    }
   ],
   "source": [
    "oracle_copy_2"
   ]
  },
  {
   "cell_type": "code",
   "execution_count": 129,
   "metadata": {},
   "outputs": [
    {
     "name": "stdout",
     "output_type": "stream",
     "text": [
      "Converted hourly risk-free rate: 4.93734574957827e-06\n",
      "data at mvo:\n",
      "                     WBTC_Price  UNI_Price  LINK_Price  CRV_Price\n",
      "hour                                                             \n",
      "2024-12-16 07:00:00    104384.0      16.70       29.04      1.099\n",
      "2024-12-16 22:00:00    105760.0      16.60       29.66      1.099\n",
      "2024-12-16 23:00:00    105775.0      16.55       29.08      1.092\n",
      "2024-12-17 00:00:00    105602.0      16.45       29.08      1.082\n",
      "2024-12-17 01:00:00    105600.0      16.29       28.84      1.073\n",
      "2024-12-17 02:00:00    105641.0      15.99       28.65      1.071\n",
      "portfolio:                          CRV comp  LINK comp  UNI comp  WBTC comp\n",
      "hour                                                             \n",
      "2024-12-16 07:00:00  9.239875e-11   0.940108  0.059892        0.0\n",
      "2024-12-16 22:00:00  9.143182e-11   0.941771  0.058229        0.0\n",
      "2024-12-16 23:00:00  9.143182e-11   0.941771  0.058229        0.0\n",
      "2024-12-17 00:00:00  9.143182e-11   0.941771  0.058229        0.0\n",
      "2024-12-17 01:00:00  9.143182e-11   0.941771  0.058229        0.0\n",
      "2024-12-17 02:00:00  9.143182e-11   0.941771  0.058229        0.0\n",
      "2024-12-17 03:00:00  9.143182e-11   0.941771  0.058229        0.0\n",
      "risk_free_rate (annual): 0.044199999999999996\n",
      "tokens_price:['WBTC', 'UNI', 'LINK', 'CRV']\n",
      "tokens_comp:['CRV', 'LINK', 'UNI', 'WBTC']\n",
      "common_tokens: {'WBTC', 'CRV', 'UNI', 'LINK'}\n",
      "comp_columns: ['WBTC comp', 'CRV comp', 'UNI comp', 'LINK comp']\n",
      "common_index: DatetimeIndex(['2024-12-16 07:00:00', '2024-12-16 22:00:00',\n",
      "               '2024-12-16 23:00:00', '2024-12-17 00:00:00',\n",
      "               '2024-12-17 01:00:00', '2024-12-17 02:00:00'],\n",
      "              dtype='datetime64[ns]', name='hour', freq=None)\n",
      "compositions:                      WBTC comp      CRV comp  UNI comp  LINK comp\n",
      "hour                                                             \n",
      "2024-12-16 07:00:00        0.0  9.239875e-11  0.059892   0.940108\n",
      "2024-12-16 22:00:00        0.0  9.143182e-11  0.058229   0.941771\n",
      "2024-12-16 23:00:00        0.0  9.143182e-11  0.058229   0.941771\n",
      "2024-12-17 00:00:00        0.0  9.143182e-11  0.058229   0.941771\n",
      "2024-12-17 01:00:00        0.0  9.143182e-11  0.058229   0.941771\n",
      "2024-12-17 02:00:00        0.0  9.143182e-11  0.058229   0.941771\n",
      "returns:                     WBTC_Price  CRV_Price  UNI_Price  LINK_Price\n",
      "hour                                                             \n",
      "2024-12-16 07:00:00    0.000000   0.000000   0.000000    0.000000\n",
      "2024-12-16 22:00:00    0.013096   0.000000  -0.006006    0.021125\n",
      "2024-12-16 23:00:00    0.000142  -0.006390  -0.003017   -0.019749\n",
      "2024-12-17 00:00:00   -0.001637  -0.009200  -0.006061    0.000000\n",
      "2024-12-17 01:00:00   -0.000019  -0.008353  -0.009774   -0.008287\n",
      "2024-12-17 02:00:00    0.000388  -0.001866  -0.018588   -0.006610\n",
      "compositions:                      WBTC comp      CRV comp  UNI comp  LINK comp\n",
      "hour                                                             \n",
      "2024-12-16 07:00:00        0.0  9.239875e-11  0.059892   0.940108\n",
      "2024-12-16 22:00:00        0.0  9.143182e-11  0.058229   0.941771\n",
      "2024-12-16 23:00:00        0.0  9.143182e-11  0.058229   0.941771\n",
      "2024-12-17 00:00:00        0.0  9.143182e-11  0.058229   0.941771\n",
      "2024-12-17 01:00:00        0.0  9.143182e-11  0.058229   0.941771\n",
      "2024-12-17 02:00:00        0.0  9.143182e-11  0.058229   0.941771\n",
      "returns:                     WBTC_Price  CRV_Price  UNI_Price  LINK_Price\n",
      "hour                                                             \n",
      "2024-12-16 07:00:00    0.000000   0.000000   0.000000    0.000000\n",
      "2024-12-16 22:00:00    0.013096   0.000000  -0.006006    0.021125\n",
      "2024-12-16 23:00:00    0.000142  -0.006390  -0.003017   -0.019749\n",
      "2024-12-17 00:00:00   -0.001637  -0.009200  -0.006061    0.000000\n",
      "2024-12-17 01:00:00   -0.000019  -0.008353  -0.009774   -0.008287\n",
      "2024-12-17 02:00:00    0.000388  -0.001866  -0.018588   -0.006610\n",
      "`gtol` termination condition is satisfied.\n",
      "Number of iterations: 19, function evaluations: 70, CG iterations: 21, optimality: 9.55e-09, constraint violation: 0.00e+00, execution time: 0.068 s.\n"
     ]
    }
   ],
   "source": [
    "optimized_weights, returns, sortino_ratio = mvo(oracle_copy_2, hist_comp, current_risk_free)\n"
   ]
  },
  {
   "cell_type": "code",
   "execution_count": 130,
   "metadata": {},
   "outputs": [
    {
     "data": {
      "text/plain": [
       "-1.198968264422309"
      ]
     },
     "execution_count": 130,
     "metadata": {},
     "output_type": "execute_result"
    }
   ],
   "source": [
    "sortino_ratio"
   ]
  },
  {
   "cell_type": "code",
   "execution_count": 131,
   "metadata": {},
   "outputs": [
    {
     "data": {
      "text/plain": [
       "array([4.35443413e-05, 9.99967702e-01, 4.40397738e-04, 9.46764644e-03])"
      ]
     },
     "execution_count": 131,
     "metadata": {},
     "output_type": "execute_result"
    }
   ],
   "source": [
    "optimized_weights"
   ]
  },
  {
   "cell_type": "code",
   "execution_count": 132,
   "metadata": {},
   "outputs": [
    {
     "data": {
      "text/plain": [
       "hour\n",
       "2024-12-16 07:00:00    0.000000\n",
       "2024-12-16 22:00:00    0.019545\n",
       "2024-12-16 23:00:00   -0.018774\n",
       "2024-12-17 00:00:00   -0.000353\n",
       "2024-12-17 01:00:00   -0.008374\n",
       "2024-12-17 02:00:00   -0.007307\n",
       "Name: Portfolio_Return, dtype: float64"
      ]
     },
     "execution_count": 132,
     "metadata": {},
     "output_type": "execute_result"
    }
   ],
   "source": [
    "returns"
   ]
  },
  {
   "cell_type": "code",
   "execution_count": 133,
   "metadata": {},
   "outputs": [
    {
     "data": {
      "text/plain": [
       "hour\n",
       "2024-12-16 07:00:00    1.000000\n",
       "2024-12-16 22:00:00    1.019545\n",
       "2024-12-16 23:00:00    1.000404\n",
       "2024-12-17 00:00:00    1.000051\n",
       "2024-12-17 01:00:00    0.991677\n",
       "2024-12-17 02:00:00    0.984430\n",
       "Name: Portfolio_Return, dtype: float64"
      ]
     },
     "execution_count": 133,
     "metadata": {},
     "output_type": "execute_result"
    }
   ],
   "source": [
    "normalized_portfolio_value = (1 + returns).cumprod()\n",
    "normalized_portfolio_value"
   ]
  },
  {
   "cell_type": "code",
   "execution_count": 134,
   "metadata": {},
   "outputs": [
    {
     "data": {
      "text/html": [
       "<div>\n",
       "<style scoped>\n",
       "    .dataframe tbody tr th:only-of-type {\n",
       "        vertical-align: middle;\n",
       "    }\n",
       "\n",
       "    .dataframe tbody tr th {\n",
       "        vertical-align: top;\n",
       "    }\n",
       "\n",
       "    .dataframe thead th {\n",
       "        text-align: right;\n",
       "    }\n",
       "</style>\n",
       "<table border=\"1\" class=\"dataframe\">\n",
       "  <thead>\n",
       "    <tr style=\"text-align: right;\">\n",
       "      <th></th>\n",
       "      <th>WBTC_Price</th>\n",
       "      <th>UNI_Price</th>\n",
       "      <th>LINK_Price</th>\n",
       "      <th>CRV_Price</th>\n",
       "    </tr>\n",
       "    <tr>\n",
       "      <th>hour</th>\n",
       "      <th></th>\n",
       "      <th></th>\n",
       "      <th></th>\n",
       "      <th></th>\n",
       "    </tr>\n",
       "  </thead>\n",
       "  <tbody>\n",
       "    <tr>\n",
       "      <th>2024-12-16 07:00:00</th>\n",
       "      <td>1.000000</td>\n",
       "      <td>1.000000</td>\n",
       "      <td>1.000000</td>\n",
       "      <td>1.000000</td>\n",
       "    </tr>\n",
       "    <tr>\n",
       "      <th>2024-12-16 22:00:00</th>\n",
       "      <td>1.013096</td>\n",
       "      <td>0.993994</td>\n",
       "      <td>1.021125</td>\n",
       "      <td>1.000000</td>\n",
       "    </tr>\n",
       "    <tr>\n",
       "      <th>2024-12-16 23:00:00</th>\n",
       "      <td>1.013240</td>\n",
       "      <td>0.990996</td>\n",
       "      <td>1.000959</td>\n",
       "      <td>0.993610</td>\n",
       "    </tr>\n",
       "    <tr>\n",
       "      <th>2024-12-17 00:00:00</th>\n",
       "      <td>1.011581</td>\n",
       "      <td>0.984989</td>\n",
       "      <td>1.000959</td>\n",
       "      <td>0.984469</td>\n",
       "    </tr>\n",
       "    <tr>\n",
       "      <th>2024-12-17 01:00:00</th>\n",
       "      <td>1.011562</td>\n",
       "      <td>0.975362</td>\n",
       "      <td>0.992664</td>\n",
       "      <td>0.976246</td>\n",
       "    </tr>\n",
       "    <tr>\n",
       "      <th>2024-12-17 02:00:00</th>\n",
       "      <td>1.011955</td>\n",
       "      <td>0.957232</td>\n",
       "      <td>0.986103</td>\n",
       "      <td>0.974425</td>\n",
       "    </tr>\n",
       "  </tbody>\n",
       "</table>\n",
       "</div>"
      ],
      "text/plain": [
       "                     WBTC_Price  UNI_Price  LINK_Price  CRV_Price\n",
       "hour                                                             \n",
       "2024-12-16 07:00:00    1.000000   1.000000    1.000000   1.000000\n",
       "2024-12-16 22:00:00    1.013096   0.993994    1.021125   1.000000\n",
       "2024-12-16 23:00:00    1.013240   0.990996    1.000959   0.993610\n",
       "2024-12-17 00:00:00    1.011581   0.984989    1.000959   0.984469\n",
       "2024-12-17 01:00:00    1.011562   0.975362    0.992664   0.976246\n",
       "2024-12-17 02:00:00    1.011955   0.957232    0.986103   0.974425"
      ]
     },
     "execution_count": 134,
     "metadata": {},
     "output_type": "execute_result"
    }
   ],
   "source": [
    "normalized_prices = (1 + price_returns).cumprod()\n",
    "normalized_prices\n"
   ]
  },
  {
   "cell_type": "code",
   "execution_count": 135,
   "metadata": {},
   "outputs": [
    {
     "data": {
      "text/html": [
       "<div>\n",
       "<style scoped>\n",
       "    .dataframe tbody tr th:only-of-type {\n",
       "        vertical-align: middle;\n",
       "    }\n",
       "\n",
       "    .dataframe tbody tr th {\n",
       "        vertical-align: top;\n",
       "    }\n",
       "\n",
       "    .dataframe thead th {\n",
       "        text-align: right;\n",
       "    }\n",
       "</style>\n",
       "<table border=\"1\" class=\"dataframe\">\n",
       "  <thead>\n",
       "    <tr style=\"text-align: right;\">\n",
       "      <th></th>\n",
       "      <th>WBTC_Price</th>\n",
       "      <th>UNI_Price</th>\n",
       "      <th>LINK_Price</th>\n",
       "      <th>CRV_Price</th>\n",
       "    </tr>\n",
       "    <tr>\n",
       "      <th>hour</th>\n",
       "      <th></th>\n",
       "      <th></th>\n",
       "      <th></th>\n",
       "      <th></th>\n",
       "    </tr>\n",
       "  </thead>\n",
       "  <tbody>\n",
       "    <tr>\n",
       "      <th>2024-12-16 07:00:00</th>\n",
       "      <td>0.000000</td>\n",
       "      <td>0.000000</td>\n",
       "      <td>0.000000</td>\n",
       "      <td>0.000000</td>\n",
       "    </tr>\n",
       "    <tr>\n",
       "      <th>2024-12-16 22:00:00</th>\n",
       "      <td>0.013096</td>\n",
       "      <td>-0.006006</td>\n",
       "      <td>0.021125</td>\n",
       "      <td>0.000000</td>\n",
       "    </tr>\n",
       "    <tr>\n",
       "      <th>2024-12-16 23:00:00</th>\n",
       "      <td>0.000142</td>\n",
       "      <td>-0.003017</td>\n",
       "      <td>-0.019749</td>\n",
       "      <td>-0.006390</td>\n",
       "    </tr>\n",
       "    <tr>\n",
       "      <th>2024-12-17 00:00:00</th>\n",
       "      <td>-0.001637</td>\n",
       "      <td>-0.006061</td>\n",
       "      <td>0.000000</td>\n",
       "      <td>-0.009200</td>\n",
       "    </tr>\n",
       "    <tr>\n",
       "      <th>2024-12-17 01:00:00</th>\n",
       "      <td>-0.000019</td>\n",
       "      <td>-0.009774</td>\n",
       "      <td>-0.008287</td>\n",
       "      <td>-0.008353</td>\n",
       "    </tr>\n",
       "    <tr>\n",
       "      <th>2024-12-17 02:00:00</th>\n",
       "      <td>0.000388</td>\n",
       "      <td>-0.018588</td>\n",
       "      <td>-0.006610</td>\n",
       "      <td>-0.001866</td>\n",
       "    </tr>\n",
       "  </tbody>\n",
       "</table>\n",
       "</div>"
      ],
      "text/plain": [
       "                     WBTC_Price  UNI_Price  LINK_Price  CRV_Price\n",
       "hour                                                             \n",
       "2024-12-16 07:00:00    0.000000   0.000000    0.000000   0.000000\n",
       "2024-12-16 22:00:00    0.013096  -0.006006    0.021125   0.000000\n",
       "2024-12-16 23:00:00    0.000142  -0.003017   -0.019749  -0.006390\n",
       "2024-12-17 00:00:00   -0.001637  -0.006061    0.000000  -0.009200\n",
       "2024-12-17 01:00:00   -0.000019  -0.009774   -0.008287  -0.008353\n",
       "2024-12-17 02:00:00    0.000388  -0.018588   -0.006610  -0.001866"
      ]
     },
     "execution_count": 135,
     "metadata": {},
     "output_type": "execute_result"
    }
   ],
   "source": [
    "price_returns"
   ]
  },
  {
   "cell_type": "code",
   "execution_count": 136,
   "metadata": {},
   "outputs": [],
   "source": [
    "def normalize(data, date):\n",
    "    # Convert Series to DataFrame and ensure it has a 'cumulative_return' column\n",
    "    if isinstance(data, pd.Series):\n",
    "        data = data.to_frame(name='cumulative_return')\n",
    "    else:\n",
    "        data = data.rename(columns={'Portfolio Return': 'cumulative_return'})\n",
    "\n",
    "    # Convert the DataFrame to reset index to allow slicing by position\n",
    "    cumulative_return_df = data.reset_index()\n",
    "    print('cum df', cumulative_return_df)\n",
    "\n",
    "    # Rename the index to 'DAY' if it doesn't already have that column\n",
    "    if 'index' in cumulative_return_df.columns:\n",
    "        cumulative_return_df = cumulative_return_df.rename(columns={'index': 'DAY'})\n",
    "\n",
    "    # Check for and handle duplicate 'DAY' columns\n",
    "    if cumulative_return_df.columns.duplicated().any():\n",
    "        cumulative_return_df = cumulative_return_df.loc[:, ~cumulative_return_df.columns.duplicated()]\n",
    "\n",
    "    # Convert the 'DAY' column to datetime if it's not already\n",
    "    cumulative_return_df['DAY'] = pd.to_datetime(cumulative_return_df['DAY'])\n",
    "\n",
    "    # Filter the DataFrame to start from the specified date\n",
    "    cumulative_return_df = cumulative_return_df[cumulative_return_df['DAY'] >= pd.to_datetime(date)]\n",
    "\n",
    "    # Prepare base return (use cumulative_return as the base)\n",
    "    base_return = cumulative_return_df.copy().dropna()\n",
    "    print('base return', base_return)\n",
    "\n",
    "    # Drop any existing columns and rename them\n",
    "    base_return = base_return[['DAY', 'cumulative_return']].rename(columns={'cumulative_return': 'base_cumulative_return'})\n",
    "\n",
    "    # Combine results\n",
    "    combined = base_return.sort_values('DAY')\n",
    "\n",
    "    # Check if combined is empty\n",
    "    if combined.empty:\n",
    "        print(\"Warning: No data available after the specified start date.\")\n",
    "        # Optionally, return an empty DataFrame or handle as needed\n",
    "        return pd.DataFrame(columns=['DAY', 'treasury_return']).set_index('DAY')\n",
    "\n",
    "    # Normalize returns\n",
    "    first_value = combined['base_cumulative_return'].iloc[0]  # Get the first value\n",
    "    combined['treasury_return'] = 100 + (100 * (combined['base_cumulative_return'] - first_value))\n",
    "\n",
    "    # Final output\n",
    "    normalized_returns = combined[['DAY', 'treasury_return']]\n",
    "    normalized_returns.set_index('DAY', inplace=True)\n",
    "\n",
    "    return normalized_returns"
   ]
  },
  {
   "cell_type": "code",
   "execution_count": 137,
   "metadata": {},
   "outputs": [
    {
     "data": {
      "text/plain": [
       "0.044199999999999996"
      ]
     },
     "execution_count": 137,
     "metadata": {},
     "output_type": "execute_result"
    }
   ],
   "source": [
    "current_risk_free"
   ]
  },
  {
   "cell_type": "code",
   "execution_count": 138,
   "metadata": {},
   "outputs": [
    {
     "data": {
      "text/plain": [
       "-1.198968264422309"
      ]
     },
     "execution_count": 138,
     "metadata": {},
     "output_type": "execute_result"
    }
   ],
   "source": [
    "sortino_ratio"
   ]
  },
  {
   "cell_type": "code",
   "execution_count": 139,
   "metadata": {},
   "outputs": [],
   "source": [
    "def normalize_log_returns(data, date):\n",
    "    # Convert the DataFrame to use 'DAY' as the index\n",
    "\n",
    "    # Calculate log returns\n",
    "    log_returns = np.log(data / data.shift(1)).dropna()\n",
    "\n",
    "    # Calculate cumulative log returns\n",
    "    cumulative_log_returns = log_returns.cumsum()\n",
    "\n",
    "    # Convert cumulative log returns to cumulative simple returns\n",
    "    cumulative_simple_returns = np.exp(cumulative_log_returns) - 1\n",
    "\n",
    "    # Convert the DataFrame to reset index to allow slicing by position\n",
    "    cumulative_return_df = cumulative_simple_returns.reset_index()\n",
    "    \n",
    "    return log_returns, cumulative_log_returns, cumulative_simple_returns"
   ]
  },
  {
   "cell_type": "markdown",
   "metadata": {},
   "source": [
    "# Visualizations"
   ]
  },
  {
   "cell_type": "code",
   "execution_count": 140,
   "metadata": {},
   "outputs": [],
   "source": [
    "from python_scripts.utils import normalize_asset_returns"
   ]
  },
  {
   "cell_type": "code",
   "execution_count": null,
   "metadata": {},
   "outputs": [
    {
     "name": "stdout",
     "output_type": "stream",
     "text": [
      "Balances for account 0x75baD5ae9f46e8AEBf61e4A7179cEf3A0CeD6766: {'CRV': 4.291008269e-09, 'LINK': 1.652236831399549, 'UNI': 0.18303746793932313, 'WBTC': 0.0}\n",
      "balances: dict_keys(['CRV', 'LINK', 'UNI', 'WBTC'])\n",
      "TOKEN_CONTRACTS.keys(): dict_keys(['CRV', 'LINK', 'UNI', 'WBTC'])\n"
     ]
    }
   ],
   "source": [
    "model_balances = get_balance(TOKEN_CONTRACTS,TOKEN_DECIMALS,ACCOUNT_ADDRESS)\n",
    "\n",
    "model_balances_usd = convert_to_usd(model_balances,latest_prices,TOKEN_CONTRACTS)\n",
    "portfolio_balance = sum(model_balances_usd.values())\n",
    "\n"
   ]
  },
  {
   "cell_type": "code",
   "execution_count": 142,
   "metadata": {},
   "outputs": [
    {
     "name": "stdout",
     "output_type": "stream",
     "text": [
      "values: {'Portfolio Value': 50.26335433654252, 'date': '2024-12-17 03:00:00'}\n"
     ]
    }
   ],
   "source": [
    "portfolio_dict = {\n",
    "    \"Portfolio Value\": portfolio_balance,\n",
    "    \"date\": end_date\n",
    "}\n",
    "\n",
    "# Save new portfolio to CSV\n",
    "\n",
    "update_portfolio_data(portfolio_dict)"
   ]
  },
  {
   "cell_type": "code",
   "execution_count": 143,
   "metadata": {},
   "outputs": [
    {
     "name": "stdout",
     "output_type": "stream",
     "text": [
      "comp_dict_data: {'CRV comp': 9.143181780762791e-11, 'LINK comp': 0.9417713132046657, 'UNI comp': 0.05822868670390256, 'WBTC comp': 0.0}\n"
     ]
    }
   ],
   "source": [
    "comp_dict_data = calculate_compositions(model_balances_usd, portfolio_balance)\n",
    "\n",
    "print(f'comp_dict_data: {comp_dict_data}')\n",
    "\n",
    "comp_dict = {**comp_dict_data, 'date': formatted_today_utc}\n",
    "\n",
    "update_historical_data(comp_dict)"
   ]
  },
  {
   "cell_type": "code",
   "execution_count": 144,
   "metadata": {},
   "outputs": [
    {
     "data": {
      "text/html": [
       "<div>\n",
       "<style scoped>\n",
       "    .dataframe tbody tr th:only-of-type {\n",
       "        vertical-align: middle;\n",
       "    }\n",
       "\n",
       "    .dataframe tbody tr th {\n",
       "        vertical-align: top;\n",
       "    }\n",
       "\n",
       "    .dataframe thead th {\n",
       "        text-align: right;\n",
       "    }\n",
       "</style>\n",
       "<table border=\"1\" class=\"dataframe\">\n",
       "  <thead>\n",
       "    <tr style=\"text-align: right;\">\n",
       "      <th></th>\n",
       "      <th>Return</th>\n",
       "      <th>Date</th>\n",
       "    </tr>\n",
       "  </thead>\n",
       "  <tbody>\n",
       "    <tr>\n",
       "      <th>0</th>\n",
       "      <td>0.000000</td>\n",
       "      <td>2024-12-16 07:00:00</td>\n",
       "    </tr>\n",
       "    <tr>\n",
       "      <th>1</th>\n",
       "      <td>0.019545</td>\n",
       "      <td>2024-12-16 22:00:00</td>\n",
       "    </tr>\n",
       "    <tr>\n",
       "      <th>2</th>\n",
       "      <td>-0.018774</td>\n",
       "      <td>2024-12-16 23:00:00</td>\n",
       "    </tr>\n",
       "    <tr>\n",
       "      <th>3</th>\n",
       "      <td>-0.000353</td>\n",
       "      <td>2024-12-17 00:00:00</td>\n",
       "    </tr>\n",
       "    <tr>\n",
       "      <th>4</th>\n",
       "      <td>-0.008374</td>\n",
       "      <td>2024-12-17 01:00:00</td>\n",
       "    </tr>\n",
       "  </tbody>\n",
       "</table>\n",
       "</div>"
      ],
      "text/plain": [
       "     Return                Date\n",
       "0  0.000000 2024-12-16 07:00:00\n",
       "1  0.019545 2024-12-16 22:00:00\n",
       "2 -0.018774 2024-12-16 23:00:00\n",
       "3 -0.000353 2024-12-17 00:00:00\n",
       "4 -0.008374 2024-12-17 01:00:00"
      ]
     },
     "execution_count": 144,
     "metadata": {},
     "output_type": "execute_result"
    }
   ],
   "source": [
    "portfolio_values_df"
   ]
  },
  {
   "cell_type": "code",
   "execution_count": 145,
   "metadata": {},
   "outputs": [
    {
     "name": "stdout",
     "output_type": "stream",
     "text": [
      "price index: RangeIndex(start=0, stop=5, step=1)\n",
      "portfolio index: RangeIndex(start=0, stop=5, step=1)\n",
      "portfolio_values_df:      Return                Date\n",
      "0  0.000000 2024-12-16 07:00:00\n",
      "1  0.019545 2024-12-16 22:00:00\n",
      "2 -0.018774 2024-12-16 23:00:00\n",
      "3 -0.000353 2024-12-17 00:00:00\n",
      "4 -0.008374 2024-12-17 01:00:00\n",
      "first portfolio_values_df: [0.0 Timestamp('2024-12-16 07:00:00')]\n",
      "viz_port_values:      Return                Date\n",
      "0  0.000000 2024-12-16 07:00:00\n",
      "1  0.019545 2024-12-16 22:00:00\n",
      "2 -0.018774 2024-12-16 23:00:00\n",
      "3 -0.000353 2024-12-17 00:00:00\n",
      "4 -0.008374 2024-12-17 01:00:00\n"
     ]
    }
   ],
   "source": [
    "# portfolio_values_df.set_index('Date', inplace=True)\n",
    "# portfolio_return = calculate_cumulative_return(portfolio_values_df, 'Portfolio_Value')\n",
    "\n",
    "# prices_df.index = pd.to_datetime(prices_df.index)\n",
    "print(f'price index: {prices_df.index}')\n",
    "\n",
    "# Assuming 'portfolio_values_df' is your DataFrame with a timezone-aware index\n",
    "print(f'portfolio index: {portfolio_values_df.index}')\n",
    "# portfolio_values_df.index = portfolio_values_df.index.tz_localize(None)\n",
    "\n",
    "print(f'portfolio_values_df: {portfolio_values_df}')\n",
    "print(f'first portfolio_values_df: {portfolio_values_df.values[0]}')\n",
    "viz_port_values = portfolio_values_df.copy()\n",
    "# viz_port_values.set_index('Date',inplace=True)\n",
    "\n",
    "print(F'viz_port_values: {viz_port_values}')\n",
    "\n",
    "viz_port_values.set_index('Date',inplace=True)"
   ]
  },
  {
   "cell_type": "code",
   "execution_count": null,
   "metadata": {},
   "outputs": [
    {
     "name": "stdout",
     "output_type": "stream",
     "text": [
      "price index: RangeIndex(start=0, stop=7, step=1)\n"
     ]
    },
    {
     "ename": "AttributeError",
     "evalue": "'RangeIndex' object has no attribute 'tz_localize'",
     "output_type": "error",
     "traceback": [
      "\u001b[1;31m---------------------------------------------------------------------------\u001b[0m",
      "\u001b[1;31mAttributeError\u001b[0m                            Traceback (most recent call last)",
      "Cell \u001b[1;32mIn[148], line 1\u001b[0m\n\u001b[1;32m----> 1\u001b[0m viz_port_values \u001b[38;5;241m=\u001b[39m \u001b[43mprepare_data_for_simulation\u001b[49m\u001b[43m(\u001b[49m\u001b[43mviz_port_values\u001b[49m\u001b[43m,\u001b[49m\u001b[43mformatted_today_utc\u001b[49m\u001b[43m,\u001b[49m\u001b[43mend_date\u001b[49m\u001b[43m)\u001b[49m\n\u001b[0;32m      2\u001b[0m viz_port_values\u001b[38;5;241m.\u001b[39mset_index(\u001b[38;5;124m'\u001b[39m\u001b[38;5;124mhour\u001b[39m\u001b[38;5;124m'\u001b[39m,inplace\u001b[38;5;241m=\u001b[39m\u001b[38;5;28;01mTrue\u001b[39;00m)\n",
      "File \u001b[1;32me:\\Projects\\portfolio_optimizers\\dao_advisor_project\\python_scripts\\utils.py:304\u001b[0m, in \u001b[0;36mprepare_data_for_simulation\u001b[1;34m(price_timeseries, start_date, end_date)\u001b[0m\n\u001b[0;32m    295\u001b[0m \u001b[38;5;66;03m# Ensure 'ds' is in datetime format\u001b[39;00m\n\u001b[0;32m    296\u001b[0m \u001b[38;5;66;03m# price_timeseries['hour'] = pd.to_datetime(price_timeseries['hour'])\u001b[39;00m\n\u001b[0;32m    297\u001b[0m \n\u001b[0;32m    298\u001b[0m \u001b[38;5;66;03m# Set the index to 'ds' for easier manipulation\u001b[39;00m\n\u001b[0;32m    299\u001b[0m \u001b[38;5;66;03m# if price_timeseries.index.name != 'hour':\u001b[39;00m\n\u001b[0;32m    300\u001b[0m \u001b[38;5;66;03m#     price_timeseries.set_index('hour', inplace=True)\u001b[39;00m\n\u001b[0;32m    302\u001b[0m \u001b[38;5;28mprint\u001b[39m(\u001b[38;5;124mf\u001b[39m\u001b[38;5;124m'\u001b[39m\u001b[38;5;124mprice index: \u001b[39m\u001b[38;5;132;01m{\u001b[39;00mprice_timeseries\u001b[38;5;241m.\u001b[39mindex\u001b[38;5;132;01m}\u001b[39;00m\u001b[38;5;124m'\u001b[39m)\n\u001b[1;32m--> 304\u001b[0m price_timeseries\u001b[38;5;241m.\u001b[39mindex \u001b[38;5;241m=\u001b[39m \u001b[43mprice_timeseries\u001b[49m\u001b[38;5;241;43m.\u001b[39;49m\u001b[43mindex\u001b[49m\u001b[38;5;241;43m.\u001b[39;49m\u001b[43mtz_localize\u001b[49m(\u001b[38;5;28;01mNone\u001b[39;00m)\n\u001b[0;32m    306\u001b[0m \u001b[38;5;66;03m# Check if start_date and end_date exist in the data\u001b[39;00m\n\u001b[0;32m    307\u001b[0m required_dates \u001b[38;5;241m=\u001b[39m pd\u001b[38;5;241m.\u001b[39mdate_range(start\u001b[38;5;241m=\u001b[39mstart_date, end\u001b[38;5;241m=\u001b[39mend_date, freq\u001b[38;5;241m=\u001b[39m\u001b[38;5;124m'\u001b[39m\u001b[38;5;124mH\u001b[39m\u001b[38;5;124m'\u001b[39m)\n",
      "\u001b[1;31mAttributeError\u001b[0m: 'RangeIndex' object has no attribute 'tz_localize'"
     ]
    }
   ],
   "source": [
    "# viz_port_values = prepare_data_for_simulation(viz_port_values,formatted_today_utc,end_date)\n"
   ]
  },
  {
   "cell_type": "code",
   "execution_count": 149,
   "metadata": {},
   "outputs": [],
   "source": [
    "viz_port_values.set_index('hour',inplace=True)\n"
   ]
  },
  {
   "cell_type": "code",
   "execution_count": 157,
   "metadata": {},
   "outputs": [
    {
     "data": {
      "text/html": [
       "<div>\n",
       "<style scoped>\n",
       "    .dataframe tbody tr th:only-of-type {\n",
       "        vertical-align: middle;\n",
       "    }\n",
       "\n",
       "    .dataframe tbody tr th {\n",
       "        vertical-align: top;\n",
       "    }\n",
       "\n",
       "    .dataframe thead th {\n",
       "        text-align: right;\n",
       "    }\n",
       "</style>\n",
       "<table border=\"1\" class=\"dataframe\">\n",
       "  <thead>\n",
       "    <tr style=\"text-align: right;\">\n",
       "      <th></th>\n",
       "      <th>Return</th>\n",
       "    </tr>\n",
       "    <tr>\n",
       "      <th>hour</th>\n",
       "      <th></th>\n",
       "    </tr>\n",
       "  </thead>\n",
       "  <tbody>\n",
       "    <tr>\n",
       "      <th>2024-12-16 07:00:00</th>\n",
       "      <td>0.000000</td>\n",
       "    </tr>\n",
       "    <tr>\n",
       "      <th>2024-12-16 22:00:00</th>\n",
       "      <td>0.019545</td>\n",
       "    </tr>\n",
       "    <tr>\n",
       "      <th>2024-12-16 23:00:00</th>\n",
       "      <td>-0.018774</td>\n",
       "    </tr>\n",
       "    <tr>\n",
       "      <th>2024-12-17 00:00:00</th>\n",
       "      <td>-0.000353</td>\n",
       "    </tr>\n",
       "    <tr>\n",
       "      <th>2024-12-17 01:00:00</th>\n",
       "      <td>-0.008374</td>\n",
       "    </tr>\n",
       "    <tr>\n",
       "      <th>2024-12-17 02:00:00</th>\n",
       "      <td>-0.008374</td>\n",
       "    </tr>\n",
       "    <tr>\n",
       "      <th>2024-12-17 03:00:00</th>\n",
       "      <td>-0.008374</td>\n",
       "    </tr>\n",
       "  </tbody>\n",
       "</table>\n",
       "</div>"
      ],
      "text/plain": [
       "                       Return\n",
       "hour                         \n",
       "2024-12-16 07:00:00  0.000000\n",
       "2024-12-16 22:00:00  0.019545\n",
       "2024-12-16 23:00:00 -0.018774\n",
       "2024-12-17 00:00:00 -0.000353\n",
       "2024-12-17 01:00:00 -0.008374\n",
       "2024-12-17 02:00:00 -0.008374\n",
       "2024-12-17 03:00:00 -0.008374"
      ]
     },
     "execution_count": 157,
     "metadata": {},
     "output_type": "execute_result"
    }
   ],
   "source": [
    "viz_port_values"
   ]
  },
  {
   "cell_type": "code",
   "execution_count": 159,
   "metadata": {},
   "outputs": [],
   "source": [
    "import pandas as pd\n",
    "import numpy as np\n",
    "\n",
    "def normalize_log_returns(log_returns_timeseries, start_date, end_date, normalize_value=1e4):\n",
    "    start_date = pd.to_datetime(start_date)\n",
    "    end_date = pd.to_datetime(end_date)\n",
    "\n",
    "    # Filter the data based on the start date and end date\n",
    "    filtered_data = log_returns_timeseries[(log_returns_timeseries.index >= start_date) & \n",
    "                                           (log_returns_timeseries.index <= end_date)].copy()\n",
    "    \n",
    "    if filtered_data.empty:\n",
    "        print(\"Filtered data is empty after applying the date filter.\")\n",
    "        return pd.DataFrame()\n",
    "\n",
    "    # Initialize a dictionary to store normalized values for each asset (column)\n",
    "    normalized_values = {col: [normalize_value] for col in filtered_data.columns}\n",
    "    dates = [filtered_data.index[0]]  # Use the original start date for labeling\n",
    "\n",
    "    # Loop through the filtered data and calculate normalized returns for each asset\n",
    "    for i in range(len(filtered_data)):\n",
    "        for col in filtered_data.columns:\n",
    "            log_return = filtered_data[col].iloc[i]\n",
    "            normalized_values[col].append(normalized_values[col][-1] * np.exp(log_return))\n",
    "\n",
    "        dates.append(filtered_data.index[i])\n",
    "\n",
    "    # Create a DataFrame with normalized values for each asset, excluding the initial date\n",
    "    normalized_returns_df = pd.DataFrame({col: vals[1:] for col, vals in normalized_values.items()}, index=dates[1:])\n",
    "\n",
    "    return normalized_returns_df\n"
   ]
  },
  {
   "cell_type": "code",
   "execution_count": 160,
   "metadata": {},
   "outputs": [
    {
     "data": {
      "text/html": [
       "<div>\n",
       "<style scoped>\n",
       "    .dataframe tbody tr th:only-of-type {\n",
       "        vertical-align: middle;\n",
       "    }\n",
       "\n",
       "    .dataframe tbody tr th {\n",
       "        vertical-align: top;\n",
       "    }\n",
       "\n",
       "    .dataframe thead th {\n",
       "        text-align: right;\n",
       "    }\n",
       "</style>\n",
       "<table border=\"1\" class=\"dataframe\">\n",
       "  <thead>\n",
       "    <tr style=\"text-align: right;\">\n",
       "      <th></th>\n",
       "      <th>Return</th>\n",
       "    </tr>\n",
       "  </thead>\n",
       "  <tbody>\n",
       "    <tr>\n",
       "      <th>2024-12-16 07:00:00</th>\n",
       "      <td>100.000000</td>\n",
       "    </tr>\n",
       "    <tr>\n",
       "      <th>2024-12-16 22:00:00</th>\n",
       "      <td>101.973759</td>\n",
       "    </tr>\n",
       "    <tr>\n",
       "      <th>2024-12-16 23:00:00</th>\n",
       "      <td>100.077124</td>\n",
       "    </tr>\n",
       "    <tr>\n",
       "      <th>2024-12-17 00:00:00</th>\n",
       "      <td>100.041812</td>\n",
       "    </tr>\n",
       "    <tr>\n",
       "      <th>2024-12-17 01:00:00</th>\n",
       "      <td>99.207569</td>\n",
       "    </tr>\n",
       "    <tr>\n",
       "      <th>2024-12-17 02:00:00</th>\n",
       "      <td>98.380282</td>\n",
       "    </tr>\n",
       "    <tr>\n",
       "      <th>2024-12-17 03:00:00</th>\n",
       "      <td>97.559895</td>\n",
       "    </tr>\n",
       "  </tbody>\n",
       "</table>\n",
       "</div>"
      ],
      "text/plain": [
       "                         Return\n",
       "2024-12-16 07:00:00  100.000000\n",
       "2024-12-16 22:00:00  101.973759\n",
       "2024-12-16 23:00:00  100.077124\n",
       "2024-12-17 00:00:00  100.041812\n",
       "2024-12-17 01:00:00   99.207569\n",
       "2024-12-17 02:00:00   98.380282\n",
       "2024-12-17 03:00:00   97.559895"
      ]
     },
     "execution_count": 160,
     "metadata": {},
     "output_type": "execute_result"
    }
   ],
   "source": [
    "norm_port = normalize_log_returns(viz_port_values, viz_port_values.index.min(),viz_port_values.index.max(), 100)\n",
    "norm_port"
   ]
  },
  {
   "cell_type": "code",
   "execution_count": null,
   "metadata": {},
   "outputs": [
    {
     "name": "stdout",
     "output_type": "stream",
     "text": [
      "price index: RangeIndex(start=0, stop=7, step=1)\n"
     ]
    },
    {
     "ename": "AttributeError",
     "evalue": "'RangeIndex' object has no attribute 'tz_localize'",
     "output_type": "error",
     "traceback": [
      "\u001b[1;31m---------------------------------------------------------------------------\u001b[0m",
      "\u001b[1;31mAttributeError\u001b[0m                            Traceback (most recent call last)",
      "Cell \u001b[1;32mIn[172], line 1\u001b[0m\n\u001b[1;32m----> 1\u001b[0m oralce_copy \u001b[38;5;241m=\u001b[39m \u001b[43mprepare_data_for_simulation\u001b[49m\u001b[43m(\u001b[49m\u001b[43moralce_copy\u001b[49m\u001b[43m,\u001b[49m\u001b[43m \u001b[49m\u001b[43mstart_date\u001b[49m\u001b[43m,\u001b[49m\u001b[43m \u001b[49m\u001b[43mend_date\u001b[49m\u001b[43m)\u001b[49m\n\u001b[0;32m      2\u001b[0m oralce_copy\u001b[38;5;241m.\u001b[39mset_index(\u001b[38;5;124m'\u001b[39m\u001b[38;5;124mdate\u001b[39m\u001b[38;5;124m'\u001b[39m,inplace\u001b[38;5;241m=\u001b[39m\u001b[38;5;28;01mTrue\u001b[39;00m)\n",
      "File \u001b[1;32me:\\Projects\\portfolio_optimizers\\dao_advisor_project\\python_scripts\\utils.py:304\u001b[0m, in \u001b[0;36mprepare_data_for_simulation\u001b[1;34m(price_timeseries, start_date, end_date)\u001b[0m\n\u001b[0;32m    295\u001b[0m \u001b[38;5;66;03m# Ensure 'ds' is in datetime format\u001b[39;00m\n\u001b[0;32m    296\u001b[0m \u001b[38;5;66;03m# price_timeseries['hour'] = pd.to_datetime(price_timeseries['hour'])\u001b[39;00m\n\u001b[0;32m    297\u001b[0m \n\u001b[0;32m    298\u001b[0m \u001b[38;5;66;03m# Set the index to 'ds' for easier manipulation\u001b[39;00m\n\u001b[0;32m    299\u001b[0m \u001b[38;5;66;03m# if price_timeseries.index.name != 'hour':\u001b[39;00m\n\u001b[0;32m    300\u001b[0m \u001b[38;5;66;03m#     price_timeseries.set_index('hour', inplace=True)\u001b[39;00m\n\u001b[0;32m    302\u001b[0m \u001b[38;5;28mprint\u001b[39m(\u001b[38;5;124mf\u001b[39m\u001b[38;5;124m'\u001b[39m\u001b[38;5;124mprice index: \u001b[39m\u001b[38;5;132;01m{\u001b[39;00mprice_timeseries\u001b[38;5;241m.\u001b[39mindex\u001b[38;5;132;01m}\u001b[39;00m\u001b[38;5;124m'\u001b[39m)\n\u001b[1;32m--> 304\u001b[0m price_timeseries\u001b[38;5;241m.\u001b[39mindex \u001b[38;5;241m=\u001b[39m \u001b[43mprice_timeseries\u001b[49m\u001b[38;5;241;43m.\u001b[39;49m\u001b[43mindex\u001b[49m\u001b[38;5;241;43m.\u001b[39;49m\u001b[43mtz_localize\u001b[49m(\u001b[38;5;28;01mNone\u001b[39;00m)\n\u001b[0;32m    306\u001b[0m \u001b[38;5;66;03m# Check if start_date and end_date exist in the data\u001b[39;00m\n\u001b[0;32m    307\u001b[0m required_dates \u001b[38;5;241m=\u001b[39m pd\u001b[38;5;241m.\u001b[39mdate_range(start\u001b[38;5;241m=\u001b[39mstart_date, end\u001b[38;5;241m=\u001b[39mend_date, freq\u001b[38;5;241m=\u001b[39m\u001b[38;5;124m'\u001b[39m\u001b[38;5;124mH\u001b[39m\u001b[38;5;124m'\u001b[39m)\n",
      "\u001b[1;31mAttributeError\u001b[0m: 'RangeIndex' object has no attribute 'tz_localize'"
     ]
    }
   ],
   "source": [
    "# oralce_copy = prepare_data_for_simulation(oralce_copy, start_date, end_date)\n"
   ]
  },
  {
   "cell_type": "code",
   "execution_count": null,
   "metadata": {},
   "outputs": [],
   "source": [
    "oralce_copy.set_index('hour',inplace=True)"
   ]
  },
  {
   "cell_type": "code",
   "execution_count": 176,
   "metadata": {},
   "outputs": [
    {
     "data": {
      "text/html": [
       "<div>\n",
       "<style scoped>\n",
       "    .dataframe tbody tr th:only-of-type {\n",
       "        vertical-align: middle;\n",
       "    }\n",
       "\n",
       "    .dataframe tbody tr th {\n",
       "        vertical-align: top;\n",
       "    }\n",
       "\n",
       "    .dataframe thead th {\n",
       "        text-align: right;\n",
       "    }\n",
       "</style>\n",
       "<table border=\"1\" class=\"dataframe\">\n",
       "  <thead>\n",
       "    <tr style=\"text-align: right;\">\n",
       "      <th></th>\n",
       "      <th>WBTC_Price</th>\n",
       "      <th>UNI_Price</th>\n",
       "      <th>LINK_Price</th>\n",
       "      <th>CRV_Price</th>\n",
       "    </tr>\n",
       "  </thead>\n",
       "  <tbody>\n",
       "    <tr>\n",
       "      <th>2024-12-16 07:00:00</th>\n",
       "      <td>100.000000</td>\n",
       "      <td>100.000000</td>\n",
       "      <td>100.000000</td>\n",
       "      <td>100.000000</td>\n",
       "    </tr>\n",
       "    <tr>\n",
       "      <th>2024-12-16 22:00:00</th>\n",
       "      <td>101.318210</td>\n",
       "      <td>99.401198</td>\n",
       "      <td>102.134986</td>\n",
       "      <td>100.000000</td>\n",
       "    </tr>\n",
       "    <tr>\n",
       "      <th>2024-12-16 23:00:00</th>\n",
       "      <td>101.332580</td>\n",
       "      <td>99.101796</td>\n",
       "      <td>100.137741</td>\n",
       "      <td>99.363057</td>\n",
       "    </tr>\n",
       "    <tr>\n",
       "      <th>2024-12-17 00:00:00</th>\n",
       "      <td>101.166845</td>\n",
       "      <td>98.502994</td>\n",
       "      <td>100.137741</td>\n",
       "      <td>98.453139</td>\n",
       "    </tr>\n",
       "    <tr>\n",
       "      <th>2024-12-17 01:00:00</th>\n",
       "      <td>101.164929</td>\n",
       "      <td>97.544910</td>\n",
       "      <td>99.311295</td>\n",
       "      <td>97.634213</td>\n",
       "    </tr>\n",
       "    <tr>\n",
       "      <th>2024-12-17 02:00:00</th>\n",
       "      <td>101.204208</td>\n",
       "      <td>95.748503</td>\n",
       "      <td>98.657025</td>\n",
       "      <td>97.452229</td>\n",
       "    </tr>\n",
       "    <tr>\n",
       "      <th>2024-12-17 03:00:00</th>\n",
       "      <td>101.204208</td>\n",
       "      <td>95.748503</td>\n",
       "      <td>98.657025</td>\n",
       "      <td>97.452229</td>\n",
       "    </tr>\n",
       "  </tbody>\n",
       "</table>\n",
       "</div>"
      ],
      "text/plain": [
       "                     WBTC_Price   UNI_Price  LINK_Price   CRV_Price\n",
       "2024-12-16 07:00:00  100.000000  100.000000  100.000000  100.000000\n",
       "2024-12-16 22:00:00  101.318210   99.401198  102.134986  100.000000\n",
       "2024-12-16 23:00:00  101.332580   99.101796  100.137741   99.363057\n",
       "2024-12-17 00:00:00  101.166845   98.502994  100.137741   98.453139\n",
       "2024-12-17 01:00:00  101.164929   97.544910   99.311295   97.634213\n",
       "2024-12-17 02:00:00  101.204208   95.748503   98.657025   97.452229\n",
       "2024-12-17 03:00:00  101.204208   95.748503   98.657025   97.452229"
      ]
     },
     "execution_count": 176,
     "metadata": {},
     "output_type": "execute_result"
    }
   ],
   "source": [
    "norm_prices = normalize_asset_returns(oralce_copy, viz_port_values.index.min(),viz_port_values.index.max(), 100)\n",
    "norm_prices"
   ]
  },
  {
   "cell_type": "code",
   "execution_count": 177,
   "metadata": {},
   "outputs": [
    {
     "data": {
      "text/html": [
       "<div>\n",
       "<style scoped>\n",
       "    .dataframe tbody tr th:only-of-type {\n",
       "        vertical-align: middle;\n",
       "    }\n",
       "\n",
       "    .dataframe tbody tr th {\n",
       "        vertical-align: top;\n",
       "    }\n",
       "\n",
       "    .dataframe thead th {\n",
       "        text-align: right;\n",
       "    }\n",
       "</style>\n",
       "<table border=\"1\" class=\"dataframe\">\n",
       "  <thead>\n",
       "    <tr style=\"text-align: right;\">\n",
       "      <th></th>\n",
       "      <th>WBTC_Price</th>\n",
       "      <th>UNI_Price</th>\n",
       "      <th>LINK_Price</th>\n",
       "      <th>CRV_Price</th>\n",
       "    </tr>\n",
       "  </thead>\n",
       "  <tbody>\n",
       "    <tr>\n",
       "      <th>2024-12-16 07:00:00</th>\n",
       "      <td>100.000000</td>\n",
       "      <td>100.000000</td>\n",
       "      <td>100.000000</td>\n",
       "      <td>100.000000</td>\n",
       "    </tr>\n",
       "    <tr>\n",
       "      <th>2024-12-16 22:00:00</th>\n",
       "      <td>101.318210</td>\n",
       "      <td>99.401198</td>\n",
       "      <td>102.134986</td>\n",
       "      <td>100.000000</td>\n",
       "    </tr>\n",
       "    <tr>\n",
       "      <th>2024-12-16 23:00:00</th>\n",
       "      <td>101.332580</td>\n",
       "      <td>99.101796</td>\n",
       "      <td>100.137741</td>\n",
       "      <td>99.363057</td>\n",
       "    </tr>\n",
       "    <tr>\n",
       "      <th>2024-12-17 00:00:00</th>\n",
       "      <td>101.166845</td>\n",
       "      <td>98.502994</td>\n",
       "      <td>100.137741</td>\n",
       "      <td>98.453139</td>\n",
       "    </tr>\n",
       "    <tr>\n",
       "      <th>2024-12-17 01:00:00</th>\n",
       "      <td>101.164929</td>\n",
       "      <td>97.544910</td>\n",
       "      <td>99.311295</td>\n",
       "      <td>97.634213</td>\n",
       "    </tr>\n",
       "    <tr>\n",
       "      <th>2024-12-17 02:00:00</th>\n",
       "      <td>101.204208</td>\n",
       "      <td>95.748503</td>\n",
       "      <td>98.657025</td>\n",
       "      <td>97.452229</td>\n",
       "    </tr>\n",
       "    <tr>\n",
       "      <th>2024-12-17 03:00:00</th>\n",
       "      <td>101.204208</td>\n",
       "      <td>95.748503</td>\n",
       "      <td>98.657025</td>\n",
       "      <td>97.452229</td>\n",
       "    </tr>\n",
       "  </tbody>\n",
       "</table>\n",
       "</div>"
      ],
      "text/plain": [
       "                     WBTC_Price   UNI_Price  LINK_Price   CRV_Price\n",
       "2024-12-16 07:00:00  100.000000  100.000000  100.000000  100.000000\n",
       "2024-12-16 22:00:00  101.318210   99.401198  102.134986  100.000000\n",
       "2024-12-16 23:00:00  101.332580   99.101796  100.137741   99.363057\n",
       "2024-12-17 00:00:00  101.166845   98.502994  100.137741   98.453139\n",
       "2024-12-17 01:00:00  101.164929   97.544910   99.311295   97.634213\n",
       "2024-12-17 02:00:00  101.204208   95.748503   98.657025   97.452229\n",
       "2024-12-17 03:00:00  101.204208   95.748503   98.657025   97.452229"
      ]
     },
     "execution_count": 177,
     "metadata": {},
     "output_type": "execute_result"
    }
   ],
   "source": [
    "norm_prices"
   ]
  },
  {
   "cell_type": "code",
   "execution_count": 178,
   "metadata": {},
   "outputs": [
    {
     "data": {
      "text/html": [
       "<div>\n",
       "<style scoped>\n",
       "    .dataframe tbody tr th:only-of-type {\n",
       "        vertical-align: middle;\n",
       "    }\n",
       "\n",
       "    .dataframe tbody tr th {\n",
       "        vertical-align: top;\n",
       "    }\n",
       "\n",
       "    .dataframe thead th {\n",
       "        text-align: right;\n",
       "    }\n",
       "</style>\n",
       "<table border=\"1\" class=\"dataframe\">\n",
       "  <thead>\n",
       "    <tr style=\"text-align: right;\">\n",
       "      <th></th>\n",
       "      <th>Return</th>\n",
       "    </tr>\n",
       "  </thead>\n",
       "  <tbody>\n",
       "    <tr>\n",
       "      <th>2024-12-16 07:00:00</th>\n",
       "      <td>100.000000</td>\n",
       "    </tr>\n",
       "    <tr>\n",
       "      <th>2024-12-16 22:00:00</th>\n",
       "      <td>101.973759</td>\n",
       "    </tr>\n",
       "    <tr>\n",
       "      <th>2024-12-16 23:00:00</th>\n",
       "      <td>100.077124</td>\n",
       "    </tr>\n",
       "    <tr>\n",
       "      <th>2024-12-17 00:00:00</th>\n",
       "      <td>100.041812</td>\n",
       "    </tr>\n",
       "    <tr>\n",
       "      <th>2024-12-17 01:00:00</th>\n",
       "      <td>99.207569</td>\n",
       "    </tr>\n",
       "    <tr>\n",
       "      <th>2024-12-17 02:00:00</th>\n",
       "      <td>98.380282</td>\n",
       "    </tr>\n",
       "    <tr>\n",
       "      <th>2024-12-17 03:00:00</th>\n",
       "      <td>97.559895</td>\n",
       "    </tr>\n",
       "  </tbody>\n",
       "</table>\n",
       "</div>"
      ],
      "text/plain": [
       "                         Return\n",
       "2024-12-16 07:00:00  100.000000\n",
       "2024-12-16 22:00:00  101.973759\n",
       "2024-12-16 23:00:00  100.077124\n",
       "2024-12-17 00:00:00  100.041812\n",
       "2024-12-17 01:00:00   99.207569\n",
       "2024-12-17 02:00:00   98.380282\n",
       "2024-12-17 03:00:00   97.559895"
      ]
     },
     "execution_count": 178,
     "metadata": {},
     "output_type": "execute_result"
    }
   ],
   "source": [
    "norm_port"
   ]
  },
  {
   "cell_type": "code",
   "execution_count": null,
   "metadata": {},
   "outputs": [
    {
     "name": "stdout",
     "output_type": "stream",
     "text": [
      "historical_data:        CRV comp  LINK comp  UNI comp  WBTC comp                 date\n",
      "0  9.239875e-11   0.940108  0.059892        0.0  2024-12-16 07:00:00\n",
      "2  9.143182e-11   0.941771  0.058229        0.0  2024-12-16 22:00:00\n",
      "norm_port:                          Return\n",
      "2024-12-16 07:00:00  100.000000\n",
      "2024-12-16 22:00:00  101.973759\n",
      "2024-12-16 23:00:00  100.077124\n",
      "2024-12-17 00:00:00  100.041812\n",
      "2024-12-17 01:00:00   99.207569\n",
      "2024-12-17 02:00:00   98.380282\n",
      "2024-12-17 03:00:00   97.559895\n",
      "plot_historical_data: DatetimeIndex(['2024-12-16 07:00:00', '2024-12-16 08:00:00',\n",
      "               '2024-12-16 09:00:00', '2024-12-16 10:00:00',\n",
      "               '2024-12-16 11:00:00', '2024-12-16 12:00:00',\n",
      "               '2024-12-16 13:00:00', '2024-12-16 14:00:00',\n",
      "               '2024-12-16 15:00:00', '2024-12-16 16:00:00',\n",
      "               '2024-12-16 17:00:00', '2024-12-16 18:00:00',\n",
      "               '2024-12-16 19:00:00', '2024-12-16 20:00:00',\n",
      "               '2024-12-16 21:00:00', '2024-12-16 22:00:00'],\n",
      "              dtype='datetime64[ns]', name='date', freq='h')\n",
      "Initialized axes_data: {'y1': 'All', 'y2': []}\n",
      "tick0: 2024-12-16 07:00:00\n",
      "turn_to_time: True\n",
      "save:False\n",
      "logo path: ../img/Logos/None\n",
      "Generating line plot...\n",
      "axes titles at viz pipeline: {'y1': None, 'y2': None}\n",
      "No GroupBy Col\n",
      "cols to plot: ['WBTC_Price', 'Return', 'CRV_Price', 'UNI_Price', 'LINK_Price']\n",
      "axes data to plot: {'y1': Index(['Return', 'WBTC_Price', 'UNI_Price', 'LINK_Price', 'CRV_Price'], dtype='object'), 'y2': []}\n",
      "tick0 in func: 2024-12-16 07:00:00\n",
      "sort_list: False\n",
      "axes_titles at beginning: {'y1': None, 'y2': None}\n",
      "cumulative_sort: False\n",
      "descending: True\n",
      "columns to plot: ['WBTC_Price', 'Return', 'CRV_Price', 'UNI_Price', 'LINK_Price']\n",
      "axes_font_colors: {'y1': 'black', 'y2': 'black'}\n",
      "idx: 0 y1_col: WBTC_Price\n",
      "axes_titles: {'y1': None, 'y2': None}\n",
      "y1_lineto_show: None\n",
      "axes_font_colors: {'y1': 'black', 'y2': 'black'}\n",
      "latest val: 101.20420754138567\n",
      "y1_col values:2024-12-16 07:00:00    100.000000\n",
      "2024-12-16 22:00:00    101.318210\n",
      "2024-12-16 23:00:00    101.332580\n",
      "2024-12-17 00:00:00    101.166845\n",
      "2024-12-17 01:00:00    101.164929\n",
      "2024-12-17 02:00:00    101.204208\n",
      "2024-12-17 03:00:00    101.204208\n",
      "Name: WBTC_Price, dtype: float64 \n",
      "color_map: {'WBTC_Price': '#2E91E5', 'Return': '#E15F99', 'CRV_Price': '#1CA71C', 'UNI_Price': '#FB0D0D', 'LINK_Price': '#DA16FF'}\n",
      "Processing y1 column: WBTC_Price with color: #2E91E5\n",
      "x:101.20420754138567\n",
      "idx: 1 y1_col: Return\n",
      "axes_titles: {'y1': None, 'y2': None}\n",
      "y1_lineto_show: None\n",
      "axes_font_colors: {'y1': 'black', 'y2': 'black'}\n",
      "latest val: 97.55989456976232\n",
      "y1_col values:2024-12-16 07:00:00    100.000000\n",
      "2024-12-16 22:00:00    101.973759\n",
      "2024-12-16 23:00:00    100.077124\n",
      "2024-12-17 00:00:00    100.041812\n",
      "2024-12-17 01:00:00     99.207569\n",
      "2024-12-17 02:00:00     98.380282\n",
      "2024-12-17 03:00:00     97.559895\n",
      "Name: Return, dtype: float64 \n",
      "color_map: {'WBTC_Price': '#2E91E5', 'Return': '#E15F99', 'CRV_Price': '#1CA71C', 'UNI_Price': '#FB0D0D', 'LINK_Price': '#DA16FF'}\n",
      "Processing y1 column: Return with color: #E15F99\n",
      "x:97.55989456976232\n",
      "idx: 2 y1_col: CRV_Price\n",
      "axes_titles: {'y1': None, 'y2': None}\n",
      "y1_lineto_show: None\n",
      "axes_font_colors: {'y1': 'black', 'y2': 'black'}\n",
      "latest val: 97.45222929936307\n",
      "y1_col values:2024-12-16 07:00:00    100.000000\n",
      "2024-12-16 22:00:00    100.000000\n",
      "2024-12-16 23:00:00     99.363057\n",
      "2024-12-17 00:00:00     98.453139\n",
      "2024-12-17 01:00:00     97.634213\n",
      "2024-12-17 02:00:00     97.452229\n",
      "2024-12-17 03:00:00     97.452229\n",
      "Name: CRV_Price, dtype: float64 \n",
      "color_map: {'WBTC_Price': '#2E91E5', 'Return': '#E15F99', 'CRV_Price': '#1CA71C', 'UNI_Price': '#FB0D0D', 'LINK_Price': '#DA16FF'}\n",
      "Processing y1 column: CRV_Price with color: #1CA71C\n",
      "x:97.45222929936307\n",
      "idx: 3 y1_col: UNI_Price\n",
      "axes_titles: {'y1': None, 'y2': None}\n",
      "y1_lineto_show: None\n",
      "axes_font_colors: {'y1': 'black', 'y2': 'black'}\n",
      "latest val: 95.74850299401199\n",
      "y1_col values:2024-12-16 07:00:00    100.000000\n",
      "2024-12-16 22:00:00     99.401198\n",
      "2024-12-16 23:00:00     99.101796\n",
      "2024-12-17 00:00:00     98.502994\n",
      "2024-12-17 01:00:00     97.544910\n",
      "2024-12-17 02:00:00     95.748503\n",
      "2024-12-17 03:00:00     95.748503\n",
      "Name: UNI_Price, dtype: float64 \n",
      "color_map: {'WBTC_Price': '#2E91E5', 'Return': '#E15F99', 'CRV_Price': '#1CA71C', 'UNI_Price': '#FB0D0D', 'LINK_Price': '#DA16FF'}\n",
      "Processing y1 column: UNI_Price with color: #FB0D0D\n",
      "x:95.74850299401199\n",
      "idx: 4 y1_col: LINK_Price\n",
      "axes_titles: {'y1': None, 'y2': None}\n",
      "y1_lineto_show: None\n",
      "axes_font_colors: {'y1': 'black', 'y2': 'black'}\n",
      "latest val: 98.65702479338843\n",
      "y1_col values:2024-12-16 07:00:00    100.000000\n",
      "2024-12-16 22:00:00    102.134986\n",
      "2024-12-16 23:00:00    100.137741\n",
      "2024-12-17 00:00:00    100.137741\n",
      "2024-12-17 01:00:00     99.311295\n",
      "2024-12-17 02:00:00     98.657025\n",
      "2024-12-17 03:00:00     98.657025\n",
      "Name: LINK_Price, dtype: float64 \n",
      "color_map: {'WBTC_Price': '#2E91E5', 'Return': '#E15F99', 'CRV_Price': '#1CA71C', 'UNI_Price': '#FB0D0D', 'LINK_Price': '#DA16FF'}\n",
      "Processing y1 column: LINK_Price with color: #DA16FF\n",
      "x:98.65702479338843\n",
      "x:98.65702479338843\n",
      "x:100.0\n",
      "axes_font_colors: {'y1': 'black', 'y2': 'black'}\n",
      "ticksy: None\n",
      "[x_range_start, x_range_end]: [Timestamp('2024-12-16 07:00:00'), Timestamp('2024-12-17 03:00:00')]\n",
      "Columns: Index(['WBTC_Price', 'Return', 'CRV_Price', 'UNI_Price', 'LINK_Price'], dtype='object') \n",
      "Index: DatetimeIndex(['2024-12-16 07:00:00', '2024-12-16 22:00:00',\n",
      "               '2024-12-16 23:00:00', '2024-12-17 00:00:00',\n",
      "               '2024-12-17 01:00:00', '2024-12-17 02:00:00',\n",
      "               '2024-12-17 03:00:00'],\n",
      "              dtype='datetime64[ns]', freq=None)\n"
     ]
    },
    {
     "name": "stderr",
     "output_type": "stream",
     "text": [
      "C:\\Users\\brandyns pc\\AppData\\Local\\Temp\\ipykernel_37080\\4193398726.py:13: FutureWarning:\n",
      "\n",
      "'H' is deprecated and will be removed in a future version, please use 'h' instead.\n",
      "\n"
     ]
    },
    {
     "data": {
      "application/vnd.plotly.v1+json": {
       "config": {
        "linkText": "Export to plot.ly",
        "plotlyServerURL": "https://plot.ly",
        "showLink": false
       },
       "data": [
        {
         "connectgaps": true,
         "line": {
          "color": "#2E91E5",
          "width": 4
         },
         "marker": {
          "color": "#2E91E5",
          "size": 10
         },
         "mode": "lines",
         "name": "WBTC_Price ($101.2)",
         "showlegend": true,
         "text": "",
         "type": "scatter",
         "x": [
          "2024-12-16T07:00:00",
          "2024-12-16T22:00:00",
          "2024-12-16T23:00:00",
          "2024-12-17T00:00:00",
          "2024-12-17T01:00:00",
          "2024-12-17T02:00:00",
          "2024-12-17T03:00:00"
         ],
         "xaxis": "x",
         "y": [
          100,
          101.3182096873084,
          101.33257970570203,
          101.16684549356223,
          101.16492949110976,
          101.20420754138567,
          101.20420754138567
         ],
         "yaxis": "y"
        },
        {
         "connectgaps": true,
         "line": {
          "color": "#E15F99",
          "width": 4
         },
         "marker": {
          "color": "#E15F99",
          "size": 10
         },
         "mode": "lines",
         "name": "Return ($97.6)",
         "showlegend": true,
         "text": "",
         "type": "scatter",
         "x": [
          "2024-12-16T07:00:00",
          "2024-12-16T22:00:00",
          "2024-12-16T23:00:00",
          "2024-12-17T00:00:00",
          "2024-12-17T01:00:00",
          "2024-12-17T02:00:00",
          "2024-12-17T03:00:00"
         ],
         "xaxis": "x",
         "y": [
          100,
          101.97375949090161,
          100.0771235167748,
          100.04181230952462,
          99.20756902364073,
          98.38028244759622,
          97.55989456976232
         ],
         "yaxis": "y"
        },
        {
         "connectgaps": true,
         "line": {
          "color": "#1CA71C",
          "width": 4
         },
         "marker": {
          "color": "#1CA71C",
          "size": 10
         },
         "mode": "lines",
         "name": "CRV_Price ($97.5)",
         "showlegend": true,
         "text": "",
         "type": "scatter",
         "x": [
          "2024-12-16T07:00:00",
          "2024-12-16T22:00:00",
          "2024-12-16T23:00:00",
          "2024-12-17T00:00:00",
          "2024-12-17T01:00:00",
          "2024-12-17T02:00:00",
          "2024-12-17T03:00:00"
         ],
         "xaxis": "x",
         "y": [
          100,
          100,
          99.36305732484078,
          98.45313921747045,
          97.63421292083714,
          97.45222929936307,
          97.45222929936307
         ],
         "yaxis": "y"
        },
        {
         "connectgaps": true,
         "line": {
          "color": "#FB0D0D",
          "width": 4
         },
         "marker": {
          "color": "#FB0D0D",
          "size": 10
         },
         "mode": "lines",
         "name": "UNI_Price ($95.7)",
         "showlegend": true,
         "text": "",
         "type": "scatter",
         "x": [
          "2024-12-16T07:00:00",
          "2024-12-16T22:00:00",
          "2024-12-16T23:00:00",
          "2024-12-17T00:00:00",
          "2024-12-17T01:00:00",
          "2024-12-17T02:00:00",
          "2024-12-17T03:00:00"
         ],
         "xaxis": "x",
         "y": [
          100,
          99.40119760479044,
          99.10179640718565,
          98.50299401197606,
          97.54491017964072,
          95.74850299401199,
          95.74850299401199
         ],
         "yaxis": "y"
        },
        {
         "connectgaps": true,
         "line": {
          "color": "#DA16FF",
          "width": 4
         },
         "marker": {
          "color": "#DA16FF",
          "size": 10
         },
         "mode": "lines",
         "name": "LINK_Price ($98.7)",
         "showlegend": true,
         "text": "",
         "type": "scatter",
         "x": [
          "2024-12-16T07:00:00",
          "2024-12-16T22:00:00",
          "2024-12-16T23:00:00",
          "2024-12-17T00:00:00",
          "2024-12-17T01:00:00",
          "2024-12-17T02:00:00",
          "2024-12-17T03:00:00"
         ],
         "xaxis": "x",
         "y": [
          100,
          102.13498622589532,
          100.13774104683195,
          100.13774104683195,
          99.31129476584022,
          98.65702479338843,
          98.65702479338843
         ],
         "yaxis": "y"
        }
       ],
       "layout": {
        "annotations": [
         {
          "align": "center",
          "font": {
           "color": "black",
           "size": 14
          },
          "showarrow": false,
          "text": "12-17-2024",
          "x": 0.05,
          "xref": "paper",
          "y": 1.18,
          "yref": "paper"
         }
        ],
        "autosize": true,
        "font": {
         "family": "Cardo",
         "size": 18
        },
        "height": 400,
        "legend": {
         "bgcolor": "rgba(0,0,0,0)",
         "font": {
          "color": "black",
          "family": "Cardo",
          "size": 14
         },
         "itemsizing": "constant",
         "orientation": "v",
         "traceorder": "normal",
         "x": 0.05,
         "xanchor": "left",
         "y": 0.8,
         "yanchor": "top"
        },
        "margin": {
         "b": 0,
         "l": 0,
         "r": 0,
         "t": 25
        },
        "paper_bgcolor": "rgba(0,0,0,0)",
        "plot_bgcolor": "rgba(0,0,0,0)",
        "template": {
         "data": {
          "bar": [
           {
            "error_x": {
             "color": "#2a3f5f"
            },
            "error_y": {
             "color": "#2a3f5f"
            },
            "marker": {
             "line": {
              "color": "#E5ECF6",
              "width": 0.5
             },
             "pattern": {
              "fillmode": "overlay",
              "size": 10,
              "solidity": 0.2
             }
            },
            "type": "bar"
           }
          ],
          "barpolar": [
           {
            "marker": {
             "line": {
              "color": "#E5ECF6",
              "width": 0.5
             },
             "pattern": {
              "fillmode": "overlay",
              "size": 10,
              "solidity": 0.2
             }
            },
            "type": "barpolar"
           }
          ],
          "carpet": [
           {
            "aaxis": {
             "endlinecolor": "#2a3f5f",
             "gridcolor": "white",
             "linecolor": "white",
             "minorgridcolor": "white",
             "startlinecolor": "#2a3f5f"
            },
            "baxis": {
             "endlinecolor": "#2a3f5f",
             "gridcolor": "white",
             "linecolor": "white",
             "minorgridcolor": "white",
             "startlinecolor": "#2a3f5f"
            },
            "type": "carpet"
           }
          ],
          "choropleth": [
           {
            "colorbar": {
             "outlinewidth": 0,
             "ticks": ""
            },
            "type": "choropleth"
           }
          ],
          "contour": [
           {
            "colorbar": {
             "outlinewidth": 0,
             "ticks": ""
            },
            "colorscale": [
             [
              0,
              "#0d0887"
             ],
             [
              0.1111111111111111,
              "#46039f"
             ],
             [
              0.2222222222222222,
              "#7201a8"
             ],
             [
              0.3333333333333333,
              "#9c179e"
             ],
             [
              0.4444444444444444,
              "#bd3786"
             ],
             [
              0.5555555555555556,
              "#d8576b"
             ],
             [
              0.6666666666666666,
              "#ed7953"
             ],
             [
              0.7777777777777778,
              "#fb9f3a"
             ],
             [
              0.8888888888888888,
              "#fdca26"
             ],
             [
              1,
              "#f0f921"
             ]
            ],
            "type": "contour"
           }
          ],
          "contourcarpet": [
           {
            "colorbar": {
             "outlinewidth": 0,
             "ticks": ""
            },
            "type": "contourcarpet"
           }
          ],
          "heatmap": [
           {
            "colorbar": {
             "outlinewidth": 0,
             "ticks": ""
            },
            "colorscale": [
             [
              0,
              "#0d0887"
             ],
             [
              0.1111111111111111,
              "#46039f"
             ],
             [
              0.2222222222222222,
              "#7201a8"
             ],
             [
              0.3333333333333333,
              "#9c179e"
             ],
             [
              0.4444444444444444,
              "#bd3786"
             ],
             [
              0.5555555555555556,
              "#d8576b"
             ],
             [
              0.6666666666666666,
              "#ed7953"
             ],
             [
              0.7777777777777778,
              "#fb9f3a"
             ],
             [
              0.8888888888888888,
              "#fdca26"
             ],
             [
              1,
              "#f0f921"
             ]
            ],
            "type": "heatmap"
           }
          ],
          "heatmapgl": [
           {
            "colorbar": {
             "outlinewidth": 0,
             "ticks": ""
            },
            "colorscale": [
             [
              0,
              "#0d0887"
             ],
             [
              0.1111111111111111,
              "#46039f"
             ],
             [
              0.2222222222222222,
              "#7201a8"
             ],
             [
              0.3333333333333333,
              "#9c179e"
             ],
             [
              0.4444444444444444,
              "#bd3786"
             ],
             [
              0.5555555555555556,
              "#d8576b"
             ],
             [
              0.6666666666666666,
              "#ed7953"
             ],
             [
              0.7777777777777778,
              "#fb9f3a"
             ],
             [
              0.8888888888888888,
              "#fdca26"
             ],
             [
              1,
              "#f0f921"
             ]
            ],
            "type": "heatmapgl"
           }
          ],
          "histogram": [
           {
            "marker": {
             "pattern": {
              "fillmode": "overlay",
              "size": 10,
              "solidity": 0.2
             }
            },
            "type": "histogram"
           }
          ],
          "histogram2d": [
           {
            "colorbar": {
             "outlinewidth": 0,
             "ticks": ""
            },
            "colorscale": [
             [
              0,
              "#0d0887"
             ],
             [
              0.1111111111111111,
              "#46039f"
             ],
             [
              0.2222222222222222,
              "#7201a8"
             ],
             [
              0.3333333333333333,
              "#9c179e"
             ],
             [
              0.4444444444444444,
              "#bd3786"
             ],
             [
              0.5555555555555556,
              "#d8576b"
             ],
             [
              0.6666666666666666,
              "#ed7953"
             ],
             [
              0.7777777777777778,
              "#fb9f3a"
             ],
             [
              0.8888888888888888,
              "#fdca26"
             ],
             [
              1,
              "#f0f921"
             ]
            ],
            "type": "histogram2d"
           }
          ],
          "histogram2dcontour": [
           {
            "colorbar": {
             "outlinewidth": 0,
             "ticks": ""
            },
            "colorscale": [
             [
              0,
              "#0d0887"
             ],
             [
              0.1111111111111111,
              "#46039f"
             ],
             [
              0.2222222222222222,
              "#7201a8"
             ],
             [
              0.3333333333333333,
              "#9c179e"
             ],
             [
              0.4444444444444444,
              "#bd3786"
             ],
             [
              0.5555555555555556,
              "#d8576b"
             ],
             [
              0.6666666666666666,
              "#ed7953"
             ],
             [
              0.7777777777777778,
              "#fb9f3a"
             ],
             [
              0.8888888888888888,
              "#fdca26"
             ],
             [
              1,
              "#f0f921"
             ]
            ],
            "type": "histogram2dcontour"
           }
          ],
          "mesh3d": [
           {
            "colorbar": {
             "outlinewidth": 0,
             "ticks": ""
            },
            "type": "mesh3d"
           }
          ],
          "parcoords": [
           {
            "line": {
             "colorbar": {
              "outlinewidth": 0,
              "ticks": ""
             }
            },
            "type": "parcoords"
           }
          ],
          "pie": [
           {
            "automargin": true,
            "type": "pie"
           }
          ],
          "scatter": [
           {
            "fillpattern": {
             "fillmode": "overlay",
             "size": 10,
             "solidity": 0.2
            },
            "type": "scatter"
           }
          ],
          "scatter3d": [
           {
            "line": {
             "colorbar": {
              "outlinewidth": 0,
              "ticks": ""
             }
            },
            "marker": {
             "colorbar": {
              "outlinewidth": 0,
              "ticks": ""
             }
            },
            "type": "scatter3d"
           }
          ],
          "scattercarpet": [
           {
            "marker": {
             "colorbar": {
              "outlinewidth": 0,
              "ticks": ""
             }
            },
            "type": "scattercarpet"
           }
          ],
          "scattergeo": [
           {
            "marker": {
             "colorbar": {
              "outlinewidth": 0,
              "ticks": ""
             }
            },
            "type": "scattergeo"
           }
          ],
          "scattergl": [
           {
            "marker": {
             "colorbar": {
              "outlinewidth": 0,
              "ticks": ""
             }
            },
            "type": "scattergl"
           }
          ],
          "scattermapbox": [
           {
            "marker": {
             "colorbar": {
              "outlinewidth": 0,
              "ticks": ""
             }
            },
            "type": "scattermapbox"
           }
          ],
          "scatterpolar": [
           {
            "marker": {
             "colorbar": {
              "outlinewidth": 0,
              "ticks": ""
             }
            },
            "type": "scatterpolar"
           }
          ],
          "scatterpolargl": [
           {
            "marker": {
             "colorbar": {
              "outlinewidth": 0,
              "ticks": ""
             }
            },
            "type": "scatterpolargl"
           }
          ],
          "scatterternary": [
           {
            "marker": {
             "colorbar": {
              "outlinewidth": 0,
              "ticks": ""
             }
            },
            "type": "scatterternary"
           }
          ],
          "surface": [
           {
            "colorbar": {
             "outlinewidth": 0,
             "ticks": ""
            },
            "colorscale": [
             [
              0,
              "#0d0887"
             ],
             [
              0.1111111111111111,
              "#46039f"
             ],
             [
              0.2222222222222222,
              "#7201a8"
             ],
             [
              0.3333333333333333,
              "#9c179e"
             ],
             [
              0.4444444444444444,
              "#bd3786"
             ],
             [
              0.5555555555555556,
              "#d8576b"
             ],
             [
              0.6666666666666666,
              "#ed7953"
             ],
             [
              0.7777777777777778,
              "#fb9f3a"
             ],
             [
              0.8888888888888888,
              "#fdca26"
             ],
             [
              1,
              "#f0f921"
             ]
            ],
            "type": "surface"
           }
          ],
          "table": [
           {
            "cells": {
             "fill": {
              "color": "#EBF0F8"
             },
             "line": {
              "color": "white"
             }
            },
            "header": {
             "fill": {
              "color": "#C8D4E3"
             },
             "line": {
              "color": "white"
             }
            },
            "type": "table"
           }
          ]
         },
         "layout": {
          "annotationdefaults": {
           "arrowcolor": "#2a3f5f",
           "arrowhead": 0,
           "arrowwidth": 1
          },
          "autotypenumbers": "strict",
          "coloraxis": {
           "colorbar": {
            "outlinewidth": 0,
            "ticks": ""
           }
          },
          "colorscale": {
           "diverging": [
            [
             0,
             "#8e0152"
            ],
            [
             0.1,
             "#c51b7d"
            ],
            [
             0.2,
             "#de77ae"
            ],
            [
             0.3,
             "#f1b6da"
            ],
            [
             0.4,
             "#fde0ef"
            ],
            [
             0.5,
             "#f7f7f7"
            ],
            [
             0.6,
             "#e6f5d0"
            ],
            [
             0.7,
             "#b8e186"
            ],
            [
             0.8,
             "#7fbc41"
            ],
            [
             0.9,
             "#4d9221"
            ],
            [
             1,
             "#276419"
            ]
           ],
           "sequential": [
            [
             0,
             "#0d0887"
            ],
            [
             0.1111111111111111,
             "#46039f"
            ],
            [
             0.2222222222222222,
             "#7201a8"
            ],
            [
             0.3333333333333333,
             "#9c179e"
            ],
            [
             0.4444444444444444,
             "#bd3786"
            ],
            [
             0.5555555555555556,
             "#d8576b"
            ],
            [
             0.6666666666666666,
             "#ed7953"
            ],
            [
             0.7777777777777778,
             "#fb9f3a"
            ],
            [
             0.8888888888888888,
             "#fdca26"
            ],
            [
             1,
             "#f0f921"
            ]
           ],
           "sequentialminus": [
            [
             0,
             "#0d0887"
            ],
            [
             0.1111111111111111,
             "#46039f"
            ],
            [
             0.2222222222222222,
             "#7201a8"
            ],
            [
             0.3333333333333333,
             "#9c179e"
            ],
            [
             0.4444444444444444,
             "#bd3786"
            ],
            [
             0.5555555555555556,
             "#d8576b"
            ],
            [
             0.6666666666666666,
             "#ed7953"
            ],
            [
             0.7777777777777778,
             "#fb9f3a"
            ],
            [
             0.8888888888888888,
             "#fdca26"
            ],
            [
             1,
             "#f0f921"
            ]
           ]
          },
          "colorway": [
           "#636efa",
           "#EF553B",
           "#00cc96",
           "#ab63fa",
           "#FFA15A",
           "#19d3f3",
           "#FF6692",
           "#B6E880",
           "#FF97FF",
           "#FECB52"
          ],
          "font": {
           "color": "#2a3f5f",
           "family": "Cardo"
          },
          "geo": {
           "bgcolor": "white",
           "lakecolor": "white",
           "landcolor": "#E5ECF6",
           "showlakes": true,
           "showland": true,
           "subunitcolor": "white"
          },
          "hoverlabel": {
           "align": "left"
          },
          "hovermode": "closest",
          "mapbox": {
           "style": "light"
          },
          "paper_bgcolor": "white",
          "plot_bgcolor": "#E5ECF6",
          "polar": {
           "angularaxis": {
            "gridcolor": "white",
            "linecolor": "white",
            "ticks": ""
           },
           "bgcolor": "#E5ECF6",
           "radialaxis": {
            "gridcolor": "white",
            "linecolor": "white",
            "ticks": ""
           }
          },
          "scene": {
           "xaxis": {
            "backgroundcolor": "#E5ECF6",
            "gridcolor": "white",
            "gridwidth": 2,
            "linecolor": "white",
            "showbackground": true,
            "ticks": "",
            "zerolinecolor": "white"
           },
           "yaxis": {
            "backgroundcolor": "#E5ECF6",
            "gridcolor": "white",
            "gridwidth": 2,
            "linecolor": "white",
            "showbackground": true,
            "ticks": "",
            "zerolinecolor": "white"
           },
           "zaxis": {
            "backgroundcolor": "#E5ECF6",
            "gridcolor": "white",
            "gridwidth": 2,
            "linecolor": "white",
            "showbackground": true,
            "ticks": "",
            "zerolinecolor": "white"
           }
          },
          "shapedefaults": {
           "line": {
            "color": "#2a3f5f"
           }
          },
          "ternary": {
           "aaxis": {
            "gridcolor": "white",
            "linecolor": "white",
            "ticks": ""
           },
           "baxis": {
            "gridcolor": "white",
            "linecolor": "white",
            "ticks": ""
           },
           "bgcolor": "#E5ECF6",
           "caxis": {
            "gridcolor": "white",
            "linecolor": "white",
            "ticks": ""
           }
          },
          "title": {
           "x": 0.05
          },
          "xaxis": {
           "automargin": true,
           "gridcolor": "white",
           "linecolor": "white",
           "ticks": "",
           "title": {
            "standoff": 15
           },
           "zerolinecolor": "white",
           "zerolinewidth": 2
          },
          "yaxis": {
           "automargin": true,
           "gridcolor": "white",
           "linecolor": "white",
           "ticks": "",
           "title": {
            "standoff": 15
           },
           "zerolinecolor": "white",
           "zerolinewidth": 2
          }
         }
        },
        "title": {
         "font": {
          "color": "black",
          "family": "Cardo",
          "size": 27
         },
         "text": "<span style='color: black; font-weight: normal;'>Normalized Model Performance</span><br><sub style='font-size: 18px; color: black; font-weight: normal;'>arbitrum_classifier Portfolio</sub>",
         "x": 0.1,
         "xanchor": "left",
         "y": 0.9,
         "yanchor": "top"
        },
        "uniformtext": {
         "minsize": 15,
         "mode": "show"
        },
        "width": 730,
        "xaxis": {
         "anchor": "y",
         "domain": [
          0,
          0.94
         ],
         "range": [
          "2024-12-16T07:00:00",
          "2024-12-17T03:00:00"
         ],
         "tick0": "2024-12-16T07:00:00",
         "tickfont": {
          "color": "black",
          "family": "Cardo",
          "size": 18
         },
         "tickformat": "%b %d <br> %y",
         "tickvals": [
          "2024-12-16",
          "2024-12-16",
          "2024-12-16",
          "2024-12-16",
          "2024-12-17"
         ],
         "title": {
          "font": {
           "color": "black",
           "family": "Cardo",
           "size": 18
          }
         }
        },
        "yaxis": {
         "anchor": "x",
         "domain": [
          0,
          1
         ],
         "tickfont": {
          "color": "black",
          "family": "Cardo",
          "size": 18
         },
         "tickprefix": "$",
         "title": {
          "font": {
           "color": "black",
           "family": "Cardo",
           "size": 18
          }
         }
        },
        "yaxis2": {
         "anchor": "x",
         "overlaying": "y",
         "side": "right",
         "tickfont": {
          "color": "black",
          "family": "Cardo",
          "size": 18
         },
         "title": {
          "font": {
           "color": "black",
           "family": "Cardo",
           "size": 18
          }
         }
        }
       }
      }
     },
     "metadata": {},
     "output_type": "display_data"
    },
    {
     "name": "stdout",
     "output_type": "stream",
     "text": [
      "Initialized axes_data: {'y1': 'All', 'y2': []}\n",
      "tick0: 2024-12-16 07:00:00\n",
      "turn_to_time: True\n",
      "save:False\n",
      "logo path: ../img/Logos/None\n",
      "Generating bar plot...\n",
      "No GroupBy Col\n",
      "auto_title: False\n",
      "testing\n",
      "axes_data:{'y1': Index(['CRV comp', 'LINK comp', 'UNI comp', 'WBTC comp'], dtype='object'), 'y2': []}\n",
      "sort_list: False\n",
      "descending: True\n",
      "columns to plot: ['WBTC comp', 'CRV comp', 'LINK comp', 'UNI comp']\n",
      "tick0: 2024-12-16 07:00:00\n",
      "reversed color map: {'WBTC comp': '#2E91E5', 'CRV comp': '#E15F99', 'LINK comp': '#1CA71C', 'UNI comp': '#FB0D0D'}\n",
      "idx: 0, y: WBTC comp\n",
      "auto_title: False\n",
      "y1_lineto_show: None\n",
      "index: DatetimeIndex(['2024-12-16 07:00:00', '2024-12-16 08:00:00',\n",
      "               '2024-12-16 09:00:00', '2024-12-16 10:00:00',\n",
      "               '2024-12-16 11:00:00', '2024-12-16 12:00:00',\n",
      "               '2024-12-16 13:00:00', '2024-12-16 14:00:00',\n",
      "               '2024-12-16 15:00:00', '2024-12-16 16:00:00',\n",
      "               '2024-12-16 17:00:00', '2024-12-16 18:00:00',\n",
      "               '2024-12-16 19:00:00', '2024-12-16 20:00:00',\n",
      "               '2024-12-16 21:00:00', '2024-12-16 22:00:00'],\n",
      "              dtype='datetime64[ns]', name='date', freq='h')\n",
      "vals: date\n",
      "2024-12-16 07:00:00    0.0\n",
      "2024-12-16 08:00:00    0.0\n",
      "2024-12-16 09:00:00    0.0\n",
      "2024-12-16 10:00:00    0.0\n",
      "2024-12-16 11:00:00    0.0\n",
      "2024-12-16 12:00:00    0.0\n",
      "2024-12-16 13:00:00    0.0\n",
      "2024-12-16 14:00:00    0.0\n",
      "2024-12-16 15:00:00    0.0\n",
      "2024-12-16 16:00:00    0.0\n",
      "2024-12-16 17:00:00    0.0\n",
      "2024-12-16 18:00:00    0.0\n",
      "2024-12-16 19:00:00    0.0\n",
      "2024-12-16 20:00:00    0.0\n",
      "2024-12-16 21:00:00    0.0\n",
      "2024-12-16 22:00:00    0.0\n",
      "Freq: h, Name: WBTC comp, dtype: float64\n",
      "processing WBTC comp with color #2E91E5\n",
      "datetime_tick: True\n",
      "idx: 1, y: CRV comp\n",
      "auto_title: False\n",
      "y1_lineto_show: None\n",
      "index: DatetimeIndex(['2024-12-16 07:00:00', '2024-12-16 08:00:00',\n",
      "               '2024-12-16 09:00:00', '2024-12-16 10:00:00',\n",
      "               '2024-12-16 11:00:00', '2024-12-16 12:00:00',\n",
      "               '2024-12-16 13:00:00', '2024-12-16 14:00:00',\n",
      "               '2024-12-16 15:00:00', '2024-12-16 16:00:00',\n",
      "               '2024-12-16 17:00:00', '2024-12-16 18:00:00',\n",
      "               '2024-12-16 19:00:00', '2024-12-16 20:00:00',\n",
      "               '2024-12-16 21:00:00', '2024-12-16 22:00:00'],\n",
      "              dtype='datetime64[ns]', name='date', freq='h')\n",
      "vals: date\n",
      "2024-12-16 07:00:00    9.239875e-09\n",
      "2024-12-16 08:00:00    9.239875e-09\n",
      "2024-12-16 09:00:00    9.239875e-09\n",
      "2024-12-16 10:00:00    9.239875e-09\n",
      "2024-12-16 11:00:00    9.239875e-09\n",
      "2024-12-16 12:00:00    9.239875e-09\n",
      "2024-12-16 13:00:00    9.239875e-09\n",
      "2024-12-16 14:00:00    9.239875e-09\n",
      "2024-12-16 15:00:00    9.239875e-09\n",
      "2024-12-16 16:00:00    9.239875e-09\n",
      "2024-12-16 17:00:00    9.239875e-09\n",
      "2024-12-16 18:00:00    9.239875e-09\n",
      "2024-12-16 19:00:00    9.239875e-09\n",
      "2024-12-16 20:00:00    9.239875e-09\n",
      "2024-12-16 21:00:00    9.239875e-09\n",
      "2024-12-16 22:00:00    9.143182e-09\n",
      "Freq: h, Name: CRV comp, dtype: float64\n",
      "processing CRV comp with color #E15F99\n",
      "x < 1:9.143181780762791e-09\n",
      "datetime_tick: True\n",
      "x < 1:9.143181780762791e-09\n",
      "x < 1:9.239874897182818e-09\n",
      "idx: 2, y: LINK comp\n",
      "auto_title: False\n",
      "y1_lineto_show: None\n",
      "index: DatetimeIndex(['2024-12-16 07:00:00', '2024-12-16 08:00:00',\n",
      "               '2024-12-16 09:00:00', '2024-12-16 10:00:00',\n",
      "               '2024-12-16 11:00:00', '2024-12-16 12:00:00',\n",
      "               '2024-12-16 13:00:00', '2024-12-16 14:00:00',\n",
      "               '2024-12-16 15:00:00', '2024-12-16 16:00:00',\n",
      "               '2024-12-16 17:00:00', '2024-12-16 18:00:00',\n",
      "               '2024-12-16 19:00:00', '2024-12-16 20:00:00',\n",
      "               '2024-12-16 21:00:00', '2024-12-16 22:00:00'],\n",
      "              dtype='datetime64[ns]', name='date', freq='h')\n",
      "vals: date\n",
      "2024-12-16 07:00:00    94.010845\n",
      "2024-12-16 08:00:00    94.010845\n",
      "2024-12-16 09:00:00    94.010845\n",
      "2024-12-16 10:00:00    94.010845\n",
      "2024-12-16 11:00:00    94.010845\n",
      "2024-12-16 12:00:00    94.010845\n",
      "2024-12-16 13:00:00    94.010845\n",
      "2024-12-16 14:00:00    94.010845\n",
      "2024-12-16 15:00:00    94.010845\n",
      "2024-12-16 16:00:00    94.010845\n",
      "2024-12-16 17:00:00    94.010845\n",
      "2024-12-16 18:00:00    94.010845\n",
      "2024-12-16 19:00:00    94.010845\n",
      "2024-12-16 20:00:00    94.010845\n",
      "2024-12-16 21:00:00    94.010845\n",
      "2024-12-16 22:00:00    94.177131\n",
      "Freq: h, Name: LINK comp, dtype: float64\n",
      "processing LINK comp with color #1CA71C\n",
      "x:94.17713132046657\n",
      "datetime_tick: True\n",
      "x:94.17713132046657\n",
      "x:94.01084547441806\n",
      "idx: 3, y: UNI comp\n",
      "auto_title: False\n",
      "y1_lineto_show: None\n",
      "index: DatetimeIndex(['2024-12-16 07:00:00', '2024-12-16 08:00:00',\n",
      "               '2024-12-16 09:00:00', '2024-12-16 10:00:00',\n",
      "               '2024-12-16 11:00:00', '2024-12-16 12:00:00',\n",
      "               '2024-12-16 13:00:00', '2024-12-16 14:00:00',\n",
      "               '2024-12-16 15:00:00', '2024-12-16 16:00:00',\n",
      "               '2024-12-16 17:00:00', '2024-12-16 18:00:00',\n",
      "               '2024-12-16 19:00:00', '2024-12-16 20:00:00',\n",
      "               '2024-12-16 21:00:00', '2024-12-16 22:00:00'],\n",
      "              dtype='datetime64[ns]', name='date', freq='h')\n",
      "vals: date\n",
      "2024-12-16 07:00:00    5.989155\n",
      "2024-12-16 08:00:00    5.989155\n",
      "2024-12-16 09:00:00    5.989155\n",
      "2024-12-16 10:00:00    5.989155\n",
      "2024-12-16 11:00:00    5.989155\n",
      "2024-12-16 12:00:00    5.989155\n",
      "2024-12-16 13:00:00    5.989155\n",
      "2024-12-16 14:00:00    5.989155\n",
      "2024-12-16 15:00:00    5.989155\n",
      "2024-12-16 16:00:00    5.989155\n",
      "2024-12-16 17:00:00    5.989155\n",
      "2024-12-16 18:00:00    5.989155\n",
      "2024-12-16 19:00:00    5.989155\n",
      "2024-12-16 20:00:00    5.989155\n",
      "2024-12-16 21:00:00    5.989155\n",
      "2024-12-16 22:00:00    5.822869\n",
      "Freq: h, Name: UNI comp, dtype: float64\n",
      "processing UNI comp with color #FB0D0D\n",
      "x:5.822868670390256\n",
      "datetime_tick: True\n",
      "x:5.822868670390256\n",
      "x:5.98915451634207\n",
      "index is dt: DatetimeIndex(['2024-12-16 07:00:00', '2024-12-16 08:00:00',\n",
      "               '2024-12-16 09:00:00', '2024-12-16 10:00:00',\n",
      "               '2024-12-16 11:00:00', '2024-12-16 12:00:00',\n",
      "               '2024-12-16 13:00:00', '2024-12-16 14:00:00',\n",
      "               '2024-12-16 15:00:00', '2024-12-16 16:00:00',\n",
      "               '2024-12-16 17:00:00', '2024-12-16 18:00:00',\n",
      "               '2024-12-16 19:00:00', '2024-12-16 20:00:00',\n",
      "               '2024-12-16 21:00:00', '2024-12-16 22:00:00'],\n",
      "              dtype='datetime64[ns]', name='date', freq='h')\n",
      "x_ticks: ['2024-12-16', '2024-12-16', '2024-12-16', '2024-12-16', '2024-12-16']\n",
      "Columns: Index(['WBTC comp', 'CRV comp', 'LINK comp', 'UNI comp'], dtype='object') \n",
      "Index: DatetimeIndex(['2024-12-16 07:00:00', '2024-12-16 08:00:00',\n",
      "               '2024-12-16 09:00:00', '2024-12-16 10:00:00',\n",
      "               '2024-12-16 11:00:00', '2024-12-16 12:00:00',\n",
      "               '2024-12-16 13:00:00', '2024-12-16 14:00:00',\n",
      "               '2024-12-16 15:00:00', '2024-12-16 16:00:00',\n",
      "               '2024-12-16 17:00:00', '2024-12-16 18:00:00',\n",
      "               '2024-12-16 19:00:00', '2024-12-16 20:00:00',\n",
      "               '2024-12-16 21:00:00', '2024-12-16 22:00:00'],\n",
      "              dtype='datetime64[ns]', name='date', freq='h')\n"
     ]
    },
    {
     "data": {
      "application/vnd.plotly.v1+json": {
       "config": {
        "linkText": "Export to plot.ly",
        "plotlyServerURL": "https://plot.ly",
        "showLink": false
       },
       "data": [
        {
         "marker": {
          "color": "#2E91E5"
         },
         "name": "WBTC comp (0%)",
         "showlegend": true,
         "text": "",
         "textfont": {
          "color": "black",
          "family": "Cardo",
          "size": 14
         },
         "textposition": "outside",
         "type": "bar",
         "x": [
          "2024-12-16T07:00:00",
          "2024-12-16T08:00:00",
          "2024-12-16T09:00:00",
          "2024-12-16T10:00:00",
          "2024-12-16T11:00:00",
          "2024-12-16T12:00:00",
          "2024-12-16T13:00:00",
          "2024-12-16T14:00:00",
          "2024-12-16T15:00:00",
          "2024-12-16T16:00:00",
          "2024-12-16T17:00:00",
          "2024-12-16T18:00:00",
          "2024-12-16T19:00:00",
          "2024-12-16T20:00:00",
          "2024-12-16T21:00:00",
          "2024-12-16T22:00:00"
         ],
         "xaxis": "x",
         "y": [
          0,
          0,
          0,
          0,
          0,
          0,
          0,
          0,
          0,
          0,
          0,
          0,
          0,
          0,
          0,
          0
         ],
         "yaxis": "y"
        },
        {
         "marker": {
          "color": "#E15F99"
         },
         "name": "CRV comp (0.00%)",
         "showlegend": true,
         "text": "",
         "textfont": {
          "color": "black",
          "family": "Cardo",
          "size": 14
         },
         "textposition": "outside",
         "type": "bar",
         "x": [
          "2024-12-16T07:00:00",
          "2024-12-16T08:00:00",
          "2024-12-16T09:00:00",
          "2024-12-16T10:00:00",
          "2024-12-16T11:00:00",
          "2024-12-16T12:00:00",
          "2024-12-16T13:00:00",
          "2024-12-16T14:00:00",
          "2024-12-16T15:00:00",
          "2024-12-16T16:00:00",
          "2024-12-16T17:00:00",
          "2024-12-16T18:00:00",
          "2024-12-16T19:00:00",
          "2024-12-16T20:00:00",
          "2024-12-16T21:00:00",
          "2024-12-16T22:00:00"
         ],
         "xaxis": "x",
         "y": [
          9.239874897182818e-9,
          9.239874897182818e-9,
          9.239874897182818e-9,
          9.239874897182818e-9,
          9.239874897182818e-9,
          9.239874897182818e-9,
          9.239874897182818e-9,
          9.239874897182818e-9,
          9.239874897182818e-9,
          9.239874897182818e-9,
          9.239874897182818e-9,
          9.239874897182818e-9,
          9.239874897182818e-9,
          9.239874897182818e-9,
          9.239874897182818e-9,
          9.143181780762791e-9
         ],
         "yaxis": "y"
        },
        {
         "marker": {
          "color": "#1CA71C"
         },
         "name": "LINK comp (94.2%)",
         "showlegend": true,
         "text": "",
         "textfont": {
          "color": "black",
          "family": "Cardo",
          "size": 14
         },
         "textposition": "outside",
         "type": "bar",
         "x": [
          "2024-12-16T07:00:00",
          "2024-12-16T08:00:00",
          "2024-12-16T09:00:00",
          "2024-12-16T10:00:00",
          "2024-12-16T11:00:00",
          "2024-12-16T12:00:00",
          "2024-12-16T13:00:00",
          "2024-12-16T14:00:00",
          "2024-12-16T15:00:00",
          "2024-12-16T16:00:00",
          "2024-12-16T17:00:00",
          "2024-12-16T18:00:00",
          "2024-12-16T19:00:00",
          "2024-12-16T20:00:00",
          "2024-12-16T21:00:00",
          "2024-12-16T22:00:00"
         ],
         "xaxis": "x",
         "y": [
          94.01084547441806,
          94.01084547441806,
          94.01084547441806,
          94.01084547441806,
          94.01084547441806,
          94.01084547441806,
          94.01084547441806,
          94.01084547441806,
          94.01084547441806,
          94.01084547441806,
          94.01084547441806,
          94.01084547441806,
          94.01084547441806,
          94.01084547441806,
          94.01084547441806,
          94.17713132046657
         ],
         "yaxis": "y"
        },
        {
         "marker": {
          "color": "#FB0D0D"
         },
         "name": "UNI comp (5.8%)",
         "showlegend": true,
         "text": "",
         "textfont": {
          "color": "black",
          "family": "Cardo",
          "size": 14
         },
         "textposition": "outside",
         "type": "bar",
         "x": [
          "2024-12-16T07:00:00",
          "2024-12-16T08:00:00",
          "2024-12-16T09:00:00",
          "2024-12-16T10:00:00",
          "2024-12-16T11:00:00",
          "2024-12-16T12:00:00",
          "2024-12-16T13:00:00",
          "2024-12-16T14:00:00",
          "2024-12-16T15:00:00",
          "2024-12-16T16:00:00",
          "2024-12-16T17:00:00",
          "2024-12-16T18:00:00",
          "2024-12-16T19:00:00",
          "2024-12-16T20:00:00",
          "2024-12-16T21:00:00",
          "2024-12-16T22:00:00"
         ],
         "xaxis": "x",
         "y": [
          5.98915451634207,
          5.98915451634207,
          5.98915451634207,
          5.98915451634207,
          5.98915451634207,
          5.98915451634207,
          5.98915451634207,
          5.98915451634207,
          5.98915451634207,
          5.98915451634207,
          5.98915451634207,
          5.98915451634207,
          5.98915451634207,
          5.98915451634207,
          5.98915451634207,
          5.822868670390256
         ],
         "yaxis": "y"
        }
       ],
       "layout": {
        "annotations": [
         {
          "align": "center",
          "font": {
           "color": "black",
           "size": 14
          },
          "showarrow": false,
          "text": "12-16-2024",
          "x": 0.1,
          "xref": "paper",
          "y": 1.4,
          "yref": "paper"
         }
        ],
        "autosize": true,
        "barmode": "stack",
        "font": {
         "family": "Cardo",
         "size": 18
        },
        "height": 400,
        "legend": {
         "bgcolor": "rgba(0,0,0,0)",
         "font": {
          "color": "black",
          "family": "Cardo",
          "size": 14
         },
         "orientation": "v",
         "traceorder": "normal",
         "x": 0.1,
         "xanchor": "left",
         "y": 1.3,
         "yanchor": "top"
        },
        "margin": {
         "b": 0,
         "l": 0,
         "r": 0,
         "t": 150
        },
        "paper_bgcolor": "rgba(0,0,0,0)",
        "plot_bgcolor": "rgba(0,0,0,0)",
        "template": {
         "data": {
          "bar": [
           {
            "error_x": {
             "color": "#2a3f5f"
            },
            "error_y": {
             "color": "#2a3f5f"
            },
            "marker": {
             "line": {
              "color": "#E5ECF6",
              "width": 0.5
             },
             "pattern": {
              "fillmode": "overlay",
              "size": 10,
              "solidity": 0.2
             }
            },
            "type": "bar"
           }
          ],
          "barpolar": [
           {
            "marker": {
             "line": {
              "color": "#E5ECF6",
              "width": 0.5
             },
             "pattern": {
              "fillmode": "overlay",
              "size": 10,
              "solidity": 0.2
             }
            },
            "type": "barpolar"
           }
          ],
          "carpet": [
           {
            "aaxis": {
             "endlinecolor": "#2a3f5f",
             "gridcolor": "white",
             "linecolor": "white",
             "minorgridcolor": "white",
             "startlinecolor": "#2a3f5f"
            },
            "baxis": {
             "endlinecolor": "#2a3f5f",
             "gridcolor": "white",
             "linecolor": "white",
             "minorgridcolor": "white",
             "startlinecolor": "#2a3f5f"
            },
            "type": "carpet"
           }
          ],
          "choropleth": [
           {
            "colorbar": {
             "outlinewidth": 0,
             "ticks": ""
            },
            "type": "choropleth"
           }
          ],
          "contour": [
           {
            "colorbar": {
             "outlinewidth": 0,
             "ticks": ""
            },
            "colorscale": [
             [
              0,
              "#0d0887"
             ],
             [
              0.1111111111111111,
              "#46039f"
             ],
             [
              0.2222222222222222,
              "#7201a8"
             ],
             [
              0.3333333333333333,
              "#9c179e"
             ],
             [
              0.4444444444444444,
              "#bd3786"
             ],
             [
              0.5555555555555556,
              "#d8576b"
             ],
             [
              0.6666666666666666,
              "#ed7953"
             ],
             [
              0.7777777777777778,
              "#fb9f3a"
             ],
             [
              0.8888888888888888,
              "#fdca26"
             ],
             [
              1,
              "#f0f921"
             ]
            ],
            "type": "contour"
           }
          ],
          "contourcarpet": [
           {
            "colorbar": {
             "outlinewidth": 0,
             "ticks": ""
            },
            "type": "contourcarpet"
           }
          ],
          "heatmap": [
           {
            "colorbar": {
             "outlinewidth": 0,
             "ticks": ""
            },
            "colorscale": [
             [
              0,
              "#0d0887"
             ],
             [
              0.1111111111111111,
              "#46039f"
             ],
             [
              0.2222222222222222,
              "#7201a8"
             ],
             [
              0.3333333333333333,
              "#9c179e"
             ],
             [
              0.4444444444444444,
              "#bd3786"
             ],
             [
              0.5555555555555556,
              "#d8576b"
             ],
             [
              0.6666666666666666,
              "#ed7953"
             ],
             [
              0.7777777777777778,
              "#fb9f3a"
             ],
             [
              0.8888888888888888,
              "#fdca26"
             ],
             [
              1,
              "#f0f921"
             ]
            ],
            "type": "heatmap"
           }
          ],
          "heatmapgl": [
           {
            "colorbar": {
             "outlinewidth": 0,
             "ticks": ""
            },
            "colorscale": [
             [
              0,
              "#0d0887"
             ],
             [
              0.1111111111111111,
              "#46039f"
             ],
             [
              0.2222222222222222,
              "#7201a8"
             ],
             [
              0.3333333333333333,
              "#9c179e"
             ],
             [
              0.4444444444444444,
              "#bd3786"
             ],
             [
              0.5555555555555556,
              "#d8576b"
             ],
             [
              0.6666666666666666,
              "#ed7953"
             ],
             [
              0.7777777777777778,
              "#fb9f3a"
             ],
             [
              0.8888888888888888,
              "#fdca26"
             ],
             [
              1,
              "#f0f921"
             ]
            ],
            "type": "heatmapgl"
           }
          ],
          "histogram": [
           {
            "marker": {
             "pattern": {
              "fillmode": "overlay",
              "size": 10,
              "solidity": 0.2
             }
            },
            "type": "histogram"
           }
          ],
          "histogram2d": [
           {
            "colorbar": {
             "outlinewidth": 0,
             "ticks": ""
            },
            "colorscale": [
             [
              0,
              "#0d0887"
             ],
             [
              0.1111111111111111,
              "#46039f"
             ],
             [
              0.2222222222222222,
              "#7201a8"
             ],
             [
              0.3333333333333333,
              "#9c179e"
             ],
             [
              0.4444444444444444,
              "#bd3786"
             ],
             [
              0.5555555555555556,
              "#d8576b"
             ],
             [
              0.6666666666666666,
              "#ed7953"
             ],
             [
              0.7777777777777778,
              "#fb9f3a"
             ],
             [
              0.8888888888888888,
              "#fdca26"
             ],
             [
              1,
              "#f0f921"
             ]
            ],
            "type": "histogram2d"
           }
          ],
          "histogram2dcontour": [
           {
            "colorbar": {
             "outlinewidth": 0,
             "ticks": ""
            },
            "colorscale": [
             [
              0,
              "#0d0887"
             ],
             [
              0.1111111111111111,
              "#46039f"
             ],
             [
              0.2222222222222222,
              "#7201a8"
             ],
             [
              0.3333333333333333,
              "#9c179e"
             ],
             [
              0.4444444444444444,
              "#bd3786"
             ],
             [
              0.5555555555555556,
              "#d8576b"
             ],
             [
              0.6666666666666666,
              "#ed7953"
             ],
             [
              0.7777777777777778,
              "#fb9f3a"
             ],
             [
              0.8888888888888888,
              "#fdca26"
             ],
             [
              1,
              "#f0f921"
             ]
            ],
            "type": "histogram2dcontour"
           }
          ],
          "mesh3d": [
           {
            "colorbar": {
             "outlinewidth": 0,
             "ticks": ""
            },
            "type": "mesh3d"
           }
          ],
          "parcoords": [
           {
            "line": {
             "colorbar": {
              "outlinewidth": 0,
              "ticks": ""
             }
            },
            "type": "parcoords"
           }
          ],
          "pie": [
           {
            "automargin": true,
            "type": "pie"
           }
          ],
          "scatter": [
           {
            "fillpattern": {
             "fillmode": "overlay",
             "size": 10,
             "solidity": 0.2
            },
            "type": "scatter"
           }
          ],
          "scatter3d": [
           {
            "line": {
             "colorbar": {
              "outlinewidth": 0,
              "ticks": ""
             }
            },
            "marker": {
             "colorbar": {
              "outlinewidth": 0,
              "ticks": ""
             }
            },
            "type": "scatter3d"
           }
          ],
          "scattercarpet": [
           {
            "marker": {
             "colorbar": {
              "outlinewidth": 0,
              "ticks": ""
             }
            },
            "type": "scattercarpet"
           }
          ],
          "scattergeo": [
           {
            "marker": {
             "colorbar": {
              "outlinewidth": 0,
              "ticks": ""
             }
            },
            "type": "scattergeo"
           }
          ],
          "scattergl": [
           {
            "marker": {
             "colorbar": {
              "outlinewidth": 0,
              "ticks": ""
             }
            },
            "type": "scattergl"
           }
          ],
          "scattermapbox": [
           {
            "marker": {
             "colorbar": {
              "outlinewidth": 0,
              "ticks": ""
             }
            },
            "type": "scattermapbox"
           }
          ],
          "scatterpolar": [
           {
            "marker": {
             "colorbar": {
              "outlinewidth": 0,
              "ticks": ""
             }
            },
            "type": "scatterpolar"
           }
          ],
          "scatterpolargl": [
           {
            "marker": {
             "colorbar": {
              "outlinewidth": 0,
              "ticks": ""
             }
            },
            "type": "scatterpolargl"
           }
          ],
          "scatterternary": [
           {
            "marker": {
             "colorbar": {
              "outlinewidth": 0,
              "ticks": ""
             }
            },
            "type": "scatterternary"
           }
          ],
          "surface": [
           {
            "colorbar": {
             "outlinewidth": 0,
             "ticks": ""
            },
            "colorscale": [
             [
              0,
              "#0d0887"
             ],
             [
              0.1111111111111111,
              "#46039f"
             ],
             [
              0.2222222222222222,
              "#7201a8"
             ],
             [
              0.3333333333333333,
              "#9c179e"
             ],
             [
              0.4444444444444444,
              "#bd3786"
             ],
             [
              0.5555555555555556,
              "#d8576b"
             ],
             [
              0.6666666666666666,
              "#ed7953"
             ],
             [
              0.7777777777777778,
              "#fb9f3a"
             ],
             [
              0.8888888888888888,
              "#fdca26"
             ],
             [
              1,
              "#f0f921"
             ]
            ],
            "type": "surface"
           }
          ],
          "table": [
           {
            "cells": {
             "fill": {
              "color": "#EBF0F8"
             },
             "line": {
              "color": "white"
             }
            },
            "header": {
             "fill": {
              "color": "#C8D4E3"
             },
             "line": {
              "color": "white"
             }
            },
            "type": "table"
           }
          ]
         },
         "layout": {
          "annotationdefaults": {
           "arrowcolor": "#2a3f5f",
           "arrowhead": 0,
           "arrowwidth": 1
          },
          "autotypenumbers": "strict",
          "coloraxis": {
           "colorbar": {
            "outlinewidth": 0,
            "ticks": ""
           }
          },
          "colorscale": {
           "diverging": [
            [
             0,
             "#8e0152"
            ],
            [
             0.1,
             "#c51b7d"
            ],
            [
             0.2,
             "#de77ae"
            ],
            [
             0.3,
             "#f1b6da"
            ],
            [
             0.4,
             "#fde0ef"
            ],
            [
             0.5,
             "#f7f7f7"
            ],
            [
             0.6,
             "#e6f5d0"
            ],
            [
             0.7,
             "#b8e186"
            ],
            [
             0.8,
             "#7fbc41"
            ],
            [
             0.9,
             "#4d9221"
            ],
            [
             1,
             "#276419"
            ]
           ],
           "sequential": [
            [
             0,
             "#0d0887"
            ],
            [
             0.1111111111111111,
             "#46039f"
            ],
            [
             0.2222222222222222,
             "#7201a8"
            ],
            [
             0.3333333333333333,
             "#9c179e"
            ],
            [
             0.4444444444444444,
             "#bd3786"
            ],
            [
             0.5555555555555556,
             "#d8576b"
            ],
            [
             0.6666666666666666,
             "#ed7953"
            ],
            [
             0.7777777777777778,
             "#fb9f3a"
            ],
            [
             0.8888888888888888,
             "#fdca26"
            ],
            [
             1,
             "#f0f921"
            ]
           ],
           "sequentialminus": [
            [
             0,
             "#0d0887"
            ],
            [
             0.1111111111111111,
             "#46039f"
            ],
            [
             0.2222222222222222,
             "#7201a8"
            ],
            [
             0.3333333333333333,
             "#9c179e"
            ],
            [
             0.4444444444444444,
             "#bd3786"
            ],
            [
             0.5555555555555556,
             "#d8576b"
            ],
            [
             0.6666666666666666,
             "#ed7953"
            ],
            [
             0.7777777777777778,
             "#fb9f3a"
            ],
            [
             0.8888888888888888,
             "#fdca26"
            ],
            [
             1,
             "#f0f921"
            ]
           ]
          },
          "colorway": [
           "#636efa",
           "#EF553B",
           "#00cc96",
           "#ab63fa",
           "#FFA15A",
           "#19d3f3",
           "#FF6692",
           "#B6E880",
           "#FF97FF",
           "#FECB52"
          ],
          "font": {
           "color": "#2a3f5f",
           "family": "Cardo"
          },
          "geo": {
           "bgcolor": "white",
           "lakecolor": "white",
           "landcolor": "#E5ECF6",
           "showlakes": true,
           "showland": true,
           "subunitcolor": "white"
          },
          "hoverlabel": {
           "align": "left"
          },
          "hovermode": "closest",
          "mapbox": {
           "style": "light"
          },
          "paper_bgcolor": "white",
          "plot_bgcolor": "#E5ECF6",
          "polar": {
           "angularaxis": {
            "gridcolor": "white",
            "linecolor": "white",
            "ticks": ""
           },
           "bgcolor": "#E5ECF6",
           "radialaxis": {
            "gridcolor": "white",
            "linecolor": "white",
            "ticks": ""
           }
          },
          "scene": {
           "xaxis": {
            "backgroundcolor": "#E5ECF6",
            "gridcolor": "white",
            "gridwidth": 2,
            "linecolor": "white",
            "showbackground": true,
            "ticks": "",
            "zerolinecolor": "white"
           },
           "yaxis": {
            "backgroundcolor": "#E5ECF6",
            "gridcolor": "white",
            "gridwidth": 2,
            "linecolor": "white",
            "showbackground": true,
            "ticks": "",
            "zerolinecolor": "white"
           },
           "zaxis": {
            "backgroundcolor": "#E5ECF6",
            "gridcolor": "white",
            "gridwidth": 2,
            "linecolor": "white",
            "showbackground": true,
            "ticks": "",
            "zerolinecolor": "white"
           }
          },
          "shapedefaults": {
           "line": {
            "color": "#2a3f5f"
           }
          },
          "ternary": {
           "aaxis": {
            "gridcolor": "white",
            "linecolor": "white",
            "ticks": ""
           },
           "baxis": {
            "gridcolor": "white",
            "linecolor": "white",
            "ticks": ""
           },
           "bgcolor": "#E5ECF6",
           "caxis": {
            "gridcolor": "white",
            "linecolor": "white",
            "ticks": ""
           }
          },
          "title": {
           "x": 0.05
          },
          "xaxis": {
           "automargin": true,
           "gridcolor": "white",
           "linecolor": "white",
           "ticks": "",
           "title": {
            "standoff": 15
           },
           "zerolinecolor": "white",
           "zerolinewidth": 2
          },
          "yaxis": {
           "automargin": true,
           "gridcolor": "white",
           "linecolor": "white",
           "ticks": "",
           "title": {
            "standoff": 15
           },
           "zerolinecolor": "white",
           "zerolinewidth": 2
          }
         }
        },
        "title": {
         "font": {
          "color": "black",
          "family": "Cardo",
          "size": 27
         },
         "text": "<span style='color: black; font-weight: normal;'>Portfolio Composition Over Time</span><br><sub style='font-size: 18px; color: black; font-weight: normal;'></sub>",
         "x": 0.1,
         "xanchor": "left",
         "y": 0.9,
         "yanchor": "top"
        },
        "uniformtext": {
         "minsize": 14,
         "mode": "show"
        },
        "width": 730,
        "xaxis": {
         "anchor": "y",
         "domain": [
          0,
          0.94
         ],
         "range": [
          "2024-12-15T07:00:00",
          "2024-12-17T22:00:00"
         ],
         "tick0": "2024-12-16T07:00:00",
         "tickfont": {
          "color": "black",
          "family": "Cardo",
          "size": 18
         },
         "tickformat": "%b %d <br>%y",
         "tickvals": [
          "2024-12-16",
          "2024-12-16",
          "2024-12-16",
          "2024-12-16",
          "2024-12-16"
         ],
         "title": {
          "font": {
           "color": "black",
           "family": "Cardo",
           "size": 18
          }
         }
        },
        "yaxis": {
         "anchor": "x",
         "domain": [
          0,
          1
         ],
         "tickfont": {
          "color": "black",
          "family": "Cardo",
          "size": 18
         },
         "ticksuffix": "%",
         "title": {
          "font": {
           "color": "black",
           "family": "Cardo",
           "size": 18
          }
         }
        },
        "yaxis2": {
         "anchor": "x",
         "overlaying": "y",
         "side": "right",
         "tickfont": {
          "color": "black",
          "family": "Cardo",
          "size": 18
         },
         "title": {
          "font": {
           "color": "black",
           "family": "Cardo",
           "size": 18
          }
         }
        }
       }
      }
     },
     "metadata": {},
     "output_type": "display_data"
    },
    {
     "name": "stdout",
     "output_type": "stream",
     "text": [
      "aum_df:                      Portfolio Value\n",
      "date                                \n",
      "2024-12-16 07:00:00        51.037683\n",
      "2024-12-16 22:00:00        50.263354\n",
      "2024-12-17 03:00:00        50.263354\n",
      "Initialized axes_data: {'y1': 'All', 'y2': []}\n",
      "tick0: 2024-12-16 07:00:00\n",
      "turn_to_time: True\n",
      "save:False\n",
      "logo path: ../img/Logos/None\n",
      "Generating line plot...\n",
      "axes titles at viz pipeline: {'y1': None, 'y2': None}\n",
      "No GroupBy Col\n",
      "cols to plot: ['Portfolio Value']\n",
      "axes data to plot: {'y1': Index(['Portfolio Value'], dtype='object'), 'y2': []}\n",
      "tick0 in func: 2024-12-16 07:00:00\n",
      "sort_list: False\n",
      "axes_titles at beginning: {'y1': None, 'y2': None}\n",
      "cumulative_sort: False\n",
      "descending: True\n",
      "columns to plot: ['Portfolio Value']\n",
      "axes_font_colors: {'y1': 'black', 'y2': 'black'}\n",
      "idx: 0 y1_col: Portfolio Value\n",
      "axes_titles: {'y1': None, 'y2': None}\n",
      "y1_lineto_show: None\n",
      "axes_font_colors: {'y1': 'black', 'y2': 'black'}\n",
      "latest val: 50.26335433654252\n",
      "y1_col values:date\n",
      "2024-12-16 07:00:00    51.037683\n",
      "2024-12-16 22:00:00    50.263354\n",
      "2024-12-17 03:00:00    50.263354\n",
      "Name: Portfolio Value, dtype: float64 \n",
      "color_map: {'Portfolio Value': '#2E91E5'}\n",
      "Processing y1 column: Portfolio Value with color: #2E91E5\n",
      "x:50.26335433654252\n",
      "x:50.26335433654252\n",
      "x:51.037683303145414\n",
      "axes_font_colors: {'y1': 'black', 'y2': 'black'}\n",
      "ticksy: None\n",
      "[x_range_start, x_range_end]: [Timestamp('2024-12-16 07:00:00'), Timestamp('2024-12-17 03:00:00')]\n",
      "Columns: Index(['Portfolio Value'], dtype='object') \n",
      "Index: DatetimeIndex(['2024-12-16 07:00:00', '2024-12-16 22:00:00',\n",
      "               '2024-12-17 03:00:00'],\n",
      "              dtype='datetime64[ns]', name='date', freq=None)\n"
     ]
    },
    {
     "data": {
      "application/vnd.plotly.v1+json": {
       "config": {
        "linkText": "Export to plot.ly",
        "plotlyServerURL": "https://plot.ly",
        "showLink": false
       },
       "data": [
        {
         "connectgaps": true,
         "line": {
          "color": "#2E91E5",
          "width": 4
         },
         "marker": {
          "color": "#2E91E5",
          "size": 10
         },
         "mode": "lines",
         "name": "Portfolio Value ($50.3)",
         "showlegend": true,
         "stackgroup": "one",
         "text": "",
         "type": "scatter",
         "x": [
          "2024-12-16T07:00:00",
          "2024-12-16T22:00:00",
          "2024-12-17T03:00:00"
         ],
         "xaxis": "x",
         "y": [
          51.037683303145414,
          50.26335433654252,
          50.26335433654252
         ],
         "yaxis": "y"
        }
       ],
       "layout": {
        "annotations": [
         {
          "align": "center",
          "font": {
           "color": "black",
           "size": 14
          },
          "showarrow": false,
          "text": "12-17-2024",
          "x": 0.1,
          "xref": "paper",
          "y": 1.4,
          "yref": "paper"
         }
        ],
        "autosize": true,
        "font": {
         "family": "Cardo",
         "size": 18
        },
        "height": 400,
        "legend": {
         "bgcolor": "rgba(0,0,0,0)",
         "font": {
          "color": "black",
          "family": "Cardo",
          "size": 14
         },
         "itemsizing": "constant",
         "orientation": "v",
         "traceorder": "normal",
         "x": 0.1,
         "xanchor": "left",
         "y": 1.3,
         "yanchor": "top"
        },
        "margin": {
         "b": 0,
         "l": 0,
         "r": 0,
         "t": 150
        },
        "paper_bgcolor": "rgba(0,0,0,0)",
        "plot_bgcolor": "rgba(0,0,0,0)",
        "template": {
         "data": {
          "bar": [
           {
            "error_x": {
             "color": "#2a3f5f"
            },
            "error_y": {
             "color": "#2a3f5f"
            },
            "marker": {
             "line": {
              "color": "#E5ECF6",
              "width": 0.5
             },
             "pattern": {
              "fillmode": "overlay",
              "size": 10,
              "solidity": 0.2
             }
            },
            "type": "bar"
           }
          ],
          "barpolar": [
           {
            "marker": {
             "line": {
              "color": "#E5ECF6",
              "width": 0.5
             },
             "pattern": {
              "fillmode": "overlay",
              "size": 10,
              "solidity": 0.2
             }
            },
            "type": "barpolar"
           }
          ],
          "carpet": [
           {
            "aaxis": {
             "endlinecolor": "#2a3f5f",
             "gridcolor": "white",
             "linecolor": "white",
             "minorgridcolor": "white",
             "startlinecolor": "#2a3f5f"
            },
            "baxis": {
             "endlinecolor": "#2a3f5f",
             "gridcolor": "white",
             "linecolor": "white",
             "minorgridcolor": "white",
             "startlinecolor": "#2a3f5f"
            },
            "type": "carpet"
           }
          ],
          "choropleth": [
           {
            "colorbar": {
             "outlinewidth": 0,
             "ticks": ""
            },
            "type": "choropleth"
           }
          ],
          "contour": [
           {
            "colorbar": {
             "outlinewidth": 0,
             "ticks": ""
            },
            "colorscale": [
             [
              0,
              "#0d0887"
             ],
             [
              0.1111111111111111,
              "#46039f"
             ],
             [
              0.2222222222222222,
              "#7201a8"
             ],
             [
              0.3333333333333333,
              "#9c179e"
             ],
             [
              0.4444444444444444,
              "#bd3786"
             ],
             [
              0.5555555555555556,
              "#d8576b"
             ],
             [
              0.6666666666666666,
              "#ed7953"
             ],
             [
              0.7777777777777778,
              "#fb9f3a"
             ],
             [
              0.8888888888888888,
              "#fdca26"
             ],
             [
              1,
              "#f0f921"
             ]
            ],
            "type": "contour"
           }
          ],
          "contourcarpet": [
           {
            "colorbar": {
             "outlinewidth": 0,
             "ticks": ""
            },
            "type": "contourcarpet"
           }
          ],
          "heatmap": [
           {
            "colorbar": {
             "outlinewidth": 0,
             "ticks": ""
            },
            "colorscale": [
             [
              0,
              "#0d0887"
             ],
             [
              0.1111111111111111,
              "#46039f"
             ],
             [
              0.2222222222222222,
              "#7201a8"
             ],
             [
              0.3333333333333333,
              "#9c179e"
             ],
             [
              0.4444444444444444,
              "#bd3786"
             ],
             [
              0.5555555555555556,
              "#d8576b"
             ],
             [
              0.6666666666666666,
              "#ed7953"
             ],
             [
              0.7777777777777778,
              "#fb9f3a"
             ],
             [
              0.8888888888888888,
              "#fdca26"
             ],
             [
              1,
              "#f0f921"
             ]
            ],
            "type": "heatmap"
           }
          ],
          "heatmapgl": [
           {
            "colorbar": {
             "outlinewidth": 0,
             "ticks": ""
            },
            "colorscale": [
             [
              0,
              "#0d0887"
             ],
             [
              0.1111111111111111,
              "#46039f"
             ],
             [
              0.2222222222222222,
              "#7201a8"
             ],
             [
              0.3333333333333333,
              "#9c179e"
             ],
             [
              0.4444444444444444,
              "#bd3786"
             ],
             [
              0.5555555555555556,
              "#d8576b"
             ],
             [
              0.6666666666666666,
              "#ed7953"
             ],
             [
              0.7777777777777778,
              "#fb9f3a"
             ],
             [
              0.8888888888888888,
              "#fdca26"
             ],
             [
              1,
              "#f0f921"
             ]
            ],
            "type": "heatmapgl"
           }
          ],
          "histogram": [
           {
            "marker": {
             "pattern": {
              "fillmode": "overlay",
              "size": 10,
              "solidity": 0.2
             }
            },
            "type": "histogram"
           }
          ],
          "histogram2d": [
           {
            "colorbar": {
             "outlinewidth": 0,
             "ticks": ""
            },
            "colorscale": [
             [
              0,
              "#0d0887"
             ],
             [
              0.1111111111111111,
              "#46039f"
             ],
             [
              0.2222222222222222,
              "#7201a8"
             ],
             [
              0.3333333333333333,
              "#9c179e"
             ],
             [
              0.4444444444444444,
              "#bd3786"
             ],
             [
              0.5555555555555556,
              "#d8576b"
             ],
             [
              0.6666666666666666,
              "#ed7953"
             ],
             [
              0.7777777777777778,
              "#fb9f3a"
             ],
             [
              0.8888888888888888,
              "#fdca26"
             ],
             [
              1,
              "#f0f921"
             ]
            ],
            "type": "histogram2d"
           }
          ],
          "histogram2dcontour": [
           {
            "colorbar": {
             "outlinewidth": 0,
             "ticks": ""
            },
            "colorscale": [
             [
              0,
              "#0d0887"
             ],
             [
              0.1111111111111111,
              "#46039f"
             ],
             [
              0.2222222222222222,
              "#7201a8"
             ],
             [
              0.3333333333333333,
              "#9c179e"
             ],
             [
              0.4444444444444444,
              "#bd3786"
             ],
             [
              0.5555555555555556,
              "#d8576b"
             ],
             [
              0.6666666666666666,
              "#ed7953"
             ],
             [
              0.7777777777777778,
              "#fb9f3a"
             ],
             [
              0.8888888888888888,
              "#fdca26"
             ],
             [
              1,
              "#f0f921"
             ]
            ],
            "type": "histogram2dcontour"
           }
          ],
          "mesh3d": [
           {
            "colorbar": {
             "outlinewidth": 0,
             "ticks": ""
            },
            "type": "mesh3d"
           }
          ],
          "parcoords": [
           {
            "line": {
             "colorbar": {
              "outlinewidth": 0,
              "ticks": ""
             }
            },
            "type": "parcoords"
           }
          ],
          "pie": [
           {
            "automargin": true,
            "type": "pie"
           }
          ],
          "scatter": [
           {
            "fillpattern": {
             "fillmode": "overlay",
             "size": 10,
             "solidity": 0.2
            },
            "type": "scatter"
           }
          ],
          "scatter3d": [
           {
            "line": {
             "colorbar": {
              "outlinewidth": 0,
              "ticks": ""
             }
            },
            "marker": {
             "colorbar": {
              "outlinewidth": 0,
              "ticks": ""
             }
            },
            "type": "scatter3d"
           }
          ],
          "scattercarpet": [
           {
            "marker": {
             "colorbar": {
              "outlinewidth": 0,
              "ticks": ""
             }
            },
            "type": "scattercarpet"
           }
          ],
          "scattergeo": [
           {
            "marker": {
             "colorbar": {
              "outlinewidth": 0,
              "ticks": ""
             }
            },
            "type": "scattergeo"
           }
          ],
          "scattergl": [
           {
            "marker": {
             "colorbar": {
              "outlinewidth": 0,
              "ticks": ""
             }
            },
            "type": "scattergl"
           }
          ],
          "scattermapbox": [
           {
            "marker": {
             "colorbar": {
              "outlinewidth": 0,
              "ticks": ""
             }
            },
            "type": "scattermapbox"
           }
          ],
          "scatterpolar": [
           {
            "marker": {
             "colorbar": {
              "outlinewidth": 0,
              "ticks": ""
             }
            },
            "type": "scatterpolar"
           }
          ],
          "scatterpolargl": [
           {
            "marker": {
             "colorbar": {
              "outlinewidth": 0,
              "ticks": ""
             }
            },
            "type": "scatterpolargl"
           }
          ],
          "scatterternary": [
           {
            "marker": {
             "colorbar": {
              "outlinewidth": 0,
              "ticks": ""
             }
            },
            "type": "scatterternary"
           }
          ],
          "surface": [
           {
            "colorbar": {
             "outlinewidth": 0,
             "ticks": ""
            },
            "colorscale": [
             [
              0,
              "#0d0887"
             ],
             [
              0.1111111111111111,
              "#46039f"
             ],
             [
              0.2222222222222222,
              "#7201a8"
             ],
             [
              0.3333333333333333,
              "#9c179e"
             ],
             [
              0.4444444444444444,
              "#bd3786"
             ],
             [
              0.5555555555555556,
              "#d8576b"
             ],
             [
              0.6666666666666666,
              "#ed7953"
             ],
             [
              0.7777777777777778,
              "#fb9f3a"
             ],
             [
              0.8888888888888888,
              "#fdca26"
             ],
             [
              1,
              "#f0f921"
             ]
            ],
            "type": "surface"
           }
          ],
          "table": [
           {
            "cells": {
             "fill": {
              "color": "#EBF0F8"
             },
             "line": {
              "color": "white"
             }
            },
            "header": {
             "fill": {
              "color": "#C8D4E3"
             },
             "line": {
              "color": "white"
             }
            },
            "type": "table"
           }
          ]
         },
         "layout": {
          "annotationdefaults": {
           "arrowcolor": "#2a3f5f",
           "arrowhead": 0,
           "arrowwidth": 1
          },
          "autotypenumbers": "strict",
          "coloraxis": {
           "colorbar": {
            "outlinewidth": 0,
            "ticks": ""
           }
          },
          "colorscale": {
           "diverging": [
            [
             0,
             "#8e0152"
            ],
            [
             0.1,
             "#c51b7d"
            ],
            [
             0.2,
             "#de77ae"
            ],
            [
             0.3,
             "#f1b6da"
            ],
            [
             0.4,
             "#fde0ef"
            ],
            [
             0.5,
             "#f7f7f7"
            ],
            [
             0.6,
             "#e6f5d0"
            ],
            [
             0.7,
             "#b8e186"
            ],
            [
             0.8,
             "#7fbc41"
            ],
            [
             0.9,
             "#4d9221"
            ],
            [
             1,
             "#276419"
            ]
           ],
           "sequential": [
            [
             0,
             "#0d0887"
            ],
            [
             0.1111111111111111,
             "#46039f"
            ],
            [
             0.2222222222222222,
             "#7201a8"
            ],
            [
             0.3333333333333333,
             "#9c179e"
            ],
            [
             0.4444444444444444,
             "#bd3786"
            ],
            [
             0.5555555555555556,
             "#d8576b"
            ],
            [
             0.6666666666666666,
             "#ed7953"
            ],
            [
             0.7777777777777778,
             "#fb9f3a"
            ],
            [
             0.8888888888888888,
             "#fdca26"
            ],
            [
             1,
             "#f0f921"
            ]
           ],
           "sequentialminus": [
            [
             0,
             "#0d0887"
            ],
            [
             0.1111111111111111,
             "#46039f"
            ],
            [
             0.2222222222222222,
             "#7201a8"
            ],
            [
             0.3333333333333333,
             "#9c179e"
            ],
            [
             0.4444444444444444,
             "#bd3786"
            ],
            [
             0.5555555555555556,
             "#d8576b"
            ],
            [
             0.6666666666666666,
             "#ed7953"
            ],
            [
             0.7777777777777778,
             "#fb9f3a"
            ],
            [
             0.8888888888888888,
             "#fdca26"
            ],
            [
             1,
             "#f0f921"
            ]
           ]
          },
          "colorway": [
           "#636efa",
           "#EF553B",
           "#00cc96",
           "#ab63fa",
           "#FFA15A",
           "#19d3f3",
           "#FF6692",
           "#B6E880",
           "#FF97FF",
           "#FECB52"
          ],
          "font": {
           "color": "#2a3f5f",
           "family": "Cardo"
          },
          "geo": {
           "bgcolor": "white",
           "lakecolor": "white",
           "landcolor": "#E5ECF6",
           "showlakes": true,
           "showland": true,
           "subunitcolor": "white"
          },
          "hoverlabel": {
           "align": "left"
          },
          "hovermode": "closest",
          "mapbox": {
           "style": "light"
          },
          "paper_bgcolor": "white",
          "plot_bgcolor": "#E5ECF6",
          "polar": {
           "angularaxis": {
            "gridcolor": "white",
            "linecolor": "white",
            "ticks": ""
           },
           "bgcolor": "#E5ECF6",
           "radialaxis": {
            "gridcolor": "white",
            "linecolor": "white",
            "ticks": ""
           }
          },
          "scene": {
           "xaxis": {
            "backgroundcolor": "#E5ECF6",
            "gridcolor": "white",
            "gridwidth": 2,
            "linecolor": "white",
            "showbackground": true,
            "ticks": "",
            "zerolinecolor": "white"
           },
           "yaxis": {
            "backgroundcolor": "#E5ECF6",
            "gridcolor": "white",
            "gridwidth": 2,
            "linecolor": "white",
            "showbackground": true,
            "ticks": "",
            "zerolinecolor": "white"
           },
           "zaxis": {
            "backgroundcolor": "#E5ECF6",
            "gridcolor": "white",
            "gridwidth": 2,
            "linecolor": "white",
            "showbackground": true,
            "ticks": "",
            "zerolinecolor": "white"
           }
          },
          "shapedefaults": {
           "line": {
            "color": "#2a3f5f"
           }
          },
          "ternary": {
           "aaxis": {
            "gridcolor": "white",
            "linecolor": "white",
            "ticks": ""
           },
           "baxis": {
            "gridcolor": "white",
            "linecolor": "white",
            "ticks": ""
           },
           "bgcolor": "#E5ECF6",
           "caxis": {
            "gridcolor": "white",
            "linecolor": "white",
            "ticks": ""
           }
          },
          "title": {
           "x": 0.05
          },
          "xaxis": {
           "automargin": true,
           "gridcolor": "white",
           "linecolor": "white",
           "ticks": "",
           "title": {
            "standoff": 15
           },
           "zerolinecolor": "white",
           "zerolinewidth": 2
          },
          "yaxis": {
           "automargin": true,
           "gridcolor": "white",
           "linecolor": "white",
           "ticks": "",
           "title": {
            "standoff": 15
           },
           "zerolinecolor": "white",
           "zerolinewidth": 2
          }
         }
        },
        "title": {
         "font": {
          "color": "black",
          "family": "Cardo",
          "size": 27
         },
         "text": "<span style='color: black; font-weight: normal;'>AUM Over Time</span><br><sub style='font-size: 18px; color: black; font-weight: normal;'></sub>",
         "x": 0.1,
         "xanchor": "left",
         "y": 0.9,
         "yanchor": "top"
        },
        "uniformtext": {
         "minsize": 15,
         "mode": "show"
        },
        "width": 730,
        "xaxis": {
         "anchor": "y",
         "domain": [
          0,
          0.94
         ],
         "range": [
          "2024-12-16T07:00:00",
          "2024-12-17T03:00:00"
         ],
         "tick0": "2024-12-16T07:00:00",
         "tickfont": {
          "color": "black",
          "family": "Cardo",
          "size": 18
         },
         "tickformat": "%b %d <br>%y",
         "tickvals": [
          "2024-12-16",
          "2024-12-16",
          "2024-12-16",
          "2024-12-16",
          "2024-12-17"
         ],
         "title": {
          "font": {
           "color": "black",
           "family": "Cardo",
           "size": 18
          }
         }
        },
        "yaxis": {
         "anchor": "x",
         "domain": [
          0,
          1
         ],
         "tickfont": {
          "color": "black",
          "family": "Cardo",
          "size": 18
         },
         "tickprefix": "$",
         "title": {
          "font": {
           "color": "black",
           "family": "Cardo",
           "size": 18
          }
         }
        },
        "yaxis2": {
         "anchor": "x",
         "overlaying": "y",
         "side": "right",
         "tickfont": {
          "color": "black",
          "family": "Cardo",
          "size": 18
         },
         "title": {
          "font": {
           "color": "black",
           "family": "Cardo",
           "size": 18
          }
         }
        }
       }
      }
     },
     "metadata": {},
     "output_type": "display_data"
    }
   ],
   "source": [
    "norm_port.rename(columns={'Portfolio_Value':f'{model_name} Portfolio Value'},inplace=True)\n",
    "\n",
    "nom_comp = pd.merge(\n",
    "    norm_port, norm_prices, left_index=True, right_index=True, how='left'\n",
    ")\n",
    "\n",
    "print(f'historical_data: {historical_data}')\n",
    "print(f'norm_port: {norm_port}')\n",
    "\n",
    "plot_historical_data = historical_data.copy()\n",
    "plot_historical_data.set_index('date',inplace=True)\n",
    "plot_historical_data.index = pd.to_datetime(plot_historical_data.index)\n",
    "plot_historical_data = plot_historical_data.resample('H').ffill().bfill()\n",
    "print(f'plot_historical_data: {plot_historical_data.index}')\n",
    "\n",
    "model_fig1 = visualization_pipeline(\n",
    "    df=nom_comp,\n",
    "    title='model_normalized',\n",
    "    chart_type = 'line',\n",
    "    cols_to_plot='All',\n",
    "    tickprefix=dict(y1='$',y2=None),\n",
    "    show_legend=True,\n",
    "    decimals=True,\n",
    "    sort_list = False,\n",
    "    tickformat=dict(x='%b %d <br> %y',y1=None,y2=None),\n",
    "    legend_placement=dict(x=0.05,y=0.8),\n",
    "    font_family=font_family\n",
    ")\n",
    "\n",
    "chartBuilder(\n",
    "    fig = model_fig1,\n",
    "    show=True,\n",
    "    save=False,\n",
    "    title='Normalized Model Performance',\n",
    "    subtitle=f'{model_name} Portfolio',\n",
    ")\n",
    "\n",
    "model_fig2 = visualization_pipeline(\n",
    "    df=plot_historical_data,\n",
    "    title='model_historical',\n",
    "    chart_type='bar',\n",
    "    to_percent=True,\n",
    "    show_legend=True,\n",
    "    sort_list = False,\n",
    "    legend_placement=dict(x=0.1,y=1.3),\n",
    "    cols_to_plot='All',\n",
    "    buffer=1,\n",
    "    ticksuffix=dict(y1='%',y2=None),\n",
    "    margin=dict(t=150,b=0,l=0,r=0),\n",
    "    font_family=font_family\n",
    ")\n",
    "\n",
    "chartBuilder(\n",
    "    fig=model_fig2,\n",
    "    title='Portfolio Composition Over Time',\n",
    "    date_xy=dict(x=0.1,y=1.4),\n",
    "    show=True,\n",
    "    save=False\n",
    ")\n",
    "\n",
    "aum_df = historical_port_values.copy()\n",
    "aum_df.set_index('date',inplace=True)\n",
    "aum_df.index = pd.to_datetime(aum_df.index)\n",
    "\n",
    "print(f'aum_df: {aum_df}')\n",
    "\n",
    "model_fig3 = visualization_pipeline(\n",
    "    df=aum_df,\n",
    "    title='viz_port_values',\n",
    "    chart_type='line',\n",
    "    area=True,\n",
    "    show_legend=True,\n",
    "    sort_list = False,\n",
    "    legend_placement=dict(x=0.1,y=1.3),\n",
    "    cols_to_plot='All',\n",
    "    tickprefix=dict(y1='$',y2=None),\n",
    "    margin=dict(t=150,b=0,l=0,r=0),\n",
    "    font_family=font_family\n",
    ")\n",
    "\n",
    "chartBuilder(\n",
    "    fig=model_fig3,\n",
    "    title='AUM Over Time',\n",
    "    date_xy=dict(x=0.1,y=1.4),\n",
    "    show=True,\n",
    "    save=False\n",
    ")\n"
   ]
  },
  {
   "cell_type": "code",
   "execution_count": 164,
   "metadata": {},
   "outputs": [],
   "source": [
    "latest_comp_data = plot_historical_data.iloc[-1].to_frame('Composition').reset_index()"
   ]
  },
  {
   "cell_type": "code",
   "execution_count": 165,
   "metadata": {},
   "outputs": [],
   "source": [
    "latest_comp_data = pd.DataFrame([model_balances_usd]).iloc[0].to_frame('Balance USD').reset_index()"
   ]
  },
  {
   "cell_type": "code",
   "execution_count": null,
   "metadata": {},
   "outputs": [
    {
     "name": "stdout",
     "output_type": "stream",
     "text": [
      "Initialized axes_data: {'y1': 'All', 'y2': []}\n",
      "tick0: min\n",
      "turn_to_time: False\n",
      "df sort order at init: ['CRV' 'LINK' 'UNI' 'WBTC']\n",
      "save:False\n",
      "logo path: ../img/Logos/None\n",
      "Generating pie chart...\n",
      "self.textinfo: percent+label\n",
      "original_labels: ['CRV' 'LINK' 'UNI' 'WBTC']\n",
      "df_copy:         Balance USD\n",
      "index              \n",
      "CRV    4.595670e-09\n",
      "LINK   4.733659e+01\n",
      "UNI    2.926769e+00\n",
      "WBTC   0.000000e+00\n",
      "percent+label, ['LINK    ', 'UNI    ', 'CRV    ', 'WBTC    ']\n",
      "textinfo: percent+label\n",
      "x:50.26335433654252\n",
      "Columns: Index(['index', 'Balance USD'], dtype='object') \n",
      "Index: RangeIndex(start=0, stop=4, step=1)\n"
     ]
    },
    {
     "data": {
      "application/vnd.plotly.v1+json": {
       "config": {
        "linkText": "Export to plot.ly",
        "plotlyServerURL": "https://plot.ly",
        "showLink": false
       },
       "data": [
        {
         "hole": 0.6,
         "labels": [
          "LINK    ",
          "UNI    ",
          "CRV    ",
          "WBTC    "
         ],
         "marker": {
          "colors": [
           "#2E91E5",
           "#E15F99",
           "#1CA71C",
           "#FB0D0D",
           "#DA16FF",
           "#222A2A",
           "#B68100",
           "#750D86",
           "#EB663B",
           "#511CFB",
           "#00A08B",
           "#FB00D1",
           "#FC0080",
           "#B2828D",
           "#6C7C32",
           "#778AAE",
           "#862A16",
           "#A777F1",
           "#620042",
           "#1616A7",
           "#DA60CA",
           "#6C4516",
           "#0D2A63",
           "#AF0038",
           "rgb(141,211,199)",
           "rgb(255,255,179)",
           "rgb(190,186,218)",
           "rgb(251,128,114)",
           "rgb(128,177,211)",
           "rgb(253,180,98)",
           "rgb(179,222,105)",
           "rgb(252,205,229)",
           "rgb(217,217,217)",
           "rgb(188,128,189)",
           "rgb(204,235,197)",
           "rgb(255,237,111)",
           "#FECB52",
           "#FF97FF",
           "#B6E880",
           "#FF6692",
           "#19D3F3",
           "#FFA15A",
           "#AB63FA",
           "#00CC96",
           "#EF553B",
           "#636EFA",
           "#1f77b4",
           "#ff7f0e",
           "#2ca02c",
           "#d62728",
           "#9467bd",
           "#8c564b",
           "#e377c2",
           "#7f7f7f",
           "#bcbd22",
           "#17becf",
           "#e41a1c",
           "#377eb8",
           "#4daf4a",
           "#984ea3",
           "#ff7f00",
           "#ffff33",
           "#a65628",
           "#f781bf",
           "#999999",
           "#d60000",
           "#8c3bff",
           "#018700",
           "#00acc6",
           "#e6a500",
           "#ff7ed1",
           "#6b004f",
           "#573b00",
           "#005659",
           "#15e18c",
           "#0000dd",
           "#a17569",
           "#bcb6ff",
           "#bf03b8",
           "#645472",
           "#790000",
           "#0774d8",
           "#729a7c",
           "#ff7752",
           "#004b00",
           "#8e7b01",
           "#f2007b",
           "#8eba00",
           "#a57bb8",
           "#5901a3",
           "#e2afaf",
           "#a03a52",
           "#a1c8c8",
           "#9e4b00",
           "#546744",
           "#bac389",
           "#5e7b87",
           "#60383b",
           "#8287ff",
           "#380000",
           "#e252ff",
           "#2f5282",
           "#7ecaff",
           "#c4668e",
           "#008069",
           "#919eb6",
           "#cc7407",
           "#7e2a8e",
           "#00bda3",
           "#2db152",
           "#4d33ff",
           "#00e400",
           "#ff00cd",
           "#c85748",
           "#e49cff",
           "#1ca1ff",
           "#6e70aa",
           "#c89a69",
           "#77563b",
           "#03dae6",
           "#c1a3c3",
           "#ff6989",
           "#ba00fd",
           "#915280",
           "#9e0174",
           "#93a14f",
           "#364424",
           "#af6dff",
           "#596d00",
           "#ff3146",
           "#828056",
           "#006d2d",
           "#8956af",
           "#5949a3",
           "#773416",
           "#85c39a",
           "#5e1123",
           "#d48580",
           "#a32818",
           "#0087b1",
           "#ca0044",
           "#ffa056",
           "#eb4d00",
           "#6b9700",
           "#528549",
           "#755900",
           "#c8c33f",
           "#91d370",
           "#4b9793",
           "#4d230c",
           "#60345b",
           "#8300cf",
           "#8a0031",
           "#9e6e31",
           "#ac8399",
           "#c63189",
           "#015438",
           "#086b83",
           "#87a8eb",
           "#6466ef",
           "#c35dba",
           "#019e70",
           "#805059",
           "#826e8c",
           "#b3bfda",
           "#b89028",
           "#ff97b1",
           "#a793e1",
           "#698cbd",
           "#4b4f01",
           "#4801cc",
           "#60006e",
           "#446966",
           "#9c5642",
           "#7bacb5",
           "#cd83bc",
           "#0054c1",
           "#7b2f4f",
           "#fb7c00",
           "#34bf00",
           "#ff9c87",
           "#e1b669",
           "#526077",
           "#5b3a7c",
           "#eda5da",
           "#ef52a3",
           "#5d7e69",
           "#c3774f",
           "#d14867",
           "#6e00eb",
           "#1f3400",
           "#c14103",
           "#6dd4c1",
           "#46709e",
           "#a101c3",
           "#0a8289",
           "#afa501",
           "#a55b6b",
           "#fd77ff",
           "#8a85ae",
           "#c67ee8",
           "#9aaa85",
           "#876bd8",
           "#01baf6",
           "#af5dd1",
           "#59502a",
           "#b5005e",
           "#7cb569",
           "#4985ff",
           "#00c182",
           "#d195aa",
           "#a34ba8",
           "#e205e2",
           "#16a300",
           "#382d00",
           "#832f33",
           "#5d95aa",
           "#590f00",
           "#7b4600",
           "#6e6e31",
           "#335726",
           "#4d60b5",
           "#a19564",
           "#623f28",
           "#44d457",
           "#70aacf",
           "#2d6b4d",
           "#72af9e",
           "#fd1500",
           "#d8b391",
           "#79893b",
           "#7cc6d8",
           "#db9036",
           "#eb605d",
           "#eb5ed4",
           "#e47ba7",
           "#a56b97",
           "#009744",
           "#ba5e21",
           "#bcac52",
           "#87d82f",
           "#873472",
           "#aea8d1",
           "#e28c62",
           "#d1b1eb",
           "#36429e",
           "#3abdc1",
           "#669c4d",
           "#9e0399",
           "#4d4d79",
           "#7b4b85",
           "#c33431",
           "#8c6677",
           "#aa002d",
           "#7e0175",
           "#01824d",
           "#724967",
           "#727790",
           "#6e0099",
           "#a0ba52",
           "#e16e31",
           "#c46970",
           "#6d5b95",
           "#a33b74",
           "#316200",
           "#87004f",
           "#335769",
           "#ba8c7c",
           "#1859ff",
           "#909101",
           "#2b8ad4",
           "#1626ff",
           "#21d3ff",
           "#a390af",
           "#8a6d4f",
           "#5d213d",
           "#db03b3",
           "#6e56ca",
           "#642821",
           "#ac7700",
           "#a3bff6",
           "#b58346",
           "#9738db",
           "#b15093",
           "#7242a3",
           "#878ed1",
           "#8970b1",
           "#6baf36",
           "#5979c8",
           "#c69eff",
           "#56831a",
           "#00d6a7",
           "#824638",
           "#11421c",
           "#59aa75",
           "#905b01",
           "#f64470",
           "#ff9703",
           "#e14231",
           "#ba91cf",
           "#34574d",
           "#f7807c",
           "#903400",
           "#b3cd00",
           "#2d9ed3",
           "#798a9e",
           "#50807c",
           "#c136d6",
           "#eb0552",
           "#b8ac7e",
           "#487031",
           "#839564",
           "#d89c89",
           "#0064a3",
           "#4b9077",
           "#8e6097",
           "#ff5238",
           "#a7423b",
           "#006e70",
           "#97833d",
           "#dbafc8",
           "#d60000",
           "#018700",
           "#b500ff",
           "#05acc6",
           "#97ff00",
           "#ffa52f",
           "#ff8ec8",
           "#79525e",
           "#00fdcf",
           "#afa5ff",
           "#93ac83",
           "#9a6900",
           "#366962",
           "#d3008c",
           "#fdf490",
           "#c86e66",
           "#9ee2ff",
           "#00c846",
           "#a877ac",
           "#b8ba01",
           "#f4bfb1",
           "#ff28fd",
           "#f2cdff",
           "#009e7c",
           "#ff6200",
           "#56642a",
           "#953f1f",
           "#90318e",
           "#ff3464",
           "#a0e491",
           "#8c9ab1",
           "#829026",
           "#ae083f",
           "#77c6ba",
           "#bc9157",
           "#e48eff",
           "#72b8ff",
           "#c6a5c1",
           "#ff9070",
           "#d3c37c",
           "#bceddb",
           "#6b8567",
           "#916e56",
           "#f9ff00",
           "#bac1df",
           "#ac567c",
           "#ffcd03",
           "#ff49b1",
           "#c15603",
           "#5d8c90",
           "#c144bc",
           "#00753f",
           "#ba6efd",
           "#00d493",
           "#00ff75",
           "#49a150",
           "#cc9790",
           "#00ebed",
           "#db7e01",
           "#f77589",
           "#b89500",
           "#c84248",
           "#00cff9",
           "#755726",
           "#85d401",
           "#ebffd4",
           "#a77b87",
           "#db72c8",
           "#cae256",
           "#8abf5d",
           "#a1216b",
           "#855b89",
           "#89bacf",
           "#ffbad6",
           "#b6cfaa",
           "#97414d",
           "#67aa00",
           "#fde1b1",
           "#ff3628",
           "#80793d",
           "#d6e8ff",
           "#a795c6",
           "#7ea59a",
           "#d182a3",
           "#54823b",
           "#e6a872",
           "#9cffff",
           "#da5480",
           "#05b3aa",
           "#ffaaf6",
           "#d1afef",
           "#da015d",
           "#ac1a13",
           "#60b385",
           "#d442fd",
           "#acaa59",
           "#fb9ca7",
           "#b3723b",
           "#f26952",
           "#aed1d4",
           "#9affc3",
           "#dbb333",
           "#eb01c3",
           "#9900c4",
           "#cfff9e",
           "#a55949",
           "#3b6d01",
           "#008579",
           "#959167",
           "#89dbb3",
           "#6d7400",
           "#aa5dca",
           "#07ef00",
           "#804f3d",
           "#d88052",
           "#ffc862",
           "#b8009e",
           "#99acdd",
           "#904f00",
           "#8c4470",
           "#4f6e52",
           "#ff8734",
           "#c68ecd",
           "#d4e29e",
           "#b1826d",
           "#9cfb75",
           "#56dd77",
           "#f90087",
           "#a1cdff",
           "#13cad1",
           "#118e54",
           "#d154a5",
           "#00dfc3",
           "#a3832f",
           "#77975b",
           "#baaa80",
           "#70a3af",
           "#d6fbff",
           "#e8013a",
           "#d84621",
           "#ff82ed",
           "#b63862",
           "#b6cd72",
           "#97626b",
           "#897490",
           "#00a316",
           "#00f4a1",
           "#bf90f2",
           "#89e4d8",
           "#a34d95",
           "#6e5d00",
           "#8cc68e",
           "#95aa2a",
           "#c672dd",
           "#b33b01",
           "#d69a36",
           "#dfacb6",
           "#009aa0",
           "#599000",
           "#97bca8",
           "#ac8ca8",
           "#dad4ff",
           "#547c72",
           "#00ba69",
           "#ffc38e",
           "#b800d4",
           "#dfcf5b",
           "#629a7b",
           "#bfedbc",
           "#c1bdfd",
           "#80d3dd",
           "#e2857e",
           "#f9eb4d",
           "#bf6d82",
           "#caff4f",
           "#ef72aa",
           "#ed67ff",
           "#9946ae",
           "#6d6942",
           "#e25660",
           "#dd662d",
           "#9cdb5d",
           "#e29ccf",
           "#b87500",
           "#c6002d",
           "#dfbcda",
           "#59b5df",
           "#ff59da",
           "#38c1a1",
           "#9e698c",
           "#acaac8",
           "#95622f",
           "#b55662",
           "#2b7e60",
           "#b1e400",
           "#eda590",
           "#95fde2",
           "#ff548e",
           "#bd6ea1",
           "#aa3b36",
           "#d8cf00",
           "#aa80cd",
           "#a08052",
           "#e100e8",
           "#c35b3d",
           "#b53a85",
           "#8c7700",
           "#dbbc95",
           "#529e93",
           "#afbc82",
           "#91b5b6",
           "#a75423",
           "#ffd4ef",
           "#79ae6b",
           "#5db54b",
           "#80fb9a",
           "#48ffef",
           "#979548",
           "#9387a7",
           "#31d400",
           "#6ee956",
           "#b6d4eb",
           "#705470",
           "#f2db8a",
           "#aad4c1",
           "#7ecdf2",
           "#89ba00",
           "#64b6ba",
           "#ffb500",
           "#c38285",
           "#caaa5e",
           "#647748",
           "#59e2ff",
           "#df4dcd",
           "#e9ff79",
           "#bc66b8",
           "#c395a5",
           "#64c674",
           "#d19570",
           "#70cf4f",
           "#aa6e66",
           "#9c60a5",
           "#00b800",
           "#e299b3",
           "#bc006b",
           "#b3e8ef",
           "#cdbfe4",
           "#77a342",
           "#856277",
           "#568e5b",
           "#9eafc4",
           "#e82fa0",
           "#247c2a",
           "#826723",
           "#bfbc4d",
           "#ddd3a5"
          ],
          "line": {
           "color": "white",
           "width": 4
          }
         },
         "showlegend": false,
         "textfont": {
          "color": "black",
          "family": "Cardo",
          "size": 14
         },
         "textinfo": "percent+label",
         "texttemplate": "%{label}<br>%{percent}",
         "type": "pie",
         "values": [
          47.336585219597076,
          2.9267691123497768,
          4.595669856099e-9,
          0
         ]
        }
       ],
       "layout": {
        "annotations": [
         {
          "align": "center",
          "font": {
           "color": "black",
           "family": "Cardo",
           "size": 25
          },
          "showarrow": false,
          "text": "Total: $50.3",
          "x": 0.5,
          "xref": "paper",
          "y": 0.5,
          "yref": "paper"
         }
        ],
        "autosize": true,
        "font": {
         "family": "Cardo",
         "size": 18
        },
        "height": 400,
        "legend": {
         "bgcolor": "rgba(0,0,0,0)",
         "font": {
          "color": "black",
          "family": "Cardo",
          "size": 14
         },
         "itemsizing": "constant",
         "orientation": "v",
         "x": 0.1,
         "xanchor": "left",
         "y": 1.3,
         "yanchor": "top"
        },
        "margin": {
         "b": 0,
         "l": 0,
         "r": 0,
         "t": 150
        },
        "paper_bgcolor": "rgba(0,0,0,0)",
        "plot_bgcolor": "rgba(0,0,0,0)",
        "template": {
         "data": {
          "bar": [
           {
            "error_x": {
             "color": "#2a3f5f"
            },
            "error_y": {
             "color": "#2a3f5f"
            },
            "marker": {
             "line": {
              "color": "#E5ECF6",
              "width": 0.5
             },
             "pattern": {
              "fillmode": "overlay",
              "size": 10,
              "solidity": 0.2
             }
            },
            "type": "bar"
           }
          ],
          "barpolar": [
           {
            "marker": {
             "line": {
              "color": "#E5ECF6",
              "width": 0.5
             },
             "pattern": {
              "fillmode": "overlay",
              "size": 10,
              "solidity": 0.2
             }
            },
            "type": "barpolar"
           }
          ],
          "carpet": [
           {
            "aaxis": {
             "endlinecolor": "#2a3f5f",
             "gridcolor": "white",
             "linecolor": "white",
             "minorgridcolor": "white",
             "startlinecolor": "#2a3f5f"
            },
            "baxis": {
             "endlinecolor": "#2a3f5f",
             "gridcolor": "white",
             "linecolor": "white",
             "minorgridcolor": "white",
             "startlinecolor": "#2a3f5f"
            },
            "type": "carpet"
           }
          ],
          "choropleth": [
           {
            "colorbar": {
             "outlinewidth": 0,
             "ticks": ""
            },
            "type": "choropleth"
           }
          ],
          "contour": [
           {
            "colorbar": {
             "outlinewidth": 0,
             "ticks": ""
            },
            "colorscale": [
             [
              0,
              "#0d0887"
             ],
             [
              0.1111111111111111,
              "#46039f"
             ],
             [
              0.2222222222222222,
              "#7201a8"
             ],
             [
              0.3333333333333333,
              "#9c179e"
             ],
             [
              0.4444444444444444,
              "#bd3786"
             ],
             [
              0.5555555555555556,
              "#d8576b"
             ],
             [
              0.6666666666666666,
              "#ed7953"
             ],
             [
              0.7777777777777778,
              "#fb9f3a"
             ],
             [
              0.8888888888888888,
              "#fdca26"
             ],
             [
              1,
              "#f0f921"
             ]
            ],
            "type": "contour"
           }
          ],
          "contourcarpet": [
           {
            "colorbar": {
             "outlinewidth": 0,
             "ticks": ""
            },
            "type": "contourcarpet"
           }
          ],
          "heatmap": [
           {
            "colorbar": {
             "outlinewidth": 0,
             "ticks": ""
            },
            "colorscale": [
             [
              0,
              "#0d0887"
             ],
             [
              0.1111111111111111,
              "#46039f"
             ],
             [
              0.2222222222222222,
              "#7201a8"
             ],
             [
              0.3333333333333333,
              "#9c179e"
             ],
             [
              0.4444444444444444,
              "#bd3786"
             ],
             [
              0.5555555555555556,
              "#d8576b"
             ],
             [
              0.6666666666666666,
              "#ed7953"
             ],
             [
              0.7777777777777778,
              "#fb9f3a"
             ],
             [
              0.8888888888888888,
              "#fdca26"
             ],
             [
              1,
              "#f0f921"
             ]
            ],
            "type": "heatmap"
           }
          ],
          "heatmapgl": [
           {
            "colorbar": {
             "outlinewidth": 0,
             "ticks": ""
            },
            "colorscale": [
             [
              0,
              "#0d0887"
             ],
             [
              0.1111111111111111,
              "#46039f"
             ],
             [
              0.2222222222222222,
              "#7201a8"
             ],
             [
              0.3333333333333333,
              "#9c179e"
             ],
             [
              0.4444444444444444,
              "#bd3786"
             ],
             [
              0.5555555555555556,
              "#d8576b"
             ],
             [
              0.6666666666666666,
              "#ed7953"
             ],
             [
              0.7777777777777778,
              "#fb9f3a"
             ],
             [
              0.8888888888888888,
              "#fdca26"
             ],
             [
              1,
              "#f0f921"
             ]
            ],
            "type": "heatmapgl"
           }
          ],
          "histogram": [
           {
            "marker": {
             "pattern": {
              "fillmode": "overlay",
              "size": 10,
              "solidity": 0.2
             }
            },
            "type": "histogram"
           }
          ],
          "histogram2d": [
           {
            "colorbar": {
             "outlinewidth": 0,
             "ticks": ""
            },
            "colorscale": [
             [
              0,
              "#0d0887"
             ],
             [
              0.1111111111111111,
              "#46039f"
             ],
             [
              0.2222222222222222,
              "#7201a8"
             ],
             [
              0.3333333333333333,
              "#9c179e"
             ],
             [
              0.4444444444444444,
              "#bd3786"
             ],
             [
              0.5555555555555556,
              "#d8576b"
             ],
             [
              0.6666666666666666,
              "#ed7953"
             ],
             [
              0.7777777777777778,
              "#fb9f3a"
             ],
             [
              0.8888888888888888,
              "#fdca26"
             ],
             [
              1,
              "#f0f921"
             ]
            ],
            "type": "histogram2d"
           }
          ],
          "histogram2dcontour": [
           {
            "colorbar": {
             "outlinewidth": 0,
             "ticks": ""
            },
            "colorscale": [
             [
              0,
              "#0d0887"
             ],
             [
              0.1111111111111111,
              "#46039f"
             ],
             [
              0.2222222222222222,
              "#7201a8"
             ],
             [
              0.3333333333333333,
              "#9c179e"
             ],
             [
              0.4444444444444444,
              "#bd3786"
             ],
             [
              0.5555555555555556,
              "#d8576b"
             ],
             [
              0.6666666666666666,
              "#ed7953"
             ],
             [
              0.7777777777777778,
              "#fb9f3a"
             ],
             [
              0.8888888888888888,
              "#fdca26"
             ],
             [
              1,
              "#f0f921"
             ]
            ],
            "type": "histogram2dcontour"
           }
          ],
          "mesh3d": [
           {
            "colorbar": {
             "outlinewidth": 0,
             "ticks": ""
            },
            "type": "mesh3d"
           }
          ],
          "parcoords": [
           {
            "line": {
             "colorbar": {
              "outlinewidth": 0,
              "ticks": ""
             }
            },
            "type": "parcoords"
           }
          ],
          "pie": [
           {
            "automargin": true,
            "type": "pie"
           }
          ],
          "scatter": [
           {
            "fillpattern": {
             "fillmode": "overlay",
             "size": 10,
             "solidity": 0.2
            },
            "type": "scatter"
           }
          ],
          "scatter3d": [
           {
            "line": {
             "colorbar": {
              "outlinewidth": 0,
              "ticks": ""
             }
            },
            "marker": {
             "colorbar": {
              "outlinewidth": 0,
              "ticks": ""
             }
            },
            "type": "scatter3d"
           }
          ],
          "scattercarpet": [
           {
            "marker": {
             "colorbar": {
              "outlinewidth": 0,
              "ticks": ""
             }
            },
            "type": "scattercarpet"
           }
          ],
          "scattergeo": [
           {
            "marker": {
             "colorbar": {
              "outlinewidth": 0,
              "ticks": ""
             }
            },
            "type": "scattergeo"
           }
          ],
          "scattergl": [
           {
            "marker": {
             "colorbar": {
              "outlinewidth": 0,
              "ticks": ""
             }
            },
            "type": "scattergl"
           }
          ],
          "scattermapbox": [
           {
            "marker": {
             "colorbar": {
              "outlinewidth": 0,
              "ticks": ""
             }
            },
            "type": "scattermapbox"
           }
          ],
          "scatterpolar": [
           {
            "marker": {
             "colorbar": {
              "outlinewidth": 0,
              "ticks": ""
             }
            },
            "type": "scatterpolar"
           }
          ],
          "scatterpolargl": [
           {
            "marker": {
             "colorbar": {
              "outlinewidth": 0,
              "ticks": ""
             }
            },
            "type": "scatterpolargl"
           }
          ],
          "scatterternary": [
           {
            "marker": {
             "colorbar": {
              "outlinewidth": 0,
              "ticks": ""
             }
            },
            "type": "scatterternary"
           }
          ],
          "surface": [
           {
            "colorbar": {
             "outlinewidth": 0,
             "ticks": ""
            },
            "colorscale": [
             [
              0,
              "#0d0887"
             ],
             [
              0.1111111111111111,
              "#46039f"
             ],
             [
              0.2222222222222222,
              "#7201a8"
             ],
             [
              0.3333333333333333,
              "#9c179e"
             ],
             [
              0.4444444444444444,
              "#bd3786"
             ],
             [
              0.5555555555555556,
              "#d8576b"
             ],
             [
              0.6666666666666666,
              "#ed7953"
             ],
             [
              0.7777777777777778,
              "#fb9f3a"
             ],
             [
              0.8888888888888888,
              "#fdca26"
             ],
             [
              1,
              "#f0f921"
             ]
            ],
            "type": "surface"
           }
          ],
          "table": [
           {
            "cells": {
             "fill": {
              "color": "#EBF0F8"
             },
             "line": {
              "color": "white"
             }
            },
            "header": {
             "fill": {
              "color": "#C8D4E3"
             },
             "line": {
              "color": "white"
             }
            },
            "type": "table"
           }
          ]
         },
         "layout": {
          "annotationdefaults": {
           "arrowcolor": "#2a3f5f",
           "arrowhead": 0,
           "arrowwidth": 1
          },
          "autotypenumbers": "strict",
          "coloraxis": {
           "colorbar": {
            "outlinewidth": 0,
            "ticks": ""
           }
          },
          "colorscale": {
           "diverging": [
            [
             0,
             "#8e0152"
            ],
            [
             0.1,
             "#c51b7d"
            ],
            [
             0.2,
             "#de77ae"
            ],
            [
             0.3,
             "#f1b6da"
            ],
            [
             0.4,
             "#fde0ef"
            ],
            [
             0.5,
             "#f7f7f7"
            ],
            [
             0.6,
             "#e6f5d0"
            ],
            [
             0.7,
             "#b8e186"
            ],
            [
             0.8,
             "#7fbc41"
            ],
            [
             0.9,
             "#4d9221"
            ],
            [
             1,
             "#276419"
            ]
           ],
           "sequential": [
            [
             0,
             "#0d0887"
            ],
            [
             0.1111111111111111,
             "#46039f"
            ],
            [
             0.2222222222222222,
             "#7201a8"
            ],
            [
             0.3333333333333333,
             "#9c179e"
            ],
            [
             0.4444444444444444,
             "#bd3786"
            ],
            [
             0.5555555555555556,
             "#d8576b"
            ],
            [
             0.6666666666666666,
             "#ed7953"
            ],
            [
             0.7777777777777778,
             "#fb9f3a"
            ],
            [
             0.8888888888888888,
             "#fdca26"
            ],
            [
             1,
             "#f0f921"
            ]
           ],
           "sequentialminus": [
            [
             0,
             "#0d0887"
            ],
            [
             0.1111111111111111,
             "#46039f"
            ],
            [
             0.2222222222222222,
             "#7201a8"
            ],
            [
             0.3333333333333333,
             "#9c179e"
            ],
            [
             0.4444444444444444,
             "#bd3786"
            ],
            [
             0.5555555555555556,
             "#d8576b"
            ],
            [
             0.6666666666666666,
             "#ed7953"
            ],
            [
             0.7777777777777778,
             "#fb9f3a"
            ],
            [
             0.8888888888888888,
             "#fdca26"
            ],
            [
             1,
             "#f0f921"
            ]
           ]
          },
          "colorway": [
           "#636efa",
           "#EF553B",
           "#00cc96",
           "#ab63fa",
           "#FFA15A",
           "#19d3f3",
           "#FF6692",
           "#B6E880",
           "#FF97FF",
           "#FECB52"
          ],
          "font": {
           "color": "#2a3f5f",
           "family": "Cardo"
          },
          "geo": {
           "bgcolor": "white",
           "lakecolor": "white",
           "landcolor": "#E5ECF6",
           "showlakes": true,
           "showland": true,
           "subunitcolor": "white"
          },
          "hoverlabel": {
           "align": "left"
          },
          "hovermode": "closest",
          "mapbox": {
           "style": "light"
          },
          "paper_bgcolor": "white",
          "plot_bgcolor": "#E5ECF6",
          "polar": {
           "angularaxis": {
            "gridcolor": "white",
            "linecolor": "white",
            "ticks": ""
           },
           "bgcolor": "#E5ECF6",
           "radialaxis": {
            "gridcolor": "white",
            "linecolor": "white",
            "ticks": ""
           }
          },
          "scene": {
           "xaxis": {
            "backgroundcolor": "#E5ECF6",
            "gridcolor": "white",
            "gridwidth": 2,
            "linecolor": "white",
            "showbackground": true,
            "ticks": "",
            "zerolinecolor": "white"
           },
           "yaxis": {
            "backgroundcolor": "#E5ECF6",
            "gridcolor": "white",
            "gridwidth": 2,
            "linecolor": "white",
            "showbackground": true,
            "ticks": "",
            "zerolinecolor": "white"
           },
           "zaxis": {
            "backgroundcolor": "#E5ECF6",
            "gridcolor": "white",
            "gridwidth": 2,
            "linecolor": "white",
            "showbackground": true,
            "ticks": "",
            "zerolinecolor": "white"
           }
          },
          "shapedefaults": {
           "line": {
            "color": "#2a3f5f"
           }
          },
          "ternary": {
           "aaxis": {
            "gridcolor": "white",
            "linecolor": "white",
            "ticks": ""
           },
           "baxis": {
            "gridcolor": "white",
            "linecolor": "white",
            "ticks": ""
           },
           "bgcolor": "#E5ECF6",
           "caxis": {
            "gridcolor": "white",
            "linecolor": "white",
            "ticks": ""
           }
          },
          "title": {
           "x": 0.05
          },
          "xaxis": {
           "automargin": true,
           "gridcolor": "white",
           "linecolor": "white",
           "ticks": "",
           "title": {
            "standoff": 15
           },
           "zerolinecolor": "white",
           "zerolinewidth": 2
          },
          "yaxis": {
           "automargin": true,
           "gridcolor": "white",
           "linecolor": "white",
           "ticks": "",
           "title": {
            "standoff": 15
           },
           "zerolinecolor": "white",
           "zerolinewidth": 2
          }
         }
        },
        "title": {
         "font": {
          "color": "black",
          "family": "Cardo",
          "size": 27
         },
         "text": "<span style='color: black; font-weight: normal;'>Latest Comp</span><br><sub style='font-size: 18px; color: black; font-weight: normal;'></sub>",
         "x": 0.1,
         "xanchor": "left",
         "y": 0.9,
         "yanchor": "top"
        },
        "width": 730
       }
      }
     },
     "metadata": {},
     "output_type": "display_data"
    }
   ],
   "source": [
    "model_fig4 = visualization_pipeline(\n",
    "    df=latest_comp_data,\n",
    "    title='viz_port_values',\n",
    "    chart_type='pie',\n",
    "    groupby='index',\n",
    "    num_col='Balance USD',\n",
    "    show_legend=False,\n",
    "    sort_list = False,\n",
    "    legend_placement=dict(x=0.1,y=1.3),\n",
    "    # annotation_prefix=dict(y1='$',y2=None),\n",
    "    margin=dict(t=150,b=0,l=0,r=0),\n",
    "    annotation_prefix='$',\n",
    "    font_family=font_family\n",
    ")\n",
    "\n",
    "chartBuilder(\n",
    "    fig=model_fig4,\n",
    "    title='Latest Comp',\n",
    "    dt_index=False,\n",
    "    add_the_date=False,\n",
    "    show=True,\n",
    "    save=False\n",
    ")"
   ]
  },
  {
   "cell_type": "code",
   "execution_count": null,
   "metadata": {},
   "outputs": [],
   "source": [
    "os.chdir('notebooks')"
   ]
  },
  {
   "cell_type": "markdown",
   "metadata": {},
   "source": []
  }
 ],
 "metadata": {
  "kernelspec": {
   "display_name": "steth_optimizer",
   "language": "python",
   "name": "steth_optimizer"
  },
  "language_info": {
   "codemirror_mode": {
    "name": "ipython",
    "version": 3
   },
   "file_extension": ".py",
   "mimetype": "text/x-python",
   "name": "python",
   "nbconvert_exporter": "python",
   "pygments_lexer": "ipython3",
   "version": "3.11.9"
  }
 },
 "nbformat": 4,
 "nbformat_minor": 2
}
