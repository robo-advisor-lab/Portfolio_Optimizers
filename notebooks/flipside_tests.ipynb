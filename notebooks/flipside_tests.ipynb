{
 "cells": [
  {
   "cell_type": "code",
   "execution_count": 103,
   "metadata": {},
   "outputs": [],
   "source": [
    "import gymnasium as gym\n",
    "from gymnasium import spaces\n",
    "# from stable_baselines3 import PPO\n",
    "# from scipy.optimize import minimize, Bounds, LinearConstraint\n",
    "import plotly.graph_objs as go\n",
    "import pandas as pd\n",
    "import requests\n",
    "import numpy as np\n",
    "import yfinance as yf\n",
    "import matplotlib\n",
    "%matplotlib inline\n",
    "import random\n",
    "import plotly.io as pio\n",
    "# import cvxpy as cp\n",
    "# import matplotlib.pyplot as plt\n",
    "import datetime as dt\n",
    "# from prophet import Prophet\n",
    "from sklearn.metrics import r2_score, mean_absolute_error\n",
    "# from stable_baselines3.common.vec_env import DummyVecEnv\n",
    "# import torch\n",
    "from flipside import Flipside\n",
    "from dune_client.client import DuneClient\n",
    "\n",
    "import os\n",
    "from dotenv import load_dotenv\n",
    "\n",
    "import datetime as dt\n",
    "from datetime import timedelta\n",
    "import pytz  # Import pytz if using timezones\n",
    "\n",
    "import matplotlib.pyplot as plt\n",
    "\n",
    "from plotly.subplots import make_subplots\n",
    "import streamlit as st\n",
    "\n"
   ]
  },
  {
   "cell_type": "code",
   "execution_count": 104,
   "metadata": {},
   "outputs": [
    {
     "name": "stderr",
     "output_type": "stream",
     "text": [
      "2024-12-23 17:38:18.135 No runtime found, using MemoryCacheStorageManager\n",
      "2024-12-23 17:38:18.143 No runtime found, using MemoryCacheStorageManager\n"
     ]
    },
    {
     "name": "stdout",
     "output_type": "stream",
     "text": [
      "3-month T-bill data fetched:            realtime_start realtime_end  value  decimal\n",
      "date                                                  \n",
      "2024-07-01     2024-12-12   2024-12-12   5.20   0.0520\n",
      "2024-08-01     2024-12-12   2024-12-12   5.05   0.0505\n",
      "2024-09-01     2024-12-12   2024-12-12   4.72   0.0472\n",
      "2024-10-01     2024-12-12   2024-12-12   4.51   0.0451\n",
      "2024-11-01     2024-12-12   2024-12-12   4.42   0.0442\n"
     ]
    }
   ],
   "source": [
    "@st.cache_data(ttl=timedelta(days=7))\n",
    "def fetch_and_process_tbill_data(api_url, data_key, date_column, value_column, date_format='datetime'):\n",
    "    api_key = os.getenv(\"FRED_API_KEY\")\n",
    "    api_url_with_key = f\"{api_url}&api_key={api_key}\"\n",
    "\n",
    "    response = requests.get(api_url_with_key)\n",
    "    if response.status_code == 200:\n",
    "        data = response.json()\n",
    "        df = pd.DataFrame(data[data_key])\n",
    "        \n",
    "        if date_format == 'datetime':\n",
    "            df[date_column] = pd.to_datetime(df[date_column])\n",
    "        \n",
    "        df.set_index(date_column, inplace=True)\n",
    "        df[value_column] = df[value_column].astype(float)\n",
    "        return df\n",
    "    else:\n",
    "        print(f\"Failed to retrieve data: {response.status_code}\")\n",
    "        return pd.DataFrame()  # Return an empty DataFrame in case of failure\n",
    "    \n",
    "three_month_tbill_historical_api = \"https://api.stlouisfed.org/fred/series/observations?series_id=TB3MS&file_type=json\"\n",
    "\n",
    "try:\n",
    "    three_month_tbill = fetch_and_process_tbill_data(three_month_tbill_historical_api, \"observations\", \"date\", \"value\")\n",
    "    three_month_tbill['decimal'] = three_month_tbill['value'] / 100\n",
    "    current_risk_free = three_month_tbill['decimal'].iloc[-1]\n",
    "    print(f\"3-month T-bill data fetched: {three_month_tbill.tail()}\")\n",
    "except Exception as e:\n",
    "    print(f\"Error in fetching tbill data: {e}\")"
   ]
  },
  {
   "cell_type": "code",
   "execution_count": 2,
   "metadata": {},
   "outputs": [],
   "source": [
    "os.chdir('..')"
   ]
  },
  {
   "cell_type": "code",
   "execution_count": 3,
   "metadata": {},
   "outputs": [
    {
     "name": "stderr",
     "output_type": "stream",
     "text": [
      "2024-12-23 15:43:57.428 WARNING streamlit.runtime.caching.cache_data_api: No runtime found, using MemoryCacheStorageManager\n"
     ]
    }
   ],
   "source": [
    "from python_scripts.utils import flipside_api_results, set_random_seed, to_time, clean_prices, calculate_cumulative_return, calculate_cagr, calculate_beta,pull_data\n",
    "from sql_scripts.queries import lst_portfolio_prices,eth_btc_prices,dao_advisor_portfolio, yield_portfolio_prices,token_classifier,token_prices, model_flows\n",
    "from models.training import train_model"
   ]
  },
  {
   "cell_type": "code",
   "execution_count": 4,
   "metadata": {},
   "outputs": [],
   "source": [
    "load_dotenv()\n",
    "flipside_api_key = os.getenv(\"FLIPSIDE_API_KEY\")"
   ]
  },
  {
   "cell_type": "code",
   "execution_count": 5,
   "metadata": {},
   "outputs": [],
   "source": [
    "network = 'gnosis'\n",
    "days = 60"
   ]
  },
  {
   "cell_type": "code",
   "execution_count": 6,
   "metadata": {},
   "outputs": [],
   "source": [
    "def token_classifier_portfolio(api_key, network='gnosis',days=60,backtest_period=4380,use_cached_data=False):\n",
    "    print(f'use_cached_data: {use_cached_data}')\n",
    "    classifier_path = 'data/classifier_results.csv'\n",
    "    portfolio_path = 'data/classifier_prices.csv'\n",
    "\n",
    "    if use_cached_data:\n",
    "        data_struct = {'classifier':pd.read_csv(classifier_path).dropna(),\n",
    "                          'portfolio':pd.read_csv(portfolio_path).dropna()}\n",
    "\n",
    "    else:\n",
    "        classifier = token_classifier(network,days)\n",
    "        tokens = flipside_api_results(classifier,api_key)\n",
    "        \n",
    "        tokens['latest_hour'] = pd.to_datetime(tokens['latest_hour'])\n",
    "        latest_hour = tokens['latest_hour'].max() \n",
    "\n",
    "        data_start = latest_hour - timedelta(hours=backtest_period) # 6 Months backtesting\n",
    "        data_start_str = str(data_start.tz_localize(None))\n",
    "\n",
    "        portfolio = tokens['token_address'].unique()\n",
    "        token_prices_query = token_prices(portfolio,network,data_start_str)\n",
    "\n",
    "        tokens_df = flipside_api_results(token_prices_query,api_key)\n",
    "\n",
    "        tokens.to_csv(classifier_path,index=False)\n",
    "        tokens_df.to_csv(portfolio_path,index=False)\n",
    "\n",
    "        data_struct = {'classifier':tokens,\n",
    "                            'portfolio':tokens_df}\n",
    "\n",
    "    return data_struct\n",
    "\n",
    "\n",
    "\n",
    "    "
   ]
  },
  {
   "cell_type": "code",
   "execution_count": 7,
   "metadata": {},
   "outputs": [],
   "source": [
    "# gnosis_data = token_classifier_portfolio(\n",
    "#     network='gnosis',\n",
    "#     days=60,\n",
    "#     api_key = flipside_api_key,\n",
    "#     use_cached_data=True\n",
    "# )"
   ]
  },
  {
   "cell_type": "code",
   "execution_count": 8,
   "metadata": {},
   "outputs": [
    {
     "name": "stdout",
     "output_type": "stream",
     "text": [
      "Beginning: '2024-01-01 00:00:00'\n"
     ]
    },
    {
     "name": "stderr",
     "output_type": "stream",
     "text": [
      "2024-12-23 15:43:59.088 \n",
      "  \u001b[33m\u001b[1mWarning:\u001b[0m to view this Streamlit app on a browser, run it with the following\n",
      "  command:\n",
      "\n",
      "    streamlit run e:\\Projects\\steth_optimizer\\steth_optimizer\\Lib\\site-packages\\ipykernel_launcher.py [ARGUMENTS]\n",
      "2024-12-23 15:43:59.090 No runtime found, using MemoryCacheStorageManager\n"
     ]
    },
    {
     "name": "stdout",
     "output_type": "stream",
     "text": [
      "Polling error. Status: 502, Response: <html>\n",
      "<head><title>502 Bad Gateway</title></head>\n",
      "<body>\n",
      "<center><h1>502 Bad Gateway</h1></center>\n",
      "</body>\n",
      "</html>\n",
      "\n",
      "cleaning prices\n",
      "cleaned prices:                           hour   DPI_Price\n",
      "0     2024-01-01T00:00:00.000Z  102.159496\n",
      "1     2024-01-01T01:00:00.000Z  103.011036\n",
      "2     2024-01-01T02:00:00.000Z  102.852327\n",
      "3     2024-01-01T03:00:00.000Z  103.644036\n",
      "4     2024-01-01T04:00:00.000Z  104.205670\n",
      "...                        ...         ...\n",
      "8583  2024-12-23T15:00:00.000Z  144.780000\n",
      "8584  2024-12-23T16:00:00.000Z  143.196674\n",
      "8585  2024-12-23T17:00:00.000Z  148.670760\n",
      "8586  2024-12-23T18:00:00.000Z  146.770432\n",
      "8587  2024-12-23T19:00:00.000Z  146.393381\n",
      "\n",
      "[8588 rows x 2 columns]\n"
     ]
    }
   ],
   "source": [
    "dpi_query = token_prices({'0x1494CA1F11D487c2bBe4543E90080AeBa4BA3C2b'},'ethereum','2024-01-01 00:00:00')\n",
    "dpi_data = flipside_api_results(dpi_query,flipside_api_key)\n",
    "dpi_data_df =  clean_prices(dpi_data)\n",
    "dpi_data_df.set_index('hour',inplace=True)"
   ]
  },
  {
   "cell_type": "code",
   "execution_count": 9,
   "metadata": {},
   "outputs": [
    {
     "name": "stdout",
     "output_type": "stream",
     "text": [
      "Beginning: '2024-11-01 00:00:00'\n",
      "Query not completed. Retrying in 30 seconds...\n",
      "cleaning prices\n",
      "cleaned prices:                           hour  LINK_Price\n",
      "0     2024-11-01T00:00:00.000Z   11.400000\n",
      "1     2024-11-01T01:00:00.000Z   11.410000\n",
      "2     2024-11-01T02:00:00.000Z   11.410000\n",
      "3     2024-11-01T03:00:00.000Z   11.360000\n",
      "4     2024-11-01T04:00:00.000Z   11.370000\n",
      "...                        ...         ...\n",
      "1263  2024-12-23T15:00:00.000Z   22.600000\n",
      "1264  2024-12-23T16:00:00.000Z   22.162033\n",
      "1265  2024-12-23T17:00:00.000Z   22.999828\n",
      "1266  2024-12-23T18:00:00.000Z   22.598208\n",
      "1267  2024-12-23T19:00:00.000Z   22.310127\n",
      "\n",
      "[1268 rows x 2 columns]\n"
     ]
    }
   ],
   "source": [
    "link_query = token_prices({'0x514910771AF9Ca656af840dff83E8264EcF986CA'},'ethereum','2024-11-01 00:00:00')\n",
    "link_data = flipside_api_results(link_query,flipside_api_key)\n",
    "link_data_df =  clean_prices(link_data)\n"
   ]
  },
  {
   "cell_type": "code",
   "execution_count": 10,
   "metadata": {},
   "outputs": [
    {
     "name": "stdout",
     "output_type": "stream",
     "text": [
      "Beginning: '2024-11-01 00:00:00'\n",
      "Query not completed. Retrying in 30 seconds...\n",
      "cleaning prices\n",
      "cleaned prices:                           hour  UNI_Price\n",
      "0     2024-11-01T00:00:00.000Z   7.650000\n",
      "1     2024-11-01T01:00:00.000Z   7.600000\n",
      "2     2024-11-01T02:00:00.000Z   7.660000\n",
      "3     2024-11-01T03:00:00.000Z   7.650000\n",
      "4     2024-11-01T04:00:00.000Z   7.730000\n",
      "...                        ...        ...\n",
      "1263  2024-12-23T15:00:00.000Z  13.520000\n",
      "1264  2024-12-23T16:00:00.000Z  13.508978\n",
      "1265  2024-12-23T17:00:00.000Z  13.883604\n",
      "1266  2024-12-23T18:00:00.000Z  13.541444\n",
      "1267  2024-12-23T19:00:00.000Z  13.487293\n",
      "\n",
      "[1268 rows x 2 columns]\n"
     ]
    }
   ],
   "source": [
    "uni_query = token_prices({'0x1f9840a85d5af5bf1d1762f925bdaddc4201f984'},'ethereum','2024-11-01 00:00:00')\n",
    "uni_data = flipside_api_results(uni_query,flipside_api_key)\n",
    "uni_data_df =  clean_prices(uni_data)\n"
   ]
  },
  {
   "cell_type": "code",
   "execution_count": 11,
   "metadata": {},
   "outputs": [],
   "source": [
    "uni_data_df.set_index('hour',inplace=True)"
   ]
  },
  {
   "cell_type": "code",
   "execution_count": 12,
   "metadata": {},
   "outputs": [],
   "source": [
    "link_data_df.set_index('hour',inplace=True)"
   ]
  },
  {
   "cell_type": "code",
   "execution_count": 13,
   "metadata": {},
   "outputs": [],
   "source": [
    "from python_scripts.utils import calculate_beta, calculate_cagr"
   ]
  },
  {
   "cell_type": "code",
   "execution_count": 14,
   "metadata": {},
   "outputs": [],
   "source": [
    "# current_risk_free = 0.0425"
   ]
  },
  {
   "cell_type": "code",
   "execution_count": 15,
   "metadata": {},
   "outputs": [],
   "source": [
    "combined_prices = pd.merge(\n",
    "    link_data_df,\n",
    "    dpi_data_df,\n",
    "    left_index=True,\n",
    "    right_index=True,\n",
    "    how='inner'\n",
    ")\n",
    "\n",
    "combined_prices = combined_prices.merge(\n",
    "    uni_data_df,\n",
    "    left_index=True,\n",
    "    right_index=True,\n",
    "    how='inner'\n",
    ")"
   ]
  },
  {
   "cell_type": "code",
   "execution_count": 16,
   "metadata": {},
   "outputs": [],
   "source": [
    "combined_prices.index = pd.to_datetime(combined_prices.index)"
   ]
  },
  {
   "cell_type": "code",
   "execution_count": 17,
   "metadata": {},
   "outputs": [],
   "source": [
    "combined_prices.to_csv('data/combined_prices.csv')"
   ]
  },
  {
   "cell_type": "code",
   "execution_count": 85,
   "metadata": {},
   "outputs": [],
   "source": [
    "dpi_data_df.index = pd.to_datetime(dpi_data_df.index).tz_localize(None)"
   ]
  },
  {
   "cell_type": "code",
   "execution_count": 87,
   "metadata": {},
   "outputs": [],
   "source": [
    "model_norm = pd.read_csv('data/nom_comp.csv')\n",
    "model_norm.set_index('Unnamed: 0',inplace=True)\n",
    "model_norm.index = pd.to_datetime(model_norm.index)\n",
    "model_norm = model_norm.merge(\n",
    "    dpi_data_df,\n",
    "    left_index=True,\n",
    "    right_index=True,\n",
    "    how='inner'\n",
    ")"
   ]
  },
  {
   "cell_type": "code",
   "execution_count": 88,
   "metadata": {},
   "outputs": [
    {
     "data": {
      "text/html": [
       "<div>\n",
       "<style scoped>\n",
       "    .dataframe tbody tr th:only-of-type {\n",
       "        vertical-align: middle;\n",
       "    }\n",
       "\n",
       "    .dataframe tbody tr th {\n",
       "        vertical-align: top;\n",
       "    }\n",
       "\n",
       "    .dataframe thead th {\n",
       "        text-align: right;\n",
       "    }\n",
       "</style>\n",
       "<table border=\"1\" class=\"dataframe\">\n",
       "  <thead>\n",
       "    <tr style=\"text-align: right;\">\n",
       "      <th></th>\n",
       "      <th>arbitrum_classifier Portfolio Value</th>\n",
       "      <th>WBTC_Price</th>\n",
       "      <th>UNI_Price</th>\n",
       "      <th>LINK_Price</th>\n",
       "      <th>CRV_Price</th>\n",
       "      <th>DPI_Price</th>\n",
       "    </tr>\n",
       "  </thead>\n",
       "  <tbody>\n",
       "    <tr>\n",
       "      <th>2024-12-22 19:00:00</th>\n",
       "      <td>100.000000</td>\n",
       "      <td>100.000000</td>\n",
       "      <td>100.000000</td>\n",
       "      <td>100.000000</td>\n",
       "      <td>100.000000</td>\n",
       "      <td>142.840000</td>\n",
       "    </tr>\n",
       "    <tr>\n",
       "      <th>2024-12-22 20:00:00</th>\n",
       "      <td>100.543372</td>\n",
       "      <td>100.439533</td>\n",
       "      <td>99.220963</td>\n",
       "      <td>100.631769</td>\n",
       "      <td>98.609675</td>\n",
       "      <td>144.550000</td>\n",
       "    </tr>\n",
       "    <tr>\n",
       "      <th>2024-12-22 21:00:00</th>\n",
       "      <td>97.718670</td>\n",
       "      <td>99.138810</td>\n",
       "      <td>96.671388</td>\n",
       "      <td>97.788809</td>\n",
       "      <td>96.284985</td>\n",
       "      <td>141.400000</td>\n",
       "    </tr>\n",
       "    <tr>\n",
       "      <th>2024-12-22 22:00:00</th>\n",
       "      <td>98.915852</td>\n",
       "      <td>99.843324</td>\n",
       "      <td>98.229462</td>\n",
       "      <td>98.962094</td>\n",
       "      <td>98.427796</td>\n",
       "      <td>142.780000</td>\n",
       "    </tr>\n",
       "    <tr>\n",
       "      <th>2024-12-22 23:00:00</th>\n",
       "      <td>100.140296</td>\n",
       "      <td>99.727658</td>\n",
       "      <td>98.866856</td>\n",
       "      <td>100.225632</td>\n",
       "      <td>99.400099</td>\n",
       "      <td>144.760000</td>\n",
       "    </tr>\n",
       "    <tr>\n",
       "      <th>2024-12-23 00:00:00</th>\n",
       "      <td>99.465864</td>\n",
       "      <td>99.823346</td>\n",
       "      <td>98.229462</td>\n",
       "      <td>99.548736</td>\n",
       "      <td>97.795121</td>\n",
       "      <td>143.430000</td>\n",
       "    </tr>\n",
       "    <tr>\n",
       "      <th>2024-12-23 01:00:00</th>\n",
       "      <td>99.330096</td>\n",
       "      <td>99.479501</td>\n",
       "      <td>98.087819</td>\n",
       "      <td>99.413357</td>\n",
       "      <td>98.061877</td>\n",
       "      <td>144.020000</td>\n",
       "    </tr>\n",
       "    <tr>\n",
       "      <th>2024-12-23 02:00:00</th>\n",
       "      <td>98.413204</td>\n",
       "      <td>98.680350</td>\n",
       "      <td>96.954674</td>\n",
       "      <td>98.510830</td>\n",
       "      <td>98.333796</td>\n",
       "      <td>142.000000</td>\n",
       "    </tr>\n",
       "    <tr>\n",
       "      <th>2024-12-23 03:00:00</th>\n",
       "      <td>99.526408</td>\n",
       "      <td>98.909580</td>\n",
       "      <td>97.167139</td>\n",
       "      <td>99.684116</td>\n",
       "      <td>98.423835</td>\n",
       "      <td>143.740000</td>\n",
       "    </tr>\n",
       "    <tr>\n",
       "      <th>2024-12-23 04:00:00</th>\n",
       "      <td>99.813495</td>\n",
       "      <td>98.883292</td>\n",
       "      <td>97.025496</td>\n",
       "      <td>100.000000</td>\n",
       "      <td>98.793716</td>\n",
       "      <td>143.740000</td>\n",
       "    </tr>\n",
       "    <tr>\n",
       "      <th>2024-12-23 05:00:00</th>\n",
       "      <td>104.011115</td>\n",
       "      <td>100.286012</td>\n",
       "      <td>100.566572</td>\n",
       "      <td>104.241877</td>\n",
       "      <td>103.492919</td>\n",
       "      <td>147.480000</td>\n",
       "    </tr>\n",
       "    <tr>\n",
       "      <th>2024-12-23 06:00:00</th>\n",
       "      <td>103.904420</td>\n",
       "      <td>99.904312</td>\n",
       "      <td>100.212465</td>\n",
       "      <td>104.151625</td>\n",
       "      <td>103.102389</td>\n",
       "      <td>148.220000</td>\n",
       "    </tr>\n",
       "    <tr>\n",
       "      <th>2024-12-23 07:00:00</th>\n",
       "      <td>102.662267</td>\n",
       "      <td>99.989485</td>\n",
       "      <td>99.291785</td>\n",
       "      <td>102.888087</td>\n",
       "      <td>101.402330</td>\n",
       "      <td>147.250000</td>\n",
       "    </tr>\n",
       "    <tr>\n",
       "      <th>2024-12-23 08:00:00</th>\n",
       "      <td>100.668075</td>\n",
       "      <td>99.039968</td>\n",
       "      <td>97.167139</td>\n",
       "      <td>100.902527</td>\n",
       "      <td>97.747941</td>\n",
       "      <td>144.480000</td>\n",
       "    </tr>\n",
       "    <tr>\n",
       "      <th>2024-12-23 09:00:00</th>\n",
       "      <td>101.329259</td>\n",
       "      <td>99.560467</td>\n",
       "      <td>97.592068</td>\n",
       "      <td>101.579422</td>\n",
       "      <td>99.599386</td>\n",
       "      <td>144.420000</td>\n",
       "    </tr>\n",
       "    <tr>\n",
       "      <th>2024-12-23 10:00:00</th>\n",
       "      <td>102.865003</td>\n",
       "      <td>99.614094</td>\n",
       "      <td>99.150142</td>\n",
       "      <td>103.113718</td>\n",
       "      <td>101.176271</td>\n",
       "      <td>146.740000</td>\n",
       "    </tr>\n",
       "    <tr>\n",
       "      <th>2024-12-23 11:00:00</th>\n",
       "      <td>103.851369</td>\n",
       "      <td>100.261827</td>\n",
       "      <td>99.362606</td>\n",
       "      <td>104.151625</td>\n",
       "      <td>102.993742</td>\n",
       "      <td>148.010000</td>\n",
       "    </tr>\n",
       "    <tr>\n",
       "      <th>2024-12-23 12:00:00</th>\n",
       "      <td>103.718104</td>\n",
       "      <td>100.282857</td>\n",
       "      <td>98.583569</td>\n",
       "      <td>104.061372</td>\n",
       "      <td>103.218840</td>\n",
       "      <td>147.720000</td>\n",
       "    </tr>\n",
       "    <tr>\n",
       "      <th>2024-12-23 13:00:00</th>\n",
       "      <td>103.880903</td>\n",
       "      <td>100.231333</td>\n",
       "      <td>97.804533</td>\n",
       "      <td>104.287004</td>\n",
       "      <td>101.477002</td>\n",
       "      <td>147.340000</td>\n",
       "    </tr>\n",
       "    <tr>\n",
       "      <th>2024-12-23 15:00:00</th>\n",
       "      <td>101.697674</td>\n",
       "      <td>99.178768</td>\n",
       "      <td>95.750708</td>\n",
       "      <td>101.985560</td>\n",
       "      <td>103.187146</td>\n",
       "      <td>144.780000</td>\n",
       "    </tr>\n",
       "    <tr>\n",
       "      <th>2024-12-23 16:00:00</th>\n",
       "      <td>100.215979</td>\n",
       "      <td>98.232406</td>\n",
       "      <td>94.405099</td>\n",
       "      <td>100.496390</td>\n",
       "      <td>100.922121</td>\n",
       "      <td>143.196674</td>\n",
       "    </tr>\n",
       "    <tr>\n",
       "      <th>2024-12-23 17:00:00</th>\n",
       "      <td>99.819788</td>\n",
       "      <td>97.539458</td>\n",
       "      <td>95.538244</td>\n",
       "      <td>100.000000</td>\n",
       "      <td>102.247497</td>\n",
       "      <td>148.670760</td>\n",
       "    </tr>\n",
       "    <tr>\n",
       "      <th>2024-12-23 18:00:00</th>\n",
       "      <td>103.442863</td>\n",
       "      <td>98.719256</td>\n",
       "      <td>97.946176</td>\n",
       "      <td>103.700361</td>\n",
       "      <td>105.123348</td>\n",
       "      <td>146.770432</td>\n",
       "    </tr>\n",
       "    <tr>\n",
       "      <th>2024-12-23 19:00:00</th>\n",
       "      <td>101.676017</td>\n",
       "      <td>97.720318</td>\n",
       "      <td>96.104816</td>\n",
       "      <td>101.940433</td>\n",
       "      <td>102.438260</td>\n",
       "      <td>146.393381</td>\n",
       "    </tr>\n",
       "  </tbody>\n",
       "</table>\n",
       "</div>"
      ],
      "text/plain": [
       "                     arbitrum_classifier Portfolio Value  WBTC_Price  \\\n",
       "2024-12-22 19:00:00                           100.000000  100.000000   \n",
       "2024-12-22 20:00:00                           100.543372  100.439533   \n",
       "2024-12-22 21:00:00                            97.718670   99.138810   \n",
       "2024-12-22 22:00:00                            98.915852   99.843324   \n",
       "2024-12-22 23:00:00                           100.140296   99.727658   \n",
       "2024-12-23 00:00:00                            99.465864   99.823346   \n",
       "2024-12-23 01:00:00                            99.330096   99.479501   \n",
       "2024-12-23 02:00:00                            98.413204   98.680350   \n",
       "2024-12-23 03:00:00                            99.526408   98.909580   \n",
       "2024-12-23 04:00:00                            99.813495   98.883292   \n",
       "2024-12-23 05:00:00                           104.011115  100.286012   \n",
       "2024-12-23 06:00:00                           103.904420   99.904312   \n",
       "2024-12-23 07:00:00                           102.662267   99.989485   \n",
       "2024-12-23 08:00:00                           100.668075   99.039968   \n",
       "2024-12-23 09:00:00                           101.329259   99.560467   \n",
       "2024-12-23 10:00:00                           102.865003   99.614094   \n",
       "2024-12-23 11:00:00                           103.851369  100.261827   \n",
       "2024-12-23 12:00:00                           103.718104  100.282857   \n",
       "2024-12-23 13:00:00                           103.880903  100.231333   \n",
       "2024-12-23 15:00:00                           101.697674   99.178768   \n",
       "2024-12-23 16:00:00                           100.215979   98.232406   \n",
       "2024-12-23 17:00:00                            99.819788   97.539458   \n",
       "2024-12-23 18:00:00                           103.442863   98.719256   \n",
       "2024-12-23 19:00:00                           101.676017   97.720318   \n",
       "\n",
       "                      UNI_Price  LINK_Price   CRV_Price   DPI_Price  \n",
       "2024-12-22 19:00:00  100.000000  100.000000  100.000000  142.840000  \n",
       "2024-12-22 20:00:00   99.220963  100.631769   98.609675  144.550000  \n",
       "2024-12-22 21:00:00   96.671388   97.788809   96.284985  141.400000  \n",
       "2024-12-22 22:00:00   98.229462   98.962094   98.427796  142.780000  \n",
       "2024-12-22 23:00:00   98.866856  100.225632   99.400099  144.760000  \n",
       "2024-12-23 00:00:00   98.229462   99.548736   97.795121  143.430000  \n",
       "2024-12-23 01:00:00   98.087819   99.413357   98.061877  144.020000  \n",
       "2024-12-23 02:00:00   96.954674   98.510830   98.333796  142.000000  \n",
       "2024-12-23 03:00:00   97.167139   99.684116   98.423835  143.740000  \n",
       "2024-12-23 04:00:00   97.025496  100.000000   98.793716  143.740000  \n",
       "2024-12-23 05:00:00  100.566572  104.241877  103.492919  147.480000  \n",
       "2024-12-23 06:00:00  100.212465  104.151625  103.102389  148.220000  \n",
       "2024-12-23 07:00:00   99.291785  102.888087  101.402330  147.250000  \n",
       "2024-12-23 08:00:00   97.167139  100.902527   97.747941  144.480000  \n",
       "2024-12-23 09:00:00   97.592068  101.579422   99.599386  144.420000  \n",
       "2024-12-23 10:00:00   99.150142  103.113718  101.176271  146.740000  \n",
       "2024-12-23 11:00:00   99.362606  104.151625  102.993742  148.010000  \n",
       "2024-12-23 12:00:00   98.583569  104.061372  103.218840  147.720000  \n",
       "2024-12-23 13:00:00   97.804533  104.287004  101.477002  147.340000  \n",
       "2024-12-23 15:00:00   95.750708  101.985560  103.187146  144.780000  \n",
       "2024-12-23 16:00:00   94.405099  100.496390  100.922121  143.196674  \n",
       "2024-12-23 17:00:00   95.538244  100.000000  102.247497  148.670760  \n",
       "2024-12-23 18:00:00   97.946176  103.700361  105.123348  146.770432  \n",
       "2024-12-23 19:00:00   96.104816  101.940433  102.438260  146.393381  "
      ]
     },
     "execution_count": 88,
     "metadata": {},
     "output_type": "execute_result"
    }
   ],
   "source": [
    "model_norm "
   ]
  },
  {
   "cell_type": "code",
   "execution_count": 94,
   "metadata": {},
   "outputs": [],
   "source": [
    "def calculate_df_betas(df):\n",
    "    betas = {}\n",
    "\n",
    "    for col in df.columns:\n",
    "        if col != 'DPI_Price':\n",
    "            beta = calculate_beta(df, columnx='DPI_Price', columny=col)\n",
    "            betas[col] = beta\n",
    "\n",
    "    # Convert betas dictionary to a DataFrame\n",
    "    betas_df = pd.DataFrame.from_dict(betas, orient='index', columns=['Beta'])\n",
    "    return betas_df\n"
   ]
  },
  {
   "cell_type": "code",
   "execution_count": 95,
   "metadata": {},
   "outputs": [
    {
     "data": {
      "text/html": [
       "<div>\n",
       "<style scoped>\n",
       "    .dataframe tbody tr th:only-of-type {\n",
       "        vertical-align: middle;\n",
       "    }\n",
       "\n",
       "    .dataframe tbody tr th {\n",
       "        vertical-align: top;\n",
       "    }\n",
       "\n",
       "    .dataframe thead th {\n",
       "        text-align: right;\n",
       "    }\n",
       "</style>\n",
       "<table border=\"1\" class=\"dataframe\">\n",
       "  <thead>\n",
       "    <tr style=\"text-align: right;\">\n",
       "      <th></th>\n",
       "      <th>Beta</th>\n",
       "    </tr>\n",
       "  </thead>\n",
       "  <tbody>\n",
       "    <tr>\n",
       "      <th>arbitrum_classifier Portfolio Value</th>\n",
       "      <td>0.638886</td>\n",
       "    </tr>\n",
       "    <tr>\n",
       "      <th>WBTC_Price</th>\n",
       "      <td>0.209205</td>\n",
       "    </tr>\n",
       "    <tr>\n",
       "      <th>UNI_Price</th>\n",
       "      <td>0.707135</td>\n",
       "    </tr>\n",
       "    <tr>\n",
       "      <th>LINK_Price</th>\n",
       "      <td>0.639035</td>\n",
       "    </tr>\n",
       "    <tr>\n",
       "      <th>CRV_Price</th>\n",
       "      <td>0.705910</td>\n",
       "    </tr>\n",
       "  </tbody>\n",
       "</table>\n",
       "</div>"
      ],
      "text/plain": [
       "                                         Beta\n",
       "arbitrum_classifier Portfolio Value  0.638886\n",
       "WBTC_Price                           0.209205\n",
       "UNI_Price                            0.707135\n",
       "LINK_Price                           0.639035\n",
       "CRV_Price                            0.705910"
      ]
     },
     "execution_count": 95,
     "metadata": {},
     "output_type": "execute_result"
    }
   ],
   "source": [
    "portfolio_beta = calculate_df_betas(model_norm)\n",
    "portfolio_beta"
   ]
  },
  {
   "cell_type": "code",
   "execution_count": 96,
   "metadata": {},
   "outputs": [],
   "source": [
    "def calculate_cagr_for_all_columns(df):\n",
    "    \"\"\"\n",
    "    Calculate the CAGR for each column in a DataFrame.\n",
    "\n",
    "    Parameters:\n",
    "    - df: Pandas DataFrame with datetime index and columns containing historical data.\n",
    "\n",
    "    Returns:\n",
    "    - Pandas Series with CAGR for each column.\n",
    "    \"\"\"\n",
    "    cagr_results = {}\n",
    "    for column in df.columns:\n",
    "        if column != 'DPI_Price':\n",
    "            cagr_results[column] = calculate_cagr(df[column].dropna())\n",
    "    \n",
    "    return pd.Series(cagr_results, name=\"CAGR\")"
   ]
  },
  {
   "cell_type": "code",
   "execution_count": null,
   "metadata": {},
   "outputs": [],
   "source": [
    "def calculate_daily_return(data):\n",
    "    return data['price'].pct_change()"
   ]
  },
  {
   "cell_type": "code",
   "execution_count": 111,
   "metadata": {},
   "outputs": [
    {
     "data": {
      "text/html": [
       "<div>\n",
       "<style scoped>\n",
       "    .dataframe tbody tr th:only-of-type {\n",
       "        vertical-align: middle;\n",
       "    }\n",
       "\n",
       "    .dataframe tbody tr th {\n",
       "        vertical-align: top;\n",
       "    }\n",
       "\n",
       "    .dataframe thead th {\n",
       "        text-align: right;\n",
       "    }\n",
       "</style>\n",
       "<table border=\"1\" class=\"dataframe\">\n",
       "  <thead>\n",
       "    <tr style=\"text-align: right;\">\n",
       "      <th></th>\n",
       "      <th>decimal</th>\n",
       "    </tr>\n",
       "    <tr>\n",
       "      <th>date</th>\n",
       "      <th></th>\n",
       "    </tr>\n",
       "  </thead>\n",
       "  <tbody>\n",
       "    <tr>\n",
       "      <th>1934-01-01</th>\n",
       "      <td>0.0072</td>\n",
       "    </tr>\n",
       "    <tr>\n",
       "      <th>1934-02-01</th>\n",
       "      <td>0.0062</td>\n",
       "    </tr>\n",
       "    <tr>\n",
       "      <th>1934-03-01</th>\n",
       "      <td>0.0024</td>\n",
       "    </tr>\n",
       "    <tr>\n",
       "      <th>1934-04-01</th>\n",
       "      <td>0.0015</td>\n",
       "    </tr>\n",
       "    <tr>\n",
       "      <th>1934-05-01</th>\n",
       "      <td>0.0016</td>\n",
       "    </tr>\n",
       "    <tr>\n",
       "      <th>...</th>\n",
       "      <td>...</td>\n",
       "    </tr>\n",
       "    <tr>\n",
       "      <th>2024-07-01</th>\n",
       "      <td>0.0520</td>\n",
       "    </tr>\n",
       "    <tr>\n",
       "      <th>2024-08-01</th>\n",
       "      <td>0.0505</td>\n",
       "    </tr>\n",
       "    <tr>\n",
       "      <th>2024-09-01</th>\n",
       "      <td>0.0472</td>\n",
       "    </tr>\n",
       "    <tr>\n",
       "      <th>2024-10-01</th>\n",
       "      <td>0.0451</td>\n",
       "    </tr>\n",
       "    <tr>\n",
       "      <th>2024-11-01</th>\n",
       "      <td>0.0442</td>\n",
       "    </tr>\n",
       "  </tbody>\n",
       "</table>\n",
       "<p>1091 rows × 1 columns</p>\n",
       "</div>"
      ],
      "text/plain": [
       "            decimal\n",
       "date               \n",
       "1934-01-01   0.0072\n",
       "1934-02-01   0.0062\n",
       "1934-03-01   0.0024\n",
       "1934-04-01   0.0015\n",
       "1934-05-01   0.0016\n",
       "...             ...\n",
       "2024-07-01   0.0520\n",
       "2024-08-01   0.0505\n",
       "2024-09-01   0.0472\n",
       "2024-10-01   0.0451\n",
       "2024-11-01   0.0442\n",
       "\n",
       "[1091 rows x 1 columns]"
      ]
     },
     "execution_count": 111,
     "metadata": {},
     "output_type": "execute_result"
    }
   ],
   "source": [
    "three_month_tbill[['decimal']]"
   ]
  },
  {
   "cell_type": "code",
   "execution_count": 113,
   "metadata": {},
   "outputs": [
    {
     "data": {
      "text/html": [
       "<div>\n",
       "<style scoped>\n",
       "    .dataframe tbody tr th:only-of-type {\n",
       "        vertical-align: middle;\n",
       "    }\n",
       "\n",
       "    .dataframe tbody tr th {\n",
       "        vertical-align: top;\n",
       "    }\n",
       "\n",
       "    .dataframe thead th {\n",
       "        text-align: right;\n",
       "    }\n",
       "</style>\n",
       "<table border=\"1\" class=\"dataframe\">\n",
       "  <thead>\n",
       "    <tr style=\"text-align: right;\">\n",
       "      <th></th>\n",
       "      <th>decimal</th>\n",
       "    </tr>\n",
       "    <tr>\n",
       "      <th>date</th>\n",
       "      <th></th>\n",
       "    </tr>\n",
       "  </thead>\n",
       "  <tbody>\n",
       "    <tr>\n",
       "      <th>1934-01-01</th>\n",
       "      <td>8.189734e-07</td>\n",
       "    </tr>\n",
       "    <tr>\n",
       "      <th>1934-02-01</th>\n",
       "      <td>7.055778e-07</td>\n",
       "    </tr>\n",
       "    <tr>\n",
       "      <th>1934-03-01</th>\n",
       "      <td>2.736444e-07</td>\n",
       "    </tr>\n",
       "    <tr>\n",
       "      <th>1934-04-01</th>\n",
       "      <td>1.711046e-07</td>\n",
       "    </tr>\n",
       "    <tr>\n",
       "      <th>1934-05-01</th>\n",
       "      <td>1.825025e-07</td>\n",
       "    </tr>\n",
       "    <tr>\n",
       "      <th>...</th>\n",
       "      <td>...</td>\n",
       "    </tr>\n",
       "    <tr>\n",
       "      <th>2024-07-01</th>\n",
       "      <td>5.786902e-06</td>\n",
       "    </tr>\n",
       "    <tr>\n",
       "      <th>2024-08-01</th>\n",
       "      <td>5.624016e-06</td>\n",
       "    </tr>\n",
       "    <tr>\n",
       "      <th>2024-09-01</th>\n",
       "      <td>5.264847e-06</td>\n",
       "    </tr>\n",
       "    <tr>\n",
       "      <th>2024-10-01</th>\n",
       "      <td>5.035695e-06</td>\n",
       "    </tr>\n",
       "    <tr>\n",
       "      <th>2024-11-01</th>\n",
       "      <td>4.937346e-06</td>\n",
       "    </tr>\n",
       "  </tbody>\n",
       "</table>\n",
       "<p>1091 rows × 1 columns</p>\n",
       "</div>"
      ],
      "text/plain": [
       "                 decimal\n",
       "date                    \n",
       "1934-01-01  8.189734e-07\n",
       "1934-02-01  7.055778e-07\n",
       "1934-03-01  2.736444e-07\n",
       "1934-04-01  1.711046e-07\n",
       "1934-05-01  1.825025e-07\n",
       "...                  ...\n",
       "2024-07-01  5.786902e-06\n",
       "2024-08-01  5.624016e-06\n",
       "2024-09-01  5.264847e-06\n",
       "2024-10-01  5.035695e-06\n",
       "2024-11-01  4.937346e-06\n",
       "\n",
       "[1091 rows x 1 columns]"
      ]
     },
     "execution_count": 113,
     "metadata": {},
     "output_type": "execute_result"
    }
   ],
   "source": [
    "tbill_hourly_rate = (1 + three_month_tbill[['decimal']]) ** (1 / 8760) - 1\n",
    "tbill_hourly_rate"
   ]
  },
  {
   "cell_type": "code",
   "execution_count": 116,
   "metadata": {},
   "outputs": [
    {
     "name": "stdout",
     "output_type": "stream",
     "text": [
      "                     arbitrum_classifier Portfolio Value  WBTC_Price  \\\n",
      "2024-12-22 20:00:00                             0.005429    0.004390   \n",
      "2024-12-22 21:00:00                            -0.028099   -0.012955   \n",
      "2024-12-22 22:00:00                             0.012246    0.007101   \n",
      "2024-12-22 23:00:00                             0.012374   -0.001163   \n",
      "2024-12-23 00:00:00                            -0.006740    0.000955   \n",
      "\n",
      "                     UNI_Price  LINK_Price  CRV_Price  DPI_Price  \n",
      "2024-12-22 20:00:00  -0.007795    0.006313  -0.013908   0.011966  \n",
      "2024-12-22 21:00:00  -0.025701   -0.028256  -0.023580  -0.021797  \n",
      "2024-12-22 22:00:00   0.016112    0.011993   0.022250   0.009755  \n",
      "2024-12-22 23:00:00   0.006484    0.012763   0.009873   0.013863  \n",
      "2024-12-23 00:00:00  -0.006452   -0.006759  -0.016152  -0.009193  \n"
     ]
    }
   ],
   "source": [
    "aligned_tbill = tbill_hourly_rate.reindex(model_norm.index, method='ffill')\n",
    "\n",
    "hourly_excess_return = model_norm.pct_change().dropna() - aligned_tbill['decimal'].iloc[0]\n",
    "\n",
    "# Output hourly excess return\n",
    "print(hourly_excess_return.head())"
   ]
  },
  {
   "cell_type": "code",
   "execution_count": 140,
   "metadata": {},
   "outputs": [],
   "source": [
    "average_excess_returns = hourly_excess_return.mean(axis=0)"
   ]
  },
  {
   "cell_type": "code",
   "execution_count": 128,
   "metadata": {},
   "outputs": [
    {
     "data": {
      "text/html": [
       "<div>\n",
       "<style scoped>\n",
       "    .dataframe tbody tr th:only-of-type {\n",
       "        vertical-align: middle;\n",
       "    }\n",
       "\n",
       "    .dataframe tbody tr th {\n",
       "        vertical-align: top;\n",
       "    }\n",
       "\n",
       "    .dataframe thead th {\n",
       "        text-align: right;\n",
       "    }\n",
       "</style>\n",
       "<table border=\"1\" class=\"dataframe\">\n",
       "  <thead>\n",
       "    <tr style=\"text-align: right;\">\n",
       "      <th></th>\n",
       "      <th>Beta</th>\n",
       "    </tr>\n",
       "  </thead>\n",
       "  <tbody>\n",
       "    <tr>\n",
       "      <th>arbitrum_classifier Portfolio Value</th>\n",
       "      <td>0.638886</td>\n",
       "    </tr>\n",
       "    <tr>\n",
       "      <th>WBTC_Price</th>\n",
       "      <td>0.209205</td>\n",
       "    </tr>\n",
       "    <tr>\n",
       "      <th>UNI_Price</th>\n",
       "      <td>0.707135</td>\n",
       "    </tr>\n",
       "    <tr>\n",
       "      <th>LINK_Price</th>\n",
       "      <td>0.639035</td>\n",
       "    </tr>\n",
       "    <tr>\n",
       "      <th>CRV_Price</th>\n",
       "      <td>0.705910</td>\n",
       "    </tr>\n",
       "  </tbody>\n",
       "</table>\n",
       "</div>"
      ],
      "text/plain": [
       "                                         Beta\n",
       "arbitrum_classifier Portfolio Value  0.638886\n",
       "WBTC_Price                           0.209205\n",
       "UNI_Price                            0.707135\n",
       "LINK_Price                           0.639035\n",
       "CRV_Price                            0.705910"
      ]
     },
     "execution_count": 128,
     "metadata": {},
     "output_type": "execute_result"
    }
   ],
   "source": [
    "portfolio_beta"
   ]
  },
  {
   "cell_type": "code",
   "execution_count": 142,
   "metadata": {},
   "outputs": [
    {
     "data": {
      "text/html": [
       "<div>\n",
       "<style scoped>\n",
       "    .dataframe tbody tr th:only-of-type {\n",
       "        vertical-align: middle;\n",
       "    }\n",
       "\n",
       "    .dataframe tbody tr th {\n",
       "        vertical-align: top;\n",
       "    }\n",
       "\n",
       "    .dataframe thead th {\n",
       "        text-align: right;\n",
       "    }\n",
       "</style>\n",
       "<table border=\"1\" class=\"dataframe\">\n",
       "  <thead>\n",
       "    <tr style=\"text-align: right;\">\n",
       "      <th></th>\n",
       "      <th>Average Excess Return</th>\n",
       "    </tr>\n",
       "  </thead>\n",
       "  <tbody>\n",
       "    <tr>\n",
       "      <th>arbitrum_classifier Portfolio Value</th>\n",
       "      <td>0.000854</td>\n",
       "    </tr>\n",
       "    <tr>\n",
       "      <th>WBTC_Price</th>\n",
       "      <td>-0.000981</td>\n",
       "    </tr>\n",
       "    <tr>\n",
       "      <th>UNI_Price</th>\n",
       "      <td>-0.001618</td>\n",
       "    </tr>\n",
       "    <tr>\n",
       "      <th>LINK_Price</th>\n",
       "      <td>0.000971</td>\n",
       "    </tr>\n",
       "    <tr>\n",
       "      <th>CRV_Price</th>\n",
       "      <td>0.001239</td>\n",
       "    </tr>\n",
       "    <tr>\n",
       "      <th>DPI_Price</th>\n",
       "      <td>0.001168</td>\n",
       "    </tr>\n",
       "  </tbody>\n",
       "</table>\n",
       "</div>"
      ],
      "text/plain": [
       "                                     Average Excess Return\n",
       "arbitrum_classifier Portfolio Value               0.000854\n",
       "WBTC_Price                                       -0.000981\n",
       "UNI_Price                                        -0.001618\n",
       "LINK_Price                                        0.000971\n",
       "CRV_Price                                         0.001239\n",
       "DPI_Price                                         0.001168"
      ]
     },
     "execution_count": 142,
     "metadata": {},
     "output_type": "execute_result"
    }
   ],
   "source": [
    "average_excess_returns_df = average_excess_returns.to_frame('Average Excess Return')\n",
    "average_excess_returns_df"
   ]
  },
  {
   "cell_type": "code",
   "execution_count": 217,
   "metadata": {},
   "outputs": [],
   "source": [
    "def annualize_cumulative_return(cumulative_returns_df, observed_days):\n",
    "    \"\"\"\n",
    "    Annualize cumulative returns from a given DataFrame.\n",
    "    \n",
    "    Parameters:\n",
    "    cumulative_returns_df (pd.DataFrame): DataFrame with cumulative returns\n",
    "    observed_days (int): Number of observed days in the dataset\n",
    "    \n",
    "    Returns:\n",
    "    pd.DataFrame: DataFrame with annualized returns for each column\n",
    "    \"\"\"\n",
    "    annualized_returns = {}\n",
    "\n",
    "    for col in cumulative_returns_df.columns:\n",
    "        cumulative_return = cumulative_returns_df[col].iloc[0]\n",
    "        annualized_return = (1 + cumulative_return) ** (365 / observed_days) - 1\n",
    "        annualized_returns[col] = annualized_return\n",
    "\n",
    "    # Convert the dictionary to a DataFrame\n",
    "    annualized_returns_df = pd.DataFrame(annualized_returns, index=['Annualized_Return'])\n",
    "    \n",
    "    return annualized_returns_df\n"
   ]
  },
  {
   "cell_type": "code",
   "execution_count": 218,
   "metadata": {},
   "outputs": [
    {
     "data": {
      "text/plain": [
       "1"
      ]
     },
     "execution_count": 218,
     "metadata": {},
     "output_type": "execute_result"
    }
   ],
   "source": [
    "observed_days = (model_norm.index[-1] - model_norm.index[0]).days\n",
    "observed_days"
   ]
  },
  {
   "cell_type": "code",
   "execution_count": 216,
   "metadata": {},
   "outputs": [
    {
     "data": {
      "text/html": [
       "<div>\n",
       "<style scoped>\n",
       "    .dataframe tbody tr th:only-of-type {\n",
       "        vertical-align: middle;\n",
       "    }\n",
       "\n",
       "    .dataframe tbody tr th {\n",
       "        vertical-align: top;\n",
       "    }\n",
       "\n",
       "    .dataframe thead th {\n",
       "        text-align: right;\n",
       "    }\n",
       "</style>\n",
       "<table border=\"1\" class=\"dataframe\">\n",
       "  <thead>\n",
       "    <tr style=\"text-align: right;\">\n",
       "      <th></th>\n",
       "      <th>arbitrum_classifier Portfolio Value</th>\n",
       "      <th>WBTC_Price</th>\n",
       "      <th>UNI_Price</th>\n",
       "      <th>LINK_Price</th>\n",
       "      <th>CRV_Price</th>\n",
       "      <th>DPI_Price</th>\n",
       "    </tr>\n",
       "  </thead>\n",
       "  <tbody>\n",
       "    <tr>\n",
       "      <th>Cumulative_Return</th>\n",
       "      <td>0.01676</td>\n",
       "      <td>-0.022797</td>\n",
       "      <td>-0.038952</td>\n",
       "      <td>0.019404</td>\n",
       "      <td>0.024383</td>\n",
       "      <td>0.024877</td>\n",
       "    </tr>\n",
       "  </tbody>\n",
       "</table>\n",
       "</div>"
      ],
      "text/plain": [
       "                   arbitrum_classifier Portfolio Value  WBTC_Price  UNI_Price  \\\n",
       "Cumulative_Return                              0.01676   -0.022797  -0.038952   \n",
       "\n",
       "                   LINK_Price  CRV_Price  DPI_Price  \n",
       "Cumulative_Return    0.019404   0.024383   0.024877  "
      ]
     },
     "execution_count": 216,
     "metadata": {},
     "output_type": "execute_result"
    }
   ],
   "source": [
    "portfolio_cum_return = calculate_cumulative_return(model_norm)\n",
    "portfolio_cum_return"
   ]
  },
  {
   "cell_type": "code",
   "execution_count": 220,
   "metadata": {},
   "outputs": [
    {
     "name": "stdout",
     "output_type": "stream",
     "text": [
      "                   arbitrum_classifier Portfolio Value  WBTC_Price  UNI_Price  \\\n",
      "Annualized_Return                           430.281655   -0.999779  -0.999999   \n",
      "\n",
      "                    LINK_Price    CRV_Price    DPI_Price  \n",
      "Annualized_Return  1111.918407  6586.197524  7853.772771  \n"
     ]
    }
   ],
   "source": [
    "portfolio_annualized_return = annualize_cumulative_return(portfolio_cum_return, observed_days)\n",
    "print(portfolio_annualized_return)\n"
   ]
  },
  {
   "cell_type": "code",
   "execution_count": 98,
   "metadata": {},
   "outputs": [
    {
     "name": "stdout",
     "output_type": "stream",
     "text": [
      "cagr history: 2024-12-22 19:00:00    100.000000\n",
      "2024-12-22 20:00:00    100.543372\n",
      "2024-12-22 21:00:00     97.718670\n",
      "2024-12-22 22:00:00     98.915852\n",
      "2024-12-22 23:00:00    100.140296\n",
      "2024-12-23 00:00:00     99.465864\n",
      "2024-12-23 01:00:00     99.330096\n",
      "2024-12-23 02:00:00     98.413204\n",
      "2024-12-23 03:00:00     99.526408\n",
      "2024-12-23 04:00:00     99.813495\n",
      "2024-12-23 05:00:00    104.011115\n",
      "2024-12-23 06:00:00    103.904420\n",
      "2024-12-23 07:00:00    102.662267\n",
      "2024-12-23 08:00:00    100.668075\n",
      "2024-12-23 09:00:00    101.329259\n",
      "2024-12-23 10:00:00    102.865003\n",
      "2024-12-23 11:00:00    103.851369\n",
      "2024-12-23 12:00:00    103.718104\n",
      "2024-12-23 13:00:00    103.880903\n",
      "2024-12-23 15:00:00    101.697674\n",
      "2024-12-23 16:00:00    100.215979\n",
      "2024-12-23 17:00:00     99.819788\n",
      "2024-12-23 18:00:00    103.442863\n",
      "2024-12-23 19:00:00    101.676017\n",
      "Name: arbitrum_classifier Portfolio Value, dtype: float64\n",
      "cagr history: 2024-12-22 19:00:00    100.000000\n",
      "2024-12-22 20:00:00    100.439533\n",
      "2024-12-22 21:00:00     99.138810\n",
      "2024-12-22 22:00:00     99.843324\n",
      "2024-12-22 23:00:00     99.727658\n",
      "2024-12-23 00:00:00     99.823346\n",
      "2024-12-23 01:00:00     99.479501\n",
      "2024-12-23 02:00:00     98.680350\n",
      "2024-12-23 03:00:00     98.909580\n",
      "2024-12-23 04:00:00     98.883292\n",
      "2024-12-23 05:00:00    100.286012\n",
      "2024-12-23 06:00:00     99.904312\n",
      "2024-12-23 07:00:00     99.989485\n",
      "2024-12-23 08:00:00     99.039968\n",
      "2024-12-23 09:00:00     99.560467\n",
      "2024-12-23 10:00:00     99.614094\n",
      "2024-12-23 11:00:00    100.261827\n",
      "2024-12-23 12:00:00    100.282857\n",
      "2024-12-23 13:00:00    100.231333\n",
      "2024-12-23 15:00:00     99.178768\n",
      "2024-12-23 16:00:00     98.232406\n",
      "2024-12-23 17:00:00     97.539458\n",
      "2024-12-23 18:00:00     98.719256\n",
      "2024-12-23 19:00:00     97.720318\n",
      "Name: WBTC_Price, dtype: float64\n",
      "cagr history: 2024-12-22 19:00:00    100.000000\n",
      "2024-12-22 20:00:00     99.220963\n",
      "2024-12-22 21:00:00     96.671388\n",
      "2024-12-22 22:00:00     98.229462\n",
      "2024-12-22 23:00:00     98.866856\n",
      "2024-12-23 00:00:00     98.229462\n",
      "2024-12-23 01:00:00     98.087819\n",
      "2024-12-23 02:00:00     96.954674\n",
      "2024-12-23 03:00:00     97.167139\n",
      "2024-12-23 04:00:00     97.025496\n",
      "2024-12-23 05:00:00    100.566572\n",
      "2024-12-23 06:00:00    100.212465\n",
      "2024-12-23 07:00:00     99.291785\n",
      "2024-12-23 08:00:00     97.167139\n",
      "2024-12-23 09:00:00     97.592068\n",
      "2024-12-23 10:00:00     99.150142\n",
      "2024-12-23 11:00:00     99.362606\n",
      "2024-12-23 12:00:00     98.583569\n",
      "2024-12-23 13:00:00     97.804533\n",
      "2024-12-23 15:00:00     95.750708\n",
      "2024-12-23 16:00:00     94.405099\n",
      "2024-12-23 17:00:00     95.538244\n",
      "2024-12-23 18:00:00     97.946176\n",
      "2024-12-23 19:00:00     96.104816\n",
      "Name: UNI_Price, dtype: float64\n",
      "cagr history: 2024-12-22 19:00:00    100.000000\n",
      "2024-12-22 20:00:00    100.631769\n",
      "2024-12-22 21:00:00     97.788809\n",
      "2024-12-22 22:00:00     98.962094\n",
      "2024-12-22 23:00:00    100.225632\n",
      "2024-12-23 00:00:00     99.548736\n",
      "2024-12-23 01:00:00     99.413357\n",
      "2024-12-23 02:00:00     98.510830\n",
      "2024-12-23 03:00:00     99.684116\n",
      "2024-12-23 04:00:00    100.000000\n",
      "2024-12-23 05:00:00    104.241877\n",
      "2024-12-23 06:00:00    104.151625\n",
      "2024-12-23 07:00:00    102.888087\n",
      "2024-12-23 08:00:00    100.902527\n",
      "2024-12-23 09:00:00    101.579422\n",
      "2024-12-23 10:00:00    103.113718\n",
      "2024-12-23 11:00:00    104.151625\n",
      "2024-12-23 12:00:00    104.061372\n",
      "2024-12-23 13:00:00    104.287004\n",
      "2024-12-23 15:00:00    101.985560\n",
      "2024-12-23 16:00:00    100.496390\n",
      "2024-12-23 17:00:00    100.000000\n",
      "2024-12-23 18:00:00    103.700361\n",
      "2024-12-23 19:00:00    101.940433\n",
      "Name: LINK_Price, dtype: float64\n",
      "cagr history: 2024-12-22 19:00:00    100.000000\n",
      "2024-12-22 20:00:00     98.609675\n",
      "2024-12-22 21:00:00     96.284985\n",
      "2024-12-22 22:00:00     98.427796\n",
      "2024-12-22 23:00:00     99.400099\n",
      "2024-12-23 00:00:00     97.795121\n",
      "2024-12-23 01:00:00     98.061877\n",
      "2024-12-23 02:00:00     98.333796\n",
      "2024-12-23 03:00:00     98.423835\n",
      "2024-12-23 04:00:00     98.793716\n",
      "2024-12-23 05:00:00    103.492919\n",
      "2024-12-23 06:00:00    103.102389\n",
      "2024-12-23 07:00:00    101.402330\n",
      "2024-12-23 08:00:00     97.747941\n",
      "2024-12-23 09:00:00     99.599386\n",
      "2024-12-23 10:00:00    101.176271\n",
      "2024-12-23 11:00:00    102.993742\n",
      "2024-12-23 12:00:00    103.218840\n",
      "2024-12-23 13:00:00    101.477002\n",
      "2024-12-23 15:00:00    103.187146\n",
      "2024-12-23 16:00:00    100.922121\n",
      "2024-12-23 17:00:00    102.247497\n",
      "2024-12-23 18:00:00    105.123348\n",
      "2024-12-23 19:00:00    102.438260\n",
      "Name: CRV_Price, dtype: float64\n"
     ]
    },
    {
     "data": {
      "text/plain": [
       "arbitrum_classifier Portfolio Value     432.077495\n",
       "WBTC_Price                               -0.999780\n",
       "UNI_Price                                -1.000000\n",
       "LINK_Price                             1117.278420\n",
       "CRV_Price                              6625.988772\n",
       "Name: CAGR, dtype: float64"
      ]
     },
     "execution_count": 98,
     "metadata": {},
     "output_type": "execute_result"
    }
   ],
   "source": [
    "# portfolio_cagr = calculate_cagr_for_all_columns(model_norm)\n",
    "# portfolio_cagr"
   ]
  },
  {
   "cell_type": "code",
   "execution_count": 18,
   "metadata": {},
   "outputs": [],
   "source": [
    "link_beta = calculate_beta(combined_prices,columnx='DPI_Price',columny='LINK_Price')"
   ]
  },
  {
   "cell_type": "code",
   "execution_count": 19,
   "metadata": {},
   "outputs": [],
   "source": [
    "uni_beta = calculate_beta(combined_prices,columnx='DPI_Price',columny='UNI_Price')"
   ]
  },
  {
   "cell_type": "code",
   "execution_count": 20,
   "metadata": {},
   "outputs": [
    {
     "data": {
      "text/plain": [
       "0.21945061954709932"
      ]
     },
     "execution_count": 20,
     "metadata": {},
     "output_type": "execute_result"
    }
   ],
   "source": [
    "link_beta"
   ]
  },
  {
   "cell_type": "code",
   "execution_count": 21,
   "metadata": {},
   "outputs": [
    {
     "name": "stdout",
     "output_type": "stream",
     "text": [
      "sys.path: ['C:\\\\Users\\\\brandyns pc\\\\AppData\\\\Local\\\\Programs\\\\Python\\\\Python311\\\\python311.zip', 'C:\\\\Users\\\\brandyns pc\\\\AppData\\\\Local\\\\Programs\\\\Python\\\\Python311\\\\DLLs', 'C:\\\\Users\\\\brandyns pc\\\\AppData\\\\Local\\\\Programs\\\\Python\\\\Python311\\\\Lib', 'C:\\\\Users\\\\brandyns pc\\\\AppData\\\\Local\\\\Programs\\\\Python\\\\Python311', 'e:\\\\Projects\\\\steth_optimizer\\\\steth_optimizer', '', 'e:\\\\Projects\\\\steth_optimizer\\\\steth_optimizer\\\\Lib\\\\site-packages', 'e:\\\\projects\\\\ournetwork\\\\pipeline', 'e:\\\\projects\\\\pipeline_pkg', 'e:\\\\projects\\\\chart_builder_pkg', 'e:\\\\Projects\\\\steth_optimizer\\\\steth_optimizer\\\\Lib\\\\site-packages\\\\win32', 'e:\\\\Projects\\\\steth_optimizer\\\\steth_optimizer\\\\Lib\\\\site-packages\\\\win32\\\\lib', 'e:\\\\Projects\\\\steth_optimizer\\\\steth_optimizer\\\\Lib\\\\site-packages\\\\Pythonwin', 'e:\\\\projects\\\\chart_builder_pkg\\\\chart_builder\\\\scripts']\n",
      "Current working directory: e:\\Projects\\portfolio_optimizers\\classifier_optimizer\n",
      "Current directory: e:\\projects\\chart_builder_pkg\\chart_builder\\scripts\n"
     ]
    },
    {
     "name": "stdout",
     "output_type": "stream",
     "text": [
      "Current working directory: e:\\Projects\\portfolio_optimizers\\classifier_optimizer\n",
      "Current directory: e:\\projects\\chart_builder_pkg\\chart_builder\\scripts\n"
     ]
    }
   ],
   "source": [
    "from chart_builder.scripts.visualization_pipeline import visualization_pipeline\n",
    "from chart_builder.scripts.utils import main as chartBuilder"
   ]
  },
  {
   "cell_type": "code",
   "execution_count": 130,
   "metadata": {},
   "outputs": [
    {
     "data": {
      "text/html": [
       "<div>\n",
       "<style scoped>\n",
       "    .dataframe tbody tr th:only-of-type {\n",
       "        vertical-align: middle;\n",
       "    }\n",
       "\n",
       "    .dataframe tbody tr th {\n",
       "        vertical-align: top;\n",
       "    }\n",
       "\n",
       "    .dataframe thead th {\n",
       "        text-align: right;\n",
       "    }\n",
       "</style>\n",
       "<table border=\"1\" class=\"dataframe\">\n",
       "  <thead>\n",
       "    <tr style=\"text-align: right;\">\n",
       "      <th></th>\n",
       "      <th>arbitrum_classifier Portfolio Value</th>\n",
       "      <th>WBTC_Price</th>\n",
       "      <th>UNI_Price</th>\n",
       "      <th>LINK_Price</th>\n",
       "      <th>CRV_Price</th>\n",
       "      <th>DPI_Price</th>\n",
       "    </tr>\n",
       "  </thead>\n",
       "  <tbody>\n",
       "    <tr>\n",
       "      <th>2024-12-22 19:00:00</th>\n",
       "      <td>100.000000</td>\n",
       "      <td>100.000000</td>\n",
       "      <td>100.000000</td>\n",
       "      <td>100.000000</td>\n",
       "      <td>100.000000</td>\n",
       "      <td>142.840000</td>\n",
       "    </tr>\n",
       "    <tr>\n",
       "      <th>2024-12-22 20:00:00</th>\n",
       "      <td>100.543372</td>\n",
       "      <td>100.439533</td>\n",
       "      <td>99.220963</td>\n",
       "      <td>100.631769</td>\n",
       "      <td>98.609675</td>\n",
       "      <td>144.550000</td>\n",
       "    </tr>\n",
       "    <tr>\n",
       "      <th>2024-12-22 21:00:00</th>\n",
       "      <td>97.718670</td>\n",
       "      <td>99.138810</td>\n",
       "      <td>96.671388</td>\n",
       "      <td>97.788809</td>\n",
       "      <td>96.284985</td>\n",
       "      <td>141.400000</td>\n",
       "    </tr>\n",
       "    <tr>\n",
       "      <th>2024-12-22 22:00:00</th>\n",
       "      <td>98.915852</td>\n",
       "      <td>99.843324</td>\n",
       "      <td>98.229462</td>\n",
       "      <td>98.962094</td>\n",
       "      <td>98.427796</td>\n",
       "      <td>142.780000</td>\n",
       "    </tr>\n",
       "    <tr>\n",
       "      <th>2024-12-22 23:00:00</th>\n",
       "      <td>100.140296</td>\n",
       "      <td>99.727658</td>\n",
       "      <td>98.866856</td>\n",
       "      <td>100.225632</td>\n",
       "      <td>99.400099</td>\n",
       "      <td>144.760000</td>\n",
       "    </tr>\n",
       "    <tr>\n",
       "      <th>2024-12-23 00:00:00</th>\n",
       "      <td>99.465864</td>\n",
       "      <td>99.823346</td>\n",
       "      <td>98.229462</td>\n",
       "      <td>99.548736</td>\n",
       "      <td>97.795121</td>\n",
       "      <td>143.430000</td>\n",
       "    </tr>\n",
       "    <tr>\n",
       "      <th>2024-12-23 01:00:00</th>\n",
       "      <td>99.330096</td>\n",
       "      <td>99.479501</td>\n",
       "      <td>98.087819</td>\n",
       "      <td>99.413357</td>\n",
       "      <td>98.061877</td>\n",
       "      <td>144.020000</td>\n",
       "    </tr>\n",
       "    <tr>\n",
       "      <th>2024-12-23 02:00:00</th>\n",
       "      <td>98.413204</td>\n",
       "      <td>98.680350</td>\n",
       "      <td>96.954674</td>\n",
       "      <td>98.510830</td>\n",
       "      <td>98.333796</td>\n",
       "      <td>142.000000</td>\n",
       "    </tr>\n",
       "    <tr>\n",
       "      <th>2024-12-23 03:00:00</th>\n",
       "      <td>99.526408</td>\n",
       "      <td>98.909580</td>\n",
       "      <td>97.167139</td>\n",
       "      <td>99.684116</td>\n",
       "      <td>98.423835</td>\n",
       "      <td>143.740000</td>\n",
       "    </tr>\n",
       "    <tr>\n",
       "      <th>2024-12-23 04:00:00</th>\n",
       "      <td>99.813495</td>\n",
       "      <td>98.883292</td>\n",
       "      <td>97.025496</td>\n",
       "      <td>100.000000</td>\n",
       "      <td>98.793716</td>\n",
       "      <td>143.740000</td>\n",
       "    </tr>\n",
       "    <tr>\n",
       "      <th>2024-12-23 05:00:00</th>\n",
       "      <td>104.011115</td>\n",
       "      <td>100.286012</td>\n",
       "      <td>100.566572</td>\n",
       "      <td>104.241877</td>\n",
       "      <td>103.492919</td>\n",
       "      <td>147.480000</td>\n",
       "    </tr>\n",
       "    <tr>\n",
       "      <th>2024-12-23 06:00:00</th>\n",
       "      <td>103.904420</td>\n",
       "      <td>99.904312</td>\n",
       "      <td>100.212465</td>\n",
       "      <td>104.151625</td>\n",
       "      <td>103.102389</td>\n",
       "      <td>148.220000</td>\n",
       "    </tr>\n",
       "    <tr>\n",
       "      <th>2024-12-23 07:00:00</th>\n",
       "      <td>102.662267</td>\n",
       "      <td>99.989485</td>\n",
       "      <td>99.291785</td>\n",
       "      <td>102.888087</td>\n",
       "      <td>101.402330</td>\n",
       "      <td>147.250000</td>\n",
       "    </tr>\n",
       "    <tr>\n",
       "      <th>2024-12-23 08:00:00</th>\n",
       "      <td>100.668075</td>\n",
       "      <td>99.039968</td>\n",
       "      <td>97.167139</td>\n",
       "      <td>100.902527</td>\n",
       "      <td>97.747941</td>\n",
       "      <td>144.480000</td>\n",
       "    </tr>\n",
       "    <tr>\n",
       "      <th>2024-12-23 09:00:00</th>\n",
       "      <td>101.329259</td>\n",
       "      <td>99.560467</td>\n",
       "      <td>97.592068</td>\n",
       "      <td>101.579422</td>\n",
       "      <td>99.599386</td>\n",
       "      <td>144.420000</td>\n",
       "    </tr>\n",
       "    <tr>\n",
       "      <th>2024-12-23 10:00:00</th>\n",
       "      <td>102.865003</td>\n",
       "      <td>99.614094</td>\n",
       "      <td>99.150142</td>\n",
       "      <td>103.113718</td>\n",
       "      <td>101.176271</td>\n",
       "      <td>146.740000</td>\n",
       "    </tr>\n",
       "    <tr>\n",
       "      <th>2024-12-23 11:00:00</th>\n",
       "      <td>103.851369</td>\n",
       "      <td>100.261827</td>\n",
       "      <td>99.362606</td>\n",
       "      <td>104.151625</td>\n",
       "      <td>102.993742</td>\n",
       "      <td>148.010000</td>\n",
       "    </tr>\n",
       "    <tr>\n",
       "      <th>2024-12-23 12:00:00</th>\n",
       "      <td>103.718104</td>\n",
       "      <td>100.282857</td>\n",
       "      <td>98.583569</td>\n",
       "      <td>104.061372</td>\n",
       "      <td>103.218840</td>\n",
       "      <td>147.720000</td>\n",
       "    </tr>\n",
       "    <tr>\n",
       "      <th>2024-12-23 13:00:00</th>\n",
       "      <td>103.880903</td>\n",
       "      <td>100.231333</td>\n",
       "      <td>97.804533</td>\n",
       "      <td>104.287004</td>\n",
       "      <td>101.477002</td>\n",
       "      <td>147.340000</td>\n",
       "    </tr>\n",
       "    <tr>\n",
       "      <th>2024-12-23 15:00:00</th>\n",
       "      <td>101.697674</td>\n",
       "      <td>99.178768</td>\n",
       "      <td>95.750708</td>\n",
       "      <td>101.985560</td>\n",
       "      <td>103.187146</td>\n",
       "      <td>144.780000</td>\n",
       "    </tr>\n",
       "    <tr>\n",
       "      <th>2024-12-23 16:00:00</th>\n",
       "      <td>100.215979</td>\n",
       "      <td>98.232406</td>\n",
       "      <td>94.405099</td>\n",
       "      <td>100.496390</td>\n",
       "      <td>100.922121</td>\n",
       "      <td>143.196674</td>\n",
       "    </tr>\n",
       "    <tr>\n",
       "      <th>2024-12-23 17:00:00</th>\n",
       "      <td>99.819788</td>\n",
       "      <td>97.539458</td>\n",
       "      <td>95.538244</td>\n",
       "      <td>100.000000</td>\n",
       "      <td>102.247497</td>\n",
       "      <td>148.670760</td>\n",
       "    </tr>\n",
       "    <tr>\n",
       "      <th>2024-12-23 18:00:00</th>\n",
       "      <td>103.442863</td>\n",
       "      <td>98.719256</td>\n",
       "      <td>97.946176</td>\n",
       "      <td>103.700361</td>\n",
       "      <td>105.123348</td>\n",
       "      <td>146.770432</td>\n",
       "    </tr>\n",
       "    <tr>\n",
       "      <th>2024-12-23 19:00:00</th>\n",
       "      <td>101.676017</td>\n",
       "      <td>97.720318</td>\n",
       "      <td>96.104816</td>\n",
       "      <td>101.940433</td>\n",
       "      <td>102.438260</td>\n",
       "      <td>146.393381</td>\n",
       "    </tr>\n",
       "  </tbody>\n",
       "</table>\n",
       "</div>"
      ],
      "text/plain": [
       "                     arbitrum_classifier Portfolio Value  WBTC_Price  \\\n",
       "2024-12-22 19:00:00                           100.000000  100.000000   \n",
       "2024-12-22 20:00:00                           100.543372  100.439533   \n",
       "2024-12-22 21:00:00                            97.718670   99.138810   \n",
       "2024-12-22 22:00:00                            98.915852   99.843324   \n",
       "2024-12-22 23:00:00                           100.140296   99.727658   \n",
       "2024-12-23 00:00:00                            99.465864   99.823346   \n",
       "2024-12-23 01:00:00                            99.330096   99.479501   \n",
       "2024-12-23 02:00:00                            98.413204   98.680350   \n",
       "2024-12-23 03:00:00                            99.526408   98.909580   \n",
       "2024-12-23 04:00:00                            99.813495   98.883292   \n",
       "2024-12-23 05:00:00                           104.011115  100.286012   \n",
       "2024-12-23 06:00:00                           103.904420   99.904312   \n",
       "2024-12-23 07:00:00                           102.662267   99.989485   \n",
       "2024-12-23 08:00:00                           100.668075   99.039968   \n",
       "2024-12-23 09:00:00                           101.329259   99.560467   \n",
       "2024-12-23 10:00:00                           102.865003   99.614094   \n",
       "2024-12-23 11:00:00                           103.851369  100.261827   \n",
       "2024-12-23 12:00:00                           103.718104  100.282857   \n",
       "2024-12-23 13:00:00                           103.880903  100.231333   \n",
       "2024-12-23 15:00:00                           101.697674   99.178768   \n",
       "2024-12-23 16:00:00                           100.215979   98.232406   \n",
       "2024-12-23 17:00:00                            99.819788   97.539458   \n",
       "2024-12-23 18:00:00                           103.442863   98.719256   \n",
       "2024-12-23 19:00:00                           101.676017   97.720318   \n",
       "\n",
       "                      UNI_Price  LINK_Price   CRV_Price   DPI_Price  \n",
       "2024-12-22 19:00:00  100.000000  100.000000  100.000000  142.840000  \n",
       "2024-12-22 20:00:00   99.220963  100.631769   98.609675  144.550000  \n",
       "2024-12-22 21:00:00   96.671388   97.788809   96.284985  141.400000  \n",
       "2024-12-22 22:00:00   98.229462   98.962094   98.427796  142.780000  \n",
       "2024-12-22 23:00:00   98.866856  100.225632   99.400099  144.760000  \n",
       "2024-12-23 00:00:00   98.229462   99.548736   97.795121  143.430000  \n",
       "2024-12-23 01:00:00   98.087819   99.413357   98.061877  144.020000  \n",
       "2024-12-23 02:00:00   96.954674   98.510830   98.333796  142.000000  \n",
       "2024-12-23 03:00:00   97.167139   99.684116   98.423835  143.740000  \n",
       "2024-12-23 04:00:00   97.025496  100.000000   98.793716  143.740000  \n",
       "2024-12-23 05:00:00  100.566572  104.241877  103.492919  147.480000  \n",
       "2024-12-23 06:00:00  100.212465  104.151625  103.102389  148.220000  \n",
       "2024-12-23 07:00:00   99.291785  102.888087  101.402330  147.250000  \n",
       "2024-12-23 08:00:00   97.167139  100.902527   97.747941  144.480000  \n",
       "2024-12-23 09:00:00   97.592068  101.579422   99.599386  144.420000  \n",
       "2024-12-23 10:00:00   99.150142  103.113718  101.176271  146.740000  \n",
       "2024-12-23 11:00:00   99.362606  104.151625  102.993742  148.010000  \n",
       "2024-12-23 12:00:00   98.583569  104.061372  103.218840  147.720000  \n",
       "2024-12-23 13:00:00   97.804533  104.287004  101.477002  147.340000  \n",
       "2024-12-23 15:00:00   95.750708  101.985560  103.187146  144.780000  \n",
       "2024-12-23 16:00:00   94.405099  100.496390  100.922121  143.196674  \n",
       "2024-12-23 17:00:00   95.538244  100.000000  102.247497  148.670760  \n",
       "2024-12-23 18:00:00   97.946176  103.700361  105.123348  146.770432  \n",
       "2024-12-23 19:00:00   96.104816  101.940433  102.438260  146.393381  "
      ]
     },
     "execution_count": 130,
     "metadata": {},
     "output_type": "execute_result"
    }
   ],
   "source": [
    "model_norm"
   ]
  },
  {
   "cell_type": "code",
   "execution_count": 135,
   "metadata": {},
   "outputs": [
    {
     "name": "stdout",
     "output_type": "stream",
     "text": [
      "Initialized axes_data: {'y1': 'All', 'y2': []}\n",
      "tick0: 2024-12-22 19:00:00\n",
      "turn_to_time: True\n"
     ]
    }
   ],
   "source": [
    "prices_fig = visualization_pipeline(\n",
    "    df=model_norm.drop(columns=['DPI_Price']),\n",
    "    title='combined_prices',\n",
    "    chart_type = 'line',\n",
    "    ticksuffix=dict(y1=None,y2=None),\n",
    "    sort_list=True,\n",
    "    show_legend=True\n",
    ")"
   ]
  },
  {
   "cell_type": "code",
   "execution_count": 136,
   "metadata": {},
   "outputs": [
    {
     "name": "stdout",
     "output_type": "stream",
     "text": [
      "save:False\n",
      "logo path: ../img/Logos/None\n",
      "Generating line plot...\n",
      "axes titles at viz pipeline: {'y1': None, 'y2': None}\n",
      "No GroupBy Col\n",
      "cols to plot: ['WBTC_Price', 'arbitrum_classifier Portfolio Value', 'UNI_Price', 'LINK_Price', 'CRV_Price']\n",
      "axes data to plot: {'y1': Index(['arbitrum_classifier Portfolio Value', 'WBTC_Price', 'UNI_Price',\n",
      "       'LINK_Price', 'CRV_Price'],\n",
      "      dtype='object'), 'y2': []}\n",
      "tick0 in func: 2024-12-22 19:00:00\n",
      "sort_list: True\n",
      "Ranked columns: LINK_Price                             2432.265343\n",
      "arbitrum_classifier Portfolio Value    2427.610091\n",
      "CRV_Price                              2412.260091\n",
      "WBTC_Price                             2385.485957\n",
      "UNI_Price                              2349.929178\n",
      "dtype: float64\n",
      "Ranked columns: CRV_Price                              102.438260\n",
      "LINK_Price                             101.940433\n",
      "arbitrum_classifier Portfolio Value    101.676017\n",
      "WBTC_Price                              97.720318\n",
      "UNI_Price                               96.104816\n",
      "Name: 2024-12-23 19:00:00, dtype: float64\n",
      "Color order (cumulative): Index(['LINK_Price', 'arbitrum_classifier Portfolio Value', 'CRV_Price',\n",
      "       'WBTC_Price', 'UNI_Price'],\n",
      "      dtype='object')\n",
      "Plot order (latest value): Index(['CRV_Price', 'LINK_Price', 'arbitrum_classifier Portfolio Value',\n",
      "       'WBTC_Price', 'UNI_Price'],\n",
      "      dtype='object')\n",
      "axes_titles at beginning: {'y1': None, 'y2': None}\n",
      "cumulative_sort: False\n",
      "descending: True\n",
      "columns to plot: Index(['CRV_Price', 'LINK_Price', 'arbitrum_classifier Portfolio Value',\n",
      "       'WBTC_Price', 'UNI_Price'],\n",
      "      dtype='object')\n",
      "axes_font_colors: {'y1': 'black', 'y2': 'black'}\n",
      "idx: 0 y1_col: CRV_Price\n",
      "axes_titles: {'y1': None, 'y2': None}\n",
      "y1_lineto_show: None\n",
      "axes_font_colors: {'y1': 'black', 'y2': 'black'}\n",
      "latest val: 102.43826015551562\n",
      "y1_col values:2024-12-22 19:00:00    100.000000\n",
      "2024-12-22 20:00:00     98.609675\n",
      "2024-12-22 21:00:00     96.284985\n",
      "2024-12-22 22:00:00     98.427796\n",
      "2024-12-22 23:00:00     99.400099\n",
      "2024-12-23 00:00:00     97.795121\n",
      "2024-12-23 01:00:00     98.061877\n",
      "2024-12-23 02:00:00     98.333796\n",
      "2024-12-23 03:00:00     98.423835\n",
      "2024-12-23 04:00:00     98.793716\n",
      "2024-12-23 05:00:00    103.492919\n",
      "2024-12-23 06:00:00    103.102389\n",
      "2024-12-23 07:00:00    101.402330\n",
      "2024-12-23 08:00:00     97.747941\n",
      "2024-12-23 09:00:00     99.599386\n",
      "2024-12-23 10:00:00    101.176271\n",
      "2024-12-23 11:00:00    102.993742\n",
      "2024-12-23 12:00:00    103.218840\n",
      "2024-12-23 13:00:00    101.477002\n",
      "2024-12-23 15:00:00    103.187146\n",
      "2024-12-23 16:00:00    100.922121\n",
      "2024-12-23 17:00:00    102.247497\n",
      "2024-12-23 18:00:00    105.123348\n",
      "2024-12-23 19:00:00    102.438260\n",
      "Name: CRV_Price, dtype: float64 \n",
      "color_map: {'LINK_Price': '#2E91E5', 'arbitrum_classifier Portfolio Value': '#E15F99', 'CRV_Price': '#1CA71C', 'WBTC_Price': '#FB0D0D', 'UNI_Price': '#DA16FF'}\n",
      "Processing y1 column: CRV_Price with color: #1CA71C\n",
      "x:102.43826015551562\n",
      "idx: 1 y1_col: LINK_Price\n",
      "axes_titles: {'y1': None, 'y2': None}\n",
      "y1_lineto_show: None\n",
      "axes_font_colors: {'y1': 'black', 'y2': 'black'}\n",
      "latest val: 101.94043321299635\n",
      "y1_col values:2024-12-22 19:00:00    100.000000\n",
      "2024-12-22 20:00:00    100.631769\n",
      "2024-12-22 21:00:00     97.788809\n",
      "2024-12-22 22:00:00     98.962094\n",
      "2024-12-22 23:00:00    100.225632\n",
      "2024-12-23 00:00:00     99.548736\n",
      "2024-12-23 01:00:00     99.413357\n",
      "2024-12-23 02:00:00     98.510830\n",
      "2024-12-23 03:00:00     99.684116\n",
      "2024-12-23 04:00:00    100.000000\n",
      "2024-12-23 05:00:00    104.241877\n",
      "2024-12-23 06:00:00    104.151625\n",
      "2024-12-23 07:00:00    102.888087\n",
      "2024-12-23 08:00:00    100.902527\n",
      "2024-12-23 09:00:00    101.579422\n",
      "2024-12-23 10:00:00    103.113718\n",
      "2024-12-23 11:00:00    104.151625\n",
      "2024-12-23 12:00:00    104.061372\n",
      "2024-12-23 13:00:00    104.287004\n",
      "2024-12-23 15:00:00    101.985560\n",
      "2024-12-23 16:00:00    100.496390\n",
      "2024-12-23 17:00:00    100.000000\n",
      "2024-12-23 18:00:00    103.700361\n",
      "2024-12-23 19:00:00    101.940433\n",
      "Name: LINK_Price, dtype: float64 \n",
      "color_map: {'LINK_Price': '#2E91E5', 'arbitrum_classifier Portfolio Value': '#E15F99', 'CRV_Price': '#1CA71C', 'WBTC_Price': '#FB0D0D', 'UNI_Price': '#DA16FF'}\n",
      "Processing y1 column: LINK_Price with color: #2E91E5\n",
      "x:101.94043321299635\n",
      "idx: 2 y1_col: arbitrum_classifier Portfolio Value\n",
      "axes_titles: {'y1': None, 'y2': None}\n",
      "y1_lineto_show: None\n",
      "axes_font_colors: {'y1': 'black', 'y2': 'black'}\n",
      "latest val: 101.67601657410432\n",
      "y1_col values:2024-12-22 19:00:00    100.000000\n",
      "2024-12-22 20:00:00    100.543372\n",
      "2024-12-22 21:00:00     97.718670\n",
      "2024-12-22 22:00:00     98.915852\n",
      "2024-12-22 23:00:00    100.140296\n",
      "2024-12-23 00:00:00     99.465864\n",
      "2024-12-23 01:00:00     99.330096\n",
      "2024-12-23 02:00:00     98.413204\n",
      "2024-12-23 03:00:00     99.526408\n",
      "2024-12-23 04:00:00     99.813495\n",
      "2024-12-23 05:00:00    104.011115\n",
      "2024-12-23 06:00:00    103.904420\n",
      "2024-12-23 07:00:00    102.662267\n",
      "2024-12-23 08:00:00    100.668075\n",
      "2024-12-23 09:00:00    101.329259\n",
      "2024-12-23 10:00:00    102.865003\n",
      "2024-12-23 11:00:00    103.851369\n",
      "2024-12-23 12:00:00    103.718104\n",
      "2024-12-23 13:00:00    103.880903\n",
      "2024-12-23 15:00:00    101.697674\n",
      "2024-12-23 16:00:00    100.215979\n",
      "2024-12-23 17:00:00     99.819788\n",
      "2024-12-23 18:00:00    103.442863\n",
      "2024-12-23 19:00:00    101.676017\n",
      "Name: arbitrum_classifier Portfolio Value, dtype: float64 \n",
      "color_map: {'LINK_Price': '#2E91E5', 'arbitrum_classifier Portfolio Value': '#E15F99', 'CRV_Price': '#1CA71C', 'WBTC_Price': '#FB0D0D', 'UNI_Price': '#DA16FF'}\n",
      "Processing y1 column: arbitrum_classifier Portfolio Value with color: #E15F99\n",
      "x:101.67601657410432\n",
      "idx: 3 y1_col: WBTC_Price\n",
      "axes_titles: {'y1': None, 'y2': None}\n",
      "y1_lineto_show: None\n",
      "axes_font_colors: {'y1': 'black', 'y2': 'black'}\n",
      "latest val: 97.7203183983344\n",
      "y1_col values:2024-12-22 19:00:00    100.000000\n",
      "2024-12-22 20:00:00    100.439533\n",
      "2024-12-22 21:00:00     99.138810\n",
      "2024-12-22 22:00:00     99.843324\n",
      "2024-12-22 23:00:00     99.727658\n",
      "2024-12-23 00:00:00     99.823346\n",
      "2024-12-23 01:00:00     99.479501\n",
      "2024-12-23 02:00:00     98.680350\n",
      "2024-12-23 03:00:00     98.909580\n",
      "2024-12-23 04:00:00     98.883292\n",
      "2024-12-23 05:00:00    100.286012\n",
      "2024-12-23 06:00:00     99.904312\n",
      "2024-12-23 07:00:00     99.989485\n",
      "2024-12-23 08:00:00     99.039968\n",
      "2024-12-23 09:00:00     99.560467\n",
      "2024-12-23 10:00:00     99.614094\n",
      "2024-12-23 11:00:00    100.261827\n",
      "2024-12-23 12:00:00    100.282857\n",
      "2024-12-23 13:00:00    100.231333\n",
      "2024-12-23 15:00:00     99.178768\n",
      "2024-12-23 16:00:00     98.232406\n",
      "2024-12-23 17:00:00     97.539458\n",
      "2024-12-23 18:00:00     98.719256\n",
      "2024-12-23 19:00:00     97.720318\n",
      "Name: WBTC_Price, dtype: float64 \n",
      "color_map: {'LINK_Price': '#2E91E5', 'arbitrum_classifier Portfolio Value': '#E15F99', 'CRV_Price': '#1CA71C', 'WBTC_Price': '#FB0D0D', 'UNI_Price': '#DA16FF'}\n",
      "Processing y1 column: WBTC_Price with color: #FB0D0D\n",
      "x:97.7203183983344\n",
      "idx: 4 y1_col: UNI_Price\n",
      "axes_titles: {'y1': None, 'y2': None}\n",
      "y1_lineto_show: None\n",
      "axes_font_colors: {'y1': 'black', 'y2': 'black'}\n",
      "latest val: 96.10481586402264\n",
      "y1_col values:2024-12-22 19:00:00    100.000000\n",
      "2024-12-22 20:00:00     99.220963\n",
      "2024-12-22 21:00:00     96.671388\n",
      "2024-12-22 22:00:00     98.229462\n",
      "2024-12-22 23:00:00     98.866856\n",
      "2024-12-23 00:00:00     98.229462\n",
      "2024-12-23 01:00:00     98.087819\n",
      "2024-12-23 02:00:00     96.954674\n",
      "2024-12-23 03:00:00     97.167139\n",
      "2024-12-23 04:00:00     97.025496\n",
      "2024-12-23 05:00:00    100.566572\n",
      "2024-12-23 06:00:00    100.212465\n",
      "2024-12-23 07:00:00     99.291785\n",
      "2024-12-23 08:00:00     97.167139\n",
      "2024-12-23 09:00:00     97.592068\n",
      "2024-12-23 10:00:00     99.150142\n",
      "2024-12-23 11:00:00     99.362606\n",
      "2024-12-23 12:00:00     98.583569\n",
      "2024-12-23 13:00:00     97.804533\n",
      "2024-12-23 15:00:00     95.750708\n",
      "2024-12-23 16:00:00     94.405099\n",
      "2024-12-23 17:00:00     95.538244\n",
      "2024-12-23 18:00:00     97.946176\n",
      "2024-12-23 19:00:00     96.104816\n",
      "Name: UNI_Price, dtype: float64 \n",
      "color_map: {'LINK_Price': '#2E91E5', 'arbitrum_classifier Portfolio Value': '#E15F99', 'CRV_Price': '#1CA71C', 'WBTC_Price': '#FB0D0D', 'UNI_Price': '#DA16FF'}\n",
      "Processing y1 column: UNI_Price with color: #DA16FF\n",
      "x:96.10481586402264\n",
      "x:96.10481586402264\n",
      "x:100.0\n",
      "axes_font_colors: {'y1': 'black', 'y2': 'black'}\n",
      "ticksy: None\n",
      "[x_range_start, x_range_end]: [Timestamp('2024-12-22 19:00:00'), Timestamp('2024-12-23 19:00:00')]\n",
      "Columns: Index(['WBTC_Price', 'arbitrum_classifier Portfolio Value', 'UNI_Price',\n",
      "       'LINK_Price', 'CRV_Price'],\n",
      "      dtype='object') \n",
      "Index: DatetimeIndex(['2024-12-22 19:00:00', '2024-12-22 20:00:00',\n",
      "               '2024-12-22 21:00:00', '2024-12-22 22:00:00',\n",
      "               '2024-12-22 23:00:00', '2024-12-23 00:00:00',\n",
      "               '2024-12-23 01:00:00', '2024-12-23 02:00:00',\n",
      "               '2024-12-23 03:00:00', '2024-12-23 04:00:00',\n",
      "               '2024-12-23 05:00:00', '2024-12-23 06:00:00',\n",
      "               '2024-12-23 07:00:00', '2024-12-23 08:00:00',\n",
      "               '2024-12-23 09:00:00', '2024-12-23 10:00:00',\n",
      "               '2024-12-23 11:00:00', '2024-12-23 12:00:00',\n",
      "               '2024-12-23 13:00:00', '2024-12-23 15:00:00',\n",
      "               '2024-12-23 16:00:00', '2024-12-23 17:00:00',\n",
      "               '2024-12-23 18:00:00', '2024-12-23 19:00:00'],\n",
      "              dtype='datetime64[ns]', freq=None)\n"
     ]
    },
    {
     "data": {
      "application/vnd.plotly.v1+json": {
       "config": {
        "linkText": "Export to plot.ly",
        "plotlyServerURL": "https://plot.ly",
        "showLink": false
       },
       "data": [
        {
         "connectgaps": true,
         "line": {
          "color": "#1CA71C",
          "width": 4
         },
         "marker": {
          "color": "#1CA71C",
          "size": 10
         },
         "mode": "lines",
         "name": "CRV_Price (102.4)",
         "showlegend": true,
         "text": "",
         "type": "scatter",
         "x": [
          "2024-12-22T19:00:00",
          "2024-12-22T20:00:00",
          "2024-12-22T21:00:00",
          "2024-12-22T22:00:00",
          "2024-12-22T23:00:00",
          "2024-12-23T00:00:00",
          "2024-12-23T01:00:00",
          "2024-12-23T02:00:00",
          "2024-12-23T03:00:00",
          "2024-12-23T04:00:00",
          "2024-12-23T05:00:00",
          "2024-12-23T06:00:00",
          "2024-12-23T07:00:00",
          "2024-12-23T08:00:00",
          "2024-12-23T09:00:00",
          "2024-12-23T10:00:00",
          "2024-12-23T11:00:00",
          "2024-12-23T12:00:00",
          "2024-12-23T13:00:00",
          "2024-12-23T15:00:00",
          "2024-12-23T16:00:00",
          "2024-12-23T17:00:00",
          "2024-12-23T18:00:00",
          "2024-12-23T19:00:00"
         ],
         "xaxis": "x",
         "y": [
          100,
          98.6096754869017,
          96.2849847113525,
          98.42779640587727,
          99.40009916311612,
          97.79512131874938,
          98.06187730425188,
          98.3337955342983,
          98.4238346833203,
          98.79371550750264,
          103.49291872105992,
          103.10238891870183,
          101.40232973296789,
          97.74794080466184,
          99.59938581295144,
          101.17627144282332,
          102.99374167888196,
          103.21883955143694,
          101.47700220055678,
          103.18714577098122,
          100.92212093818392,
          102.24749721178767,
          105.1233476315502,
          102.43826015551562
         ],
         "yaxis": "y"
        },
        {
         "connectgaps": true,
         "line": {
          "color": "#2E91E5",
          "width": 4
         },
         "marker": {
          "color": "#2E91E5",
          "size": 10
         },
         "mode": "lines",
         "name": "LINK_Price (101.9)",
         "showlegend": true,
         "text": "",
         "type": "scatter",
         "x": [
          "2024-12-22T19:00:00",
          "2024-12-22T20:00:00",
          "2024-12-22T21:00:00",
          "2024-12-22T22:00:00",
          "2024-12-22T23:00:00",
          "2024-12-23T00:00:00",
          "2024-12-23T01:00:00",
          "2024-12-23T02:00:00",
          "2024-12-23T03:00:00",
          "2024-12-23T04:00:00",
          "2024-12-23T05:00:00",
          "2024-12-23T06:00:00",
          "2024-12-23T07:00:00",
          "2024-12-23T08:00:00",
          "2024-12-23T09:00:00",
          "2024-12-23T10:00:00",
          "2024-12-23T11:00:00",
          "2024-12-23T12:00:00",
          "2024-12-23T13:00:00",
          "2024-12-23T15:00:00",
          "2024-12-23T16:00:00",
          "2024-12-23T17:00:00",
          "2024-12-23T18:00:00",
          "2024-12-23T19:00:00"
         ],
         "xaxis": "x",
         "y": [
          100,
          100.6317689530686,
          97.78880866425992,
          98.96209386281588,
          100.22563176895304,
          99.54873646209384,
          99.413357400722,
          98.5108303249097,
          99.68411552346566,
          99.99999999999996,
          104.24187725631768,
          104.15162454873644,
          102.88808664259926,
          100.90252707581226,
          101.57942238267148,
          103.11371841155234,
          104.15162454873644,
          104.0613718411552,
          104.28700361010829,
          101.985559566787,
          100.49638989169672,
          99.99999999999996,
          103.7003610108303,
          101.94043321299635
         ],
         "yaxis": "y"
        },
        {
         "connectgaps": true,
         "line": {
          "color": "#E15F99",
          "width": 4
         },
         "marker": {
          "color": "#E15F99",
          "size": 10
         },
         "mode": "lines",
         "name": "arbitrum_classifier Portfolio Value (101.7)",
         "showlegend": true,
         "text": "",
         "type": "scatter",
         "x": [
          "2024-12-22T19:00:00",
          "2024-12-22T20:00:00",
          "2024-12-22T21:00:00",
          "2024-12-22T22:00:00",
          "2024-12-22T23:00:00",
          "2024-12-23T00:00:00",
          "2024-12-23T01:00:00",
          "2024-12-23T02:00:00",
          "2024-12-23T03:00:00",
          "2024-12-23T04:00:00",
          "2024-12-23T05:00:00",
          "2024-12-23T06:00:00",
          "2024-12-23T07:00:00",
          "2024-12-23T08:00:00",
          "2024-12-23T09:00:00",
          "2024-12-23T10:00:00",
          "2024-12-23T11:00:00",
          "2024-12-23T12:00:00",
          "2024-12-23T13:00:00",
          "2024-12-23T15:00:00",
          "2024-12-23T16:00:00",
          "2024-12-23T17:00:00",
          "2024-12-23T18:00:00",
          "2024-12-23T19:00:00"
         ],
         "xaxis": "x",
         "y": [
          100,
          100.54337163475596,
          97.71866986536004,
          98.91585161414103,
          100.14029551154712,
          99.46586380033,
          99.3300959967843,
          98.41320351109714,
          99.5264082927468,
          99.81349521117689,
          104.0111147253565,
          103.90441977235216,
          102.66226720010371,
          100.66807547173192,
          101.3292591005046,
          102.86500317282264,
          103.85136885205092,
          103.71810375050065,
          103.88090285330424,
          101.69767381069114,
          100.21597926776931,
          99.81978758086748,
          103.44286302432964,
          101.67601657410432
         ],
         "yaxis": "y"
        },
        {
         "connectgaps": true,
         "line": {
          "color": "#FB0D0D",
          "width": 4
         },
         "marker": {
          "color": "#FB0D0D",
          "size": 10
         },
         "mode": "lines",
         "name": "WBTC_Price (97.7)",
         "showlegend": true,
         "text": "",
         "type": "scatter",
         "x": [
          "2024-12-22T19:00:00",
          "2024-12-22T20:00:00",
          "2024-12-22T21:00:00",
          "2024-12-22T22:00:00",
          "2024-12-22T23:00:00",
          "2024-12-23T00:00:00",
          "2024-12-23T01:00:00",
          "2024-12-23T02:00:00",
          "2024-12-23T03:00:00",
          "2024-12-23T04:00:00",
          "2024-12-23T05:00:00",
          "2024-12-23T06:00:00",
          "2024-12-23T07:00:00",
          "2024-12-23T08:00:00",
          "2024-12-23T09:00:00",
          "2024-12-23T10:00:00",
          "2024-12-23T11:00:00",
          "2024-12-23T12:00:00",
          "2024-12-23T13:00:00",
          "2024-12-23T15:00:00",
          "2024-12-23T16:00:00",
          "2024-12-23T17:00:00",
          "2024-12-23T18:00:00",
          "2024-12-23T19:00:00"
         ],
         "xaxis": "x",
         "y": [
          100,
          100.43953270733222,
          99.13881031745198,
          99.8433244655682,
          99.72765796363866,
          99.823345706144,
          99.47950074131714,
          98.6803503643495,
          98.90958034090076,
          98.88329249955314,
          100.28601171386212,
          99.90431225749468,
          99.98948486346096,
          99.03996803398492,
          99.5604672926678,
          99.61409448901696,
          100.2618268998223,
          100.2828571729004,
          100.23133300385908,
          99.17876783630037,
          98.23240554778604,
          97.5394580498628,
          98.71925636954396,
          97.7203183983344
         ],
         "yaxis": "y"
        },
        {
         "connectgaps": true,
         "line": {
          "color": "#DA16FF",
          "width": 4
         },
         "marker": {
          "color": "#DA16FF",
          "size": 10
         },
         "mode": "lines",
         "name": "UNI_Price (96.1)",
         "showlegend": true,
         "text": "",
         "type": "scatter",
         "x": [
          "2024-12-22T19:00:00",
          "2024-12-22T20:00:00",
          "2024-12-22T21:00:00",
          "2024-12-22T22:00:00",
          "2024-12-22T23:00:00",
          "2024-12-23T00:00:00",
          "2024-12-23T01:00:00",
          "2024-12-23T02:00:00",
          "2024-12-23T03:00:00",
          "2024-12-23T04:00:00",
          "2024-12-23T05:00:00",
          "2024-12-23T06:00:00",
          "2024-12-23T07:00:00",
          "2024-12-23T08:00:00",
          "2024-12-23T09:00:00",
          "2024-12-23T10:00:00",
          "2024-12-23T11:00:00",
          "2024-12-23T12:00:00",
          "2024-12-23T13:00:00",
          "2024-12-23T15:00:00",
          "2024-12-23T16:00:00",
          "2024-12-23T17:00:00",
          "2024-12-23T18:00:00",
          "2024-12-23T19:00:00"
         ],
         "xaxis": "x",
         "y": [
          100,
          99.22096317280452,
          96.671388101983,
          98.22946175637392,
          98.86685552407933,
          98.22946175637392,
          98.08781869688384,
          96.95467422096316,
          97.1671388101983,
          97.0254957507082,
          100.56657223796032,
          100.21246458923513,
          99.29178470254956,
          97.1671388101983,
          97.59206798866856,
          99.15014164305948,
          99.3626062322946,
          98.58356940509913,
          97.80453257790366,
          95.75070821529742,
          94.40509915014162,
          95.5382436260623,
          97.94617563739374,
          96.10481586402264
         ],
         "yaxis": "y"
        }
       ],
       "layout": {
        "annotations": [
         {
          "align": "center",
          "font": {
           "color": "black",
           "size": 14
          },
          "showarrow": false,
          "text": "12-23-2024",
          "x": 0.05,
          "xref": "paper",
          "y": 1.18,
          "yref": "paper"
         }
        ],
        "autosize": true,
        "font": {
         "family": "Cardo",
         "size": 18
        },
        "height": 400,
        "legend": {
         "bgcolor": "rgba(0,0,0,0)",
         "font": {
          "color": "black",
          "family": "Cardo",
          "size": 14
         },
         "itemsizing": "constant",
         "orientation": "v",
         "traceorder": "normal",
         "x": 0.025,
         "xanchor": "left",
         "y": 1,
         "yanchor": "top"
        },
        "margin": {
         "b": 0,
         "l": 0,
         "r": 0,
         "t": 25
        },
        "paper_bgcolor": "rgba(0,0,0,0)",
        "plot_bgcolor": "rgba(0,0,0,0)",
        "template": {
         "data": {
          "bar": [
           {
            "error_x": {
             "color": "#2a3f5f"
            },
            "error_y": {
             "color": "#2a3f5f"
            },
            "marker": {
             "line": {
              "color": "#E5ECF6",
              "width": 0.5
             },
             "pattern": {
              "fillmode": "overlay",
              "size": 10,
              "solidity": 0.2
             }
            },
            "type": "bar"
           }
          ],
          "barpolar": [
           {
            "marker": {
             "line": {
              "color": "#E5ECF6",
              "width": 0.5
             },
             "pattern": {
              "fillmode": "overlay",
              "size": 10,
              "solidity": 0.2
             }
            },
            "type": "barpolar"
           }
          ],
          "carpet": [
           {
            "aaxis": {
             "endlinecolor": "#2a3f5f",
             "gridcolor": "white",
             "linecolor": "white",
             "minorgridcolor": "white",
             "startlinecolor": "#2a3f5f"
            },
            "baxis": {
             "endlinecolor": "#2a3f5f",
             "gridcolor": "white",
             "linecolor": "white",
             "minorgridcolor": "white",
             "startlinecolor": "#2a3f5f"
            },
            "type": "carpet"
           }
          ],
          "choropleth": [
           {
            "colorbar": {
             "outlinewidth": 0,
             "ticks": ""
            },
            "type": "choropleth"
           }
          ],
          "contour": [
           {
            "colorbar": {
             "outlinewidth": 0,
             "ticks": ""
            },
            "colorscale": [
             [
              0,
              "#0d0887"
             ],
             [
              0.1111111111111111,
              "#46039f"
             ],
             [
              0.2222222222222222,
              "#7201a8"
             ],
             [
              0.3333333333333333,
              "#9c179e"
             ],
             [
              0.4444444444444444,
              "#bd3786"
             ],
             [
              0.5555555555555556,
              "#d8576b"
             ],
             [
              0.6666666666666666,
              "#ed7953"
             ],
             [
              0.7777777777777778,
              "#fb9f3a"
             ],
             [
              0.8888888888888888,
              "#fdca26"
             ],
             [
              1,
              "#f0f921"
             ]
            ],
            "type": "contour"
           }
          ],
          "contourcarpet": [
           {
            "colorbar": {
             "outlinewidth": 0,
             "ticks": ""
            },
            "type": "contourcarpet"
           }
          ],
          "heatmap": [
           {
            "colorbar": {
             "outlinewidth": 0,
             "ticks": ""
            },
            "colorscale": [
             [
              0,
              "#0d0887"
             ],
             [
              0.1111111111111111,
              "#46039f"
             ],
             [
              0.2222222222222222,
              "#7201a8"
             ],
             [
              0.3333333333333333,
              "#9c179e"
             ],
             [
              0.4444444444444444,
              "#bd3786"
             ],
             [
              0.5555555555555556,
              "#d8576b"
             ],
             [
              0.6666666666666666,
              "#ed7953"
             ],
             [
              0.7777777777777778,
              "#fb9f3a"
             ],
             [
              0.8888888888888888,
              "#fdca26"
             ],
             [
              1,
              "#f0f921"
             ]
            ],
            "type": "heatmap"
           }
          ],
          "heatmapgl": [
           {
            "colorbar": {
             "outlinewidth": 0,
             "ticks": ""
            },
            "colorscale": [
             [
              0,
              "#0d0887"
             ],
             [
              0.1111111111111111,
              "#46039f"
             ],
             [
              0.2222222222222222,
              "#7201a8"
             ],
             [
              0.3333333333333333,
              "#9c179e"
             ],
             [
              0.4444444444444444,
              "#bd3786"
             ],
             [
              0.5555555555555556,
              "#d8576b"
             ],
             [
              0.6666666666666666,
              "#ed7953"
             ],
             [
              0.7777777777777778,
              "#fb9f3a"
             ],
             [
              0.8888888888888888,
              "#fdca26"
             ],
             [
              1,
              "#f0f921"
             ]
            ],
            "type": "heatmapgl"
           }
          ],
          "histogram": [
           {
            "marker": {
             "pattern": {
              "fillmode": "overlay",
              "size": 10,
              "solidity": 0.2
             }
            },
            "type": "histogram"
           }
          ],
          "histogram2d": [
           {
            "colorbar": {
             "outlinewidth": 0,
             "ticks": ""
            },
            "colorscale": [
             [
              0,
              "#0d0887"
             ],
             [
              0.1111111111111111,
              "#46039f"
             ],
             [
              0.2222222222222222,
              "#7201a8"
             ],
             [
              0.3333333333333333,
              "#9c179e"
             ],
             [
              0.4444444444444444,
              "#bd3786"
             ],
             [
              0.5555555555555556,
              "#d8576b"
             ],
             [
              0.6666666666666666,
              "#ed7953"
             ],
             [
              0.7777777777777778,
              "#fb9f3a"
             ],
             [
              0.8888888888888888,
              "#fdca26"
             ],
             [
              1,
              "#f0f921"
             ]
            ],
            "type": "histogram2d"
           }
          ],
          "histogram2dcontour": [
           {
            "colorbar": {
             "outlinewidth": 0,
             "ticks": ""
            },
            "colorscale": [
             [
              0,
              "#0d0887"
             ],
             [
              0.1111111111111111,
              "#46039f"
             ],
             [
              0.2222222222222222,
              "#7201a8"
             ],
             [
              0.3333333333333333,
              "#9c179e"
             ],
             [
              0.4444444444444444,
              "#bd3786"
             ],
             [
              0.5555555555555556,
              "#d8576b"
             ],
             [
              0.6666666666666666,
              "#ed7953"
             ],
             [
              0.7777777777777778,
              "#fb9f3a"
             ],
             [
              0.8888888888888888,
              "#fdca26"
             ],
             [
              1,
              "#f0f921"
             ]
            ],
            "type": "histogram2dcontour"
           }
          ],
          "mesh3d": [
           {
            "colorbar": {
             "outlinewidth": 0,
             "ticks": ""
            },
            "type": "mesh3d"
           }
          ],
          "parcoords": [
           {
            "line": {
             "colorbar": {
              "outlinewidth": 0,
              "ticks": ""
             }
            },
            "type": "parcoords"
           }
          ],
          "pie": [
           {
            "automargin": true,
            "type": "pie"
           }
          ],
          "scatter": [
           {
            "fillpattern": {
             "fillmode": "overlay",
             "size": 10,
             "solidity": 0.2
            },
            "type": "scatter"
           }
          ],
          "scatter3d": [
           {
            "line": {
             "colorbar": {
              "outlinewidth": 0,
              "ticks": ""
             }
            },
            "marker": {
             "colorbar": {
              "outlinewidth": 0,
              "ticks": ""
             }
            },
            "type": "scatter3d"
           }
          ],
          "scattercarpet": [
           {
            "marker": {
             "colorbar": {
              "outlinewidth": 0,
              "ticks": ""
             }
            },
            "type": "scattercarpet"
           }
          ],
          "scattergeo": [
           {
            "marker": {
             "colorbar": {
              "outlinewidth": 0,
              "ticks": ""
             }
            },
            "type": "scattergeo"
           }
          ],
          "scattergl": [
           {
            "marker": {
             "colorbar": {
              "outlinewidth": 0,
              "ticks": ""
             }
            },
            "type": "scattergl"
           }
          ],
          "scattermapbox": [
           {
            "marker": {
             "colorbar": {
              "outlinewidth": 0,
              "ticks": ""
             }
            },
            "type": "scattermapbox"
           }
          ],
          "scatterpolar": [
           {
            "marker": {
             "colorbar": {
              "outlinewidth": 0,
              "ticks": ""
             }
            },
            "type": "scatterpolar"
           }
          ],
          "scatterpolargl": [
           {
            "marker": {
             "colorbar": {
              "outlinewidth": 0,
              "ticks": ""
             }
            },
            "type": "scatterpolargl"
           }
          ],
          "scatterternary": [
           {
            "marker": {
             "colorbar": {
              "outlinewidth": 0,
              "ticks": ""
             }
            },
            "type": "scatterternary"
           }
          ],
          "surface": [
           {
            "colorbar": {
             "outlinewidth": 0,
             "ticks": ""
            },
            "colorscale": [
             [
              0,
              "#0d0887"
             ],
             [
              0.1111111111111111,
              "#46039f"
             ],
             [
              0.2222222222222222,
              "#7201a8"
             ],
             [
              0.3333333333333333,
              "#9c179e"
             ],
             [
              0.4444444444444444,
              "#bd3786"
             ],
             [
              0.5555555555555556,
              "#d8576b"
             ],
             [
              0.6666666666666666,
              "#ed7953"
             ],
             [
              0.7777777777777778,
              "#fb9f3a"
             ],
             [
              0.8888888888888888,
              "#fdca26"
             ],
             [
              1,
              "#f0f921"
             ]
            ],
            "type": "surface"
           }
          ],
          "table": [
           {
            "cells": {
             "fill": {
              "color": "#EBF0F8"
             },
             "line": {
              "color": "white"
             }
            },
            "header": {
             "fill": {
              "color": "#C8D4E3"
             },
             "line": {
              "color": "white"
             }
            },
            "type": "table"
           }
          ]
         },
         "layout": {
          "annotationdefaults": {
           "arrowcolor": "#2a3f5f",
           "arrowhead": 0,
           "arrowwidth": 1
          },
          "autotypenumbers": "strict",
          "coloraxis": {
           "colorbar": {
            "outlinewidth": 0,
            "ticks": ""
           }
          },
          "colorscale": {
           "diverging": [
            [
             0,
             "#8e0152"
            ],
            [
             0.1,
             "#c51b7d"
            ],
            [
             0.2,
             "#de77ae"
            ],
            [
             0.3,
             "#f1b6da"
            ],
            [
             0.4,
             "#fde0ef"
            ],
            [
             0.5,
             "#f7f7f7"
            ],
            [
             0.6,
             "#e6f5d0"
            ],
            [
             0.7,
             "#b8e186"
            ],
            [
             0.8,
             "#7fbc41"
            ],
            [
             0.9,
             "#4d9221"
            ],
            [
             1,
             "#276419"
            ]
           ],
           "sequential": [
            [
             0,
             "#0d0887"
            ],
            [
             0.1111111111111111,
             "#46039f"
            ],
            [
             0.2222222222222222,
             "#7201a8"
            ],
            [
             0.3333333333333333,
             "#9c179e"
            ],
            [
             0.4444444444444444,
             "#bd3786"
            ],
            [
             0.5555555555555556,
             "#d8576b"
            ],
            [
             0.6666666666666666,
             "#ed7953"
            ],
            [
             0.7777777777777778,
             "#fb9f3a"
            ],
            [
             0.8888888888888888,
             "#fdca26"
            ],
            [
             1,
             "#f0f921"
            ]
           ],
           "sequentialminus": [
            [
             0,
             "#0d0887"
            ],
            [
             0.1111111111111111,
             "#46039f"
            ],
            [
             0.2222222222222222,
             "#7201a8"
            ],
            [
             0.3333333333333333,
             "#9c179e"
            ],
            [
             0.4444444444444444,
             "#bd3786"
            ],
            [
             0.5555555555555556,
             "#d8576b"
            ],
            [
             0.6666666666666666,
             "#ed7953"
            ],
            [
             0.7777777777777778,
             "#fb9f3a"
            ],
            [
             0.8888888888888888,
             "#fdca26"
            ],
            [
             1,
             "#f0f921"
            ]
           ]
          },
          "colorway": [
           "#636efa",
           "#EF553B",
           "#00cc96",
           "#ab63fa",
           "#FFA15A",
           "#19d3f3",
           "#FF6692",
           "#B6E880",
           "#FF97FF",
           "#FECB52"
          ],
          "font": {
           "color": "#2a3f5f",
           "family": "Cardo"
          },
          "geo": {
           "bgcolor": "white",
           "lakecolor": "white",
           "landcolor": "#E5ECF6",
           "showlakes": true,
           "showland": true,
           "subunitcolor": "white"
          },
          "hoverlabel": {
           "align": "left"
          },
          "hovermode": "closest",
          "mapbox": {
           "style": "light"
          },
          "paper_bgcolor": "white",
          "plot_bgcolor": "#E5ECF6",
          "polar": {
           "angularaxis": {
            "gridcolor": "white",
            "linecolor": "white",
            "ticks": ""
           },
           "bgcolor": "#E5ECF6",
           "radialaxis": {
            "gridcolor": "white",
            "linecolor": "white",
            "ticks": ""
           }
          },
          "scene": {
           "xaxis": {
            "backgroundcolor": "#E5ECF6",
            "gridcolor": "white",
            "gridwidth": 2,
            "linecolor": "white",
            "showbackground": true,
            "ticks": "",
            "zerolinecolor": "white"
           },
           "yaxis": {
            "backgroundcolor": "#E5ECF6",
            "gridcolor": "white",
            "gridwidth": 2,
            "linecolor": "white",
            "showbackground": true,
            "ticks": "",
            "zerolinecolor": "white"
           },
           "zaxis": {
            "backgroundcolor": "#E5ECF6",
            "gridcolor": "white",
            "gridwidth": 2,
            "linecolor": "white",
            "showbackground": true,
            "ticks": "",
            "zerolinecolor": "white"
           }
          },
          "shapedefaults": {
           "line": {
            "color": "#2a3f5f"
           }
          },
          "ternary": {
           "aaxis": {
            "gridcolor": "white",
            "linecolor": "white",
            "ticks": ""
           },
           "baxis": {
            "gridcolor": "white",
            "linecolor": "white",
            "ticks": ""
           },
           "bgcolor": "#E5ECF6",
           "caxis": {
            "gridcolor": "white",
            "linecolor": "white",
            "ticks": ""
           }
          },
          "title": {
           "x": 0.05
          },
          "xaxis": {
           "automargin": true,
           "gridcolor": "white",
           "linecolor": "white",
           "ticks": "",
           "title": {
            "standoff": 15
           },
           "zerolinecolor": "white",
           "zerolinewidth": 2
          },
          "yaxis": {
           "automargin": true,
           "gridcolor": "white",
           "linecolor": "white",
           "ticks": "",
           "title": {
            "standoff": 15
           },
           "zerolinecolor": "white",
           "zerolinewidth": 2
          }
         }
        },
        "title": {
         "font": {
          "color": "black",
          "family": "Cardo",
          "size": 27
         },
         "text": "<span style='color: black; font-weight: normal;'></span><br><sub style='font-size: 18px; color: black; font-weight: normal;'></sub>",
         "x": 0.1,
         "xanchor": "left",
         "y": 0.9,
         "yanchor": "top"
        },
        "uniformtext": {
         "minsize": 15,
         "mode": "show"
        },
        "width": 730,
        "xaxis": {
         "anchor": "y",
         "domain": [
          0,
          0.94
         ],
         "range": [
          "2024-12-22T19:00:00",
          "2024-12-23T19:00:00"
         ],
         "tick0": "2024-12-22T19:00:00",
         "tickfont": {
          "color": "black",
          "family": "Cardo",
          "size": 18
         },
         "tickformat": "%b %d <br>%y",
         "tickvals": [
          "2024-12-22",
          "2024-12-23",
          "2024-12-23",
          "2024-12-23",
          "2024-12-23"
         ],
         "title": {
          "font": {
           "color": "black",
           "family": "Cardo",
           "size": 18
          }
         }
        },
        "yaxis": {
         "anchor": "x",
         "domain": [
          0,
          1
         ],
         "tickfont": {
          "color": "black",
          "family": "Cardo",
          "size": 18
         },
         "title": {
          "font": {
           "color": "black",
           "family": "Cardo",
           "size": 18
          }
         }
        },
        "yaxis2": {
         "anchor": "x",
         "overlaying": "y",
         "side": "right",
         "tickfont": {
          "color": "black",
          "family": "Cardo",
          "size": 18
         },
         "title": {
          "font": {
           "color": "black",
           "family": "Cardo",
           "size": 18
          }
         }
        }
       }
      }
     },
     "metadata": {},
     "output_type": "display_data"
    }
   ],
   "source": [
    "chartBuilder(\n",
    "    fig=prices_fig,\n",
    "    add_the_date=True,\n",
    "    save=False\n",
    ")"
   ]
  },
  {
   "cell_type": "code",
   "execution_count": 24,
   "metadata": {},
   "outputs": [
    {
     "name": "stdout",
     "output_type": "stream",
     "text": [
      "cagr history: hour\n",
      "2024-11-01 00:00:00+00:00     78.080000\n",
      "2024-11-01 01:00:00+00:00     78.030000\n",
      "2024-11-01 02:00:00+00:00     77.490000\n",
      "2024-11-01 03:00:00+00:00     77.540000\n",
      "2024-11-01 04:00:00+00:00     77.980000\n",
      "                                ...    \n",
      "2024-12-23 15:00:00+00:00    144.780000\n",
      "2024-12-23 16:00:00+00:00    143.196674\n",
      "2024-12-23 17:00:00+00:00    148.670760\n",
      "2024-12-23 18:00:00+00:00    146.770432\n",
      "2024-12-23 19:00:00+00:00    146.393381\n",
      "Name: DPI_Price, Length: 1268, dtype: float64\n"
     ]
    }
   ],
   "source": [
    "dpi_cagr = calculate_cagr(combined_prices['DPI_Price'])"
   ]
  },
  {
   "cell_type": "code",
   "execution_count": 25,
   "metadata": {},
   "outputs": [
    {
     "name": "stdout",
     "output_type": "stream",
     "text": [
      "cagr history: hour\n",
      "2024-11-01 00:00:00+00:00    11.400000\n",
      "2024-11-01 01:00:00+00:00    11.410000\n",
      "2024-11-01 02:00:00+00:00    11.410000\n",
      "2024-11-01 03:00:00+00:00    11.360000\n",
      "2024-11-01 04:00:00+00:00    11.370000\n",
      "                               ...    \n",
      "2024-12-23 15:00:00+00:00    22.600000\n",
      "2024-12-23 16:00:00+00:00    22.162033\n",
      "2024-12-23 17:00:00+00:00    22.999828\n",
      "2024-12-23 18:00:00+00:00    22.598208\n",
      "2024-12-23 19:00:00+00:00    22.310127\n",
      "Name: LINK_Price, Length: 1268, dtype: float64\n"
     ]
    }
   ],
   "source": [
    "link_cagr = calculate_cagr(combined_prices['LINK_Price'])"
   ]
  },
  {
   "cell_type": "code",
   "execution_count": 26,
   "metadata": {},
   "outputs": [
    {
     "name": "stdout",
     "output_type": "stream",
     "text": [
      "cagr history: hour\n",
      "2024-11-01 00:00:00+00:00     7.650000\n",
      "2024-11-01 01:00:00+00:00     7.600000\n",
      "2024-11-01 02:00:00+00:00     7.660000\n",
      "2024-11-01 03:00:00+00:00     7.650000\n",
      "2024-11-01 04:00:00+00:00     7.730000\n",
      "                               ...    \n",
      "2024-12-23 15:00:00+00:00    13.520000\n",
      "2024-12-23 16:00:00+00:00    13.508978\n",
      "2024-12-23 17:00:00+00:00    13.883604\n",
      "2024-12-23 18:00:00+00:00    13.541444\n",
      "2024-12-23 19:00:00+00:00    13.487293\n",
      "Name: UNI_Price, Length: 1268, dtype: float64\n"
     ]
    }
   ],
   "source": [
    "uni_cagr = calculate_cagr(combined_prices['UNI_Price'])"
   ]
  },
  {
   "cell_type": "code",
   "execution_count": 159,
   "metadata": {},
   "outputs": [
    {
     "data": {
      "text/plain": [
       "0.0011680622662884393"
      ]
     },
     "execution_count": 159,
     "metadata": {},
     "output_type": "execute_result"
    }
   ],
   "source": [
    "average_excess_returns_df[average_excess_returns_df.index=='DPI_Price']['Average Excess Return'].values[0]"
   ]
  },
  {
   "cell_type": "code",
   "execution_count": 163,
   "metadata": {},
   "outputs": [
    {
     "data": {
      "text/plain": [
       "0.044199999999999996"
      ]
     },
     "execution_count": 163,
     "metadata": {},
     "output_type": "execute_result"
    }
   ],
   "source": [
    "current_risk_free"
   ]
  },
  {
   "cell_type": "code",
   "execution_count": 169,
   "metadata": {},
   "outputs": [
    {
     "data": {
      "text/plain": [
       "4.93734574957827e-06"
      ]
     },
     "execution_count": 169,
     "metadata": {},
     "output_type": "execute_result"
    }
   ],
   "source": [
    "tbill_hourly_rate.iloc[-1].values[0]"
   ]
  },
  {
   "cell_type": "code",
   "execution_count": 222,
   "metadata": {},
   "outputs": [
    {
     "data": {
      "text/html": [
       "<div>\n",
       "<style scoped>\n",
       "    .dataframe tbody tr th:only-of-type {\n",
       "        vertical-align: middle;\n",
       "    }\n",
       "\n",
       "    .dataframe tbody tr th {\n",
       "        vertical-align: top;\n",
       "    }\n",
       "\n",
       "    .dataframe thead th {\n",
       "        text-align: right;\n",
       "    }\n",
       "</style>\n",
       "<table border=\"1\" class=\"dataframe\">\n",
       "  <thead>\n",
       "    <tr style=\"text-align: right;\">\n",
       "      <th></th>\n",
       "      <th>arbitrum_classifier Portfolio Value</th>\n",
       "      <th>WBTC_Price</th>\n",
       "      <th>UNI_Price</th>\n",
       "      <th>LINK_Price</th>\n",
       "      <th>CRV_Price</th>\n",
       "      <th>DPI_Price</th>\n",
       "    </tr>\n",
       "  </thead>\n",
       "  <tbody>\n",
       "    <tr>\n",
       "      <th>Cumulative_Return</th>\n",
       "      <td>0.01676</td>\n",
       "      <td>-0.022797</td>\n",
       "      <td>-0.038952</td>\n",
       "      <td>0.019404</td>\n",
       "      <td>0.024383</td>\n",
       "      <td>0.024877</td>\n",
       "    </tr>\n",
       "  </tbody>\n",
       "</table>\n",
       "</div>"
      ],
      "text/plain": [
       "                   arbitrum_classifier Portfolio Value  WBTC_Price  UNI_Price  \\\n",
       "Cumulative_Return                              0.01676   -0.022797  -0.038952   \n",
       "\n",
       "                   LINK_Price  CRV_Price  DPI_Price  \n",
       "Cumulative_Return    0.019404   0.024383   0.024877  "
      ]
     },
     "execution_count": 222,
     "metadata": {},
     "output_type": "execute_result"
    }
   ],
   "source": [
    "portfolio_cum_return"
   ]
  },
  {
   "cell_type": "code",
   "execution_count": 229,
   "metadata": {},
   "outputs": [
    {
     "data": {
      "text/plain": [
       "24"
      ]
     },
     "execution_count": 229,
     "metadata": {},
     "output_type": "execute_result"
    }
   ],
   "source": [
    "observed_hours = observed_days * 24\n",
    "observed_hours"
   ]
  },
  {
   "cell_type": "code",
   "execution_count": 236,
   "metadata": {},
   "outputs": [],
   "source": [
    "aligned_risk_free = tbill_hourly_rate.iloc[-1] * observed_hours\n",
    "aligned_risk_free = aligned_risk_free.values[0]"
   ]
  },
  {
   "cell_type": "code",
   "execution_count": 237,
   "metadata": {},
   "outputs": [],
   "source": [
    "dpi_cumulative_return = portfolio_cum_return['DPI_Price'].values[0]"
   ]
  },
  {
   "cell_type": "code",
   "execution_count": 239,
   "metadata": {},
   "outputs": [
    {
     "data": {
      "text/plain": [
       "0.02475815455611241"
      ]
     },
     "execution_count": 239,
     "metadata": {},
     "output_type": "execute_result"
    }
   ],
   "source": [
    "cumulative_risk_premium = dpi_cumulative_return - aligned_risk_free\n",
    "cumulative_risk_premium"
   ]
  },
  {
   "cell_type": "code",
   "execution_count": 171,
   "metadata": {},
   "outputs": [
    {
     "data": {
      "text/plain": [
       "76.38906036178085"
      ]
     },
     "execution_count": 171,
     "metadata": {},
     "output_type": "execute_result"
    }
   ],
   "source": [
    "dpi_cagr"
   ]
  },
  {
   "cell_type": "code",
   "execution_count": 172,
   "metadata": {},
   "outputs": [
    {
     "data": {
      "text/plain": [
       "0.001163124920538861"
      ]
     },
     "execution_count": 172,
     "metadata": {},
     "output_type": "execute_result"
    }
   ],
   "source": [
    "cumulative_risk_premium"
   ]
  },
  {
   "cell_type": "code",
   "execution_count": 173,
   "metadata": {},
   "outputs": [
    {
     "data": {
      "text/plain": [
       "0.21945061954709932"
      ]
     },
     "execution_count": 173,
     "metadata": {},
     "output_type": "execute_result"
    }
   ],
   "source": [
    "link_beta"
   ]
  },
  {
   "cell_type": "code",
   "execution_count": 221,
   "metadata": {},
   "outputs": [
    {
     "data": {
      "text/html": [
       "<div>\n",
       "<style scoped>\n",
       "    .dataframe tbody tr th:only-of-type {\n",
       "        vertical-align: middle;\n",
       "    }\n",
       "\n",
       "    .dataframe tbody tr th {\n",
       "        vertical-align: top;\n",
       "    }\n",
       "\n",
       "    .dataframe thead th {\n",
       "        text-align: right;\n",
       "    }\n",
       "</style>\n",
       "<table border=\"1\" class=\"dataframe\">\n",
       "  <thead>\n",
       "    <tr style=\"text-align: right;\">\n",
       "      <th></th>\n",
       "      <th>Beta</th>\n",
       "    </tr>\n",
       "  </thead>\n",
       "  <tbody>\n",
       "    <tr>\n",
       "      <th>arbitrum_classifier Portfolio Value</th>\n",
       "      <td>0.638886</td>\n",
       "    </tr>\n",
       "    <tr>\n",
       "      <th>WBTC_Price</th>\n",
       "      <td>0.209205</td>\n",
       "    </tr>\n",
       "    <tr>\n",
       "      <th>UNI_Price</th>\n",
       "      <td>0.707135</td>\n",
       "    </tr>\n",
       "    <tr>\n",
       "      <th>LINK_Price</th>\n",
       "      <td>0.639035</td>\n",
       "    </tr>\n",
       "    <tr>\n",
       "      <th>CRV_Price</th>\n",
       "      <td>0.705910</td>\n",
       "    </tr>\n",
       "  </tbody>\n",
       "</table>\n",
       "</div>"
      ],
      "text/plain": [
       "                                         Beta\n",
       "arbitrum_classifier Portfolio Value  0.638886\n",
       "WBTC_Price                           0.209205\n",
       "UNI_Price                            0.707135\n",
       "LINK_Price                           0.639035\n",
       "CRV_Price                            0.705910"
      ]
     },
     "execution_count": 221,
     "metadata": {},
     "output_type": "execute_result"
    }
   ],
   "source": [
    "portfolio_beta"
   ]
  },
  {
   "cell_type": "code",
   "execution_count": 245,
   "metadata": {},
   "outputs": [
    {
     "data": {
      "text/plain": [
       "1.5936127062442247"
      ]
     },
     "execution_count": 245,
     "metadata": {},
     "output_type": "execute_result"
    }
   ],
   "source": [
    "portfolio_expected_return = aligned_risk_free + (portfolio_beta[portfolio_beta.index=='arbitrum_classifier Portfolio Value'].values[0]*cumulative_risk_premium)\n",
    "portfolio_expected_return[0]*100"
   ]
  },
  {
   "cell_type": "code",
   "execution_count": 174,
   "metadata": {},
   "outputs": [
    {
     "data": {
      "text/plain": [
       "4.445524848442292"
      ]
     },
     "execution_count": 174,
     "metadata": {},
     "output_type": "execute_result"
    }
   ],
   "source": [
    "expected_return = current_risk_free + (link_beta * cumulative_risk_premium)\n",
    "expected_return * 100"
   ]
  },
  {
   "cell_type": "code",
   "execution_count": 175,
   "metadata": {},
   "outputs": [],
   "source": [
    "import numpy as np\n",
    "import plotly.graph_objects as go\n",
    "import matplotlib.colors as mcolors\n",
    "\n",
    "\n",
    "def create_interactive_sml(risk_free_rate, market_risk_premium, betas, returns):\n",
    "    \"\"\"\n",
    "    Creates an interactive Security Market Line (SML) plot with dynamic inputs.\n",
    "    \n",
    "    Parameters:\n",
    "    - risk_free_rate (float): The risk-free rate.\n",
    "    - market_risk_premium (float): The market risk premium.\n",
    "    - betas (dict): Dictionary of asset betas with names as keys and beta values as values.\n",
    "    - returns (dict): Dictionary of actual returns with names as keys and return values as values.\n",
    "    \n",
    "    Example:\n",
    "    betas = {\n",
    "        'RL': 0.5,\n",
    "        'MVO': 0.7,\n",
    "        'Historical': 0.6,\n",
    "        'Defi': 1.0,\n",
    "        'Non-Defi': 0.8\n",
    "    }\n",
    "    returns = {\n",
    "        'RL': 0.08,\n",
    "        'MVO': 0.10,\n",
    "        'Historical': 0.09,\n",
    "        'Defi': 0.12,\n",
    "        'Non-Defi': 0.07\n",
    "    }\n",
    "    \"\"\"\n",
    "    def generate_shades(base_color, light_factor=1.3, dark_factor=0.7):\n",
    "        rgb = mcolors.to_rgb(base_color)\n",
    "        lighter_shade = mcolors.to_hex(tuple(min(1, c * light_factor) for c in rgb))\n",
    "        darker_shade = mcolors.to_hex(tuple(max(0, c * dark_factor) for c in rgb))\n",
    "        return lighter_shade, darker_shade\n",
    "\n",
    "    # List of base colors to assign dynamically\n",
    "    base_colors = [\n",
    "        '#1f77b4', '#ff7f0e', '#2ca02c', '#d62728', '#9467bd', \n",
    "        '#8c564b', '#e377c2', '#7f7f7f', '#bcbd22', '#17becf'\n",
    "    ]\n",
    "    \n",
    "    # Collect all beta values and filter out None\n",
    "    beta_values = [beta for beta in betas.values() if beta is not None]\n",
    "    \n",
    "    # Determine the beta range\n",
    "    max_beta = max(beta_values) if beta_values else 6\n",
    "    min_beta = min(beta_values) if min(beta_values) < 0 else 0\n",
    "    beta_range = np.linspace(min_beta, np.absolute(max_beta) * 1.1, 100)  # Slightly extend the range\n",
    "\n",
    "    # Calculate expected returns for the SML line\n",
    "    expected_returns = risk_free_rate + beta_range * market_risk_premium\n",
    "\n",
    "    # Create the SML line\n",
    "    sml_line = go.Scatter(\n",
    "        x=beta_range,\n",
    "        y=expected_returns*100,\n",
    "        mode='lines',\n",
    "        name='SML',\n",
    "        line=dict(color='black')\n",
    "    )\n",
    "\n",
    "    # Plot points for expected and actual returns dynamically\n",
    "    data = [sml_line]\n",
    "\n",
    "    for i, (name, beta) in enumerate(betas.items()):\n",
    "        if beta is not None:\n",
    "            # Get base color and generate shades\n",
    "            base_color = base_colors[i % len(base_colors)]\n",
    "            lighter_shade, darker_shade = generate_shades(base_color)\n",
    "\n",
    "            # Expected return based on SML (darker shade)\n",
    "            expected_return = risk_free_rate + beta * market_risk_premium\n",
    "            data.append(go.Scatter(\n",
    "                x=[beta],\n",
    "                y=[expected_return * 100],  # Convert to percentage\n",
    "                mode='markers',\n",
    "                marker=dict(size=10, color=darker_shade),\n",
    "                name=f'{name} Expected ({expected_return:.2%})'\n",
    "            ))\n",
    "\n",
    "            # Actual return (lighter shade)\n",
    "            actual_return = returns.get(name)\n",
    "            if actual_return is not None:\n",
    "                data.append(go.Scatter(\n",
    "                    x=[beta],\n",
    "                    y=[actual_return * 100],  # Convert to percentage\n",
    "                    mode='markers',\n",
    "                    marker=dict(size=10, color=lighter_shade),\n",
    "                    name=f'{name} Actual ({actual_return:.2%})'\n",
    "                ))\n",
    "\n",
    "    # Risk-Free Rate line\n",
    "    risk_free_line = go.Scatter(\n",
    "        x=[min(beta_range), max(beta_range)],\n",
    "        y=[risk_free_rate*100, risk_free_rate*100],\n",
    "        mode='lines',\n",
    "        line=dict(dash='dash', color='green'),\n",
    "        name='Risk-Free Rate'\n",
    "    )\n",
    "    \n",
    "    data.append(risk_free_line)\n",
    "\n",
    "    # Layout settings\n",
    "    layout = go.Layout(\n",
    "        title='Security Market Line',\n",
    "        xaxis=dict(title='Beta (Systematic Risk)'),\n",
    "        yaxis=dict(title='Return',ticksuffix='%'),\n",
    "        showlegend=True,\n",
    "        plot_bgcolor='rgba(0,0,0,0)',\n",
    "        paper_bgcolor='rgba(0,0,0,0)',\n",
    "        font = dict(size=18,color='black')\n",
    "    )\n",
    "\n",
    "    # Combine all the plots\n",
    "    fig = go.Figure(data=data, layout=layout)\n",
    "    return fig\n"
   ]
  },
  {
   "cell_type": "code",
   "execution_count": 176,
   "metadata": {},
   "outputs": [
    {
     "data": {
      "text/plain": [
       "{'arbitrum_classifier Portfolio Value': 0.6388856943518529,\n",
       " 'WBTC_Price': 0.20920522346125556,\n",
       " 'UNI_Price': 0.7071346360423548,\n",
       " 'LINK_Price': 0.6390345339415766,\n",
       " 'CRV_Price': 0.7059097159277392}"
      ]
     },
     "execution_count": 176,
     "metadata": {},
     "output_type": "execute_result"
    }
   ],
   "source": [
    "portfolio_beta.to_dict()['Beta']"
   ]
  },
  {
   "cell_type": "code",
   "execution_count": 177,
   "metadata": {},
   "outputs": [],
   "source": [
    "betas = portfolio_beta.to_dict()['Beta']"
   ]
  },
  {
   "cell_type": "code",
   "execution_count": 178,
   "metadata": {},
   "outputs": [
    {
     "data": {
      "text/plain": [
       "{'arbitrum_classifier Portfolio Value': 0.0008541694163857725,\n",
       " 'WBTC_Price': -0.0009814958048609062,\n",
       " 'UNI_Price': -0.0016181889271485715,\n",
       " 'LINK_Price': 0.00097095388436069,\n",
       " 'CRV_Price': 0.0012391260721093848,\n",
       " 'DPI_Price': 0.0011680622662884393}"
      ]
     },
     "execution_count": 178,
     "metadata": {},
     "output_type": "execute_result"
    }
   ],
   "source": [
    "average_excess_returns_df.to_dict()['Average Excess Return']"
   ]
  },
  {
   "cell_type": "code",
   "execution_count": 179,
   "metadata": {},
   "outputs": [],
   "source": [
    "link_return = calculate_cumulative_return(link_data_df)"
   ]
  },
  {
   "cell_type": "code",
   "execution_count": 180,
   "metadata": {},
   "outputs": [
    {
     "data": {
      "text/plain": [
       "103.10585252603855"
      ]
     },
     "execution_count": 180,
     "metadata": {},
     "output_type": "execute_result"
    }
   ],
   "source": [
    "link_cagr"
   ]
  },
  {
   "cell_type": "code",
   "execution_count": 181,
   "metadata": {},
   "outputs": [
    {
     "data": {
      "text/html": [
       "<div>\n",
       "<style scoped>\n",
       "    .dataframe tbody tr th:only-of-type {\n",
       "        vertical-align: middle;\n",
       "    }\n",
       "\n",
       "    .dataframe tbody tr th {\n",
       "        vertical-align: top;\n",
       "    }\n",
       "\n",
       "    .dataframe thead th {\n",
       "        text-align: right;\n",
       "    }\n",
       "</style>\n",
       "<table border=\"1\" class=\"dataframe\">\n",
       "  <thead>\n",
       "    <tr style=\"text-align: right;\">\n",
       "      <th></th>\n",
       "      <th>LINK_Price</th>\n",
       "    </tr>\n",
       "  </thead>\n",
       "  <tbody>\n",
       "    <tr>\n",
       "      <th>Cumulative_Return</th>\n",
       "      <td>0.957029</td>\n",
       "    </tr>\n",
       "  </tbody>\n",
       "</table>\n",
       "</div>"
      ],
      "text/plain": [
       "                   LINK_Price\n",
       "Cumulative_Return    0.957029"
      ]
     },
     "execution_count": 181,
     "metadata": {},
     "output_type": "execute_result"
    }
   ],
   "source": [
    "link_return"
   ]
  },
  {
   "cell_type": "code",
   "execution_count": 201,
   "metadata": {},
   "outputs": [
    {
     "data": {
      "text/html": [
       "<div>\n",
       "<style scoped>\n",
       "    .dataframe tbody tr th:only-of-type {\n",
       "        vertical-align: middle;\n",
       "    }\n",
       "\n",
       "    .dataframe tbody tr th {\n",
       "        vertical-align: top;\n",
       "    }\n",
       "\n",
       "    .dataframe thead th {\n",
       "        text-align: right;\n",
       "    }\n",
       "</style>\n",
       "<table border=\"1\" class=\"dataframe\">\n",
       "  <thead>\n",
       "    <tr style=\"text-align: right;\">\n",
       "      <th></th>\n",
       "      <th>Average Excess Return</th>\n",
       "    </tr>\n",
       "  </thead>\n",
       "  <tbody>\n",
       "    <tr>\n",
       "      <th>arbitrum_classifier Portfolio Value</th>\n",
       "      <td>0.000854</td>\n",
       "    </tr>\n",
       "    <tr>\n",
       "      <th>WBTC_Price</th>\n",
       "      <td>-0.000981</td>\n",
       "    </tr>\n",
       "    <tr>\n",
       "      <th>UNI_Price</th>\n",
       "      <td>-0.001618</td>\n",
       "    </tr>\n",
       "    <tr>\n",
       "      <th>LINK_Price</th>\n",
       "      <td>0.000971</td>\n",
       "    </tr>\n",
       "    <tr>\n",
       "      <th>CRV_Price</th>\n",
       "      <td>0.001239</td>\n",
       "    </tr>\n",
       "    <tr>\n",
       "      <th>DPI_Price</th>\n",
       "      <td>0.001168</td>\n",
       "    </tr>\n",
       "  </tbody>\n",
       "</table>\n",
       "</div>"
      ],
      "text/plain": [
       "                                     Average Excess Return\n",
       "arbitrum_classifier Portfolio Value               0.000854\n",
       "WBTC_Price                                       -0.000981\n",
       "UNI_Price                                        -0.001618\n",
       "LINK_Price                                        0.000971\n",
       "CRV_Price                                         0.001239\n",
       "DPI_Price                                         0.001168"
      ]
     },
     "execution_count": 201,
     "metadata": {},
     "output_type": "execute_result"
    }
   ],
   "source": [
    "average_excess_returns_df"
   ]
  },
  {
   "cell_type": "code",
   "execution_count": 202,
   "metadata": {},
   "outputs": [],
   "source": [
    "returns = average_excess_returns_df.to_dict()['Average Excess Return']\n"
   ]
  },
  {
   "cell_type": "code",
   "execution_count": 203,
   "metadata": {},
   "outputs": [],
   "source": [
    "def calculate_sml_data(prices):\n",
    "    betas = pd.DataFrame()\n",
    "    cagrs = pd.DataFrame()\n",
    "    for col in prices.columns:\n",
    "        cagr = calculate_cagr(prices[col])\n",
    "        cagrs.loc[col, 'cagr'] = cagr\n",
    "\n",
    "\n",
    "    "
   ]
  },
  {
   "cell_type": "code",
   "execution_count": 205,
   "metadata": {},
   "outputs": [
    {
     "data": {
      "text/plain": [
       "0.001163124920538861"
      ]
     },
     "execution_count": 205,
     "metadata": {},
     "output_type": "execute_result"
    }
   ],
   "source": [
    "cumulative_risk_premium"
   ]
  },
  {
   "cell_type": "code",
   "execution_count": 208,
   "metadata": {},
   "outputs": [
    {
     "data": {
      "text/plain": [
       "4.93734574957827e-06"
      ]
     },
     "execution_count": 208,
     "metadata": {},
     "output_type": "execute_result"
    }
   ],
   "source": [
    "tbill_hourly_rate.iloc[-1].values[0]"
   ]
  },
  {
   "cell_type": "code",
   "execution_count": 215,
   "metadata": {},
   "outputs": [
    {
     "data": {
      "text/plain": [
       "{'arbitrum_classifier Portfolio Value': 0.0008541694163857725,\n",
       " 'WBTC_Price': -0.0009814958048609062,\n",
       " 'UNI_Price': -0.0016181889271485715,\n",
       " 'LINK_Price': 0.00097095388436069,\n",
       " 'CRV_Price': 0.0012391260721093848,\n",
       " 'DPI_Price': 0.0011680622662884393}"
      ]
     },
     "execution_count": 215,
     "metadata": {},
     "output_type": "execute_result"
    }
   ],
   "source": [
    "returns"
   ]
  },
  {
   "cell_type": "code",
   "execution_count": 213,
   "metadata": {},
   "outputs": [
    {
     "data": {
      "text/plain": [
       "{'arbitrum_classifier Portfolio Value': 0.6388856943518529,\n",
       " 'WBTC_Price': 0.20920522346125556,\n",
       " 'UNI_Price': 0.7071346360423548,\n",
       " 'LINK_Price': 0.6390345339415766,\n",
       " 'CRV_Price': 0.7059097159277392}"
      ]
     },
     "execution_count": 213,
     "metadata": {},
     "output_type": "execute_result"
    }
   ],
   "source": [
    "betas"
   ]
  },
  {
   "cell_type": "code",
   "execution_count": 209,
   "metadata": {},
   "outputs": [],
   "source": [
    "fig = create_interactive_sml(\n",
    "                tbill_hourly_rate.iloc[-1].values[0],\n",
    "                cumulative_risk_premium,\n",
    "                betas,\n",
    "                returns\n",
    "    )"
   ]
  },
  {
   "cell_type": "code",
   "execution_count": 210,
   "metadata": {},
   "outputs": [
    {
     "data": {
      "application/vnd.plotly.v1+json": {
       "config": {
        "plotlyServerURL": "https://plot.ly"
       },
       "data": [
        {
         "line": {
          "color": "black"
         },
         "mode": "lines",
         "name": "SML",
         "type": "scatter",
         "x": [
          0,
          0.007857051511581722,
          0.015714103023163443,
          0.023571154534745165,
          0.03142820604632689,
          0.03928525755790861,
          0.04714230906949033,
          0.05499936058107205,
          0.06285641209265377,
          0.0707134636042355,
          0.07857051511581722,
          0.08642756662739894,
          0.09428461813898066,
          0.10214166965056239,
          0.1099987211621441,
          0.11785577267372582,
          0.12571282418530755,
          0.13356987569688927,
          0.141426927208471,
          0.14928397872005272,
          0.15714103023163445,
          0.16499808174321615,
          0.17285513325479787,
          0.1807121847663796,
          0.18856923627796132,
          0.19642628778954305,
          0.20428333930112477,
          0.2121403908127065,
          0.2199974423242882,
          0.22785449383586992,
          0.23571154534745165,
          0.24356859685903337,
          0.2514256483706151,
          0.2592826998821968,
          0.26713975139377855,
          0.27499680290536027,
          0.282853854416942,
          0.2907109059285237,
          0.29856795744010545,
          0.30642500895168717,
          0.3142820604632689,
          0.32213911197485057,
          0.3299961634864323,
          0.337853214998014,
          0.34571026650959574,
          0.35356731802117747,
          0.3614243695327592,
          0.3692814210443409,
          0.37713847255592264,
          0.38499552406750437,
          0.3928525755790861,
          0.4007096270906678,
          0.40856667860224954,
          0.41642373011383127,
          0.424280781625413,
          0.4321378331369947,
          0.4399948846485764,
          0.4478519361601581,
          0.45570898767173984,
          0.46356603918332157,
          0.4714230906949033,
          0.479280142206485,
          0.48713719371806674,
          0.49499424522964847,
          0.5028512967412302,
          0.5107083482528119,
          0.5185653997643936,
          0.5264224512759753,
          0.5342795027875571,
          0.5421365542991388,
          0.5499936058107205,
          0.5578506573223022,
          0.565707708833884,
          0.5735647603454657,
          0.5814218118570474,
          0.5892788633686291,
          0.5971359148802109,
          0.6049929663917926,
          0.6128500179033743,
          0.620707069414956,
          0.6285641209265378,
          0.6364211724381195,
          0.6442782239497011,
          0.6521352754612829,
          0.6599923269728646,
          0.6678493784844464,
          0.675706429996028,
          0.6835634815076098,
          0.6914205330191915,
          0.6992775845307733,
          0.7071346360423549,
          0.7149916875539367,
          0.7228487390655184,
          0.7307057905771002,
          0.7385628420886818,
          0.7464198936002636,
          0.7542769451118453,
          0.762133996623427,
          0.7699910481350087,
          0.7778480996465904
         ],
         "y": [
          0.000493734574957827,
          0.0014076078164656498,
          0.0023214810579734726,
          0.003235354299481295,
          0.004149227540989118,
          0.0050631007824969414,
          0.005976974024004764,
          0.006890847265512586,
          0.007804720507020409,
          0.008718593748528233,
          0.009632466990036056,
          0.010546340231543877,
          0.0114602134730517,
          0.012374086714559524,
          0.013287959956067345,
          0.014201833197575169,
          0.015115706439082992,
          0.016029579680590815,
          0.016943452922098638,
          0.01785732616360646,
          0.018771199405114285,
          0.019685072646622104,
          0.020598945888129928,
          0.02151281912963775,
          0.022426692371145574,
          0.023340565612653397,
          0.02425443885416122,
          0.025168312095669047,
          0.026082185337176864,
          0.02699605857868469,
          0.02790993182019251,
          0.028823805061700333,
          0.029737678303208157,
          0.030651551544715983,
          0.0315654247862238,
          0.032479298027731626,
          0.03339317126923945,
          0.03430704451074727,
          0.035220917752255096,
          0.03613479099376292,
          0.03704866423527074,
          0.03796253747677856,
          0.03887641071828638,
          0.039790283959794205,
          0.04070415720130203,
          0.04161803044280985,
          0.042531903684317675,
          0.0434457769258255,
          0.04435965016733332,
          0.045273523408841145,
          0.04618739665034897,
          0.04710126989185679,
          0.048015143133364614,
          0.04892901637487244,
          0.04984288961638027,
          0.05075676285788809,
          0.0516706360993959,
          0.05258450934090373,
          0.053498382582411554,
          0.05441225582391936,
          0.05532612906542719,
          0.056240002306935016,
          0.05715387554844284,
          0.05806774878995066,
          0.058981622031458486,
          0.0598954952729663,
          0.06080936851447414,
          0.06172324175598195,
          0.06263711499748978,
          0.0635509882389976,
          0.06446486148050543,
          0.06537873472201323,
          0.06629260796352107,
          0.06720648120502888,
          0.06812035444653672,
          0.06903422768804454,
          0.06994810092955236,
          0.07086197417106019,
          0.07177584741256801,
          0.07268972065407582,
          0.07360359389558366,
          0.07451746713709147,
          0.07543134037859929,
          0.07634521362010713,
          0.07725908686161494,
          0.07817296010312277,
          0.07908683334463058,
          0.0800007065861384,
          0.08091457982764623,
          0.08182845306915405,
          0.08274232631066188,
          0.08365619955216971,
          0.08457007279367752,
          0.08548394603518536,
          0.08639781927669317,
          0.08731169251820099,
          0.08822556575970882,
          0.08913943900121664,
          0.09005331224272446,
          0.09096718548423229
         ]
        },
        {
         "marker": {
          "color": "#16537e",
          "size": 10
         },
         "mode": "markers",
         "name": "arbitrum_classifier Portfolio Value Expected (0.07%)",
         "type": "scatter",
         "x": [
          0.6388856943518529
         ],
         "y": [
          0.07480412182259923
         ]
        },
        {
         "marker": {
          "color": "#289bea",
          "size": 10
         },
         "mode": "markers",
         "name": "arbitrum_classifier Portfolio Value Actual (0.09%)",
         "type": "scatter",
         "x": [
          0.6388856943518529
         ],
         "y": [
          0.08541694163857726
         ]
        },
        {
         "marker": {
          "color": "#b2590a",
          "size": 10
         },
         "mode": "markers",
         "name": "WBTC_Price Expected (0.02%)",
         "type": "scatter",
         "x": [
          0.20920522346125556
         ],
         "y": [
          0.024826915466426583
         ]
        },
        {
         "marker": {
          "color": "#ffa512",
          "size": 10
         },
         "mode": "markers",
         "name": "WBTC_Price Actual (-0.10%)",
         "type": "scatter",
         "x": [
          0.20920522346125556
         ],
         "y": [
          -0.09814958048609063
         ]
        },
        {
         "marker": {
          "color": "#1f701f",
          "size": 10
         },
         "mode": "markers",
         "name": "UNI_Price Expected (0.08%)",
         "type": "scatter",
         "x": [
          0.7071346360423548
         ],
         "y": [
          0.08274232631066186
         ]
        },
        {
         "marker": {
          "color": "#39d039",
          "size": 10
         },
         "mode": "markers",
         "name": "UNI_Price Actual (-0.16%)",
         "type": "scatter",
         "x": [
          0.7071346360423548
         ],
         "y": [
          -0.16181889271485714
         ]
        },
        {
         "marker": {
          "color": "#961b1c",
          "size": 10
         },
         "mode": "markers",
         "name": "LINK_Price Expected (0.07%)",
         "type": "scatter",
         "x": [
          0.6390345339415766
         ],
         "y": [
          0.07482143372619626
         ]
        },
        {
         "marker": {
          "color": "#ff3334",
          "size": 10
         },
         "mode": "markers",
         "name": "LINK_Price Actual (0.10%)",
         "type": "scatter",
         "x": [
          0.6390345339415766
         ],
         "y": [
          0.097095388436069
         ]
        },
        {
         "marker": {
          "color": "#684884",
          "size": 10
         },
         "mode": "markers",
         "name": "CRV_Price Expected (0.08%)",
         "type": "scatter",
         "x": [
          0.7059097159277392
         ],
         "y": [
          0.082599852799564
         ]
        },
        {
         "marker": {
          "color": "#c086f6",
          "size": 10
         },
         "mode": "markers",
         "name": "CRV_Price Actual (0.12%)",
         "type": "scatter",
         "x": [
          0.7059097159277392
         ],
         "y": [
          0.12391260721093848
         ]
        },
        {
         "line": {
          "color": "green",
          "dash": "dash"
         },
         "mode": "lines",
         "name": "Risk-Free Rate",
         "type": "scatter",
         "x": [
          0,
          0.7778480996465904
         ],
         "y": [
          0.000493734574957827,
          0.000493734574957827
         ]
        }
       ],
       "layout": {
        "font": {
         "color": "black",
         "size": 18
        },
        "paper_bgcolor": "rgba(0,0,0,0)",
        "plot_bgcolor": "rgba(0,0,0,0)",
        "showlegend": true,
        "template": {
         "data": {
          "bar": [
           {
            "error_x": {
             "color": "#2a3f5f"
            },
            "error_y": {
             "color": "#2a3f5f"
            },
            "marker": {
             "line": {
              "color": "#E5ECF6",
              "width": 0.5
             },
             "pattern": {
              "fillmode": "overlay",
              "size": 10,
              "solidity": 0.2
             }
            },
            "type": "bar"
           }
          ],
          "barpolar": [
           {
            "marker": {
             "line": {
              "color": "#E5ECF6",
              "width": 0.5
             },
             "pattern": {
              "fillmode": "overlay",
              "size": 10,
              "solidity": 0.2
             }
            },
            "type": "barpolar"
           }
          ],
          "carpet": [
           {
            "aaxis": {
             "endlinecolor": "#2a3f5f",
             "gridcolor": "white",
             "linecolor": "white",
             "minorgridcolor": "white",
             "startlinecolor": "#2a3f5f"
            },
            "baxis": {
             "endlinecolor": "#2a3f5f",
             "gridcolor": "white",
             "linecolor": "white",
             "minorgridcolor": "white",
             "startlinecolor": "#2a3f5f"
            },
            "type": "carpet"
           }
          ],
          "choropleth": [
           {
            "colorbar": {
             "outlinewidth": 0,
             "ticks": ""
            },
            "type": "choropleth"
           }
          ],
          "contour": [
           {
            "colorbar": {
             "outlinewidth": 0,
             "ticks": ""
            },
            "colorscale": [
             [
              0,
              "#0d0887"
             ],
             [
              0.1111111111111111,
              "#46039f"
             ],
             [
              0.2222222222222222,
              "#7201a8"
             ],
             [
              0.3333333333333333,
              "#9c179e"
             ],
             [
              0.4444444444444444,
              "#bd3786"
             ],
             [
              0.5555555555555556,
              "#d8576b"
             ],
             [
              0.6666666666666666,
              "#ed7953"
             ],
             [
              0.7777777777777778,
              "#fb9f3a"
             ],
             [
              0.8888888888888888,
              "#fdca26"
             ],
             [
              1,
              "#f0f921"
             ]
            ],
            "type": "contour"
           }
          ],
          "contourcarpet": [
           {
            "colorbar": {
             "outlinewidth": 0,
             "ticks": ""
            },
            "type": "contourcarpet"
           }
          ],
          "heatmap": [
           {
            "colorbar": {
             "outlinewidth": 0,
             "ticks": ""
            },
            "colorscale": [
             [
              0,
              "#0d0887"
             ],
             [
              0.1111111111111111,
              "#46039f"
             ],
             [
              0.2222222222222222,
              "#7201a8"
             ],
             [
              0.3333333333333333,
              "#9c179e"
             ],
             [
              0.4444444444444444,
              "#bd3786"
             ],
             [
              0.5555555555555556,
              "#d8576b"
             ],
             [
              0.6666666666666666,
              "#ed7953"
             ],
             [
              0.7777777777777778,
              "#fb9f3a"
             ],
             [
              0.8888888888888888,
              "#fdca26"
             ],
             [
              1,
              "#f0f921"
             ]
            ],
            "type": "heatmap"
           }
          ],
          "heatmapgl": [
           {
            "colorbar": {
             "outlinewidth": 0,
             "ticks": ""
            },
            "colorscale": [
             [
              0,
              "#0d0887"
             ],
             [
              0.1111111111111111,
              "#46039f"
             ],
             [
              0.2222222222222222,
              "#7201a8"
             ],
             [
              0.3333333333333333,
              "#9c179e"
             ],
             [
              0.4444444444444444,
              "#bd3786"
             ],
             [
              0.5555555555555556,
              "#d8576b"
             ],
             [
              0.6666666666666666,
              "#ed7953"
             ],
             [
              0.7777777777777778,
              "#fb9f3a"
             ],
             [
              0.8888888888888888,
              "#fdca26"
             ],
             [
              1,
              "#f0f921"
             ]
            ],
            "type": "heatmapgl"
           }
          ],
          "histogram": [
           {
            "marker": {
             "pattern": {
              "fillmode": "overlay",
              "size": 10,
              "solidity": 0.2
             }
            },
            "type": "histogram"
           }
          ],
          "histogram2d": [
           {
            "colorbar": {
             "outlinewidth": 0,
             "ticks": ""
            },
            "colorscale": [
             [
              0,
              "#0d0887"
             ],
             [
              0.1111111111111111,
              "#46039f"
             ],
             [
              0.2222222222222222,
              "#7201a8"
             ],
             [
              0.3333333333333333,
              "#9c179e"
             ],
             [
              0.4444444444444444,
              "#bd3786"
             ],
             [
              0.5555555555555556,
              "#d8576b"
             ],
             [
              0.6666666666666666,
              "#ed7953"
             ],
             [
              0.7777777777777778,
              "#fb9f3a"
             ],
             [
              0.8888888888888888,
              "#fdca26"
             ],
             [
              1,
              "#f0f921"
             ]
            ],
            "type": "histogram2d"
           }
          ],
          "histogram2dcontour": [
           {
            "colorbar": {
             "outlinewidth": 0,
             "ticks": ""
            },
            "colorscale": [
             [
              0,
              "#0d0887"
             ],
             [
              0.1111111111111111,
              "#46039f"
             ],
             [
              0.2222222222222222,
              "#7201a8"
             ],
             [
              0.3333333333333333,
              "#9c179e"
             ],
             [
              0.4444444444444444,
              "#bd3786"
             ],
             [
              0.5555555555555556,
              "#d8576b"
             ],
             [
              0.6666666666666666,
              "#ed7953"
             ],
             [
              0.7777777777777778,
              "#fb9f3a"
             ],
             [
              0.8888888888888888,
              "#fdca26"
             ],
             [
              1,
              "#f0f921"
             ]
            ],
            "type": "histogram2dcontour"
           }
          ],
          "mesh3d": [
           {
            "colorbar": {
             "outlinewidth": 0,
             "ticks": ""
            },
            "type": "mesh3d"
           }
          ],
          "parcoords": [
           {
            "line": {
             "colorbar": {
              "outlinewidth": 0,
              "ticks": ""
             }
            },
            "type": "parcoords"
           }
          ],
          "pie": [
           {
            "automargin": true,
            "type": "pie"
           }
          ],
          "scatter": [
           {
            "fillpattern": {
             "fillmode": "overlay",
             "size": 10,
             "solidity": 0.2
            },
            "type": "scatter"
           }
          ],
          "scatter3d": [
           {
            "line": {
             "colorbar": {
              "outlinewidth": 0,
              "ticks": ""
             }
            },
            "marker": {
             "colorbar": {
              "outlinewidth": 0,
              "ticks": ""
             }
            },
            "type": "scatter3d"
           }
          ],
          "scattercarpet": [
           {
            "marker": {
             "colorbar": {
              "outlinewidth": 0,
              "ticks": ""
             }
            },
            "type": "scattercarpet"
           }
          ],
          "scattergeo": [
           {
            "marker": {
             "colorbar": {
              "outlinewidth": 0,
              "ticks": ""
             }
            },
            "type": "scattergeo"
           }
          ],
          "scattergl": [
           {
            "marker": {
             "colorbar": {
              "outlinewidth": 0,
              "ticks": ""
             }
            },
            "type": "scattergl"
           }
          ],
          "scattermapbox": [
           {
            "marker": {
             "colorbar": {
              "outlinewidth": 0,
              "ticks": ""
             }
            },
            "type": "scattermapbox"
           }
          ],
          "scatterpolar": [
           {
            "marker": {
             "colorbar": {
              "outlinewidth": 0,
              "ticks": ""
             }
            },
            "type": "scatterpolar"
           }
          ],
          "scatterpolargl": [
           {
            "marker": {
             "colorbar": {
              "outlinewidth": 0,
              "ticks": ""
             }
            },
            "type": "scatterpolargl"
           }
          ],
          "scatterternary": [
           {
            "marker": {
             "colorbar": {
              "outlinewidth": 0,
              "ticks": ""
             }
            },
            "type": "scatterternary"
           }
          ],
          "surface": [
           {
            "colorbar": {
             "outlinewidth": 0,
             "ticks": ""
            },
            "colorscale": [
             [
              0,
              "#0d0887"
             ],
             [
              0.1111111111111111,
              "#46039f"
             ],
             [
              0.2222222222222222,
              "#7201a8"
             ],
             [
              0.3333333333333333,
              "#9c179e"
             ],
             [
              0.4444444444444444,
              "#bd3786"
             ],
             [
              0.5555555555555556,
              "#d8576b"
             ],
             [
              0.6666666666666666,
              "#ed7953"
             ],
             [
              0.7777777777777778,
              "#fb9f3a"
             ],
             [
              0.8888888888888888,
              "#fdca26"
             ],
             [
              1,
              "#f0f921"
             ]
            ],
            "type": "surface"
           }
          ],
          "table": [
           {
            "cells": {
             "fill": {
              "color": "#EBF0F8"
             },
             "line": {
              "color": "white"
             }
            },
            "header": {
             "fill": {
              "color": "#C8D4E3"
             },
             "line": {
              "color": "white"
             }
            },
            "type": "table"
           }
          ]
         },
         "layout": {
          "annotationdefaults": {
           "arrowcolor": "#2a3f5f",
           "arrowhead": 0,
           "arrowwidth": 1
          },
          "autotypenumbers": "strict",
          "coloraxis": {
           "colorbar": {
            "outlinewidth": 0,
            "ticks": ""
           }
          },
          "colorscale": {
           "diverging": [
            [
             0,
             "#8e0152"
            ],
            [
             0.1,
             "#c51b7d"
            ],
            [
             0.2,
             "#de77ae"
            ],
            [
             0.3,
             "#f1b6da"
            ],
            [
             0.4,
             "#fde0ef"
            ],
            [
             0.5,
             "#f7f7f7"
            ],
            [
             0.6,
             "#e6f5d0"
            ],
            [
             0.7,
             "#b8e186"
            ],
            [
             0.8,
             "#7fbc41"
            ],
            [
             0.9,
             "#4d9221"
            ],
            [
             1,
             "#276419"
            ]
           ],
           "sequential": [
            [
             0,
             "#0d0887"
            ],
            [
             0.1111111111111111,
             "#46039f"
            ],
            [
             0.2222222222222222,
             "#7201a8"
            ],
            [
             0.3333333333333333,
             "#9c179e"
            ],
            [
             0.4444444444444444,
             "#bd3786"
            ],
            [
             0.5555555555555556,
             "#d8576b"
            ],
            [
             0.6666666666666666,
             "#ed7953"
            ],
            [
             0.7777777777777778,
             "#fb9f3a"
            ],
            [
             0.8888888888888888,
             "#fdca26"
            ],
            [
             1,
             "#f0f921"
            ]
           ],
           "sequentialminus": [
            [
             0,
             "#0d0887"
            ],
            [
             0.1111111111111111,
             "#46039f"
            ],
            [
             0.2222222222222222,
             "#7201a8"
            ],
            [
             0.3333333333333333,
             "#9c179e"
            ],
            [
             0.4444444444444444,
             "#bd3786"
            ],
            [
             0.5555555555555556,
             "#d8576b"
            ],
            [
             0.6666666666666666,
             "#ed7953"
            ],
            [
             0.7777777777777778,
             "#fb9f3a"
            ],
            [
             0.8888888888888888,
             "#fdca26"
            ],
            [
             1,
             "#f0f921"
            ]
           ]
          },
          "colorway": [
           "#636efa",
           "#EF553B",
           "#00cc96",
           "#ab63fa",
           "#FFA15A",
           "#19d3f3",
           "#FF6692",
           "#B6E880",
           "#FF97FF",
           "#FECB52"
          ],
          "font": {
           "color": "#2a3f5f",
           "family": "Cardo"
          },
          "geo": {
           "bgcolor": "white",
           "lakecolor": "white",
           "landcolor": "#E5ECF6",
           "showlakes": true,
           "showland": true,
           "subunitcolor": "white"
          },
          "hoverlabel": {
           "align": "left"
          },
          "hovermode": "closest",
          "mapbox": {
           "style": "light"
          },
          "paper_bgcolor": "white",
          "plot_bgcolor": "#E5ECF6",
          "polar": {
           "angularaxis": {
            "gridcolor": "white",
            "linecolor": "white",
            "ticks": ""
           },
           "bgcolor": "#E5ECF6",
           "radialaxis": {
            "gridcolor": "white",
            "linecolor": "white",
            "ticks": ""
           }
          },
          "scene": {
           "xaxis": {
            "backgroundcolor": "#E5ECF6",
            "gridcolor": "white",
            "gridwidth": 2,
            "linecolor": "white",
            "showbackground": true,
            "ticks": "",
            "zerolinecolor": "white"
           },
           "yaxis": {
            "backgroundcolor": "#E5ECF6",
            "gridcolor": "white",
            "gridwidth": 2,
            "linecolor": "white",
            "showbackground": true,
            "ticks": "",
            "zerolinecolor": "white"
           },
           "zaxis": {
            "backgroundcolor": "#E5ECF6",
            "gridcolor": "white",
            "gridwidth": 2,
            "linecolor": "white",
            "showbackground": true,
            "ticks": "",
            "zerolinecolor": "white"
           }
          },
          "shapedefaults": {
           "line": {
            "color": "#2a3f5f"
           }
          },
          "ternary": {
           "aaxis": {
            "gridcolor": "white",
            "linecolor": "white",
            "ticks": ""
           },
           "baxis": {
            "gridcolor": "white",
            "linecolor": "white",
            "ticks": ""
           },
           "bgcolor": "#E5ECF6",
           "caxis": {
            "gridcolor": "white",
            "linecolor": "white",
            "ticks": ""
           }
          },
          "title": {
           "x": 0.05
          },
          "xaxis": {
           "automargin": true,
           "gridcolor": "white",
           "linecolor": "white",
           "ticks": "",
           "title": {
            "standoff": 15
           },
           "zerolinecolor": "white",
           "zerolinewidth": 2
          },
          "yaxis": {
           "automargin": true,
           "gridcolor": "white",
           "linecolor": "white",
           "ticks": "",
           "title": {
            "standoff": 15
           },
           "zerolinecolor": "white",
           "zerolinewidth": 2
          }
         }
        },
        "title": {
         "text": "Security Market Line"
        },
        "xaxis": {
         "title": {
          "text": "Beta (Systematic Risk)"
         }
        },
        "yaxis": {
         "ticksuffix": "%",
         "title": {
          "text": "Return"
         }
        }
       }
      }
     },
     "metadata": {},
     "output_type": "display_data"
    }
   ],
   "source": [
    "fig.show()"
   ]
  },
  {
   "cell_type": "code",
   "execution_count": 43,
   "metadata": {},
   "outputs": [],
   "source": [
    "target = pd.read_csv('data/new_compositions.csv')"
   ]
  },
  {
   "cell_type": "code",
   "execution_count": 44,
   "metadata": {},
   "outputs": [],
   "source": [
    "target.drop(columns='Unnamed: 0',inplace=True)"
   ]
  },
  {
   "cell_type": "code",
   "execution_count": 45,
   "metadata": {},
   "outputs": [
    {
     "data": {
      "text/html": [
       "<div>\n",
       "<style scoped>\n",
       "    .dataframe tbody tr th:only-of-type {\n",
       "        vertical-align: middle;\n",
       "    }\n",
       "\n",
       "    .dataframe tbody tr th {\n",
       "        vertical-align: top;\n",
       "    }\n",
       "\n",
       "    .dataframe thead th {\n",
       "        text-align: right;\n",
       "    }\n",
       "</style>\n",
       "<table border=\"1\" class=\"dataframe\">\n",
       "  <thead>\n",
       "    <tr style=\"text-align: right;\">\n",
       "      <th></th>\n",
       "      <th>token</th>\n",
       "      <th>composition</th>\n",
       "    </tr>\n",
       "  </thead>\n",
       "  <tbody>\n",
       "    <tr>\n",
       "      <th>0</th>\n",
       "      <td>CRV</td>\n",
       "      <td>0.000000</td>\n",
       "    </tr>\n",
       "    <tr>\n",
       "      <th>1</th>\n",
       "      <td>LINK</td>\n",
       "      <td>0.940936</td>\n",
       "    </tr>\n",
       "    <tr>\n",
       "      <th>2</th>\n",
       "      <td>UNI</td>\n",
       "      <td>0.059064</td>\n",
       "    </tr>\n",
       "    <tr>\n",
       "      <th>3</th>\n",
       "      <td>WBTC</td>\n",
       "      <td>0.000000</td>\n",
       "    </tr>\n",
       "  </tbody>\n",
       "</table>\n",
       "</div>"
      ],
      "text/plain": [
       "  token  composition\n",
       "0   CRV     0.000000\n",
       "1  LINK     0.940936\n",
       "2   UNI     0.059064\n",
       "3  WBTC     0.000000"
      ]
     },
     "execution_count": 45,
     "metadata": {},
     "output_type": "execute_result"
    }
   ],
   "source": [
    "reshaped_df = target.melt(\n",
    "    var_name=\"token\",        # Name of the new column for tokens\n",
    "    value_name=\"composition\" # Name of the new column for compositions\n",
    ")\n",
    "\n",
    "reshaped_df"
   ]
  },
  {
   "cell_type": "code",
   "execution_count": 46,
   "metadata": {},
   "outputs": [
    {
     "name": "stdout",
     "output_type": "stream",
     "text": [
      "Initialized axes_data: {'y1': 'All', 'y2': []}\n",
      "tick0: min\n",
      "turn_to_time: False\n",
      "df sort order at init: ['CRV' 'LINK' 'UNI' 'WBTC']\n"
     ]
    }
   ],
   "source": [
    "model_fig6 = visualization_pipeline(\n",
    "            df=reshaped_df,\n",
    "            groupby='token',\n",
    "            num_col='composition',\n",
    "            title='viz_port_values',\n",
    "            chart_type='pie',\n",
    "            show_legend=False,\n",
    "            sort_list = False,\n",
    "            line_width=0,\n",
    "            legend_placement=dict(x=0.1,y=1.3),\n",
    "            margin=dict(t=150,b=0,l=0,r=0),\n",
    "            annotation_prefix='$',\n",
    "            annotations=False,\n",
    "        )\n",
    "\n"
   ]
  },
  {
   "cell_type": "code",
   "execution_count": 47,
   "metadata": {},
   "outputs": [
    {
     "name": "stdout",
     "output_type": "stream",
     "text": [
      "save:False\n",
      "logo path: ../img/Logos/None\n",
      "Generating pie chart...\n",
      "self.textinfo: percent+label\n",
      "original_labels: ['CRV' 'LINK' 'UNI' 'WBTC']\n",
      "df_copy:        composition\n",
      "token             \n",
      "CRV       0.000000\n",
      "LINK      0.940936\n",
      "UNI       0.059064\n",
      "WBTC      0.000000\n",
      "percent+label, ['LINK    ', 'UNI    ', 'CRV    ']\n",
      "textinfo: percent+label\n",
      "Columns: Index(['composition', 'token'], dtype='object') \n",
      "Index: RangeIndex(start=0, stop=4, step=1)\n"
     ]
    }
   ],
   "source": [
    "chartBuilder(\n",
    "    fig=model_fig6,\n",
    "    title='Target Composition',\n",
    "    dt_index=False,\n",
    "    add_the_date=False,\n",
    "    show=False,\n",
    "    save=False\n",
    ")"
   ]
  },
  {
   "cell_type": "code",
   "execution_count": 48,
   "metadata": {},
   "outputs": [],
   "source": [
    "from diskcache import Cache\n"
   ]
  },
  {
   "cell_type": "code",
   "execution_count": 49,
   "metadata": {},
   "outputs": [],
   "source": [
    "model_name = 'arbitrum_classifier'"
   ]
  },
  {
   "cell_type": "code",
   "execution_count": 50,
   "metadata": {},
   "outputs": [],
   "source": [
    "model_cache = Cache('test_model_cache')\n",
    "\n",
    "classifier_data = model_cache.get(f'{model_name} Classifier')"
   ]
  },
  {
   "cell_type": "code",
   "execution_count": 51,
   "metadata": {},
   "outputs": [
    {
     "data": {
      "text/plain": [
       "array(['0x11cdb42b0eb46d95f990bedd4695a6e3fa034978',\n",
       "       '0xf97f4df75117a78c1a5a0dbb814af92458539fb4',\n",
       "       '0xfa7f8980b0f1e64a2062791cc3b0871572f1f7f0',\n",
       "       '0x2f2a2543b76a4166549f7aab2e75bef0aefc5b0f'], dtype=object)"
      ]
     },
     "execution_count": 51,
     "metadata": {},
     "output_type": "execute_result"
    }
   ],
   "source": [
    "portfolio = classifier_data['token_address'].unique()\n",
    "portfolio"
   ]
  },
  {
   "cell_type": "code",
   "execution_count": 52,
   "metadata": {},
   "outputs": [
    {
     "name": "stdout",
     "output_type": "stream",
     "text": [
      "prices_start: 2024-12-20 00:00:00\n"
     ]
    }
   ],
   "source": [
    "start_date = '2024-12-20 00:00:00'\n",
    "\n",
    "print(f'prices_start: {start_date}')\n",
    "\n"
   ]
  },
  {
   "cell_type": "code",
   "execution_count": 77,
   "metadata": {},
   "outputs": [
    {
     "data": {
      "text/plain": [
       "'0x75baD5ae9f46e8AEBf61e4A7179cEf3A0CeD6766'"
      ]
     },
     "execution_count": 77,
     "metadata": {},
     "output_type": "execute_result"
    }
   ],
   "source": [
    "ACCOUNT_ADDRESS = os.getenv('MODEL_ADDRESS')\n",
    "ACCOUNT_ADDRESS"
   ]
  },
  {
   "cell_type": "code",
   "execution_count": 78,
   "metadata": {},
   "outputs": [],
   "source": [
    "flows_data = model_flows(portfolio,ACCOUNT_ADDRESS,'arbitrum')"
   ]
  },
  {
   "cell_type": "code",
   "execution_count": 54,
   "metadata": {},
   "outputs": [
    {
     "name": "stdout",
     "output_type": "stream",
     "text": [
      "Query not completed. Retrying in 30 seconds...\n"
     ]
    }
   ],
   "source": [
    "flows_data_df = flipside_api_results(flows_data,flipside_api_key)\n",
    "flows_data_df.set_index('dt',inplace=True)\n",
    "flows_data_df.index = pd.to_datetime(flows_data_df.index).strftime('%Y-%m-%d')\n",
    "daily_flows = flows_data_df.groupby([flows_data_df.index,'symbol','transaction_type'])[['amount_usd']].sum().reset_index().set_index('dt')\n",
    "daily_flows.index = pd.to_datetime(daily_flows.index)"
   ]
  },
  {
   "cell_type": "code",
   "execution_count": 74,
   "metadata": {},
   "outputs": [
    {
     "name": "stdout",
     "output_type": "stream",
     "text": [
      "Initialized axes_data: {'y1': 'All', 'y2': []}\n",
      "tick0: 2024-12-17 00:00:00\n",
      "turn_to_time: True\n",
      "df sort order at init: ['LINK' 'UNI']\n"
     ]
    }
   ],
   "source": [
    "flows_fig_1 = visualization_pipeline(\n",
    "    df=daily_flows,\n",
    "    title='flows_data_df_1',\n",
    "    chart_type='bar',\n",
    "    groupby='symbol',\n",
    "    num_col='amount_usd',\n",
    "    barmode='relative',\n",
    "    show_legend=True,\n",
    "    tickprefix=dict(y1='$',y2=None),\n",
    "    buffer=1,\n",
    "    legend_placement=dict(x=0.1,y=0.8)\n",
    ")"
   ]
  },
  {
   "cell_type": "code",
   "execution_count": 75,
   "metadata": {},
   "outputs": [
    {
     "name": "stdout",
     "output_type": "stream",
     "text": [
      "save:False\n",
      "logo path: ../img/Logos/None\n",
      "Generating bar plot...\n",
      "GroupBy Col: symbol\n",
      "legend_orientation: v\n",
      "cumulative_sort: False\n",
      "sorted_bar_legend_orientation: v\n",
      "x_range_start:2024-12-16 00:00:00\n",
      "df @ rank_by_col:             amount_usd symbol\n",
      "dt                           \n",
      "2024-12-17  198.732670   LINK\n",
      "2024-12-19  871.820572   LINK\n",
      "2024-12-19   99.896439    UNI\n",
      "2024-12-21  100.114082   LINK\n",
      "2024-12-21   27.456997    UNI\n",
      "df columns: Index(['amount_usd', 'symbol'], dtype='object')\n",
      "sort_col: symbol\n",
      "sort_list: ['LINK', 'UNI']\n",
      "df[sort_col]:\n",
      "['LINK' 'UNI']\n",
      "Missing values in sort_list: set()\n",
      "i_df:            amount_usd symbol\n",
      "dt                           \n",
      "2024-12-17  198.732670   LINK\n",
      "2024-12-19  871.820572   LINK\n",
      "2024-12-21  100.114082   LINK\n",
      "col:amount_usd\n",
      "text font size: 14\n",
      "x:100.114081866\n",
      "i_df:            amount_usd symbol\n",
      "dt                           \n",
      "2024-12-19   99.896439    UNI\n",
      "2024-12-21   27.456997    UNI\n",
      "col:amount_usd\n",
      "text font size: 14\n",
      "x:27.456996962\n",
      "x_ticks:['2024-12-17', '2024-12-18', '2024-12-19', '2024-12-20', '2024-12-21']\n",
      "Columns: Index(['amount_usd', 'symbol'], dtype='object') \n",
      "Index: DatetimeIndex(['2024-12-17', '2024-12-19', '2024-12-19', '2024-12-21',\n",
      "               '2024-12-21'],\n",
      "              dtype='datetime64[ns]', name='dt', freq=None)\n"
     ]
    },
    {
     "name": "stderr",
     "output_type": "stream",
     "text": [
      "e:\\projects\\chart_builder_pkg\\chart_builder\\scripts\\utils.py:554: FutureWarning:\n",
      "\n",
      "The behavior of array concatenation with empty entries is deprecated. In a future version, this will no longer exclude empty items when determining the result dtype. To retain the old behavior, exclude the empty entries before the concat operation.\n",
      "\n"
     ]
    },
    {
     "data": {
      "application/vnd.plotly.v1+json": {
       "config": {
        "linkText": "Export to plot.ly",
        "plotlyServerURL": "https://plot.ly",
        "showLink": false
       },
       "data": [
        {
         "marker": {
          "color": "#2E91E5"
         },
         "name": "LINK ($100.1)",
         "orientation": "v",
         "showlegend": true,
         "text": "",
         "textfont": {
          "color": "black",
          "family": "Cardo",
          "size": 14
         },
         "textposition": "outside",
         "type": "bar",
         "x": [
          "2024-12-17T00:00:00",
          "2024-12-19T00:00:00",
          "2024-12-21T00:00:00"
         ],
         "xaxis": "x",
         "y": [
          198.732670322,
          871.820571507,
          100.114081866
         ],
         "yaxis": "y"
        },
        {
         "marker": {
          "color": "#E15F99"
         },
         "name": "UNI ($27.5)",
         "orientation": "v",
         "showlegend": true,
         "text": "",
         "textfont": {
          "color": "black",
          "family": "Cardo",
          "size": 14
         },
         "textposition": "outside",
         "type": "bar",
         "x": [
          "2024-12-19T00:00:00",
          "2024-12-21T00:00:00"
         ],
         "xaxis": "x",
         "y": [
          99.896438679,
          27.456996962
         ],
         "yaxis": "y"
        }
       ],
       "layout": {
        "autosize": true,
        "barmode": "relative",
        "font": {
         "color": "black",
         "family": "Cardo",
         "size": 18
        },
        "height": 400,
        "legend": {
         "bgcolor": "rgba(0,0,0,0)",
         "font": {
          "color": "black",
          "family": "Cardo",
          "size": 14
         },
         "orientation": "v",
         "traceorder": "normal",
         "x": 0.1,
         "xanchor": "left",
         "y": 0.8,
         "yanchor": "top"
        },
        "margin": {
         "b": 0,
         "l": 0,
         "r": 0,
         "t": 25
        },
        "paper_bgcolor": "rgba(0,0,0,0)",
        "plot_bgcolor": "rgba(0,0,0,0)",
        "template": {
         "data": {
          "bar": [
           {
            "error_x": {
             "color": "#2a3f5f"
            },
            "error_y": {
             "color": "#2a3f5f"
            },
            "marker": {
             "line": {
              "color": "#E5ECF6",
              "width": 0.5
             },
             "pattern": {
              "fillmode": "overlay",
              "size": 10,
              "solidity": 0.2
             }
            },
            "type": "bar"
           }
          ],
          "barpolar": [
           {
            "marker": {
             "line": {
              "color": "#E5ECF6",
              "width": 0.5
             },
             "pattern": {
              "fillmode": "overlay",
              "size": 10,
              "solidity": 0.2
             }
            },
            "type": "barpolar"
           }
          ],
          "carpet": [
           {
            "aaxis": {
             "endlinecolor": "#2a3f5f",
             "gridcolor": "white",
             "linecolor": "white",
             "minorgridcolor": "white",
             "startlinecolor": "#2a3f5f"
            },
            "baxis": {
             "endlinecolor": "#2a3f5f",
             "gridcolor": "white",
             "linecolor": "white",
             "minorgridcolor": "white",
             "startlinecolor": "#2a3f5f"
            },
            "type": "carpet"
           }
          ],
          "choropleth": [
           {
            "colorbar": {
             "outlinewidth": 0,
             "ticks": ""
            },
            "type": "choropleth"
           }
          ],
          "contour": [
           {
            "colorbar": {
             "outlinewidth": 0,
             "ticks": ""
            },
            "colorscale": [
             [
              0,
              "#0d0887"
             ],
             [
              0.1111111111111111,
              "#46039f"
             ],
             [
              0.2222222222222222,
              "#7201a8"
             ],
             [
              0.3333333333333333,
              "#9c179e"
             ],
             [
              0.4444444444444444,
              "#bd3786"
             ],
             [
              0.5555555555555556,
              "#d8576b"
             ],
             [
              0.6666666666666666,
              "#ed7953"
             ],
             [
              0.7777777777777778,
              "#fb9f3a"
             ],
             [
              0.8888888888888888,
              "#fdca26"
             ],
             [
              1,
              "#f0f921"
             ]
            ],
            "type": "contour"
           }
          ],
          "contourcarpet": [
           {
            "colorbar": {
             "outlinewidth": 0,
             "ticks": ""
            },
            "type": "contourcarpet"
           }
          ],
          "heatmap": [
           {
            "colorbar": {
             "outlinewidth": 0,
             "ticks": ""
            },
            "colorscale": [
             [
              0,
              "#0d0887"
             ],
             [
              0.1111111111111111,
              "#46039f"
             ],
             [
              0.2222222222222222,
              "#7201a8"
             ],
             [
              0.3333333333333333,
              "#9c179e"
             ],
             [
              0.4444444444444444,
              "#bd3786"
             ],
             [
              0.5555555555555556,
              "#d8576b"
             ],
             [
              0.6666666666666666,
              "#ed7953"
             ],
             [
              0.7777777777777778,
              "#fb9f3a"
             ],
             [
              0.8888888888888888,
              "#fdca26"
             ],
             [
              1,
              "#f0f921"
             ]
            ],
            "type": "heatmap"
           }
          ],
          "heatmapgl": [
           {
            "colorbar": {
             "outlinewidth": 0,
             "ticks": ""
            },
            "colorscale": [
             [
              0,
              "#0d0887"
             ],
             [
              0.1111111111111111,
              "#46039f"
             ],
             [
              0.2222222222222222,
              "#7201a8"
             ],
             [
              0.3333333333333333,
              "#9c179e"
             ],
             [
              0.4444444444444444,
              "#bd3786"
             ],
             [
              0.5555555555555556,
              "#d8576b"
             ],
             [
              0.6666666666666666,
              "#ed7953"
             ],
             [
              0.7777777777777778,
              "#fb9f3a"
             ],
             [
              0.8888888888888888,
              "#fdca26"
             ],
             [
              1,
              "#f0f921"
             ]
            ],
            "type": "heatmapgl"
           }
          ],
          "histogram": [
           {
            "marker": {
             "pattern": {
              "fillmode": "overlay",
              "size": 10,
              "solidity": 0.2
             }
            },
            "type": "histogram"
           }
          ],
          "histogram2d": [
           {
            "colorbar": {
             "outlinewidth": 0,
             "ticks": ""
            },
            "colorscale": [
             [
              0,
              "#0d0887"
             ],
             [
              0.1111111111111111,
              "#46039f"
             ],
             [
              0.2222222222222222,
              "#7201a8"
             ],
             [
              0.3333333333333333,
              "#9c179e"
             ],
             [
              0.4444444444444444,
              "#bd3786"
             ],
             [
              0.5555555555555556,
              "#d8576b"
             ],
             [
              0.6666666666666666,
              "#ed7953"
             ],
             [
              0.7777777777777778,
              "#fb9f3a"
             ],
             [
              0.8888888888888888,
              "#fdca26"
             ],
             [
              1,
              "#f0f921"
             ]
            ],
            "type": "histogram2d"
           }
          ],
          "histogram2dcontour": [
           {
            "colorbar": {
             "outlinewidth": 0,
             "ticks": ""
            },
            "colorscale": [
             [
              0,
              "#0d0887"
             ],
             [
              0.1111111111111111,
              "#46039f"
             ],
             [
              0.2222222222222222,
              "#7201a8"
             ],
             [
              0.3333333333333333,
              "#9c179e"
             ],
             [
              0.4444444444444444,
              "#bd3786"
             ],
             [
              0.5555555555555556,
              "#d8576b"
             ],
             [
              0.6666666666666666,
              "#ed7953"
             ],
             [
              0.7777777777777778,
              "#fb9f3a"
             ],
             [
              0.8888888888888888,
              "#fdca26"
             ],
             [
              1,
              "#f0f921"
             ]
            ],
            "type": "histogram2dcontour"
           }
          ],
          "mesh3d": [
           {
            "colorbar": {
             "outlinewidth": 0,
             "ticks": ""
            },
            "type": "mesh3d"
           }
          ],
          "parcoords": [
           {
            "line": {
             "colorbar": {
              "outlinewidth": 0,
              "ticks": ""
             }
            },
            "type": "parcoords"
           }
          ],
          "pie": [
           {
            "automargin": true,
            "type": "pie"
           }
          ],
          "scatter": [
           {
            "fillpattern": {
             "fillmode": "overlay",
             "size": 10,
             "solidity": 0.2
            },
            "type": "scatter"
           }
          ],
          "scatter3d": [
           {
            "line": {
             "colorbar": {
              "outlinewidth": 0,
              "ticks": ""
             }
            },
            "marker": {
             "colorbar": {
              "outlinewidth": 0,
              "ticks": ""
             }
            },
            "type": "scatter3d"
           }
          ],
          "scattercarpet": [
           {
            "marker": {
             "colorbar": {
              "outlinewidth": 0,
              "ticks": ""
             }
            },
            "type": "scattercarpet"
           }
          ],
          "scattergeo": [
           {
            "marker": {
             "colorbar": {
              "outlinewidth": 0,
              "ticks": ""
             }
            },
            "type": "scattergeo"
           }
          ],
          "scattergl": [
           {
            "marker": {
             "colorbar": {
              "outlinewidth": 0,
              "ticks": ""
             }
            },
            "type": "scattergl"
           }
          ],
          "scattermapbox": [
           {
            "marker": {
             "colorbar": {
              "outlinewidth": 0,
              "ticks": ""
             }
            },
            "type": "scattermapbox"
           }
          ],
          "scatterpolar": [
           {
            "marker": {
             "colorbar": {
              "outlinewidth": 0,
              "ticks": ""
             }
            },
            "type": "scatterpolar"
           }
          ],
          "scatterpolargl": [
           {
            "marker": {
             "colorbar": {
              "outlinewidth": 0,
              "ticks": ""
             }
            },
            "type": "scatterpolargl"
           }
          ],
          "scatterternary": [
           {
            "marker": {
             "colorbar": {
              "outlinewidth": 0,
              "ticks": ""
             }
            },
            "type": "scatterternary"
           }
          ],
          "surface": [
           {
            "colorbar": {
             "outlinewidth": 0,
             "ticks": ""
            },
            "colorscale": [
             [
              0,
              "#0d0887"
             ],
             [
              0.1111111111111111,
              "#46039f"
             ],
             [
              0.2222222222222222,
              "#7201a8"
             ],
             [
              0.3333333333333333,
              "#9c179e"
             ],
             [
              0.4444444444444444,
              "#bd3786"
             ],
             [
              0.5555555555555556,
              "#d8576b"
             ],
             [
              0.6666666666666666,
              "#ed7953"
             ],
             [
              0.7777777777777778,
              "#fb9f3a"
             ],
             [
              0.8888888888888888,
              "#fdca26"
             ],
             [
              1,
              "#f0f921"
             ]
            ],
            "type": "surface"
           }
          ],
          "table": [
           {
            "cells": {
             "fill": {
              "color": "#EBF0F8"
             },
             "line": {
              "color": "white"
             }
            },
            "header": {
             "fill": {
              "color": "#C8D4E3"
             },
             "line": {
              "color": "white"
             }
            },
            "type": "table"
           }
          ]
         },
         "layout": {
          "annotationdefaults": {
           "arrowcolor": "#2a3f5f",
           "arrowhead": 0,
           "arrowwidth": 1
          },
          "autotypenumbers": "strict",
          "coloraxis": {
           "colorbar": {
            "outlinewidth": 0,
            "ticks": ""
           }
          },
          "colorscale": {
           "diverging": [
            [
             0,
             "#8e0152"
            ],
            [
             0.1,
             "#c51b7d"
            ],
            [
             0.2,
             "#de77ae"
            ],
            [
             0.3,
             "#f1b6da"
            ],
            [
             0.4,
             "#fde0ef"
            ],
            [
             0.5,
             "#f7f7f7"
            ],
            [
             0.6,
             "#e6f5d0"
            ],
            [
             0.7,
             "#b8e186"
            ],
            [
             0.8,
             "#7fbc41"
            ],
            [
             0.9,
             "#4d9221"
            ],
            [
             1,
             "#276419"
            ]
           ],
           "sequential": [
            [
             0,
             "#0d0887"
            ],
            [
             0.1111111111111111,
             "#46039f"
            ],
            [
             0.2222222222222222,
             "#7201a8"
            ],
            [
             0.3333333333333333,
             "#9c179e"
            ],
            [
             0.4444444444444444,
             "#bd3786"
            ],
            [
             0.5555555555555556,
             "#d8576b"
            ],
            [
             0.6666666666666666,
             "#ed7953"
            ],
            [
             0.7777777777777778,
             "#fb9f3a"
            ],
            [
             0.8888888888888888,
             "#fdca26"
            ],
            [
             1,
             "#f0f921"
            ]
           ],
           "sequentialminus": [
            [
             0,
             "#0d0887"
            ],
            [
             0.1111111111111111,
             "#46039f"
            ],
            [
             0.2222222222222222,
             "#7201a8"
            ],
            [
             0.3333333333333333,
             "#9c179e"
            ],
            [
             0.4444444444444444,
             "#bd3786"
            ],
            [
             0.5555555555555556,
             "#d8576b"
            ],
            [
             0.6666666666666666,
             "#ed7953"
            ],
            [
             0.7777777777777778,
             "#fb9f3a"
            ],
            [
             0.8888888888888888,
             "#fdca26"
            ],
            [
             1,
             "#f0f921"
            ]
           ]
          },
          "colorway": [
           "#636efa",
           "#EF553B",
           "#00cc96",
           "#ab63fa",
           "#FFA15A",
           "#19d3f3",
           "#FF6692",
           "#B6E880",
           "#FF97FF",
           "#FECB52"
          ],
          "font": {
           "color": "#2a3f5f",
           "family": "Cardo"
          },
          "geo": {
           "bgcolor": "white",
           "lakecolor": "white",
           "landcolor": "#E5ECF6",
           "showlakes": true,
           "showland": true,
           "subunitcolor": "white"
          },
          "hoverlabel": {
           "align": "left"
          },
          "hovermode": "closest",
          "mapbox": {
           "style": "light"
          },
          "paper_bgcolor": "white",
          "plot_bgcolor": "#E5ECF6",
          "polar": {
           "angularaxis": {
            "gridcolor": "white",
            "linecolor": "white",
            "ticks": ""
           },
           "bgcolor": "#E5ECF6",
           "radialaxis": {
            "gridcolor": "white",
            "linecolor": "white",
            "ticks": ""
           }
          },
          "scene": {
           "xaxis": {
            "backgroundcolor": "#E5ECF6",
            "gridcolor": "white",
            "gridwidth": 2,
            "linecolor": "white",
            "showbackground": true,
            "ticks": "",
            "zerolinecolor": "white"
           },
           "yaxis": {
            "backgroundcolor": "#E5ECF6",
            "gridcolor": "white",
            "gridwidth": 2,
            "linecolor": "white",
            "showbackground": true,
            "ticks": "",
            "zerolinecolor": "white"
           },
           "zaxis": {
            "backgroundcolor": "#E5ECF6",
            "gridcolor": "white",
            "gridwidth": 2,
            "linecolor": "white",
            "showbackground": true,
            "ticks": "",
            "zerolinecolor": "white"
           }
          },
          "shapedefaults": {
           "line": {
            "color": "#2a3f5f"
           }
          },
          "ternary": {
           "aaxis": {
            "gridcolor": "white",
            "linecolor": "white",
            "ticks": ""
           },
           "baxis": {
            "gridcolor": "white",
            "linecolor": "white",
            "ticks": ""
           },
           "bgcolor": "#E5ECF6",
           "caxis": {
            "gridcolor": "white",
            "linecolor": "white",
            "ticks": ""
           }
          },
          "title": {
           "x": 0.05
          },
          "xaxis": {
           "automargin": true,
           "gridcolor": "white",
           "linecolor": "white",
           "ticks": "",
           "title": {
            "standoff": 15
           },
           "zerolinecolor": "white",
           "zerolinewidth": 2
          },
          "yaxis": {
           "automargin": true,
           "gridcolor": "white",
           "linecolor": "white",
           "ticks": "",
           "title": {
            "standoff": 15
           },
           "zerolinecolor": "white",
           "zerolinewidth": 2
          }
         }
        },
        "title": {
         "font": {
          "color": "black",
          "family": "Cardo",
          "size": 27
         },
         "text": "<span style='color: black; font-weight: normal;'>Flows by Token</span><br><sub style='font-size: 18px; color: black; font-weight: normal;'></sub>",
         "x": 0.1,
         "xanchor": "left",
         "y": 0.9,
         "yanchor": "top"
        },
        "uniformtext": {
         "minsize": 15,
         "mode": "show"
        },
        "width": 730,
        "xaxis": {
         "anchor": "y",
         "domain": [
          0,
          0.94
         ],
         "range": [
          "2024-12-16T00:00:00",
          "2024-12-22T00:00:00"
         ],
         "tick0": "2024-12-17T00:00:00",
         "tickfont": {
          "color": "black",
          "family": "Cardo",
          "size": 18
         },
         "tickformat": "%b %d <br>%y",
         "tickvals": [
          "2024-12-17",
          "2024-12-18",
          "2024-12-19",
          "2024-12-20",
          "2024-12-21"
         ],
         "title": {
          "font": {
           "color": "black",
           "family": "Cardo",
           "size": 18
          }
         }
        },
        "yaxis": {
         "anchor": "x",
         "domain": [
          0,
          1
         ],
         "tickfont": {
          "color": "black",
          "family": "Cardo",
          "size": 18
         },
         "tickprefix": "$"
        },
        "yaxis2": {
         "anchor": "x",
         "overlaying": "y",
         "side": "right"
        }
       }
      }
     },
     "metadata": {},
     "output_type": "display_data"
    }
   ],
   "source": [
    "chartBuilder(\n",
    "    fig=flows_fig_1,\n",
    "    title='Flows by Token',\n",
    "    dt_index=False,\n",
    "    add_the_date=False,\n",
    "    show=True,\n",
    "    save=False\n",
    ")"
   ]
  },
  {
   "cell_type": "code",
   "execution_count": 70,
   "metadata": {},
   "outputs": [
    {
     "name": "stdout",
     "output_type": "stream",
     "text": [
      "Initialized axes_data: {'y1': 'All', 'y2': []}\n",
      "tick0: 2024-12-17 00:00:00\n",
      "turn_to_time: True\n",
      "df sort order at init: ['inflow']\n"
     ]
    }
   ],
   "source": [
    "flows_fig_2 = visualization_pipeline(\n",
    "    df=daily_flows,\n",
    "    title='flows_data_df_1',\n",
    "    chart_type='bar',\n",
    "    groupby='transaction_type',\n",
    "    num_col='amount_usd',\n",
    "    barmode='relative',\n",
    "    tickprefix=dict(y1='$',y2=None),\n",
    "    buffer=1,\n",
    "    text=True,\n",
    "    textposition='auto'\n",
    "\n",
    ")"
   ]
  },
  {
   "cell_type": "code",
   "execution_count": 71,
   "metadata": {},
   "outputs": [
    {
     "name": "stdout",
     "output_type": "stream",
     "text": [
      "save:False\n",
      "grouping by transaction_type... w/ sum\n",
      "None\n",
      "['date', 'dt', 'hour', 'time', 'day', 'month', 'year', 'week', 'timestamp', 'date(utc)', 'block_timestamp', 'ds', 'period', 'date_time', 'trunc_date', 'quarter', 'block_time', 'block_date', None]\n",
      "col: dt\n",
      "convert col to dt: dt\n",
      "col: transaction_type\n",
      "col: amount_usd\n",
      "No specific time column found. Defaulting to daily frequency.\n",
      "DatetimeIndex(['2024-12-21', '2024-12-17', '2024-12-19'], dtype='datetime64[ns]', name='dt', freq=None)\n",
      "time_freq: d\n",
      "self.df @ groupby:            transaction_type  amount_usd\n",
      "dt                                     \n",
      "2024-12-21           inflow  127.571079\n",
      "2024-12-17           inflow  198.732670\n",
      "2024-12-19           inflow  971.717010\n",
      "logo path: ../img/Logos/None\n",
      "Generating bar plot...\n",
      "GroupBy Col: transaction_type\n",
      "legend_orientation: v\n",
      "cumulative_sort: False\n",
      "sorted_bar_legend_orientation: v\n",
      "x_range_start:2024-12-16 00:00:00\n",
      "df @ rank_by_col:            transaction_type  amount_usd\n",
      "dt                                     \n",
      "2024-12-21           inflow  127.571079\n",
      "2024-12-17           inflow  198.732670\n",
      "2024-12-19           inflow  971.717010\n",
      "df columns: Index(['transaction_type', 'amount_usd'], dtype='object')\n",
      "sort_col: transaction_type\n",
      "sort_list: ['inflow']\n",
      "df[sort_col]:\n",
      "['inflow']\n",
      "Missing values in sort_list: set()\n",
      "x:198.732670322\n",
      "x:971.7170101859999\n",
      "x:127.57107882800001\n",
      "i_df:           transaction_type  amount_usd\n",
      "dt                                     \n",
      "2024-12-17           inflow  198.732670\n",
      "2024-12-19           inflow  971.717010\n",
      "2024-12-21           inflow  127.571079\n",
      "col:amount_usd\n",
      "text font size: 14\n",
      "x:127.57107882800001\n",
      "x_ticks:['2024-12-17', '2024-12-18', '2024-12-19', '2024-12-20', '2024-12-21']\n",
      "Columns: Index(['transaction_type', 'amount_usd'], dtype='object') \n",
      "Index: DatetimeIndex(['2024-12-17', '2024-12-19', '2024-12-21'], dtype='datetime64[ns]', name='dt', freq=None)\n"
     ]
    },
    {
     "name": "stderr",
     "output_type": "stream",
     "text": [
      "e:\\projects\\chart_builder_pkg\\chart_builder\\scripts\\utils.py:554: FutureWarning:\n",
      "\n",
      "The behavior of array concatenation with empty entries is deprecated. In a future version, this will no longer exclude empty items when determining the result dtype. To retain the old behavior, exclude the empty entries before the concat operation.\n",
      "\n"
     ]
    },
    {
     "data": {
      "application/vnd.plotly.v1+json": {
       "config": {
        "linkText": "Export to plot.ly",
        "plotlyServerURL": "https://plot.ly",
        "showLink": false
       },
       "data": [
        {
         "marker": {
          "color": "#2E91E5"
         },
         "name": "inflow ($127.6)",
         "orientation": "v",
         "showlegend": false,
         "text": [
          "$198.7",
          "$971.7",
          "$127.6"
         ],
         "textfont": {
          "color": "black",
          "family": "Cardo",
          "size": 14
         },
         "textposition": "auto",
         "type": "bar",
         "x": [
          "2024-12-17T00:00:00",
          "2024-12-19T00:00:00",
          "2024-12-21T00:00:00"
         ],
         "xaxis": "x",
         "y": [
          198.732670322,
          971.7170101859999,
          127.57107882800001
         ],
         "yaxis": "y"
        }
       ],
       "layout": {
        "autosize": true,
        "barmode": "relative",
        "font": {
         "color": "black",
         "family": "Cardo",
         "size": 18
        },
        "height": 400,
        "legend": {
         "bgcolor": "rgba(0,0,0,0)",
         "font": {
          "color": "black",
          "family": "Cardo",
          "size": 14
         },
         "orientation": "v",
         "traceorder": "normal",
         "x": 0.025,
         "xanchor": "left",
         "y": 1,
         "yanchor": "top"
        },
        "margin": {
         "b": 0,
         "l": 0,
         "r": 0,
         "t": 25
        },
        "paper_bgcolor": "rgba(0,0,0,0)",
        "plot_bgcolor": "rgba(0,0,0,0)",
        "template": {
         "data": {
          "bar": [
           {
            "error_x": {
             "color": "#2a3f5f"
            },
            "error_y": {
             "color": "#2a3f5f"
            },
            "marker": {
             "line": {
              "color": "#E5ECF6",
              "width": 0.5
             },
             "pattern": {
              "fillmode": "overlay",
              "size": 10,
              "solidity": 0.2
             }
            },
            "type": "bar"
           }
          ],
          "barpolar": [
           {
            "marker": {
             "line": {
              "color": "#E5ECF6",
              "width": 0.5
             },
             "pattern": {
              "fillmode": "overlay",
              "size": 10,
              "solidity": 0.2
             }
            },
            "type": "barpolar"
           }
          ],
          "carpet": [
           {
            "aaxis": {
             "endlinecolor": "#2a3f5f",
             "gridcolor": "white",
             "linecolor": "white",
             "minorgridcolor": "white",
             "startlinecolor": "#2a3f5f"
            },
            "baxis": {
             "endlinecolor": "#2a3f5f",
             "gridcolor": "white",
             "linecolor": "white",
             "minorgridcolor": "white",
             "startlinecolor": "#2a3f5f"
            },
            "type": "carpet"
           }
          ],
          "choropleth": [
           {
            "colorbar": {
             "outlinewidth": 0,
             "ticks": ""
            },
            "type": "choropleth"
           }
          ],
          "contour": [
           {
            "colorbar": {
             "outlinewidth": 0,
             "ticks": ""
            },
            "colorscale": [
             [
              0,
              "#0d0887"
             ],
             [
              0.1111111111111111,
              "#46039f"
             ],
             [
              0.2222222222222222,
              "#7201a8"
             ],
             [
              0.3333333333333333,
              "#9c179e"
             ],
             [
              0.4444444444444444,
              "#bd3786"
             ],
             [
              0.5555555555555556,
              "#d8576b"
             ],
             [
              0.6666666666666666,
              "#ed7953"
             ],
             [
              0.7777777777777778,
              "#fb9f3a"
             ],
             [
              0.8888888888888888,
              "#fdca26"
             ],
             [
              1,
              "#f0f921"
             ]
            ],
            "type": "contour"
           }
          ],
          "contourcarpet": [
           {
            "colorbar": {
             "outlinewidth": 0,
             "ticks": ""
            },
            "type": "contourcarpet"
           }
          ],
          "heatmap": [
           {
            "colorbar": {
             "outlinewidth": 0,
             "ticks": ""
            },
            "colorscale": [
             [
              0,
              "#0d0887"
             ],
             [
              0.1111111111111111,
              "#46039f"
             ],
             [
              0.2222222222222222,
              "#7201a8"
             ],
             [
              0.3333333333333333,
              "#9c179e"
             ],
             [
              0.4444444444444444,
              "#bd3786"
             ],
             [
              0.5555555555555556,
              "#d8576b"
             ],
             [
              0.6666666666666666,
              "#ed7953"
             ],
             [
              0.7777777777777778,
              "#fb9f3a"
             ],
             [
              0.8888888888888888,
              "#fdca26"
             ],
             [
              1,
              "#f0f921"
             ]
            ],
            "type": "heatmap"
           }
          ],
          "heatmapgl": [
           {
            "colorbar": {
             "outlinewidth": 0,
             "ticks": ""
            },
            "colorscale": [
             [
              0,
              "#0d0887"
             ],
             [
              0.1111111111111111,
              "#46039f"
             ],
             [
              0.2222222222222222,
              "#7201a8"
             ],
             [
              0.3333333333333333,
              "#9c179e"
             ],
             [
              0.4444444444444444,
              "#bd3786"
             ],
             [
              0.5555555555555556,
              "#d8576b"
             ],
             [
              0.6666666666666666,
              "#ed7953"
             ],
             [
              0.7777777777777778,
              "#fb9f3a"
             ],
             [
              0.8888888888888888,
              "#fdca26"
             ],
             [
              1,
              "#f0f921"
             ]
            ],
            "type": "heatmapgl"
           }
          ],
          "histogram": [
           {
            "marker": {
             "pattern": {
              "fillmode": "overlay",
              "size": 10,
              "solidity": 0.2
             }
            },
            "type": "histogram"
           }
          ],
          "histogram2d": [
           {
            "colorbar": {
             "outlinewidth": 0,
             "ticks": ""
            },
            "colorscale": [
             [
              0,
              "#0d0887"
             ],
             [
              0.1111111111111111,
              "#46039f"
             ],
             [
              0.2222222222222222,
              "#7201a8"
             ],
             [
              0.3333333333333333,
              "#9c179e"
             ],
             [
              0.4444444444444444,
              "#bd3786"
             ],
             [
              0.5555555555555556,
              "#d8576b"
             ],
             [
              0.6666666666666666,
              "#ed7953"
             ],
             [
              0.7777777777777778,
              "#fb9f3a"
             ],
             [
              0.8888888888888888,
              "#fdca26"
             ],
             [
              1,
              "#f0f921"
             ]
            ],
            "type": "histogram2d"
           }
          ],
          "histogram2dcontour": [
           {
            "colorbar": {
             "outlinewidth": 0,
             "ticks": ""
            },
            "colorscale": [
             [
              0,
              "#0d0887"
             ],
             [
              0.1111111111111111,
              "#46039f"
             ],
             [
              0.2222222222222222,
              "#7201a8"
             ],
             [
              0.3333333333333333,
              "#9c179e"
             ],
             [
              0.4444444444444444,
              "#bd3786"
             ],
             [
              0.5555555555555556,
              "#d8576b"
             ],
             [
              0.6666666666666666,
              "#ed7953"
             ],
             [
              0.7777777777777778,
              "#fb9f3a"
             ],
             [
              0.8888888888888888,
              "#fdca26"
             ],
             [
              1,
              "#f0f921"
             ]
            ],
            "type": "histogram2dcontour"
           }
          ],
          "mesh3d": [
           {
            "colorbar": {
             "outlinewidth": 0,
             "ticks": ""
            },
            "type": "mesh3d"
           }
          ],
          "parcoords": [
           {
            "line": {
             "colorbar": {
              "outlinewidth": 0,
              "ticks": ""
             }
            },
            "type": "parcoords"
           }
          ],
          "pie": [
           {
            "automargin": true,
            "type": "pie"
           }
          ],
          "scatter": [
           {
            "fillpattern": {
             "fillmode": "overlay",
             "size": 10,
             "solidity": 0.2
            },
            "type": "scatter"
           }
          ],
          "scatter3d": [
           {
            "line": {
             "colorbar": {
              "outlinewidth": 0,
              "ticks": ""
             }
            },
            "marker": {
             "colorbar": {
              "outlinewidth": 0,
              "ticks": ""
             }
            },
            "type": "scatter3d"
           }
          ],
          "scattercarpet": [
           {
            "marker": {
             "colorbar": {
              "outlinewidth": 0,
              "ticks": ""
             }
            },
            "type": "scattercarpet"
           }
          ],
          "scattergeo": [
           {
            "marker": {
             "colorbar": {
              "outlinewidth": 0,
              "ticks": ""
             }
            },
            "type": "scattergeo"
           }
          ],
          "scattergl": [
           {
            "marker": {
             "colorbar": {
              "outlinewidth": 0,
              "ticks": ""
             }
            },
            "type": "scattergl"
           }
          ],
          "scattermapbox": [
           {
            "marker": {
             "colorbar": {
              "outlinewidth": 0,
              "ticks": ""
             }
            },
            "type": "scattermapbox"
           }
          ],
          "scatterpolar": [
           {
            "marker": {
             "colorbar": {
              "outlinewidth": 0,
              "ticks": ""
             }
            },
            "type": "scatterpolar"
           }
          ],
          "scatterpolargl": [
           {
            "marker": {
             "colorbar": {
              "outlinewidth": 0,
              "ticks": ""
             }
            },
            "type": "scatterpolargl"
           }
          ],
          "scatterternary": [
           {
            "marker": {
             "colorbar": {
              "outlinewidth": 0,
              "ticks": ""
             }
            },
            "type": "scatterternary"
           }
          ],
          "surface": [
           {
            "colorbar": {
             "outlinewidth": 0,
             "ticks": ""
            },
            "colorscale": [
             [
              0,
              "#0d0887"
             ],
             [
              0.1111111111111111,
              "#46039f"
             ],
             [
              0.2222222222222222,
              "#7201a8"
             ],
             [
              0.3333333333333333,
              "#9c179e"
             ],
             [
              0.4444444444444444,
              "#bd3786"
             ],
             [
              0.5555555555555556,
              "#d8576b"
             ],
             [
              0.6666666666666666,
              "#ed7953"
             ],
             [
              0.7777777777777778,
              "#fb9f3a"
             ],
             [
              0.8888888888888888,
              "#fdca26"
             ],
             [
              1,
              "#f0f921"
             ]
            ],
            "type": "surface"
           }
          ],
          "table": [
           {
            "cells": {
             "fill": {
              "color": "#EBF0F8"
             },
             "line": {
              "color": "white"
             }
            },
            "header": {
             "fill": {
              "color": "#C8D4E3"
             },
             "line": {
              "color": "white"
             }
            },
            "type": "table"
           }
          ]
         },
         "layout": {
          "annotationdefaults": {
           "arrowcolor": "#2a3f5f",
           "arrowhead": 0,
           "arrowwidth": 1
          },
          "autotypenumbers": "strict",
          "coloraxis": {
           "colorbar": {
            "outlinewidth": 0,
            "ticks": ""
           }
          },
          "colorscale": {
           "diverging": [
            [
             0,
             "#8e0152"
            ],
            [
             0.1,
             "#c51b7d"
            ],
            [
             0.2,
             "#de77ae"
            ],
            [
             0.3,
             "#f1b6da"
            ],
            [
             0.4,
             "#fde0ef"
            ],
            [
             0.5,
             "#f7f7f7"
            ],
            [
             0.6,
             "#e6f5d0"
            ],
            [
             0.7,
             "#b8e186"
            ],
            [
             0.8,
             "#7fbc41"
            ],
            [
             0.9,
             "#4d9221"
            ],
            [
             1,
             "#276419"
            ]
           ],
           "sequential": [
            [
             0,
             "#0d0887"
            ],
            [
             0.1111111111111111,
             "#46039f"
            ],
            [
             0.2222222222222222,
             "#7201a8"
            ],
            [
             0.3333333333333333,
             "#9c179e"
            ],
            [
             0.4444444444444444,
             "#bd3786"
            ],
            [
             0.5555555555555556,
             "#d8576b"
            ],
            [
             0.6666666666666666,
             "#ed7953"
            ],
            [
             0.7777777777777778,
             "#fb9f3a"
            ],
            [
             0.8888888888888888,
             "#fdca26"
            ],
            [
             1,
             "#f0f921"
            ]
           ],
           "sequentialminus": [
            [
             0,
             "#0d0887"
            ],
            [
             0.1111111111111111,
             "#46039f"
            ],
            [
             0.2222222222222222,
             "#7201a8"
            ],
            [
             0.3333333333333333,
             "#9c179e"
            ],
            [
             0.4444444444444444,
             "#bd3786"
            ],
            [
             0.5555555555555556,
             "#d8576b"
            ],
            [
             0.6666666666666666,
             "#ed7953"
            ],
            [
             0.7777777777777778,
             "#fb9f3a"
            ],
            [
             0.8888888888888888,
             "#fdca26"
            ],
            [
             1,
             "#f0f921"
            ]
           ]
          },
          "colorway": [
           "#636efa",
           "#EF553B",
           "#00cc96",
           "#ab63fa",
           "#FFA15A",
           "#19d3f3",
           "#FF6692",
           "#B6E880",
           "#FF97FF",
           "#FECB52"
          ],
          "font": {
           "color": "#2a3f5f",
           "family": "Cardo"
          },
          "geo": {
           "bgcolor": "white",
           "lakecolor": "white",
           "landcolor": "#E5ECF6",
           "showlakes": true,
           "showland": true,
           "subunitcolor": "white"
          },
          "hoverlabel": {
           "align": "left"
          },
          "hovermode": "closest",
          "mapbox": {
           "style": "light"
          },
          "paper_bgcolor": "white",
          "plot_bgcolor": "#E5ECF6",
          "polar": {
           "angularaxis": {
            "gridcolor": "white",
            "linecolor": "white",
            "ticks": ""
           },
           "bgcolor": "#E5ECF6",
           "radialaxis": {
            "gridcolor": "white",
            "linecolor": "white",
            "ticks": ""
           }
          },
          "scene": {
           "xaxis": {
            "backgroundcolor": "#E5ECF6",
            "gridcolor": "white",
            "gridwidth": 2,
            "linecolor": "white",
            "showbackground": true,
            "ticks": "",
            "zerolinecolor": "white"
           },
           "yaxis": {
            "backgroundcolor": "#E5ECF6",
            "gridcolor": "white",
            "gridwidth": 2,
            "linecolor": "white",
            "showbackground": true,
            "ticks": "",
            "zerolinecolor": "white"
           },
           "zaxis": {
            "backgroundcolor": "#E5ECF6",
            "gridcolor": "white",
            "gridwidth": 2,
            "linecolor": "white",
            "showbackground": true,
            "ticks": "",
            "zerolinecolor": "white"
           }
          },
          "shapedefaults": {
           "line": {
            "color": "#2a3f5f"
           }
          },
          "ternary": {
           "aaxis": {
            "gridcolor": "white",
            "linecolor": "white",
            "ticks": ""
           },
           "baxis": {
            "gridcolor": "white",
            "linecolor": "white",
            "ticks": ""
           },
           "bgcolor": "#E5ECF6",
           "caxis": {
            "gridcolor": "white",
            "linecolor": "white",
            "ticks": ""
           }
          },
          "title": {
           "x": 0.05
          },
          "xaxis": {
           "automargin": true,
           "gridcolor": "white",
           "linecolor": "white",
           "ticks": "",
           "title": {
            "standoff": 15
           },
           "zerolinecolor": "white",
           "zerolinewidth": 2
          },
          "yaxis": {
           "automargin": true,
           "gridcolor": "white",
           "linecolor": "white",
           "ticks": "",
           "title": {
            "standoff": 15
           },
           "zerolinecolor": "white",
           "zerolinewidth": 2
          }
         }
        },
        "title": {
         "font": {
          "color": "black",
          "family": "Cardo",
          "size": 27
         },
         "text": "<span style='color: black; font-weight: normal;'>Flows by Type</span><br><sub style='font-size: 18px; color: black; font-weight: normal;'></sub>",
         "x": 0.1,
         "xanchor": "left",
         "y": 0.9,
         "yanchor": "top"
        },
        "uniformtext": {
         "minsize": 15,
         "mode": "show"
        },
        "width": 730,
        "xaxis": {
         "anchor": "y",
         "domain": [
          0,
          0.94
         ],
         "range": [
          "2024-12-16T00:00:00",
          "2024-12-22T00:00:00"
         ],
         "tick0": "2024-12-17T00:00:00",
         "tickfont": {
          "color": "black",
          "family": "Cardo",
          "size": 18
         },
         "tickformat": "%b %d <br>%y",
         "tickvals": [
          "2024-12-17",
          "2024-12-18",
          "2024-12-19",
          "2024-12-20",
          "2024-12-21"
         ],
         "title": {
          "font": {
           "color": "black",
           "family": "Cardo",
           "size": 18
          }
         }
        },
        "yaxis": {
         "anchor": "x",
         "domain": [
          0,
          1
         ],
         "tickfont": {
          "color": "black",
          "family": "Cardo",
          "size": 18
         },
         "tickprefix": "$"
        },
        "yaxis2": {
         "anchor": "x",
         "overlaying": "y",
         "side": "right"
        }
       }
      }
     },
     "metadata": {},
     "output_type": "display_data"
    }
   ],
   "source": [
    "chartBuilder(\n",
    "    fig=flows_fig_2,\n",
    "    title='Flows by Type',\n",
    "    dt_index=False,\n",
    "    groupby='True',\n",
    "    add_the_date=False,\n",
    "    show=True,\n",
    "    save=False\n",
    ")"
   ]
  },
  {
   "cell_type": "code",
   "execution_count": 63,
   "metadata": {},
   "outputs": [],
   "source": [
    "import time\n",
    "import requests\n",
    "from requests.exceptions import RequestException\n",
    "from datetime import timedelta\n",
    "import streamlit as st"
   ]
  },
  {
   "cell_type": "code",
   "execution_count": 64,
   "metadata": {},
   "outputs": [],
   "source": [
    "def fetch_defillama_yield_pools():\n",
    "    base_url = 'https://yields.llama.fi/pools'\n",
    "\n",
    "    response = requests.get(base_url)\n",
    "\n",
    "    data = response.json()\n",
    "\n",
    "    return data"
   ]
  },
  {
   "cell_type": "code",
   "execution_count": 65,
   "metadata": {},
   "outputs": [],
   "source": [
    "data = fetch_defillama_yield_pools()"
   ]
  },
  {
   "cell_type": "code",
   "execution_count": null,
   "metadata": {},
   "outputs": [
    {
     "data": {
      "text/html": [
       "<div>\n",
       "<style scoped>\n",
       "    .dataframe tbody tr th:only-of-type {\n",
       "        vertical-align: middle;\n",
       "    }\n",
       "\n",
       "    .dataframe tbody tr th {\n",
       "        vertical-align: top;\n",
       "    }\n",
       "\n",
       "    .dataframe thead th {\n",
       "        text-align: right;\n",
       "    }\n",
       "</style>\n",
       "<table border=\"1\" class=\"dataframe\">\n",
       "  <thead>\n",
       "    <tr style=\"text-align: right;\">\n",
       "      <th></th>\n",
       "      <th>chain</th>\n",
       "      <th>project</th>\n",
       "      <th>symbol</th>\n",
       "      <th>tvlUsd</th>\n",
       "      <th>apyBase</th>\n",
       "      <th>apyReward</th>\n",
       "      <th>apy</th>\n",
       "      <th>rewardTokens</th>\n",
       "      <th>pool</th>\n",
       "      <th>apyPct1D</th>\n",
       "      <th>...</th>\n",
       "      <th>sigma</th>\n",
       "      <th>count</th>\n",
       "      <th>outlier</th>\n",
       "      <th>underlyingTokens</th>\n",
       "      <th>il7d</th>\n",
       "      <th>apyBase7d</th>\n",
       "      <th>apyMean30d</th>\n",
       "      <th>volumeUsd1d</th>\n",
       "      <th>volumeUsd7d</th>\n",
       "      <th>apyBaseInception</th>\n",
       "    </tr>\n",
       "  </thead>\n",
       "  <tbody>\n",
       "    <tr>\n",
       "      <th>6</th>\n",
       "      <td>Ethereum</td>\n",
       "      <td>ethena-usde</td>\n",
       "      <td>SUSDE</td>\n",
       "      <td>3918238295</td>\n",
       "      <td>14.27796</td>\n",
       "      <td>NaN</td>\n",
       "      <td>14.27796</td>\n",
       "      <td>None</td>\n",
       "      <td>66985a81-9c51-46ca-9977-42b4fe7bc6df</td>\n",
       "      <td>0.02584</td>\n",
       "      <td>...</td>\n",
       "      <td>0.45152</td>\n",
       "      <td>310</td>\n",
       "      <td>False</td>\n",
       "      <td>None</td>\n",
       "      <td>NaN</td>\n",
       "      <td>NaN</td>\n",
       "      <td>23.94668</td>\n",
       "      <td>NaN</td>\n",
       "      <td>NaN</td>\n",
       "      <td>NaN</td>\n",
       "    </tr>\n",
       "    <tr>\n",
       "      <th>20</th>\n",
       "      <td>Ethereum</td>\n",
       "      <td>aave-v3</td>\n",
       "      <td>SUSDE</td>\n",
       "      <td>1140150273</td>\n",
       "      <td>0.00000</td>\n",
       "      <td>NaN</td>\n",
       "      <td>0.00000</td>\n",
       "      <td>None</td>\n",
       "      <td>29932dea-cd71-44c3-95bd-3e1525f4e3dd</td>\n",
       "      <td>0.00000</td>\n",
       "      <td>...</td>\n",
       "      <td>0.00000</td>\n",
       "      <td>179</td>\n",
       "      <td>False</td>\n",
       "      <td>[0x9D39A5DE30e57443BfF2A8307A4256c8797A3497]</td>\n",
       "      <td>NaN</td>\n",
       "      <td>NaN</td>\n",
       "      <td>0.00000</td>\n",
       "      <td>NaN</td>\n",
       "      <td>NaN</td>\n",
       "      <td>NaN</td>\n",
       "    </tr>\n",
       "    <tr>\n",
       "      <th>115</th>\n",
       "      <td>Ethereum</td>\n",
       "      <td>pendle</td>\n",
       "      <td>SUSDE</td>\n",
       "      <td>134184494</td>\n",
       "      <td>23.69912</td>\n",
       "      <td>1.42544</td>\n",
       "      <td>25.12456</td>\n",
       "      <td>[0x808507121b80c02388fad14726482e061b8da827]</td>\n",
       "      <td>bed5f04d-d921-4b88-87b6-8a9972201d29</td>\n",
       "      <td>-0.83272</td>\n",
       "      <td>...</td>\n",
       "      <td>0.20443</td>\n",
       "      <td>92</td>\n",
       "      <td>False</td>\n",
       "      <td>[0xe00bd3df25fb187d6abbb620b3dfd19839947b81, 0...</td>\n",
       "      <td>NaN</td>\n",
       "      <td>NaN</td>\n",
       "      <td>27.01413</td>\n",
       "      <td>NaN</td>\n",
       "      <td>NaN</td>\n",
       "      <td>NaN</td>\n",
       "    </tr>\n",
       "    <tr>\n",
       "      <th>116</th>\n",
       "      <td>Ethereum</td>\n",
       "      <td>pendle</td>\n",
       "      <td>SUSDE</td>\n",
       "      <td>134184494</td>\n",
       "      <td>23.33397</td>\n",
       "      <td>NaN</td>\n",
       "      <td>23.33397</td>\n",
       "      <td>None</td>\n",
       "      <td>6b28892f-0909-418d-b4bb-3106fff72449</td>\n",
       "      <td>-0.78333</td>\n",
       "      <td>...</td>\n",
       "      <td>0.20421</td>\n",
       "      <td>92</td>\n",
       "      <td>False</td>\n",
       "      <td>[0x9d39a5de30e57443bff2a8307a4256c8797a3497]</td>\n",
       "      <td>NaN</td>\n",
       "      <td>NaN</td>\n",
       "      <td>23.65585</td>\n",
       "      <td>NaN</td>\n",
       "      <td>NaN</td>\n",
       "      <td>NaN</td>\n",
       "    </tr>\n",
       "    <tr>\n",
       "      <th>171</th>\n",
       "      <td>Ethereum</td>\n",
       "      <td>morpho-blue</td>\n",
       "      <td>SUSDE</td>\n",
       "      <td>87012504</td>\n",
       "      <td>NaN</td>\n",
       "      <td>NaN</td>\n",
       "      <td>0.00000</td>\n",
       "      <td>[0x58D97B57BB95320F9a05dC918Aef65434969c2B2]</td>\n",
       "      <td>c0921c0f-51aa-45b8-87e3-5eec59a6972b</td>\n",
       "      <td>NaN</td>\n",
       "      <td>...</td>\n",
       "      <td>0.41164</td>\n",
       "      <td>268</td>\n",
       "      <td>False</td>\n",
       "      <td>[0x9D39A5DE30e57443BfF2A8307A4256c8797A3497]</td>\n",
       "      <td>NaN</td>\n",
       "      <td>NaN</td>\n",
       "      <td>0.00000</td>\n",
       "      <td>NaN</td>\n",
       "      <td>NaN</td>\n",
       "      <td>NaN</td>\n",
       "    </tr>\n",
       "    <tr>\n",
       "      <th>174</th>\n",
       "      <td>Ethereum</td>\n",
       "      <td>pendle</td>\n",
       "      <td>SUSDE</td>\n",
       "      <td>85045429</td>\n",
       "      <td>21.06018</td>\n",
       "      <td>1.46838</td>\n",
       "      <td>22.52856</td>\n",
       "      <td>[0x808507121b80c02388fad14726482e061b8da827]</td>\n",
       "      <td>992d00f3-d43f-44fe-8b62-987e8610c9a8</td>\n",
       "      <td>-0.95449</td>\n",
       "      <td>...</td>\n",
       "      <td>0.35415</td>\n",
       "      <td>157</td>\n",
       "      <td>False</td>\n",
       "      <td>[0xee9085fc268f6727d5d4293dbabccf901ffdcc29, 0...</td>\n",
       "      <td>NaN</td>\n",
       "      <td>NaN</td>\n",
       "      <td>28.04543</td>\n",
       "      <td>NaN</td>\n",
       "      <td>NaN</td>\n",
       "      <td>NaN</td>\n",
       "    </tr>\n",
       "    <tr>\n",
       "      <th>175</th>\n",
       "      <td>Ethereum</td>\n",
       "      <td>pendle</td>\n",
       "      <td>SUSDE</td>\n",
       "      <td>85045429</td>\n",
       "      <td>23.51730</td>\n",
       "      <td>NaN</td>\n",
       "      <td>23.51730</td>\n",
       "      <td>None</td>\n",
       "      <td>104f1152-d692-4e9f-9e79-db1dddd70891</td>\n",
       "      <td>-0.26587</td>\n",
       "      <td>...</td>\n",
       "      <td>0.28299</td>\n",
       "      <td>157</td>\n",
       "      <td>False</td>\n",
       "      <td>[0x9d39a5de30e57443bff2a8307a4256c8797a3497]</td>\n",
       "      <td>NaN</td>\n",
       "      <td>NaN</td>\n",
       "      <td>28.15818</td>\n",
       "      <td>NaN</td>\n",
       "      <td>NaN</td>\n",
       "      <td>NaN</td>\n",
       "    </tr>\n",
       "    <tr>\n",
       "      <th>182</th>\n",
       "      <td>Ethereum</td>\n",
       "      <td>pendle</td>\n",
       "      <td>SUSDE</td>\n",
       "      <td>80783164</td>\n",
       "      <td>20.65749</td>\n",
       "      <td>4.03754</td>\n",
       "      <td>24.69503</td>\n",
       "      <td>[0x808507121b80c02388fad14726482e061b8da827]</td>\n",
       "      <td>b3e2002b-c857-451c-ad63-a7ff1c0634be</td>\n",
       "      <td>-0.70210</td>\n",
       "      <td>...</td>\n",
       "      <td>0.28470</td>\n",
       "      <td>41</td>\n",
       "      <td>False</td>\n",
       "      <td>[0xb7de5dfcb74d25c2f21841fbd6230355c50d9308, 0...</td>\n",
       "      <td>NaN</td>\n",
       "      <td>NaN</td>\n",
       "      <td>30.48992</td>\n",
       "      <td>NaN</td>\n",
       "      <td>NaN</td>\n",
       "      <td>NaN</td>\n",
       "    </tr>\n",
       "    <tr>\n",
       "      <th>183</th>\n",
       "      <td>Ethereum</td>\n",
       "      <td>pendle</td>\n",
       "      <td>SUSDE</td>\n",
       "      <td>80783164</td>\n",
       "      <td>19.30039</td>\n",
       "      <td>NaN</td>\n",
       "      <td>19.30039</td>\n",
       "      <td>None</td>\n",
       "      <td>606e53bf-ea88-4d4e-92b8-fcd6e97e4106</td>\n",
       "      <td>0.23052</td>\n",
       "      <td>...</td>\n",
       "      <td>0.08309</td>\n",
       "      <td>41</td>\n",
       "      <td>False</td>\n",
       "      <td>[0x9d39a5de30e57443bff2a8307a4256c8797a3497]</td>\n",
       "      <td>NaN</td>\n",
       "      <td>NaN</td>\n",
       "      <td>20.60877</td>\n",
       "      <td>NaN</td>\n",
       "      <td>NaN</td>\n",
       "      <td>NaN</td>\n",
       "    </tr>\n",
       "    <tr>\n",
       "      <th>209</th>\n",
       "      <td>Gnosis</td>\n",
       "      <td>sdai</td>\n",
       "      <td>SDAI</td>\n",
       "      <td>69069398</td>\n",
       "      <td>NaN</td>\n",
       "      <td>NaN</td>\n",
       "      <td>14.13902</td>\n",
       "      <td>None</td>\n",
       "      <td>13392973-be6e-4b2f-bce9-4f7dd53d1c3a</td>\n",
       "      <td>-0.05608</td>\n",
       "      <td>...</td>\n",
       "      <td>0.17076</td>\n",
       "      <td>442</td>\n",
       "      <td>False</td>\n",
       "      <td>None</td>\n",
       "      <td>NaN</td>\n",
       "      <td>NaN</td>\n",
       "      <td>11.62683</td>\n",
       "      <td>NaN</td>\n",
       "      <td>NaN</td>\n",
       "      <td>NaN</td>\n",
       "    </tr>\n",
       "    <tr>\n",
       "      <th>245</th>\n",
       "      <td>Ethereum</td>\n",
       "      <td>morpho-blue</td>\n",
       "      <td>SUSDE</td>\n",
       "      <td>56701140</td>\n",
       "      <td>NaN</td>\n",
       "      <td>NaN</td>\n",
       "      <td>0.00000</td>\n",
       "      <td>[0x58D97B57BB95320F9a05dC918Aef65434969c2B2]</td>\n",
       "      <td>51de19bd-d2a6-420e-9bbd-350c967b23d0</td>\n",
       "      <td>NaN</td>\n",
       "      <td>...</td>\n",
       "      <td>0.44417</td>\n",
       "      <td>270</td>\n",
       "      <td>False</td>\n",
       "      <td>[0x9D39A5DE30e57443BfF2A8307A4256c8797A3497]</td>\n",
       "      <td>NaN</td>\n",
       "      <td>NaN</td>\n",
       "      <td>0.00000</td>\n",
       "      <td>NaN</td>\n",
       "      <td>NaN</td>\n",
       "      <td>NaN</td>\n",
       "    </tr>\n",
       "    <tr>\n",
       "      <th>288</th>\n",
       "      <td>Ethereum</td>\n",
       "      <td>aave-v3</td>\n",
       "      <td>SUSDE</td>\n",
       "      <td>45610323</td>\n",
       "      <td>0.00000</td>\n",
       "      <td>NaN</td>\n",
       "      <td>0.00000</td>\n",
       "      <td>None</td>\n",
       "      <td>d25b5f1e-3368-4c79-a876-479834b15195</td>\n",
       "      <td>0.00000</td>\n",
       "      <td>...</td>\n",
       "      <td>0.00000</td>\n",
       "      <td>36</td>\n",
       "      <td>False</td>\n",
       "      <td>[0x9D39A5DE30e57443BfF2A8307A4256c8797A3497]</td>\n",
       "      <td>NaN</td>\n",
       "      <td>NaN</td>\n",
       "      <td>0.00000</td>\n",
       "      <td>NaN</td>\n",
       "      <td>NaN</td>\n",
       "      <td>NaN</td>\n",
       "    </tr>\n",
       "    <tr>\n",
       "      <th>458</th>\n",
       "      <td>Ethereum</td>\n",
       "      <td>pendle</td>\n",
       "      <td>SUSDE</td>\n",
       "      <td>23165514</td>\n",
       "      <td>20.92749</td>\n",
       "      <td>8.56935</td>\n",
       "      <td>29.49684</td>\n",
       "      <td>[0x808507121b80c02388fad14726482e061b8da827]</td>\n",
       "      <td>8cd17c7a-e683-4af1-9dbf-b9b960027192</td>\n",
       "      <td>-1.31112</td>\n",
       "      <td>...</td>\n",
       "      <td>0.22978</td>\n",
       "      <td>13</td>\n",
       "      <td>False</td>\n",
       "      <td>[0x386ae941d4262b0ee96354499df2ab8442734ec0, 0...</td>\n",
       "      <td>NaN</td>\n",
       "      <td>NaN</td>\n",
       "      <td>37.39603</td>\n",
       "      <td>NaN</td>\n",
       "      <td>NaN</td>\n",
       "      <td>NaN</td>\n",
       "    </tr>\n",
       "    <tr>\n",
       "      <th>459</th>\n",
       "      <td>Ethereum</td>\n",
       "      <td>pendle</td>\n",
       "      <td>SUSDE</td>\n",
       "      <td>23165514</td>\n",
       "      <td>23.80483</td>\n",
       "      <td>NaN</td>\n",
       "      <td>23.80483</td>\n",
       "      <td>None</td>\n",
       "      <td>6fce4eaf-c0ad-4713-9c69-c6ecc3fdbf54</td>\n",
       "      <td>0.60355</td>\n",
       "      <td>...</td>\n",
       "      <td>0.08613</td>\n",
       "      <td>13</td>\n",
       "      <td>False</td>\n",
       "      <td>[0x9d39a5de30e57443bff2a8307a4256c8797a3497]</td>\n",
       "      <td>NaN</td>\n",
       "      <td>NaN</td>\n",
       "      <td>25.17678</td>\n",
       "      <td>NaN</td>\n",
       "      <td>NaN</td>\n",
       "      <td>NaN</td>\n",
       "    </tr>\n",
       "    <tr>\n",
       "      <th>471</th>\n",
       "      <td>Gnosis</td>\n",
       "      <td>aave-v3</td>\n",
       "      <td>SDAI</td>\n",
       "      <td>22414280</td>\n",
       "      <td>0.00000</td>\n",
       "      <td>NaN</td>\n",
       "      <td>0.00000</td>\n",
       "      <td>None</td>\n",
       "      <td>32f04d80-25f9-439f-838d-3b15becf2d21</td>\n",
       "      <td>0.00000</td>\n",
       "      <td>...</td>\n",
       "      <td>0.00000</td>\n",
       "      <td>332</td>\n",
       "      <td>False</td>\n",
       "      <td>[0xaf204776c7245bF4147c2612BF6e5972Ee483701]</td>\n",
       "      <td>NaN</td>\n",
       "      <td>NaN</td>\n",
       "      <td>0.00000</td>\n",
       "      <td>NaN</td>\n",
       "      <td>NaN</td>\n",
       "      <td>NaN</td>\n",
       "    </tr>\n",
       "    <tr>\n",
       "      <th>580</th>\n",
       "      <td>Ethereum</td>\n",
       "      <td>morpho-blue</td>\n",
       "      <td>SUSDE</td>\n",
       "      <td>15855941</td>\n",
       "      <td>NaN</td>\n",
       "      <td>NaN</td>\n",
       "      <td>0.00000</td>\n",
       "      <td>[0x58D97B57BB95320F9a05dC918Aef65434969c2B2]</td>\n",
       "      <td>b45c27e7-225e-407c-8405-1eb29a096bf1</td>\n",
       "      <td>NaN</td>\n",
       "      <td>...</td>\n",
       "      <td>0.00000</td>\n",
       "      <td>34</td>\n",
       "      <td>False</td>\n",
       "      <td>[0x9D39A5DE30e57443BfF2A8307A4256c8797A3497]</td>\n",
       "      <td>NaN</td>\n",
       "      <td>NaN</td>\n",
       "      <td>0.00000</td>\n",
       "      <td>NaN</td>\n",
       "      <td>NaN</td>\n",
       "      <td>NaN</td>\n",
       "    </tr>\n",
       "    <tr>\n",
       "      <th>973</th>\n",
       "      <td>Ethereum</td>\n",
       "      <td>aave-v3</td>\n",
       "      <td>SDAI</td>\n",
       "      <td>7118636</td>\n",
       "      <td>0.00000</td>\n",
       "      <td>NaN</td>\n",
       "      <td>0.00000</td>\n",
       "      <td>None</td>\n",
       "      <td>a214e900-2bcd-431f-9744-632fa5436fee</td>\n",
       "      <td>0.00000</td>\n",
       "      <td>...</td>\n",
       "      <td>0.00000</td>\n",
       "      <td>482</td>\n",
       "      <td>False</td>\n",
       "      <td>[0x83F20F44975D03b1b09e64809B757c47f942BEeA]</td>\n",
       "      <td>NaN</td>\n",
       "      <td>NaN</td>\n",
       "      <td>0.00000</td>\n",
       "      <td>NaN</td>\n",
       "      <td>NaN</td>\n",
       "      <td>NaN</td>\n",
       "    </tr>\n",
       "    <tr>\n",
       "      <th>1434</th>\n",
       "      <td>Ethereum</td>\n",
       "      <td>inverse-finance-firm</td>\n",
       "      <td>SUSDE</td>\n",
       "      <td>3859936</td>\n",
       "      <td>0.00000</td>\n",
       "      <td>NaN</td>\n",
       "      <td>0.00000</td>\n",
       "      <td>None</td>\n",
       "      <td>467f3e33-f32d-4b5a-a643-fc6755f4ebbc</td>\n",
       "      <td>0.00000</td>\n",
       "      <td>...</td>\n",
       "      <td>0.00000</td>\n",
       "      <td>98</td>\n",
       "      <td>False</td>\n",
       "      <td>[0x9D39A5DE30e57443BfF2A8307A4256c8797A3497]</td>\n",
       "      <td>NaN</td>\n",
       "      <td>NaN</td>\n",
       "      <td>0.00000</td>\n",
       "      <td>NaN</td>\n",
       "      <td>NaN</td>\n",
       "      <td>NaN</td>\n",
       "    </tr>\n",
       "    <tr>\n",
       "      <th>1743</th>\n",
       "      <td>Ethereum</td>\n",
       "      <td>morpho-blue</td>\n",
       "      <td>SUSDE</td>\n",
       "      <td>2717112</td>\n",
       "      <td>NaN</td>\n",
       "      <td>NaN</td>\n",
       "      <td>0.00000</td>\n",
       "      <td>[]</td>\n",
       "      <td>c7fe2c3c-d765-44df-8a30-9e2cf9cdad35</td>\n",
       "      <td>NaN</td>\n",
       "      <td>...</td>\n",
       "      <td>0.00000</td>\n",
       "      <td>20</td>\n",
       "      <td>False</td>\n",
       "      <td>[0x9D39A5DE30e57443BfF2A8307A4256c8797A3497]</td>\n",
       "      <td>NaN</td>\n",
       "      <td>NaN</td>\n",
       "      <td>0.00000</td>\n",
       "      <td>NaN</td>\n",
       "      <td>NaN</td>\n",
       "      <td>NaN</td>\n",
       "    </tr>\n",
       "    <tr>\n",
       "      <th>1918</th>\n",
       "      <td>Gnosis</td>\n",
       "      <td>spark</td>\n",
       "      <td>SDAI</td>\n",
       "      <td>2286238</td>\n",
       "      <td>0.00000</td>\n",
       "      <td>NaN</td>\n",
       "      <td>0.00000</td>\n",
       "      <td>None</td>\n",
       "      <td>bb335c51-2bb4-4fab-8178-e40240665e65</td>\n",
       "      <td>0.00000</td>\n",
       "      <td>...</td>\n",
       "      <td>0.00000</td>\n",
       "      <td>237</td>\n",
       "      <td>False</td>\n",
       "      <td>[0xaf204776c7245bF4147c2612BF6e5972Ee483701]</td>\n",
       "      <td>NaN</td>\n",
       "      <td>NaN</td>\n",
       "      <td>0.00000</td>\n",
       "      <td>NaN</td>\n",
       "      <td>NaN</td>\n",
       "      <td>NaN</td>\n",
       "    </tr>\n",
       "    <tr>\n",
       "      <th>2490</th>\n",
       "      <td>Ethereum</td>\n",
       "      <td>morpho-blue</td>\n",
       "      <td>SUSDE</td>\n",
       "      <td>1481739</td>\n",
       "      <td>NaN</td>\n",
       "      <td>NaN</td>\n",
       "      <td>0.00000</td>\n",
       "      <td>[0x58D97B57BB95320F9a05dC918Aef65434969c2B2]</td>\n",
       "      <td>a3a5cf89-9a9e-4db7-8f6d-1af3d5714d79</td>\n",
       "      <td>NaN</td>\n",
       "      <td>...</td>\n",
       "      <td>0.72563</td>\n",
       "      <td>271</td>\n",
       "      <td>False</td>\n",
       "      <td>[0x9D39A5DE30e57443BfF2A8307A4256c8797A3497]</td>\n",
       "      <td>NaN</td>\n",
       "      <td>NaN</td>\n",
       "      <td>0.00000</td>\n",
       "      <td>NaN</td>\n",
       "      <td>NaN</td>\n",
       "      <td>NaN</td>\n",
       "    </tr>\n",
       "    <tr>\n",
       "      <th>2580</th>\n",
       "      <td>Ethereum</td>\n",
       "      <td>spark</td>\n",
       "      <td>SDAI</td>\n",
       "      <td>1389492</td>\n",
       "      <td>0.00000</td>\n",
       "      <td>NaN</td>\n",
       "      <td>0.00000</td>\n",
       "      <td>None</td>\n",
       "      <td>0b8fec3b-a715-4803-94ce-9fe3b7520b23</td>\n",
       "      <td>0.00000</td>\n",
       "      <td>...</td>\n",
       "      <td>0.00000</td>\n",
       "      <td>559</td>\n",
       "      <td>False</td>\n",
       "      <td>[0x83F20F44975D03b1b09e64809B757c47f942BEeA]</td>\n",
       "      <td>NaN</td>\n",
       "      <td>NaN</td>\n",
       "      <td>0.00000</td>\n",
       "      <td>NaN</td>\n",
       "      <td>NaN</td>\n",
       "      <td>NaN</td>\n",
       "    </tr>\n",
       "    <tr>\n",
       "      <th>2657</th>\n",
       "      <td>Polynomial</td>\n",
       "      <td>polynomial-liquidity</td>\n",
       "      <td>SUSDE</td>\n",
       "      <td>1319916</td>\n",
       "      <td>21.07238</td>\n",
       "      <td>14.43587</td>\n",
       "      <td>35.50824</td>\n",
       "      <td>[0x4200000000000000000000000000000000000042]</td>\n",
       "      <td>7ff7a98b-e813-416d-ac40-08fbbd3a69f2</td>\n",
       "      <td>0.68034</td>\n",
       "      <td>...</td>\n",
       "      <td>0.99290</td>\n",
       "      <td>76</td>\n",
       "      <td>False</td>\n",
       "      <td>None</td>\n",
       "      <td>NaN</td>\n",
       "      <td>NaN</td>\n",
       "      <td>47.43970</td>\n",
       "      <td>NaN</td>\n",
       "      <td>NaN</td>\n",
       "      <td>NaN</td>\n",
       "    </tr>\n",
       "    <tr>\n",
       "      <th>2705</th>\n",
       "      <td>Ethereum</td>\n",
       "      <td>morpho-blue</td>\n",
       "      <td>SUSDE</td>\n",
       "      <td>1274259</td>\n",
       "      <td>NaN</td>\n",
       "      <td>NaN</td>\n",
       "      <td>0.00000</td>\n",
       "      <td>[0x58D97B57BB95320F9a05dC918Aef65434969c2B2]</td>\n",
       "      <td>5822e6a4-29de-4462-8b2b-a14ae31f4da9</td>\n",
       "      <td>NaN</td>\n",
       "      <td>...</td>\n",
       "      <td>0.13470</td>\n",
       "      <td>88</td>\n",
       "      <td>False</td>\n",
       "      <td>[0x9D39A5DE30e57443BfF2A8307A4256c8797A3497]</td>\n",
       "      <td>NaN</td>\n",
       "      <td>NaN</td>\n",
       "      <td>0.00000</td>\n",
       "      <td>NaN</td>\n",
       "      <td>NaN</td>\n",
       "      <td>NaN</td>\n",
       "    </tr>\n",
       "    <tr>\n",
       "      <th>2846</th>\n",
       "      <td>Ethereum</td>\n",
       "      <td>fraxlend</td>\n",
       "      <td>SUSDE</td>\n",
       "      <td>1156812</td>\n",
       "      <td>14.38694</td>\n",
       "      <td>NaN</td>\n",
       "      <td>14.38694</td>\n",
       "      <td>None</td>\n",
       "      <td>1f68f2f4-e9f9-42ab-bd7d-5ff4569401f0</td>\n",
       "      <td>-5.49910</td>\n",
       "      <td>...</td>\n",
       "      <td>0.25839</td>\n",
       "      <td>232</td>\n",
       "      <td>False</td>\n",
       "      <td>[0x9D39A5DE30e57443BfF2A8307A4256c8797A3497]</td>\n",
       "      <td>NaN</td>\n",
       "      <td>NaN</td>\n",
       "      <td>19.10532</td>\n",
       "      <td>NaN</td>\n",
       "      <td>NaN</td>\n",
       "      <td>NaN</td>\n",
       "    </tr>\n",
       "    <tr>\n",
       "      <th>3292</th>\n",
       "      <td>Mantle</td>\n",
       "      <td>lendle</td>\n",
       "      <td>SUSDE</td>\n",
       "      <td>895960</td>\n",
       "      <td>0.00000</td>\n",
       "      <td>NaN</td>\n",
       "      <td>0.00000</td>\n",
       "      <td>None</td>\n",
       "      <td>c91016e0-d075-4bb4-a1c7-465f1c11dc14</td>\n",
       "      <td>0.00000</td>\n",
       "      <td>...</td>\n",
       "      <td>0.00000</td>\n",
       "      <td>11</td>\n",
       "      <td>False</td>\n",
       "      <td>[0x211Cc4DD073734dA055fbF44a2b4667d5E5fE5d2]</td>\n",
       "      <td>NaN</td>\n",
       "      <td>NaN</td>\n",
       "      <td>0.00000</td>\n",
       "      <td>NaN</td>\n",
       "      <td>NaN</td>\n",
       "      <td>NaN</td>\n",
       "    </tr>\n",
       "    <tr>\n",
       "      <th>3474</th>\n",
       "      <td>Ethereum</td>\n",
       "      <td>stakedao</td>\n",
       "      <td>SUSDE</td>\n",
       "      <td>804857</td>\n",
       "      <td>21.11420</td>\n",
       "      <td>0.00000</td>\n",
       "      <td>21.11420</td>\n",
       "      <td>[]</td>\n",
       "      <td>ab68f5ca-cda0-4a02-b5f7-c02e3800eaf8</td>\n",
       "      <td>-0.94608</td>\n",
       "      <td>...</td>\n",
       "      <td>0.03930</td>\n",
       "      <td>2</td>\n",
       "      <td>False</td>\n",
       "      <td>[0x9d39a5de30e57443bff2a8307a4256c8797a3497]</td>\n",
       "      <td>NaN</td>\n",
       "      <td>NaN</td>\n",
       "      <td>22.11388</td>\n",
       "      <td>NaN</td>\n",
       "      <td>NaN</td>\n",
       "      <td>NaN</td>\n",
       "    </tr>\n",
       "    <tr>\n",
       "      <th>3491</th>\n",
       "      <td>Ethereum</td>\n",
       "      <td>morpho-blue</td>\n",
       "      <td>SUSDE</td>\n",
       "      <td>799081</td>\n",
       "      <td>NaN</td>\n",
       "      <td>NaN</td>\n",
       "      <td>0.00000</td>\n",
       "      <td>[]</td>\n",
       "      <td>f93997bb-1a54-45fa-908a-532cd5b142fa</td>\n",
       "      <td>NaN</td>\n",
       "      <td>...</td>\n",
       "      <td>0.48903</td>\n",
       "      <td>268</td>\n",
       "      <td>False</td>\n",
       "      <td>[0x9D39A5DE30e57443BfF2A8307A4256c8797A3497]</td>\n",
       "      <td>NaN</td>\n",
       "      <td>NaN</td>\n",
       "      <td>0.00000</td>\n",
       "      <td>NaN</td>\n",
       "      <td>NaN</td>\n",
       "      <td>NaN</td>\n",
       "    </tr>\n",
       "    <tr>\n",
       "      <th>4266</th>\n",
       "      <td>Ethereum</td>\n",
       "      <td>stakedao</td>\n",
       "      <td>SUSDE</td>\n",
       "      <td>559095</td>\n",
       "      <td>20.72696</td>\n",
       "      <td>9.39969</td>\n",
       "      <td>30.12666</td>\n",
       "      <td>[0x808507121B80c02388fAd14726482e061B8da827]</td>\n",
       "      <td>3c81e410-8202-4cd6-91c3-b3f5ed7db5b6</td>\n",
       "      <td>-0.93670</td>\n",
       "      <td>...</td>\n",
       "      <td>0.08646</td>\n",
       "      <td>13</td>\n",
       "      <td>False</td>\n",
       "      <td>[0x9d39a5de30e57443bff2a8307a4256c8797a3497]</td>\n",
       "      <td>NaN</td>\n",
       "      <td>NaN</td>\n",
       "      <td>28.55953</td>\n",
       "      <td>NaN</td>\n",
       "      <td>NaN</td>\n",
       "      <td>NaN</td>\n",
       "    </tr>\n",
       "    <tr>\n",
       "      <th>6412</th>\n",
       "      <td>Ethereum</td>\n",
       "      <td>morpho-blue</td>\n",
       "      <td>SDAI</td>\n",
       "      <td>253443</td>\n",
       "      <td>NaN</td>\n",
       "      <td>NaN</td>\n",
       "      <td>0.00000</td>\n",
       "      <td>[0x58D97B57BB95320F9a05dC918Aef65434969c2B2]</td>\n",
       "      <td>131f839b-fad9-452d-8371-5452770f34ed</td>\n",
       "      <td>NaN</td>\n",
       "      <td>...</td>\n",
       "      <td>0.10462</td>\n",
       "      <td>143</td>\n",
       "      <td>False</td>\n",
       "      <td>[0x83F20F44975D03b1b09e64809B757c47f942BEeA]</td>\n",
       "      <td>NaN</td>\n",
       "      <td>NaN</td>\n",
       "      <td>0.00000</td>\n",
       "      <td>NaN</td>\n",
       "      <td>NaN</td>\n",
       "      <td>NaN</td>\n",
       "    </tr>\n",
       "    <tr>\n",
       "      <th>6658</th>\n",
       "      <td>Ethereum</td>\n",
       "      <td>dforce</td>\n",
       "      <td>SDAI</td>\n",
       "      <td>233038</td>\n",
       "      <td>0.00000</td>\n",
       "      <td>0.00000</td>\n",
       "      <td>0.00000</td>\n",
       "      <td>[0x431ad2ff6a9c365805ebad47ee021148d6f7dbe0]</td>\n",
       "      <td>06863caf-1572-43fa-8816-8736c544d84f</td>\n",
       "      <td>0.00000</td>\n",
       "      <td>...</td>\n",
       "      <td>0.00000</td>\n",
       "      <td>472</td>\n",
       "      <td>False</td>\n",
       "      <td>[0x83F20F44975D03b1b09e64809B757c47f942BEeA]</td>\n",
       "      <td>NaN</td>\n",
       "      <td>NaN</td>\n",
       "      <td>0.00000</td>\n",
       "      <td>NaN</td>\n",
       "      <td>NaN</td>\n",
       "      <td>NaN</td>\n",
       "    </tr>\n",
       "    <tr>\n",
       "      <th>6830</th>\n",
       "      <td>Ethereum</td>\n",
       "      <td>morpho-blue</td>\n",
       "      <td>SDAI</td>\n",
       "      <td>221163</td>\n",
       "      <td>NaN</td>\n",
       "      <td>NaN</td>\n",
       "      <td>0.00000</td>\n",
       "      <td>[0x58D97B57BB95320F9a05dC918Aef65434969c2B2]</td>\n",
       "      <td>5c14247f-9b7b-4451-a897-20d97a1030d4</td>\n",
       "      <td>NaN</td>\n",
       "      <td>...</td>\n",
       "      <td>0.10976</td>\n",
       "      <td>104</td>\n",
       "      <td>False</td>\n",
       "      <td>[0x83F20F44975D03b1b09e64809B757c47f942BEeA]</td>\n",
       "      <td>NaN</td>\n",
       "      <td>NaN</td>\n",
       "      <td>0.00000</td>\n",
       "      <td>NaN</td>\n",
       "      <td>NaN</td>\n",
       "      <td>NaN</td>\n",
       "    </tr>\n",
       "    <tr>\n",
       "      <th>7125</th>\n",
       "      <td>Ethereum</td>\n",
       "      <td>morpho-blue</td>\n",
       "      <td>SDAI</td>\n",
       "      <td>202358</td>\n",
       "      <td>NaN</td>\n",
       "      <td>NaN</td>\n",
       "      <td>0.00000</td>\n",
       "      <td>[0x58D97B57BB95320F9a05dC918Aef65434969c2B2]</td>\n",
       "      <td>3cb6df06-b6cb-4103-9d6a-a11bd3a897c3</td>\n",
       "      <td>NaN</td>\n",
       "      <td>...</td>\n",
       "      <td>0.07662</td>\n",
       "      <td>103</td>\n",
       "      <td>False</td>\n",
       "      <td>[0x83F20F44975D03b1b09e64809B757c47f942BEeA]</td>\n",
       "      <td>NaN</td>\n",
       "      <td>NaN</td>\n",
       "      <td>0.00000</td>\n",
       "      <td>NaN</td>\n",
       "      <td>NaN</td>\n",
       "      <td>NaN</td>\n",
       "    </tr>\n",
       "    <tr>\n",
       "      <th>7380</th>\n",
       "      <td>Gnosis</td>\n",
       "      <td>hyperdrive</td>\n",
       "      <td>SDAI</td>\n",
       "      <td>182864</td>\n",
       "      <td>8.41492</td>\n",
       "      <td>NaN</td>\n",
       "      <td>8.41492</td>\n",
       "      <td>None</td>\n",
       "      <td>cca37b9c-791c-4be6-88b9-51770aba4940</td>\n",
       "      <td>0.00000</td>\n",
       "      <td>...</td>\n",
       "      <td>0.00001</td>\n",
       "      <td>18</td>\n",
       "      <td>False</td>\n",
       "      <td>[0xaf204776c7245bF4147c2612BF6e5972Ee483701]</td>\n",
       "      <td>NaN</td>\n",
       "      <td>NaN</td>\n",
       "      <td>8.41479</td>\n",
       "      <td>NaN</td>\n",
       "      <td>NaN</td>\n",
       "      <td>NaN</td>\n",
       "    </tr>\n",
       "    <tr>\n",
       "      <th>8211</th>\n",
       "      <td>Ethereum</td>\n",
       "      <td>morpho-blue</td>\n",
       "      <td>SUSDE</td>\n",
       "      <td>132918</td>\n",
       "      <td>NaN</td>\n",
       "      <td>NaN</td>\n",
       "      <td>0.00000</td>\n",
       "      <td>[]</td>\n",
       "      <td>de41ac69-f43f-4b39-a883-8dbf7b738988</td>\n",
       "      <td>NaN</td>\n",
       "      <td>...</td>\n",
       "      <td>0.73205</td>\n",
       "      <td>268</td>\n",
       "      <td>False</td>\n",
       "      <td>[0x9D39A5DE30e57443BfF2A8307A4256c8797A3497]</td>\n",
       "      <td>NaN</td>\n",
       "      <td>NaN</td>\n",
       "      <td>0.00000</td>\n",
       "      <td>NaN</td>\n",
       "      <td>NaN</td>\n",
       "      <td>NaN</td>\n",
       "    </tr>\n",
       "    <tr>\n",
       "      <th>8833</th>\n",
       "      <td>Polynomial</td>\n",
       "      <td>polynomial-liquidity</td>\n",
       "      <td>SDAI</td>\n",
       "      <td>104394</td>\n",
       "      <td>21.24994</td>\n",
       "      <td>14.43587</td>\n",
       "      <td>35.68580</td>\n",
       "      <td>[0x4200000000000000000000000000000000000042]</td>\n",
       "      <td>d369186d-86ee-4781-a826-676337a06ac9</td>\n",
       "      <td>0.67814</td>\n",
       "      <td>...</td>\n",
       "      <td>0.80780</td>\n",
       "      <td>76</td>\n",
       "      <td>False</td>\n",
       "      <td>None</td>\n",
       "      <td>NaN</td>\n",
       "      <td>NaN</td>\n",
       "      <td>38.74319</td>\n",
       "      <td>NaN</td>\n",
       "      <td>NaN</td>\n",
       "      <td>NaN</td>\n",
       "    </tr>\n",
       "    <tr>\n",
       "      <th>10372</th>\n",
       "      <td>Ethereum</td>\n",
       "      <td>stakedao</td>\n",
       "      <td>SUSDE</td>\n",
       "      <td>60597</td>\n",
       "      <td>23.74932</td>\n",
       "      <td>0.00000</td>\n",
       "      <td>23.74932</td>\n",
       "      <td>[]</td>\n",
       "      <td>0c21e7b4-3ba9-49fb-bad8-59b1acf6038e</td>\n",
       "      <td>-0.84456</td>\n",
       "      <td>...</td>\n",
       "      <td>0.49329</td>\n",
       "      <td>78</td>\n",
       "      <td>False</td>\n",
       "      <td>[0x9d39a5de30e57443bff2a8307a4256c8797a3497]</td>\n",
       "      <td>NaN</td>\n",
       "      <td>NaN</td>\n",
       "      <td>36.12937</td>\n",
       "      <td>NaN</td>\n",
       "      <td>NaN</td>\n",
       "      <td>NaN</td>\n",
       "    </tr>\n",
       "    <tr>\n",
       "      <th>11496</th>\n",
       "      <td>Ethereum</td>\n",
       "      <td>morpho-blue</td>\n",
       "      <td>SDAI</td>\n",
       "      <td>42154</td>\n",
       "      <td>NaN</td>\n",
       "      <td>NaN</td>\n",
       "      <td>0.00000</td>\n",
       "      <td>[0x58D97B57BB95320F9a05dC918Aef65434969c2B2]</td>\n",
       "      <td>885448dd-825c-4649-b28d-99c03da97477</td>\n",
       "      <td>NaN</td>\n",
       "      <td>...</td>\n",
       "      <td>0.12830</td>\n",
       "      <td>134</td>\n",
       "      <td>False</td>\n",
       "      <td>[0x83F20F44975D03b1b09e64809B757c47f942BEeA]</td>\n",
       "      <td>NaN</td>\n",
       "      <td>NaN</td>\n",
       "      <td>0.00000</td>\n",
       "      <td>NaN</td>\n",
       "      <td>NaN</td>\n",
       "      <td>NaN</td>\n",
       "    </tr>\n",
       "    <tr>\n",
       "      <th>12495</th>\n",
       "      <td>Ethereum</td>\n",
       "      <td>uwu-lend</td>\n",
       "      <td>SUSDE</td>\n",
       "      <td>30538</td>\n",
       "      <td>0.00000</td>\n",
       "      <td>0.00000</td>\n",
       "      <td>0.00000</td>\n",
       "      <td>[0x55c08ca52497e2f1534b59e2917bf524d4765257]</td>\n",
       "      <td>f7b5cefd-821e-4d9f-90cd-db63084f8a55</td>\n",
       "      <td>0.00000</td>\n",
       "      <td>...</td>\n",
       "      <td>0.24053</td>\n",
       "      <td>221</td>\n",
       "      <td>False</td>\n",
       "      <td>[0x9D39A5DE30e57443BfF2A8307A4256c8797A3497]</td>\n",
       "      <td>NaN</td>\n",
       "      <td>NaN</td>\n",
       "      <td>0.00000</td>\n",
       "      <td>NaN</td>\n",
       "      <td>NaN</td>\n",
       "      <td>NaN</td>\n",
       "    </tr>\n",
       "    <tr>\n",
       "      <th>13021</th>\n",
       "      <td>Ethereum</td>\n",
       "      <td>hyperdrive</td>\n",
       "      <td>SDAI</td>\n",
       "      <td>25907</td>\n",
       "      <td>7.05593</td>\n",
       "      <td>NaN</td>\n",
       "      <td>7.05593</td>\n",
       "      <td>None</td>\n",
       "      <td>9b45c088-c9e7-4fdf-98a3-bf1c85d61982</td>\n",
       "      <td>0.00000</td>\n",
       "      <td>...</td>\n",
       "      <td>0.00000</td>\n",
       "      <td>18</td>\n",
       "      <td>False</td>\n",
       "      <td>[0x83F20F44975D03b1b09e64809B757c47f942BEeA]</td>\n",
       "      <td>NaN</td>\n",
       "      <td>NaN</td>\n",
       "      <td>7.05593</td>\n",
       "      <td>NaN</td>\n",
       "      <td>NaN</td>\n",
       "      <td>NaN</td>\n",
       "    </tr>\n",
       "  </tbody>\n",
       "</table>\n",
       "<p>40 rows × 28 columns</p>\n",
       "</div>"
      ],
      "text/plain": [
       "            chain               project symbol      tvlUsd   apyBase  \\\n",
       "6        Ethereum           ethena-usde  SUSDE  3918238295  14.27796   \n",
       "20       Ethereum               aave-v3  SUSDE  1140150273   0.00000   \n",
       "115      Ethereum                pendle  SUSDE   134184494  23.69912   \n",
       "116      Ethereum                pendle  SUSDE   134184494  23.33397   \n",
       "171      Ethereum           morpho-blue  SUSDE    87012504       NaN   \n",
       "174      Ethereum                pendle  SUSDE    85045429  21.06018   \n",
       "175      Ethereum                pendle  SUSDE    85045429  23.51730   \n",
       "182      Ethereum                pendle  SUSDE    80783164  20.65749   \n",
       "183      Ethereum                pendle  SUSDE    80783164  19.30039   \n",
       "209        Gnosis                  sdai   SDAI    69069398       NaN   \n",
       "245      Ethereum           morpho-blue  SUSDE    56701140       NaN   \n",
       "288      Ethereum               aave-v3  SUSDE    45610323   0.00000   \n",
       "458      Ethereum                pendle  SUSDE    23165514  20.92749   \n",
       "459      Ethereum                pendle  SUSDE    23165514  23.80483   \n",
       "471        Gnosis               aave-v3   SDAI    22414280   0.00000   \n",
       "580      Ethereum           morpho-blue  SUSDE    15855941       NaN   \n",
       "973      Ethereum               aave-v3   SDAI     7118636   0.00000   \n",
       "1434     Ethereum  inverse-finance-firm  SUSDE     3859936   0.00000   \n",
       "1743     Ethereum           morpho-blue  SUSDE     2717112       NaN   \n",
       "1918       Gnosis                 spark   SDAI     2286238   0.00000   \n",
       "2490     Ethereum           morpho-blue  SUSDE     1481739       NaN   \n",
       "2580     Ethereum                 spark   SDAI     1389492   0.00000   \n",
       "2657   Polynomial  polynomial-liquidity  SUSDE     1319916  21.07238   \n",
       "2705     Ethereum           morpho-blue  SUSDE     1274259       NaN   \n",
       "2846     Ethereum              fraxlend  SUSDE     1156812  14.38694   \n",
       "3292       Mantle                lendle  SUSDE      895960   0.00000   \n",
       "3474     Ethereum              stakedao  SUSDE      804857  21.11420   \n",
       "3491     Ethereum           morpho-blue  SUSDE      799081       NaN   \n",
       "4266     Ethereum              stakedao  SUSDE      559095  20.72696   \n",
       "6412     Ethereum           morpho-blue   SDAI      253443       NaN   \n",
       "6658     Ethereum                dforce   SDAI      233038   0.00000   \n",
       "6830     Ethereum           morpho-blue   SDAI      221163       NaN   \n",
       "7125     Ethereum           morpho-blue   SDAI      202358       NaN   \n",
       "7380       Gnosis            hyperdrive   SDAI      182864   8.41492   \n",
       "8211     Ethereum           morpho-blue  SUSDE      132918       NaN   \n",
       "8833   Polynomial  polynomial-liquidity   SDAI      104394  21.24994   \n",
       "10372    Ethereum              stakedao  SUSDE       60597  23.74932   \n",
       "11496    Ethereum           morpho-blue   SDAI       42154       NaN   \n",
       "12495    Ethereum              uwu-lend  SUSDE       30538   0.00000   \n",
       "13021    Ethereum            hyperdrive   SDAI       25907   7.05593   \n",
       "\n",
       "       apyReward       apy                                  rewardTokens  \\\n",
       "6            NaN  14.27796                                          None   \n",
       "20           NaN   0.00000                                          None   \n",
       "115      1.42544  25.12456  [0x808507121b80c02388fad14726482e061b8da827]   \n",
       "116          NaN  23.33397                                          None   \n",
       "171          NaN   0.00000  [0x58D97B57BB95320F9a05dC918Aef65434969c2B2]   \n",
       "174      1.46838  22.52856  [0x808507121b80c02388fad14726482e061b8da827]   \n",
       "175          NaN  23.51730                                          None   \n",
       "182      4.03754  24.69503  [0x808507121b80c02388fad14726482e061b8da827]   \n",
       "183          NaN  19.30039                                          None   \n",
       "209          NaN  14.13902                                          None   \n",
       "245          NaN   0.00000  [0x58D97B57BB95320F9a05dC918Aef65434969c2B2]   \n",
       "288          NaN   0.00000                                          None   \n",
       "458      8.56935  29.49684  [0x808507121b80c02388fad14726482e061b8da827]   \n",
       "459          NaN  23.80483                                          None   \n",
       "471          NaN   0.00000                                          None   \n",
       "580          NaN   0.00000  [0x58D97B57BB95320F9a05dC918Aef65434969c2B2]   \n",
       "973          NaN   0.00000                                          None   \n",
       "1434         NaN   0.00000                                          None   \n",
       "1743         NaN   0.00000                                            []   \n",
       "1918         NaN   0.00000                                          None   \n",
       "2490         NaN   0.00000  [0x58D97B57BB95320F9a05dC918Aef65434969c2B2]   \n",
       "2580         NaN   0.00000                                          None   \n",
       "2657    14.43587  35.50824  [0x4200000000000000000000000000000000000042]   \n",
       "2705         NaN   0.00000  [0x58D97B57BB95320F9a05dC918Aef65434969c2B2]   \n",
       "2846         NaN  14.38694                                          None   \n",
       "3292         NaN   0.00000                                          None   \n",
       "3474     0.00000  21.11420                                            []   \n",
       "3491         NaN   0.00000                                            []   \n",
       "4266     9.39969  30.12666  [0x808507121B80c02388fAd14726482e061B8da827]   \n",
       "6412         NaN   0.00000  [0x58D97B57BB95320F9a05dC918Aef65434969c2B2]   \n",
       "6658     0.00000   0.00000  [0x431ad2ff6a9c365805ebad47ee021148d6f7dbe0]   \n",
       "6830         NaN   0.00000  [0x58D97B57BB95320F9a05dC918Aef65434969c2B2]   \n",
       "7125         NaN   0.00000  [0x58D97B57BB95320F9a05dC918Aef65434969c2B2]   \n",
       "7380         NaN   8.41492                                          None   \n",
       "8211         NaN   0.00000                                            []   \n",
       "8833    14.43587  35.68580  [0x4200000000000000000000000000000000000042]   \n",
       "10372    0.00000  23.74932                                            []   \n",
       "11496        NaN   0.00000  [0x58D97B57BB95320F9a05dC918Aef65434969c2B2]   \n",
       "12495    0.00000   0.00000  [0x55c08ca52497e2f1534b59e2917bf524d4765257]   \n",
       "13021        NaN   7.05593                                          None   \n",
       "\n",
       "                                       pool  apyPct1D  ...    sigma  count  \\\n",
       "6      66985a81-9c51-46ca-9977-42b4fe7bc6df   0.02584  ...  0.45152    310   \n",
       "20     29932dea-cd71-44c3-95bd-3e1525f4e3dd   0.00000  ...  0.00000    179   \n",
       "115    bed5f04d-d921-4b88-87b6-8a9972201d29  -0.83272  ...  0.20443     92   \n",
       "116    6b28892f-0909-418d-b4bb-3106fff72449  -0.78333  ...  0.20421     92   \n",
       "171    c0921c0f-51aa-45b8-87e3-5eec59a6972b       NaN  ...  0.41164    268   \n",
       "174    992d00f3-d43f-44fe-8b62-987e8610c9a8  -0.95449  ...  0.35415    157   \n",
       "175    104f1152-d692-4e9f-9e79-db1dddd70891  -0.26587  ...  0.28299    157   \n",
       "182    b3e2002b-c857-451c-ad63-a7ff1c0634be  -0.70210  ...  0.28470     41   \n",
       "183    606e53bf-ea88-4d4e-92b8-fcd6e97e4106   0.23052  ...  0.08309     41   \n",
       "209    13392973-be6e-4b2f-bce9-4f7dd53d1c3a  -0.05608  ...  0.17076    442   \n",
       "245    51de19bd-d2a6-420e-9bbd-350c967b23d0       NaN  ...  0.44417    270   \n",
       "288    d25b5f1e-3368-4c79-a876-479834b15195   0.00000  ...  0.00000     36   \n",
       "458    8cd17c7a-e683-4af1-9dbf-b9b960027192  -1.31112  ...  0.22978     13   \n",
       "459    6fce4eaf-c0ad-4713-9c69-c6ecc3fdbf54   0.60355  ...  0.08613     13   \n",
       "471    32f04d80-25f9-439f-838d-3b15becf2d21   0.00000  ...  0.00000    332   \n",
       "580    b45c27e7-225e-407c-8405-1eb29a096bf1       NaN  ...  0.00000     34   \n",
       "973    a214e900-2bcd-431f-9744-632fa5436fee   0.00000  ...  0.00000    482   \n",
       "1434   467f3e33-f32d-4b5a-a643-fc6755f4ebbc   0.00000  ...  0.00000     98   \n",
       "1743   c7fe2c3c-d765-44df-8a30-9e2cf9cdad35       NaN  ...  0.00000     20   \n",
       "1918   bb335c51-2bb4-4fab-8178-e40240665e65   0.00000  ...  0.00000    237   \n",
       "2490   a3a5cf89-9a9e-4db7-8f6d-1af3d5714d79       NaN  ...  0.72563    271   \n",
       "2580   0b8fec3b-a715-4803-94ce-9fe3b7520b23   0.00000  ...  0.00000    559   \n",
       "2657   7ff7a98b-e813-416d-ac40-08fbbd3a69f2   0.68034  ...  0.99290     76   \n",
       "2705   5822e6a4-29de-4462-8b2b-a14ae31f4da9       NaN  ...  0.13470     88   \n",
       "2846   1f68f2f4-e9f9-42ab-bd7d-5ff4569401f0  -5.49910  ...  0.25839    232   \n",
       "3292   c91016e0-d075-4bb4-a1c7-465f1c11dc14   0.00000  ...  0.00000     11   \n",
       "3474   ab68f5ca-cda0-4a02-b5f7-c02e3800eaf8  -0.94608  ...  0.03930      2   \n",
       "3491   f93997bb-1a54-45fa-908a-532cd5b142fa       NaN  ...  0.48903    268   \n",
       "4266   3c81e410-8202-4cd6-91c3-b3f5ed7db5b6  -0.93670  ...  0.08646     13   \n",
       "6412   131f839b-fad9-452d-8371-5452770f34ed       NaN  ...  0.10462    143   \n",
       "6658   06863caf-1572-43fa-8816-8736c544d84f   0.00000  ...  0.00000    472   \n",
       "6830   5c14247f-9b7b-4451-a897-20d97a1030d4       NaN  ...  0.10976    104   \n",
       "7125   3cb6df06-b6cb-4103-9d6a-a11bd3a897c3       NaN  ...  0.07662    103   \n",
       "7380   cca37b9c-791c-4be6-88b9-51770aba4940   0.00000  ...  0.00001     18   \n",
       "8211   de41ac69-f43f-4b39-a883-8dbf7b738988       NaN  ...  0.73205    268   \n",
       "8833   d369186d-86ee-4781-a826-676337a06ac9   0.67814  ...  0.80780     76   \n",
       "10372  0c21e7b4-3ba9-49fb-bad8-59b1acf6038e  -0.84456  ...  0.49329     78   \n",
       "11496  885448dd-825c-4649-b28d-99c03da97477       NaN  ...  0.12830    134   \n",
       "12495  f7b5cefd-821e-4d9f-90cd-db63084f8a55   0.00000  ...  0.24053    221   \n",
       "13021  9b45c088-c9e7-4fdf-98a3-bf1c85d61982   0.00000  ...  0.00000     18   \n",
       "\n",
       "       outlier                                   underlyingTokens il7d  \\\n",
       "6        False                                               None  NaN   \n",
       "20       False       [0x9D39A5DE30e57443BfF2A8307A4256c8797A3497]  NaN   \n",
       "115      False  [0xe00bd3df25fb187d6abbb620b3dfd19839947b81, 0...  NaN   \n",
       "116      False       [0x9d39a5de30e57443bff2a8307a4256c8797a3497]  NaN   \n",
       "171      False       [0x9D39A5DE30e57443BfF2A8307A4256c8797A3497]  NaN   \n",
       "174      False  [0xee9085fc268f6727d5d4293dbabccf901ffdcc29, 0...  NaN   \n",
       "175      False       [0x9d39a5de30e57443bff2a8307a4256c8797a3497]  NaN   \n",
       "182      False  [0xb7de5dfcb74d25c2f21841fbd6230355c50d9308, 0...  NaN   \n",
       "183      False       [0x9d39a5de30e57443bff2a8307a4256c8797a3497]  NaN   \n",
       "209      False                                               None  NaN   \n",
       "245      False       [0x9D39A5DE30e57443BfF2A8307A4256c8797A3497]  NaN   \n",
       "288      False       [0x9D39A5DE30e57443BfF2A8307A4256c8797A3497]  NaN   \n",
       "458      False  [0x386ae941d4262b0ee96354499df2ab8442734ec0, 0...  NaN   \n",
       "459      False       [0x9d39a5de30e57443bff2a8307a4256c8797a3497]  NaN   \n",
       "471      False       [0xaf204776c7245bF4147c2612BF6e5972Ee483701]  NaN   \n",
       "580      False       [0x9D39A5DE30e57443BfF2A8307A4256c8797A3497]  NaN   \n",
       "973      False       [0x83F20F44975D03b1b09e64809B757c47f942BEeA]  NaN   \n",
       "1434     False       [0x9D39A5DE30e57443BfF2A8307A4256c8797A3497]  NaN   \n",
       "1743     False       [0x9D39A5DE30e57443BfF2A8307A4256c8797A3497]  NaN   \n",
       "1918     False       [0xaf204776c7245bF4147c2612BF6e5972Ee483701]  NaN   \n",
       "2490     False       [0x9D39A5DE30e57443BfF2A8307A4256c8797A3497]  NaN   \n",
       "2580     False       [0x83F20F44975D03b1b09e64809B757c47f942BEeA]  NaN   \n",
       "2657     False                                               None  NaN   \n",
       "2705     False       [0x9D39A5DE30e57443BfF2A8307A4256c8797A3497]  NaN   \n",
       "2846     False       [0x9D39A5DE30e57443BfF2A8307A4256c8797A3497]  NaN   \n",
       "3292     False       [0x211Cc4DD073734dA055fbF44a2b4667d5E5fE5d2]  NaN   \n",
       "3474     False       [0x9d39a5de30e57443bff2a8307a4256c8797a3497]  NaN   \n",
       "3491     False       [0x9D39A5DE30e57443BfF2A8307A4256c8797A3497]  NaN   \n",
       "4266     False       [0x9d39a5de30e57443bff2a8307a4256c8797a3497]  NaN   \n",
       "6412     False       [0x83F20F44975D03b1b09e64809B757c47f942BEeA]  NaN   \n",
       "6658     False       [0x83F20F44975D03b1b09e64809B757c47f942BEeA]  NaN   \n",
       "6830     False       [0x83F20F44975D03b1b09e64809B757c47f942BEeA]  NaN   \n",
       "7125     False       [0x83F20F44975D03b1b09e64809B757c47f942BEeA]  NaN   \n",
       "7380     False       [0xaf204776c7245bF4147c2612BF6e5972Ee483701]  NaN   \n",
       "8211     False       [0x9D39A5DE30e57443BfF2A8307A4256c8797A3497]  NaN   \n",
       "8833     False                                               None  NaN   \n",
       "10372    False       [0x9d39a5de30e57443bff2a8307a4256c8797a3497]  NaN   \n",
       "11496    False       [0x83F20F44975D03b1b09e64809B757c47f942BEeA]  NaN   \n",
       "12495    False       [0x9D39A5DE30e57443BfF2A8307A4256c8797A3497]  NaN   \n",
       "13021    False       [0x83F20F44975D03b1b09e64809B757c47f942BEeA]  NaN   \n",
       "\n",
       "      apyBase7d apyMean30d  volumeUsd1d  volumeUsd7d  apyBaseInception  \n",
       "6           NaN   23.94668          NaN          NaN               NaN  \n",
       "20          NaN    0.00000          NaN          NaN               NaN  \n",
       "115         NaN   27.01413          NaN          NaN               NaN  \n",
       "116         NaN   23.65585          NaN          NaN               NaN  \n",
       "171         NaN    0.00000          NaN          NaN               NaN  \n",
       "174         NaN   28.04543          NaN          NaN               NaN  \n",
       "175         NaN   28.15818          NaN          NaN               NaN  \n",
       "182         NaN   30.48992          NaN          NaN               NaN  \n",
       "183         NaN   20.60877          NaN          NaN               NaN  \n",
       "209         NaN   11.62683          NaN          NaN               NaN  \n",
       "245         NaN    0.00000          NaN          NaN               NaN  \n",
       "288         NaN    0.00000          NaN          NaN               NaN  \n",
       "458         NaN   37.39603          NaN          NaN               NaN  \n",
       "459         NaN   25.17678          NaN          NaN               NaN  \n",
       "471         NaN    0.00000          NaN          NaN               NaN  \n",
       "580         NaN    0.00000          NaN          NaN               NaN  \n",
       "973         NaN    0.00000          NaN          NaN               NaN  \n",
       "1434        NaN    0.00000          NaN          NaN               NaN  \n",
       "1743        NaN    0.00000          NaN          NaN               NaN  \n",
       "1918        NaN    0.00000          NaN          NaN               NaN  \n",
       "2490        NaN    0.00000          NaN          NaN               NaN  \n",
       "2580        NaN    0.00000          NaN          NaN               NaN  \n",
       "2657        NaN   47.43970          NaN          NaN               NaN  \n",
       "2705        NaN    0.00000          NaN          NaN               NaN  \n",
       "2846        NaN   19.10532          NaN          NaN               NaN  \n",
       "3292        NaN    0.00000          NaN          NaN               NaN  \n",
       "3474        NaN   22.11388          NaN          NaN               NaN  \n",
       "3491        NaN    0.00000          NaN          NaN               NaN  \n",
       "4266        NaN   28.55953          NaN          NaN               NaN  \n",
       "6412        NaN    0.00000          NaN          NaN               NaN  \n",
       "6658        NaN    0.00000          NaN          NaN               NaN  \n",
       "6830        NaN    0.00000          NaN          NaN               NaN  \n",
       "7125        NaN    0.00000          NaN          NaN               NaN  \n",
       "7380        NaN    8.41479          NaN          NaN               NaN  \n",
       "8211        NaN    0.00000          NaN          NaN               NaN  \n",
       "8833        NaN   38.74319          NaN          NaN               NaN  \n",
       "10372       NaN   36.12937          NaN          NaN               NaN  \n",
       "11496       NaN    0.00000          NaN          NaN               NaN  \n",
       "12495       NaN    0.00000          NaN          NaN               NaN  \n",
       "13021       NaN    7.05593          NaN          NaN               NaN  \n",
       "\n",
       "[40 rows x 28 columns]"
      ]
     },
     "execution_count": 74,
     "metadata": {},
     "output_type": "execute_result"
    }
   ],
   "source": [
    "pool_data = pd.DataFrame(data['data'])\n",
    "pool_data[pool_data['symbol'].isin(['SDAI','SUSDE'])]"
   ]
  },
  {
   "cell_type": "code",
   "execution_count": 67,
   "metadata": {},
   "outputs": [
    {
     "name": "stderr",
     "output_type": "stream",
     "text": [
      "2024-12-23 00:52:56.785 No runtime found, using MemoryCacheStorageManager\n"
     ]
    }
   ],
   "source": [
    "@st.cache_data(ttl=timedelta(days=1))\n",
    "def defillama_yield(pools):\n",
    "    base_url = 'https://yields.llama.fi/chart/'\n",
    "\n",
    "    # Placeholder to store data for each pool\n",
    "    all_data = []\n",
    "\n",
    "    # Loop through each pool and retrieve data\n",
    "    for pool in pools:\n",
    "        url = f'{base_url}{pool}'\n",
    "        retries = 0\n",
    "        while retries < 5:\n",
    "            try:\n",
    "                response = requests.get(url)\n",
    "                response.raise_for_status()\n",
    "                data = response.json()\n",
    "                \n",
    "                # Extract individual records and add pool ID to each entry\n",
    "                for entry in data.get('data', []):\n",
    "                    entry['pool'] = pool\n",
    "                    all_data.append(entry)\n",
    "                \n",
    "                print(f\"Data retrieved successfully for pool: {pool}\")\n",
    "                time.sleep(2)\n",
    "                break\n",
    "            except RequestException as e:\n",
    "                retries += 1\n",
    "                wait_time = 2 ** retries  # Exponential backoff (2, 4, 8, 16, 32 seconds)\n",
    "                print(f\"Error: {e}. Retrying in {wait_time} seconds...\")\n",
    "                time.sleep(wait_time)\n",
    "\n",
    "    # Convert to a DataFrame\n",
    "    df = pd.DataFrame(all_data)\n",
    "    \n",
    "    # Convert 'timestamp' to datetime\n",
    "    df['timestamp'] = pd.to_datetime(df['timestamp'])\n",
    "    \n",
    "    return df"
   ]
  },
  {
   "cell_type": "code",
   "execution_count": 68,
   "metadata": {},
   "outputs": [
    {
     "ename": "NameError",
     "evalue": "name 'pools' is not defined",
     "output_type": "error",
     "traceback": [
      "\u001b[1;31m---------------------------------------------------------------------------\u001b[0m",
      "\u001b[1;31mNameError\u001b[0m                                 Traceback (most recent call last)",
      "Cell \u001b[1;32mIn[68], line 1\u001b[0m\n\u001b[1;32m----> 1\u001b[0m data \u001b[38;5;241m=\u001b[39m defillama_yield(\u001b[43mpools\u001b[49m)\n",
      "\u001b[1;31mNameError\u001b[0m: name 'pools' is not defined"
     ]
    }
   ],
   "source": [
    "# data = defillama_yield(pools)"
   ]
  }
 ],
 "metadata": {
  "kernelspec": {
   "display_name": "steth_optimizer",
   "language": "python",
   "name": "steth_optimizer"
  },
  "language_info": {
   "codemirror_mode": {
    "name": "ipython",
    "version": 3
   },
   "file_extension": ".py",
   "mimetype": "text/x-python",
   "name": "python",
   "nbconvert_exporter": "python",
   "pygments_lexer": "ipython3",
   "version": "3.11.9"
  }
 },
 "nbformat": 4,
 "nbformat_minor": 2
}
