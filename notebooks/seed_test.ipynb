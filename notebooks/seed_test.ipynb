{
 "cells": [
  {
   "cell_type": "code",
   "execution_count": 1,
   "metadata": {},
   "outputs": [],
   "source": [
    "import gymnasium as gym\n",
    "from gymnasium import spaces\n",
    "# from stable_baselines3 import PPO\n",
    "# from scipy.optimize import minimize, Bounds, LinearConstraint\n",
    "import plotly.graph_objs as go\n",
    "import pandas as pd\n",
    "import requests\n",
    "import numpy as np\n",
    "import yfinance as yf\n",
    "import matplotlib\n",
    "%matplotlib inline\n",
    "import random\n",
    "# import cvxpy as cp\n",
    "# import matplotlib.pyplot as plt\n",
    "import datetime as dt\n",
    "# from prophet import Prophet\n",
    "from sklearn.metrics import r2_score, mean_absolute_error\n",
    "# from stable_baselines3.common.vec_env import DummyVecEnv\n",
    "# import torch\n",
    "from flipside import Flipside\n",
    "\n",
    "import os\n",
    "from dotenv import load_dotenv\n",
    "\n",
    "import datetime as dt\n",
    "from datetime import timedelta\n",
    "import pytz  # Import pytz if using timezones\n",
    "\n",
    "from sklearn.linear_model import LinearRegression\n",
    "import tensorflow as tf\n",
    "import torch"
   ]
  },
  {
   "cell_type": "code",
   "execution_count": 2,
   "metadata": {},
   "outputs": [],
   "source": [
    "os.chdir('..')"
   ]
  },
  {
   "cell_type": "code",
   "execution_count": 3,
   "metadata": {},
   "outputs": [],
   "source": [
    "from python_scripts.utils import flipside_api_results, set_random_seed, to_time, clean_prices\n",
    "from sql_scripts.queries import prices, volume "
   ]
  },
  {
   "cell_type": "code",
   "execution_count": 4,
   "metadata": {},
   "outputs": [],
   "source": [
    "os.chdir('notebooks')"
   ]
  },
  {
   "cell_type": "code",
   "execution_count": 5,
   "metadata": {},
   "outputs": [],
   "source": [
    "seed=20\n",
    "set_random_seed(seed)"
   ]
  },
  {
   "cell_type": "code",
   "execution_count": 6,
   "metadata": {},
   "outputs": [
    {
     "name": "stdout",
     "output_type": "stream",
     "text": [
      "0.9056396761745207 0.5881308010772742 0.5614835619926453 0.78914285\n"
     ]
    }
   ],
   "source": [
    "random_number_python = random.random()\n",
    "random_number_numpy = np.random.rand()\n",
    "random_tensor_torch = torch.rand(1).item()\n",
    "random_tensor_tf = tf.random.uniform([1], 0, 1).numpy()[0]\n",
    "\n",
    "print(random_number_python, random_number_numpy, random_tensor_torch, random_tensor_tf)"
   ]
  }
 ],
 "metadata": {
  "kernelspec": {
   "display_name": "steth_optimizer",
   "language": "python",
   "name": "steth_optimizer"
  },
  "language_info": {
   "codemirror_mode": {
    "name": "ipython",
    "version": 3
   },
   "file_extension": ".py",
   "mimetype": "text/x-python",
   "name": "python",
   "nbconvert_exporter": "python",
   "pygments_lexer": "ipython3",
   "version": "3.11.9"
  }
 },
 "nbformat": 4,
 "nbformat_minor": 2
}
