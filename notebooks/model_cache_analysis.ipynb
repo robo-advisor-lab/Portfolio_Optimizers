{
 "cells": [
  {
   "cell_type": "code",
   "execution_count": 1,
   "metadata": {},
   "outputs": [],
   "source": [
    "import pandas as pd\n",
    "import requests\n",
    "import numpy as np\n",
    "import yfinance as yf\n",
    "%matplotlib inline\n",
    "import random\n",
    "import plotly.io as pio\n",
    "\n",
    "import datetime as dt\n",
    "import plotly.graph_objects as go\n",
    "\n",
    "import os\n",
    "from dotenv import load_dotenv\n",
    "\n",
    "import datetime as dt\n",
    "from datetime import timedelta\n",
    "\n",
    "from stable_baselines3 import PPO\n",
    "import re\n",
    "\n",
    "import streamlit as st\n",
    "\n",
    "from diskcache import Cache\n",
    "\n",
    "pio.templates[\"custom\"] = pio.templates[\"plotly\"]\n",
    "pio.templates[\"custom\"].layout.font.family = \"Cardo\"\n",
    "\n",
    "font_family = \"Cardo\"\n",
    "\n",
    "# Set the default template\n",
    "pio.templates.default = \"custom\""
   ]
  },
  {
   "cell_type": "code",
   "execution_count": 2,
   "metadata": {},
   "outputs": [
    {
     "data": {
      "text/plain": [
       "True"
      ]
     },
     "execution_count": 2,
     "metadata": {},
     "output_type": "execute_result"
    }
   ],
   "source": [
    "load_dotenv()"
   ]
  },
  {
   "cell_type": "code",
   "execution_count": 3,
   "metadata": {},
   "outputs": [],
   "source": [
    "COINGEKCO_KEY = os.getenv('COINGEKCO_KEY')"
   ]
  },
  {
   "cell_type": "code",
   "execution_count": 4,
   "metadata": {},
   "outputs": [],
   "source": [
    "def normalize_log_returns(log_returns_df, start_date, end_date, normalize_value=1e4):\n",
    "    start_date = pd.to_datetime(start_date)\n",
    "    end_date = pd.to_datetime(end_date)\n",
    "\n",
    "    # Filter the data based on the start date and end date\n",
    "    filtered_data = log_returns_df[(log_returns_df.index >= start_date) & \n",
    "                                   (log_returns_df.index <= end_date)].copy()\n",
    "    \n",
    "    if filtered_data.empty:\n",
    "        print(\"Filtered data is empty after applying the date filter.\")\n",
    "        return pd.DataFrame()\n",
    "\n",
    "    # Initialize normalized values\n",
    "    normalized_values = [normalize_value]\n",
    "    dates = [filtered_data.index[0]]  # Start date\n",
    "    versions = [filtered_data['version'].iloc[0]]  # Track the first version\n",
    "\n",
    "    # Compute normalized returns\n",
    "    for timestamp, log_return, version in zip(filtered_data.index, filtered_data['Return'], filtered_data['version']):\n",
    "        normalized_values.append(normalized_values[-1] * np.exp(log_return))\n",
    "        dates.append(timestamp)\n",
    "        versions.append(version)  # Track the version used at each timestamp\n",
    "\n",
    "    # Create DataFrame\n",
    "    normalized_returns_df = pd.DataFrame({\n",
    "        'Normalized_Return': normalized_values[1:],  # Exclude initial value\n",
    "        'version': versions[1:]  # Exclude initial version\n",
    "    }, index=dates[1:])\n",
    "\n",
    "    return normalized_returns_df"
   ]
  },
  {
   "cell_type": "code",
   "execution_count": 5,
   "metadata": {},
   "outputs": [
    {
     "data": {
      "text/plain": [
       "['.ipynb_checkpoints',\n",
       " 'eda.ipynb',\n",
       " 'flipside_tests.ipynb',\n",
       " 'live_arbitrum_classifier_cache',\n",
       " 'live_model.ipynb',\n",
       " 'model_cache_analysis.ipynb',\n",
       " 'rebal_func.ipynb',\n",
       " 'seed_test.ipynb',\n",
       " 'train_model.ipynb']"
      ]
     },
     "execution_count": 5,
     "metadata": {},
     "output_type": "execute_result"
    }
   ],
   "source": [
    "os.listdir()"
   ]
  },
  {
   "cell_type": "code",
   "execution_count": 6,
   "metadata": {},
   "outputs": [],
   "source": [
    "live_results_path = r'E:\\Projects\\portfolio_optimizers\\classifier_optimizer\\live_results'"
   ]
  },
  {
   "cell_type": "code",
   "execution_count": 7,
   "metadata": {},
   "outputs": [
    {
     "name": "stdout",
     "output_type": "stream",
     "text": [
      "['v01']\n"
     ]
    }
   ],
   "source": [
    "file_list = os.listdir('E:\\Projects\\portfolio_optimizers\\classifier_optimizer\\live_results')\n",
    "\n",
    "model_names = sorted(set(re.findall(r'v\\d{2}', ' '.join(file_list))))\n",
    "\n",
    "print(model_names)"
   ]
  },
  {
   "cell_type": "code",
   "execution_count": 8,
   "metadata": {},
   "outputs": [
    {
     "data": {
      "text/html": [
       "<div>\n",
       "<style scoped>\n",
       "    .dataframe tbody tr th:only-of-type {\n",
       "        vertical-align: middle;\n",
       "    }\n",
       "\n",
       "    .dataframe tbody tr th {\n",
       "        vertical-align: top;\n",
       "    }\n",
       "\n",
       "    .dataframe thead th {\n",
       "        text-align: right;\n",
       "    }\n",
       "</style>\n",
       "<table border=\"1\" class=\"dataframe\">\n",
       "  <thead>\n",
       "    <tr style=\"text-align: right;\">\n",
       "      <th></th>\n",
       "      <th>index</th>\n",
       "      <th>Return</th>\n",
       "      <th>version</th>\n",
       "    </tr>\n",
       "  </thead>\n",
       "  <tbody>\n",
       "    <tr>\n",
       "      <th>0</th>\n",
       "      <td>2025-02-26 06:00:00</td>\n",
       "      <td>0.000000</td>\n",
       "      <td>v01</td>\n",
       "    </tr>\n",
       "    <tr>\n",
       "      <th>1</th>\n",
       "      <td>2025-02-26 07:00:00</td>\n",
       "      <td>-0.005743</td>\n",
       "      <td>v01</td>\n",
       "    </tr>\n",
       "    <tr>\n",
       "      <th>2</th>\n",
       "      <td>2025-02-26 08:00:00</td>\n",
       "      <td>0.006349</td>\n",
       "      <td>v01</td>\n",
       "    </tr>\n",
       "    <tr>\n",
       "      <th>3</th>\n",
       "      <td>2025-02-26 09:00:00</td>\n",
       "      <td>0.006858</td>\n",
       "      <td>v01</td>\n",
       "    </tr>\n",
       "    <tr>\n",
       "      <th>4</th>\n",
       "      <td>2025-02-26 10:00:00</td>\n",
       "      <td>-0.008006</td>\n",
       "      <td>v01</td>\n",
       "    </tr>\n",
       "    <tr>\n",
       "      <th>5</th>\n",
       "      <td>2025-02-26 11:00:00</td>\n",
       "      <td>0.003449</td>\n",
       "      <td>v01</td>\n",
       "    </tr>\n",
       "    <tr>\n",
       "      <th>6</th>\n",
       "      <td>2025-02-26 12:00:00</td>\n",
       "      <td>-0.000574</td>\n",
       "      <td>v01</td>\n",
       "    </tr>\n",
       "    <tr>\n",
       "      <th>7</th>\n",
       "      <td>2025-02-26 13:00:00</td>\n",
       "      <td>-0.013850</td>\n",
       "      <td>v01</td>\n",
       "    </tr>\n",
       "    <tr>\n",
       "      <th>8</th>\n",
       "      <td>2025-02-26 14:00:00</td>\n",
       "      <td>-0.014035</td>\n",
       "      <td>v01</td>\n",
       "    </tr>\n",
       "    <tr>\n",
       "      <th>9</th>\n",
       "      <td>2025-02-26 15:00:00</td>\n",
       "      <td>-0.001180</td>\n",
       "      <td>v01</td>\n",
       "    </tr>\n",
       "    <tr>\n",
       "      <th>10</th>\n",
       "      <td>2025-02-26 16:00:00</td>\n",
       "      <td>-0.004144</td>\n",
       "      <td>v01</td>\n",
       "    </tr>\n",
       "    <tr>\n",
       "      <th>11</th>\n",
       "      <td>2025-02-26 17:00:00</td>\n",
       "      <td>-0.000017</td>\n",
       "      <td>v01</td>\n",
       "    </tr>\n",
       "    <tr>\n",
       "      <th>12</th>\n",
       "      <td>2025-02-26 18:00:00</td>\n",
       "      <td>-0.016732</td>\n",
       "      <td>v01</td>\n",
       "    </tr>\n",
       "    <tr>\n",
       "      <th>13</th>\n",
       "      <td>2025-02-26 19:00:00</td>\n",
       "      <td>-0.009090</td>\n",
       "      <td>v01</td>\n",
       "    </tr>\n",
       "    <tr>\n",
       "      <th>14</th>\n",
       "      <td>2025-02-26 20:00:00</td>\n",
       "      <td>-0.010428</td>\n",
       "      <td>v01</td>\n",
       "    </tr>\n",
       "    <tr>\n",
       "      <th>15</th>\n",
       "      <td>2025-02-26 21:00:00</td>\n",
       "      <td>-0.003079</td>\n",
       "      <td>v01</td>\n",
       "    </tr>\n",
       "    <tr>\n",
       "      <th>16</th>\n",
       "      <td>2025-02-26 22:00:00</td>\n",
       "      <td>-0.010567</td>\n",
       "      <td>v01</td>\n",
       "    </tr>\n",
       "    <tr>\n",
       "      <th>17</th>\n",
       "      <td>2025-02-26 23:00:00</td>\n",
       "      <td>-0.006915</td>\n",
       "      <td>v01</td>\n",
       "    </tr>\n",
       "    <tr>\n",
       "      <th>18</th>\n",
       "      <td>2025-02-27 00:00:00</td>\n",
       "      <td>0.018004</td>\n",
       "      <td>v01</td>\n",
       "    </tr>\n",
       "    <tr>\n",
       "      <th>19</th>\n",
       "      <td>2025-02-27 01:00:00</td>\n",
       "      <td>-0.009301</td>\n",
       "      <td>v01</td>\n",
       "    </tr>\n",
       "    <tr>\n",
       "      <th>20</th>\n",
       "      <td>2025-02-27 02:00:00</td>\n",
       "      <td>-0.003746</td>\n",
       "      <td>v01</td>\n",
       "    </tr>\n",
       "    <tr>\n",
       "      <th>21</th>\n",
       "      <td>2025-02-27 03:00:00</td>\n",
       "      <td>0.001247</td>\n",
       "      <td>v01</td>\n",
       "    </tr>\n",
       "    <tr>\n",
       "      <th>22</th>\n",
       "      <td>2025-02-27 04:00:00</td>\n",
       "      <td>-0.005004</td>\n",
       "      <td>v01</td>\n",
       "    </tr>\n",
       "    <tr>\n",
       "      <th>23</th>\n",
       "      <td>2025-02-27 05:00:00</td>\n",
       "      <td>0.010585</td>\n",
       "      <td>v01</td>\n",
       "    </tr>\n",
       "    <tr>\n",
       "      <th>24</th>\n",
       "      <td>2025-02-27 06:00:00</td>\n",
       "      <td>-0.009343</td>\n",
       "      <td>v01</td>\n",
       "    </tr>\n",
       "    <tr>\n",
       "      <th>25</th>\n",
       "      <td>2025-02-27 07:00:00</td>\n",
       "      <td>0.010579</td>\n",
       "      <td>v01</td>\n",
       "    </tr>\n",
       "    <tr>\n",
       "      <th>26</th>\n",
       "      <td>2025-02-27 08:00:00</td>\n",
       "      <td>-0.000005</td>\n",
       "      <td>v01</td>\n",
       "    </tr>\n",
       "    <tr>\n",
       "      <th>27</th>\n",
       "      <td>2025-02-27 09:00:00</td>\n",
       "      <td>0.026853</td>\n",
       "      <td>v01</td>\n",
       "    </tr>\n",
       "    <tr>\n",
       "      <th>28</th>\n",
       "      <td>2025-02-27 10:00:00</td>\n",
       "      <td>-0.007865</td>\n",
       "      <td>v01</td>\n",
       "    </tr>\n",
       "    <tr>\n",
       "      <th>29</th>\n",
       "      <td>2025-02-27 11:00:00</td>\n",
       "      <td>0.001816</td>\n",
       "      <td>v01</td>\n",
       "    </tr>\n",
       "    <tr>\n",
       "      <th>30</th>\n",
       "      <td>2025-02-27 12:00:00</td>\n",
       "      <td>0.003031</td>\n",
       "      <td>v01</td>\n",
       "    </tr>\n",
       "    <tr>\n",
       "      <th>31</th>\n",
       "      <td>2025-02-27 13:00:00</td>\n",
       "      <td>-0.008502</td>\n",
       "      <td>v01</td>\n",
       "    </tr>\n",
       "    <tr>\n",
       "      <th>32</th>\n",
       "      <td>2025-02-27 14:00:00</td>\n",
       "      <td>0.002438</td>\n",
       "      <td>v01</td>\n",
       "    </tr>\n",
       "    <tr>\n",
       "      <th>33</th>\n",
       "      <td>2025-02-27 15:00:00</td>\n",
       "      <td>-0.007324</td>\n",
       "      <td>v01</td>\n",
       "    </tr>\n",
       "    <tr>\n",
       "      <th>34</th>\n",
       "      <td>2025-02-27 16:00:00</td>\n",
       "      <td>-0.016054</td>\n",
       "      <td>v01</td>\n",
       "    </tr>\n",
       "    <tr>\n",
       "      <th>35</th>\n",
       "      <td>2025-02-27 17:00:00</td>\n",
       "      <td>0.006820</td>\n",
       "      <td>v01</td>\n",
       "    </tr>\n",
       "    <tr>\n",
       "      <th>36</th>\n",
       "      <td>2025-02-27 18:00:00</td>\n",
       "      <td>-0.013083</td>\n",
       "      <td>v01</td>\n",
       "    </tr>\n",
       "    <tr>\n",
       "      <th>37</th>\n",
       "      <td>2025-02-27 19:00:00</td>\n",
       "      <td>0.004365</td>\n",
       "      <td>v01</td>\n",
       "    </tr>\n",
       "    <tr>\n",
       "      <th>38</th>\n",
       "      <td>2025-02-27 20:00:00</td>\n",
       "      <td>0.000000</td>\n",
       "      <td>v01</td>\n",
       "    </tr>\n",
       "  </tbody>\n",
       "</table>\n",
       "</div>"
      ],
      "text/plain": [
       "                  index    Return version\n",
       "0   2025-02-26 06:00:00  0.000000     v01\n",
       "1   2025-02-26 07:00:00 -0.005743     v01\n",
       "2   2025-02-26 08:00:00  0.006349     v01\n",
       "3   2025-02-26 09:00:00  0.006858     v01\n",
       "4   2025-02-26 10:00:00 -0.008006     v01\n",
       "5   2025-02-26 11:00:00  0.003449     v01\n",
       "6   2025-02-26 12:00:00 -0.000574     v01\n",
       "7   2025-02-26 13:00:00 -0.013850     v01\n",
       "8   2025-02-26 14:00:00 -0.014035     v01\n",
       "9   2025-02-26 15:00:00 -0.001180     v01\n",
       "10  2025-02-26 16:00:00 -0.004144     v01\n",
       "11  2025-02-26 17:00:00 -0.000017     v01\n",
       "12  2025-02-26 18:00:00 -0.016732     v01\n",
       "13  2025-02-26 19:00:00 -0.009090     v01\n",
       "14  2025-02-26 20:00:00 -0.010428     v01\n",
       "15  2025-02-26 21:00:00 -0.003079     v01\n",
       "16  2025-02-26 22:00:00 -0.010567     v01\n",
       "17  2025-02-26 23:00:00 -0.006915     v01\n",
       "18  2025-02-27 00:00:00  0.018004     v01\n",
       "19  2025-02-27 01:00:00 -0.009301     v01\n",
       "20  2025-02-27 02:00:00 -0.003746     v01\n",
       "21  2025-02-27 03:00:00  0.001247     v01\n",
       "22  2025-02-27 04:00:00 -0.005004     v01\n",
       "23  2025-02-27 05:00:00  0.010585     v01\n",
       "24  2025-02-27 06:00:00 -0.009343     v01\n",
       "25  2025-02-27 07:00:00  0.010579     v01\n",
       "26  2025-02-27 08:00:00 -0.000005     v01\n",
       "27  2025-02-27 09:00:00  0.026853     v01\n",
       "28  2025-02-27 10:00:00 -0.007865     v01\n",
       "29  2025-02-27 11:00:00  0.001816     v01\n",
       "30  2025-02-27 12:00:00  0.003031     v01\n",
       "31  2025-02-27 13:00:00 -0.008502     v01\n",
       "32  2025-02-27 14:00:00  0.002438     v01\n",
       "33  2025-02-27 15:00:00 -0.007324     v01\n",
       "34  2025-02-27 16:00:00 -0.016054     v01\n",
       "35  2025-02-27 17:00:00  0.006820     v01\n",
       "36  2025-02-27 18:00:00 -0.013083     v01\n",
       "37  2025-02-27 19:00:00  0.004365     v01\n",
       "38  2025-02-27 20:00:00  0.000000     v01"
      ]
     },
     "execution_count": 8,
     "metadata": {},
     "output_type": "execute_result"
    }
   ],
   "source": [
    "model_data = pd.DataFrame()\n",
    "\n",
    "for model_name in model_names:\n",
    "    values = pd.read_csv(f'E:\\Projects\\portfolio_optimizers\\classifier_optimizer\\live_results\\{model_name}.csv')\n",
    "    values['version'] = model_name\n",
    "\n",
    "    model_data = pd.concat([model_data,values])\n",
    "\n",
    "model_data\n"
   ]
  },
  {
   "cell_type": "code",
   "execution_count": 9,
   "metadata": {},
   "outputs": [],
   "source": [
    "model_data['index'] = pd.to_datetime(model_data['index'])\n",
    "model_data.set_index('index',inplace=True)\n"
   ]
  },
  {
   "cell_type": "code",
   "execution_count": 10,
   "metadata": {},
   "outputs": [],
   "source": [
    "filled_data = model_data.resample('h').agg({\n",
    "    \"Return\":'last',\n",
    "    \"version\":'last'\n",
    "})"
   ]
  },
  {
   "cell_type": "code",
   "execution_count": 11,
   "metadata": {},
   "outputs": [],
   "source": [
    "norm_model_returns = normalize_log_returns(filled_data, filled_data.index.min(), filled_data.index.max(),100)"
   ]
  },
  {
   "cell_type": "code",
   "execution_count": 12,
   "metadata": {},
   "outputs": [],
   "source": [
    "def plot_continuous_return_with_versions(df, title=\"Portfolio Return Over Time\"):\n",
    "    \"\"\"Plots a continuous normalized return line but visually separates different model versions.\"\"\"\n",
    "\n",
    "    if df.empty:\n",
    "        raise ValueError(\"DataFrame is empty. Please provide valid data.\")\n",
    "\n",
    "    if 'Normalized_Return' not in df.columns or 'version' not in df.columns:\n",
    "        raise ValueError(\"DataFrame must contain 'Normalized_Return' and 'version' columns.\")\n",
    "\n",
    "    # Ensure data is sorted by time\n",
    "    df = df.sort_index()\n",
    "\n",
    "    # Forward-fill missing values for continuity\n",
    "    df['Normalized_Return'] = df['Normalized_Return'].ffill()\n",
    "    df['version'] = df['version'].fillna(\"Unknown\")  # Ensure no NaN values in 'version'\n",
    "\n",
    "    # Create figure\n",
    "    fig = go.Figure()\n",
    "\n",
    "    # Get unique versions in order of appearance\n",
    "    unique_versions = df['version'].unique()\n",
    "    print(F'unique_versions: {unique_versions}')\n",
    "\n",
    "    # Identify version change points\n",
    "    version_change_points = df['version'] != df['version'].shift(1)\n",
    "    version_change_times = df.index[version_change_points]\n",
    "\n",
    "    # Avoid adding dashed lines if there's only one version\n",
    "    add_dashed_lines = len(unique_versions) > 1\n",
    "\n",
    "    # Loop through each version and plot it as a segment\n",
    "    for idx, version in enumerate(unique_versions):\n",
    "        version_df = df[df['version'] == version].copy()\n",
    "\n",
    "        if version_df.empty:\n",
    "            continue  # Skip empty segments\n",
    "\n",
    "        # Ensure continuity: Include the last value of the previous version\n",
    "        if idx > 0:\n",
    "            prev_version_df = df[df['version'] == unique_versions[idx - 1]]\n",
    "            if not prev_version_df.empty:\n",
    "                last_old_value = prev_version_df.iloc[-1:].copy()\n",
    "                version_df = pd.concat([last_old_value, version_df])\n",
    "\n",
    "        # Define color for this version\n",
    "        color = f\"hsl({(idx * 50) % 360}, 70%, 50%)\"  # Generate distinct colors\n",
    "\n",
    "        # Plot version as part of a single continuous line\n",
    "        fig.add_trace(go.Scatter(\n",
    "            x=version_df.index,\n",
    "            y=version_df['Normalized_Return'],\n",
    "            mode='lines',  # Only lines to keep smooth transitions\n",
    "            line=dict(color=color, width=4),\n",
    "            name=f\"Version {version}\"\n",
    "        ))\n",
    "\n",
    "    # Add vertical dashed lines at version change points (only if there are multiple versions)\n",
    "    if add_dashed_lines:\n",
    "        for version_time, version in zip(version_change_times, df['version'][version_change_points]):\n",
    "            fig.add_shape(\n",
    "                go.layout.Shape(\n",
    "                    type=\"line\",\n",
    "                    x0=version_time, x1=version_time,\n",
    "                    y0=df['Normalized_Return'].min(), y1=df['Normalized_Return'].max(),\n",
    "                    line=dict(color=\"black\", width=2, dash=\"dash\")  # Dashed vertical line\n",
    "                )\n",
    "            )\n",
    "\n",
    "            # Add version annotation near the top of the plot\n",
    "            fig.add_annotation(\n",
    "                x=version_time, \n",
    "                y=df['Normalized_Return'].max(),\n",
    "                text=f\"Version {version}\",\n",
    "                showarrow=False,\n",
    "                font=dict(size=14, color=\"black\"),\n",
    "                yshift=10\n",
    "            )\n",
    "\n",
    "    # Customize layout\n",
    "    fig.update_layout(\n",
    "        title=title,\n",
    "        xaxis_title=\"Time\",\n",
    "        yaxis_title=\"Normalized Return\",\n",
    "        xaxis=dict(showgrid=True),\n",
    "        yaxis=dict(showgrid=True),\n",
    "        legend_title=\"Model Versions\",\n",
    "        template=\"plotly_white\"\n",
    "    )\n",
    "\n",
    "    return fig\n"
   ]
  },
  {
   "cell_type": "code",
   "execution_count": 13,
   "metadata": {},
   "outputs": [
    {
     "data": {
      "text/html": [
       "<div>\n",
       "<style scoped>\n",
       "    .dataframe tbody tr th:only-of-type {\n",
       "        vertical-align: middle;\n",
       "    }\n",
       "\n",
       "    .dataframe tbody tr th {\n",
       "        vertical-align: top;\n",
       "    }\n",
       "\n",
       "    .dataframe thead th {\n",
       "        text-align: right;\n",
       "    }\n",
       "</style>\n",
       "<table border=\"1\" class=\"dataframe\">\n",
       "  <thead>\n",
       "    <tr style=\"text-align: right;\">\n",
       "      <th></th>\n",
       "      <th>Normalized_Return</th>\n",
       "      <th>version</th>\n",
       "    </tr>\n",
       "  </thead>\n",
       "  <tbody>\n",
       "    <tr>\n",
       "      <th>2025-02-26 06:00:00</th>\n",
       "      <td>100.000000</td>\n",
       "      <td>v01</td>\n",
       "    </tr>\n",
       "    <tr>\n",
       "      <th>2025-02-26 07:00:00</th>\n",
       "      <td>99.427309</td>\n",
       "      <td>v01</td>\n",
       "    </tr>\n",
       "    <tr>\n",
       "      <th>2025-02-26 08:00:00</th>\n",
       "      <td>100.060603</td>\n",
       "      <td>v01</td>\n",
       "    </tr>\n",
       "    <tr>\n",
       "      <th>2025-02-26 09:00:00</th>\n",
       "      <td>100.749159</td>\n",
       "      <td>v01</td>\n",
       "    </tr>\n",
       "    <tr>\n",
       "      <th>2025-02-26 10:00:00</th>\n",
       "      <td>99.945768</td>\n",
       "      <td>v01</td>\n",
       "    </tr>\n",
       "    <tr>\n",
       "      <th>2025-02-26 11:00:00</th>\n",
       "      <td>100.291068</td>\n",
       "      <td>v01</td>\n",
       "    </tr>\n",
       "    <tr>\n",
       "      <th>2025-02-26 12:00:00</th>\n",
       "      <td>100.233554</td>\n",
       "      <td>v01</td>\n",
       "    </tr>\n",
       "    <tr>\n",
       "      <th>2025-02-26 13:00:00</th>\n",
       "      <td>98.854893</td>\n",
       "      <td>v01</td>\n",
       "    </tr>\n",
       "    <tr>\n",
       "      <th>2025-02-26 14:00:00</th>\n",
       "      <td>97.477119</td>\n",
       "      <td>v01</td>\n",
       "    </tr>\n",
       "    <tr>\n",
       "      <th>2025-02-26 15:00:00</th>\n",
       "      <td>97.362206</td>\n",
       "      <td>v01</td>\n",
       "    </tr>\n",
       "    <tr>\n",
       "      <th>2025-02-26 16:00:00</th>\n",
       "      <td>96.959603</td>\n",
       "      <td>v01</td>\n",
       "    </tr>\n",
       "    <tr>\n",
       "      <th>2025-02-26 17:00:00</th>\n",
       "      <td>96.957990</td>\n",
       "      <td>v01</td>\n",
       "    </tr>\n",
       "    <tr>\n",
       "      <th>2025-02-26 18:00:00</th>\n",
       "      <td>95.349197</td>\n",
       "      <td>v01</td>\n",
       "    </tr>\n",
       "    <tr>\n",
       "      <th>2025-02-26 19:00:00</th>\n",
       "      <td>94.486411</td>\n",
       "      <td>v01</td>\n",
       "    </tr>\n",
       "    <tr>\n",
       "      <th>2025-02-26 20:00:00</th>\n",
       "      <td>93.506270</td>\n",
       "      <td>v01</td>\n",
       "    </tr>\n",
       "    <tr>\n",
       "      <th>2025-02-26 21:00:00</th>\n",
       "      <td>93.218833</td>\n",
       "      <td>v01</td>\n",
       "    </tr>\n",
       "    <tr>\n",
       "      <th>2025-02-26 22:00:00</th>\n",
       "      <td>92.238932</td>\n",
       "      <td>v01</td>\n",
       "    </tr>\n",
       "    <tr>\n",
       "      <th>2025-02-26 23:00:00</th>\n",
       "      <td>91.603306</td>\n",
       "      <td>v01</td>\n",
       "    </tr>\n",
       "    <tr>\n",
       "      <th>2025-02-27 00:00:00</th>\n",
       "      <td>93.267453</td>\n",
       "      <td>v01</td>\n",
       "    </tr>\n",
       "    <tr>\n",
       "      <th>2025-02-27 01:00:00</th>\n",
       "      <td>92.403952</td>\n",
       "      <td>v01</td>\n",
       "    </tr>\n",
       "    <tr>\n",
       "      <th>2025-02-27 02:00:00</th>\n",
       "      <td>92.058444</td>\n",
       "      <td>v01</td>\n",
       "    </tr>\n",
       "    <tr>\n",
       "      <th>2025-02-27 03:00:00</th>\n",
       "      <td>92.173334</td>\n",
       "      <td>v01</td>\n",
       "    </tr>\n",
       "    <tr>\n",
       "      <th>2025-02-27 04:00:00</th>\n",
       "      <td>91.713275</td>\n",
       "      <td>v01</td>\n",
       "    </tr>\n",
       "    <tr>\n",
       "      <th>2025-02-27 05:00:00</th>\n",
       "      <td>92.689230</td>\n",
       "      <td>v01</td>\n",
       "    </tr>\n",
       "    <tr>\n",
       "      <th>2025-02-27 06:00:00</th>\n",
       "      <td>91.827291</td>\n",
       "      <td>v01</td>\n",
       "    </tr>\n",
       "    <tr>\n",
       "      <th>2025-02-27 07:00:00</th>\n",
       "      <td>92.803890</td>\n",
       "      <td>v01</td>\n",
       "    </tr>\n",
       "    <tr>\n",
       "      <th>2025-02-27 08:00:00</th>\n",
       "      <td>92.803383</td>\n",
       "      <td>v01</td>\n",
       "    </tr>\n",
       "    <tr>\n",
       "      <th>2025-02-27 09:00:00</th>\n",
       "      <td>95.329172</td>\n",
       "      <td>v01</td>\n",
       "    </tr>\n",
       "    <tr>\n",
       "      <th>2025-02-27 10:00:00</th>\n",
       "      <td>94.582356</td>\n",
       "      <td>v01</td>\n",
       "    </tr>\n",
       "    <tr>\n",
       "      <th>2025-02-27 11:00:00</th>\n",
       "      <td>94.754227</td>\n",
       "      <td>v01</td>\n",
       "    </tr>\n",
       "    <tr>\n",
       "      <th>2025-02-27 12:00:00</th>\n",
       "      <td>95.041884</td>\n",
       "      <td>v01</td>\n",
       "    </tr>\n",
       "    <tr>\n",
       "      <th>2025-02-27 13:00:00</th>\n",
       "      <td>94.237222</td>\n",
       "      <td>v01</td>\n",
       "    </tr>\n",
       "    <tr>\n",
       "      <th>2025-02-27 14:00:00</th>\n",
       "      <td>94.467249</td>\n",
       "      <td>v01</td>\n",
       "    </tr>\n",
       "    <tr>\n",
       "      <th>2025-02-27 15:00:00</th>\n",
       "      <td>93.777932</td>\n",
       "      <td>v01</td>\n",
       "    </tr>\n",
       "    <tr>\n",
       "      <th>2025-02-27 16:00:00</th>\n",
       "      <td>92.284442</td>\n",
       "      <td>v01</td>\n",
       "    </tr>\n",
       "    <tr>\n",
       "      <th>2025-02-27 17:00:00</th>\n",
       "      <td>92.916018</td>\n",
       "      <td>v01</td>\n",
       "    </tr>\n",
       "    <tr>\n",
       "      <th>2025-02-27 18:00:00</th>\n",
       "      <td>91.708300</td>\n",
       "      <td>v01</td>\n",
       "    </tr>\n",
       "    <tr>\n",
       "      <th>2025-02-27 19:00:00</th>\n",
       "      <td>92.109437</td>\n",
       "      <td>v01</td>\n",
       "    </tr>\n",
       "    <tr>\n",
       "      <th>2025-02-27 20:00:00</th>\n",
       "      <td>92.109437</td>\n",
       "      <td>v01</td>\n",
       "    </tr>\n",
       "  </tbody>\n",
       "</table>\n",
       "</div>"
      ],
      "text/plain": [
       "                     Normalized_Return version\n",
       "2025-02-26 06:00:00         100.000000     v01\n",
       "2025-02-26 07:00:00          99.427309     v01\n",
       "2025-02-26 08:00:00         100.060603     v01\n",
       "2025-02-26 09:00:00         100.749159     v01\n",
       "2025-02-26 10:00:00          99.945768     v01\n",
       "2025-02-26 11:00:00         100.291068     v01\n",
       "2025-02-26 12:00:00         100.233554     v01\n",
       "2025-02-26 13:00:00          98.854893     v01\n",
       "2025-02-26 14:00:00          97.477119     v01\n",
       "2025-02-26 15:00:00          97.362206     v01\n",
       "2025-02-26 16:00:00          96.959603     v01\n",
       "2025-02-26 17:00:00          96.957990     v01\n",
       "2025-02-26 18:00:00          95.349197     v01\n",
       "2025-02-26 19:00:00          94.486411     v01\n",
       "2025-02-26 20:00:00          93.506270     v01\n",
       "2025-02-26 21:00:00          93.218833     v01\n",
       "2025-02-26 22:00:00          92.238932     v01\n",
       "2025-02-26 23:00:00          91.603306     v01\n",
       "2025-02-27 00:00:00          93.267453     v01\n",
       "2025-02-27 01:00:00          92.403952     v01\n",
       "2025-02-27 02:00:00          92.058444     v01\n",
       "2025-02-27 03:00:00          92.173334     v01\n",
       "2025-02-27 04:00:00          91.713275     v01\n",
       "2025-02-27 05:00:00          92.689230     v01\n",
       "2025-02-27 06:00:00          91.827291     v01\n",
       "2025-02-27 07:00:00          92.803890     v01\n",
       "2025-02-27 08:00:00          92.803383     v01\n",
       "2025-02-27 09:00:00          95.329172     v01\n",
       "2025-02-27 10:00:00          94.582356     v01\n",
       "2025-02-27 11:00:00          94.754227     v01\n",
       "2025-02-27 12:00:00          95.041884     v01\n",
       "2025-02-27 13:00:00          94.237222     v01\n",
       "2025-02-27 14:00:00          94.467249     v01\n",
       "2025-02-27 15:00:00          93.777932     v01\n",
       "2025-02-27 16:00:00          92.284442     v01\n",
       "2025-02-27 17:00:00          92.916018     v01\n",
       "2025-02-27 18:00:00          91.708300     v01\n",
       "2025-02-27 19:00:00          92.109437     v01\n",
       "2025-02-27 20:00:00          92.109437     v01"
      ]
     },
     "execution_count": 13,
     "metadata": {},
     "output_type": "execute_result"
    }
   ],
   "source": [
    "norm_model_returns"
   ]
  },
  {
   "cell_type": "code",
   "execution_count": 14,
   "metadata": {},
   "outputs": [
    {
     "name": "stdout",
     "output_type": "stream",
     "text": [
      "unique_versions: ['v01']\n"
     ]
    },
    {
     "data": {
      "application/vnd.plotly.v1+json": {
       "config": {
        "plotlyServerURL": "https://plot.ly"
       },
       "data": [
        {
         "line": {
          "color": "hsl(0, 70%, 50%)",
          "width": 4
         },
         "mode": "lines",
         "name": "Version v01",
         "type": "scatter",
         "x": [
          "2025-02-26T06:00:00",
          "2025-02-26T07:00:00",
          "2025-02-26T08:00:00",
          "2025-02-26T09:00:00",
          "2025-02-26T10:00:00",
          "2025-02-26T11:00:00",
          "2025-02-26T12:00:00",
          "2025-02-26T13:00:00",
          "2025-02-26T14:00:00",
          "2025-02-26T15:00:00",
          "2025-02-26T16:00:00",
          "2025-02-26T17:00:00",
          "2025-02-26T18:00:00",
          "2025-02-26T19:00:00",
          "2025-02-26T20:00:00",
          "2025-02-26T21:00:00",
          "2025-02-26T22:00:00",
          "2025-02-26T23:00:00",
          "2025-02-27T00:00:00",
          "2025-02-27T01:00:00",
          "2025-02-27T02:00:00",
          "2025-02-27T03:00:00",
          "2025-02-27T04:00:00",
          "2025-02-27T05:00:00",
          "2025-02-27T06:00:00",
          "2025-02-27T07:00:00",
          "2025-02-27T08:00:00",
          "2025-02-27T09:00:00",
          "2025-02-27T10:00:00",
          "2025-02-27T11:00:00",
          "2025-02-27T12:00:00",
          "2025-02-27T13:00:00",
          "2025-02-27T14:00:00",
          "2025-02-27T15:00:00",
          "2025-02-27T16:00:00",
          "2025-02-27T17:00:00",
          "2025-02-27T18:00:00",
          "2025-02-27T19:00:00",
          "2025-02-27T20:00:00"
         ],
         "y": [
          100,
          99.42730850929574,
          100.06060346720618,
          100.74915873398464,
          99.94576768521019,
          100.29106794206919,
          100.23355367113187,
          98.85489343956559,
          97.47711928187954,
          97.36220606429485,
          96.9596028644517,
          96.95798985444584,
          95.34919654117009,
          94.4864113148624,
          93.50626964209827,
          93.21883275733799,
          92.23893237638627,
          91.60330584215497,
          93.26745312384824,
          92.40395210131372,
          92.05844402001648,
          92.17333447548275,
          91.71327500202348,
          92.68923006574903,
          91.82729124973392,
          92.80388957454683,
          92.80338280771744,
          95.32917208396516,
          94.58235588788322,
          94.75422721902346,
          95.04188366647546,
          94.23722158756512,
          94.46724926016941,
          93.77793151909594,
          92.28444178202254,
          92.91601800250842,
          91.7082995424838,
          92.10943697040271,
          92.10943697040271
         ]
        }
       ],
       "layout": {
        "legend": {
         "title": {
          "text": "Model Versions"
         }
        },
        "template": {
         "data": {
          "bar": [
           {
            "error_x": {
             "color": "#2a3f5f"
            },
            "error_y": {
             "color": "#2a3f5f"
            },
            "marker": {
             "line": {
              "color": "white",
              "width": 0.5
             },
             "pattern": {
              "fillmode": "overlay",
              "size": 10,
              "solidity": 0.2
             }
            },
            "type": "bar"
           }
          ],
          "barpolar": [
           {
            "marker": {
             "line": {
              "color": "white",
              "width": 0.5
             },
             "pattern": {
              "fillmode": "overlay",
              "size": 10,
              "solidity": 0.2
             }
            },
            "type": "barpolar"
           }
          ],
          "carpet": [
           {
            "aaxis": {
             "endlinecolor": "#2a3f5f",
             "gridcolor": "#C8D4E3",
             "linecolor": "#C8D4E3",
             "minorgridcolor": "#C8D4E3",
             "startlinecolor": "#2a3f5f"
            },
            "baxis": {
             "endlinecolor": "#2a3f5f",
             "gridcolor": "#C8D4E3",
             "linecolor": "#C8D4E3",
             "minorgridcolor": "#C8D4E3",
             "startlinecolor": "#2a3f5f"
            },
            "type": "carpet"
           }
          ],
          "choropleth": [
           {
            "colorbar": {
             "outlinewidth": 0,
             "ticks": ""
            },
            "type": "choropleth"
           }
          ],
          "contour": [
           {
            "colorbar": {
             "outlinewidth": 0,
             "ticks": ""
            },
            "colorscale": [
             [
              0,
              "#0d0887"
             ],
             [
              0.1111111111111111,
              "#46039f"
             ],
             [
              0.2222222222222222,
              "#7201a8"
             ],
             [
              0.3333333333333333,
              "#9c179e"
             ],
             [
              0.4444444444444444,
              "#bd3786"
             ],
             [
              0.5555555555555556,
              "#d8576b"
             ],
             [
              0.6666666666666666,
              "#ed7953"
             ],
             [
              0.7777777777777778,
              "#fb9f3a"
             ],
             [
              0.8888888888888888,
              "#fdca26"
             ],
             [
              1,
              "#f0f921"
             ]
            ],
            "type": "contour"
           }
          ],
          "contourcarpet": [
           {
            "colorbar": {
             "outlinewidth": 0,
             "ticks": ""
            },
            "type": "contourcarpet"
           }
          ],
          "heatmap": [
           {
            "colorbar": {
             "outlinewidth": 0,
             "ticks": ""
            },
            "colorscale": [
             [
              0,
              "#0d0887"
             ],
             [
              0.1111111111111111,
              "#46039f"
             ],
             [
              0.2222222222222222,
              "#7201a8"
             ],
             [
              0.3333333333333333,
              "#9c179e"
             ],
             [
              0.4444444444444444,
              "#bd3786"
             ],
             [
              0.5555555555555556,
              "#d8576b"
             ],
             [
              0.6666666666666666,
              "#ed7953"
             ],
             [
              0.7777777777777778,
              "#fb9f3a"
             ],
             [
              0.8888888888888888,
              "#fdca26"
             ],
             [
              1,
              "#f0f921"
             ]
            ],
            "type": "heatmap"
           }
          ],
          "heatmapgl": [
           {
            "colorbar": {
             "outlinewidth": 0,
             "ticks": ""
            },
            "colorscale": [
             [
              0,
              "#0d0887"
             ],
             [
              0.1111111111111111,
              "#46039f"
             ],
             [
              0.2222222222222222,
              "#7201a8"
             ],
             [
              0.3333333333333333,
              "#9c179e"
             ],
             [
              0.4444444444444444,
              "#bd3786"
             ],
             [
              0.5555555555555556,
              "#d8576b"
             ],
             [
              0.6666666666666666,
              "#ed7953"
             ],
             [
              0.7777777777777778,
              "#fb9f3a"
             ],
             [
              0.8888888888888888,
              "#fdca26"
             ],
             [
              1,
              "#f0f921"
             ]
            ],
            "type": "heatmapgl"
           }
          ],
          "histogram": [
           {
            "marker": {
             "pattern": {
              "fillmode": "overlay",
              "size": 10,
              "solidity": 0.2
             }
            },
            "type": "histogram"
           }
          ],
          "histogram2d": [
           {
            "colorbar": {
             "outlinewidth": 0,
             "ticks": ""
            },
            "colorscale": [
             [
              0,
              "#0d0887"
             ],
             [
              0.1111111111111111,
              "#46039f"
             ],
             [
              0.2222222222222222,
              "#7201a8"
             ],
             [
              0.3333333333333333,
              "#9c179e"
             ],
             [
              0.4444444444444444,
              "#bd3786"
             ],
             [
              0.5555555555555556,
              "#d8576b"
             ],
             [
              0.6666666666666666,
              "#ed7953"
             ],
             [
              0.7777777777777778,
              "#fb9f3a"
             ],
             [
              0.8888888888888888,
              "#fdca26"
             ],
             [
              1,
              "#f0f921"
             ]
            ],
            "type": "histogram2d"
           }
          ],
          "histogram2dcontour": [
           {
            "colorbar": {
             "outlinewidth": 0,
             "ticks": ""
            },
            "colorscale": [
             [
              0,
              "#0d0887"
             ],
             [
              0.1111111111111111,
              "#46039f"
             ],
             [
              0.2222222222222222,
              "#7201a8"
             ],
             [
              0.3333333333333333,
              "#9c179e"
             ],
             [
              0.4444444444444444,
              "#bd3786"
             ],
             [
              0.5555555555555556,
              "#d8576b"
             ],
             [
              0.6666666666666666,
              "#ed7953"
             ],
             [
              0.7777777777777778,
              "#fb9f3a"
             ],
             [
              0.8888888888888888,
              "#fdca26"
             ],
             [
              1,
              "#f0f921"
             ]
            ],
            "type": "histogram2dcontour"
           }
          ],
          "mesh3d": [
           {
            "colorbar": {
             "outlinewidth": 0,
             "ticks": ""
            },
            "type": "mesh3d"
           }
          ],
          "parcoords": [
           {
            "line": {
             "colorbar": {
              "outlinewidth": 0,
              "ticks": ""
             }
            },
            "type": "parcoords"
           }
          ],
          "pie": [
           {
            "automargin": true,
            "type": "pie"
           }
          ],
          "scatter": [
           {
            "fillpattern": {
             "fillmode": "overlay",
             "size": 10,
             "solidity": 0.2
            },
            "type": "scatter"
           }
          ],
          "scatter3d": [
           {
            "line": {
             "colorbar": {
              "outlinewidth": 0,
              "ticks": ""
             }
            },
            "marker": {
             "colorbar": {
              "outlinewidth": 0,
              "ticks": ""
             }
            },
            "type": "scatter3d"
           }
          ],
          "scattercarpet": [
           {
            "marker": {
             "colorbar": {
              "outlinewidth": 0,
              "ticks": ""
             }
            },
            "type": "scattercarpet"
           }
          ],
          "scattergeo": [
           {
            "marker": {
             "colorbar": {
              "outlinewidth": 0,
              "ticks": ""
             }
            },
            "type": "scattergeo"
           }
          ],
          "scattergl": [
           {
            "marker": {
             "colorbar": {
              "outlinewidth": 0,
              "ticks": ""
             }
            },
            "type": "scattergl"
           }
          ],
          "scattermapbox": [
           {
            "marker": {
             "colorbar": {
              "outlinewidth": 0,
              "ticks": ""
             }
            },
            "type": "scattermapbox"
           }
          ],
          "scatterpolar": [
           {
            "marker": {
             "colorbar": {
              "outlinewidth": 0,
              "ticks": ""
             }
            },
            "type": "scatterpolar"
           }
          ],
          "scatterpolargl": [
           {
            "marker": {
             "colorbar": {
              "outlinewidth": 0,
              "ticks": ""
             }
            },
            "type": "scatterpolargl"
           }
          ],
          "scatterternary": [
           {
            "marker": {
             "colorbar": {
              "outlinewidth": 0,
              "ticks": ""
             }
            },
            "type": "scatterternary"
           }
          ],
          "surface": [
           {
            "colorbar": {
             "outlinewidth": 0,
             "ticks": ""
            },
            "colorscale": [
             [
              0,
              "#0d0887"
             ],
             [
              0.1111111111111111,
              "#46039f"
             ],
             [
              0.2222222222222222,
              "#7201a8"
             ],
             [
              0.3333333333333333,
              "#9c179e"
             ],
             [
              0.4444444444444444,
              "#bd3786"
             ],
             [
              0.5555555555555556,
              "#d8576b"
             ],
             [
              0.6666666666666666,
              "#ed7953"
             ],
             [
              0.7777777777777778,
              "#fb9f3a"
             ],
             [
              0.8888888888888888,
              "#fdca26"
             ],
             [
              1,
              "#f0f921"
             ]
            ],
            "type": "surface"
           }
          ],
          "table": [
           {
            "cells": {
             "fill": {
              "color": "#EBF0F8"
             },
             "line": {
              "color": "white"
             }
            },
            "header": {
             "fill": {
              "color": "#C8D4E3"
             },
             "line": {
              "color": "white"
             }
            },
            "type": "table"
           }
          ]
         },
         "layout": {
          "annotationdefaults": {
           "arrowcolor": "#2a3f5f",
           "arrowhead": 0,
           "arrowwidth": 1
          },
          "autotypenumbers": "strict",
          "coloraxis": {
           "colorbar": {
            "outlinewidth": 0,
            "ticks": ""
           }
          },
          "colorscale": {
           "diverging": [
            [
             0,
             "#8e0152"
            ],
            [
             0.1,
             "#c51b7d"
            ],
            [
             0.2,
             "#de77ae"
            ],
            [
             0.3,
             "#f1b6da"
            ],
            [
             0.4,
             "#fde0ef"
            ],
            [
             0.5,
             "#f7f7f7"
            ],
            [
             0.6,
             "#e6f5d0"
            ],
            [
             0.7,
             "#b8e186"
            ],
            [
             0.8,
             "#7fbc41"
            ],
            [
             0.9,
             "#4d9221"
            ],
            [
             1,
             "#276419"
            ]
           ],
           "sequential": [
            [
             0,
             "#0d0887"
            ],
            [
             0.1111111111111111,
             "#46039f"
            ],
            [
             0.2222222222222222,
             "#7201a8"
            ],
            [
             0.3333333333333333,
             "#9c179e"
            ],
            [
             0.4444444444444444,
             "#bd3786"
            ],
            [
             0.5555555555555556,
             "#d8576b"
            ],
            [
             0.6666666666666666,
             "#ed7953"
            ],
            [
             0.7777777777777778,
             "#fb9f3a"
            ],
            [
             0.8888888888888888,
             "#fdca26"
            ],
            [
             1,
             "#f0f921"
            ]
           ],
           "sequentialminus": [
            [
             0,
             "#0d0887"
            ],
            [
             0.1111111111111111,
             "#46039f"
            ],
            [
             0.2222222222222222,
             "#7201a8"
            ],
            [
             0.3333333333333333,
             "#9c179e"
            ],
            [
             0.4444444444444444,
             "#bd3786"
            ],
            [
             0.5555555555555556,
             "#d8576b"
            ],
            [
             0.6666666666666666,
             "#ed7953"
            ],
            [
             0.7777777777777778,
             "#fb9f3a"
            ],
            [
             0.8888888888888888,
             "#fdca26"
            ],
            [
             1,
             "#f0f921"
            ]
           ]
          },
          "colorway": [
           "#636efa",
           "#EF553B",
           "#00cc96",
           "#ab63fa",
           "#FFA15A",
           "#19d3f3",
           "#FF6692",
           "#B6E880",
           "#FF97FF",
           "#FECB52"
          ],
          "font": {
           "color": "#2a3f5f"
          },
          "geo": {
           "bgcolor": "white",
           "lakecolor": "white",
           "landcolor": "white",
           "showlakes": true,
           "showland": true,
           "subunitcolor": "#C8D4E3"
          },
          "hoverlabel": {
           "align": "left"
          },
          "hovermode": "closest",
          "mapbox": {
           "style": "light"
          },
          "paper_bgcolor": "white",
          "plot_bgcolor": "white",
          "polar": {
           "angularaxis": {
            "gridcolor": "#EBF0F8",
            "linecolor": "#EBF0F8",
            "ticks": ""
           },
           "bgcolor": "white",
           "radialaxis": {
            "gridcolor": "#EBF0F8",
            "linecolor": "#EBF0F8",
            "ticks": ""
           }
          },
          "scene": {
           "xaxis": {
            "backgroundcolor": "white",
            "gridcolor": "#DFE8F3",
            "gridwidth": 2,
            "linecolor": "#EBF0F8",
            "showbackground": true,
            "ticks": "",
            "zerolinecolor": "#EBF0F8"
           },
           "yaxis": {
            "backgroundcolor": "white",
            "gridcolor": "#DFE8F3",
            "gridwidth": 2,
            "linecolor": "#EBF0F8",
            "showbackground": true,
            "ticks": "",
            "zerolinecolor": "#EBF0F8"
           },
           "zaxis": {
            "backgroundcolor": "white",
            "gridcolor": "#DFE8F3",
            "gridwidth": 2,
            "linecolor": "#EBF0F8",
            "showbackground": true,
            "ticks": "",
            "zerolinecolor": "#EBF0F8"
           }
          },
          "shapedefaults": {
           "line": {
            "color": "#2a3f5f"
           }
          },
          "ternary": {
           "aaxis": {
            "gridcolor": "#DFE8F3",
            "linecolor": "#A2B1C6",
            "ticks": ""
           },
           "baxis": {
            "gridcolor": "#DFE8F3",
            "linecolor": "#A2B1C6",
            "ticks": ""
           },
           "bgcolor": "white",
           "caxis": {
            "gridcolor": "#DFE8F3",
            "linecolor": "#A2B1C6",
            "ticks": ""
           }
          },
          "title": {
           "x": 0.05
          },
          "xaxis": {
           "automargin": true,
           "gridcolor": "#EBF0F8",
           "linecolor": "#EBF0F8",
           "ticks": "",
           "title": {
            "standoff": 15
           },
           "zerolinecolor": "#EBF0F8",
           "zerolinewidth": 2
          },
          "yaxis": {
           "automargin": true,
           "gridcolor": "#EBF0F8",
           "linecolor": "#EBF0F8",
           "ticks": "",
           "title": {
            "standoff": 15
           },
           "zerolinecolor": "#EBF0F8",
           "zerolinewidth": 2
          }
         }
        },
        "title": {
         "text": "Portfolio Return Over Time"
        },
        "xaxis": {
         "showgrid": true,
         "title": {
          "text": "Time"
         }
        },
        "yaxis": {
         "showgrid": true,
         "title": {
          "text": "Normalized Return"
         }
        }
       }
      }
     },
     "metadata": {},
     "output_type": "display_data"
    }
   ],
   "source": [
    "fig = plot_continuous_return_with_versions(norm_model_returns)\n",
    "fig.show()"
   ]
  },
  {
   "cell_type": "code",
   "execution_count": 15,
   "metadata": {},
   "outputs": [],
   "source": [
    "os.chdir('..')"
   ]
  },
  {
   "cell_type": "code",
   "execution_count": 16,
   "metadata": {},
   "outputs": [],
   "source": [
    "base_cache_dir = r'E:\\Projects\\portfolio_optimizers\\classifier_optimizer'\n",
    "global_classifier_cache = Cache(os.path.join(base_cache_dir, 'global_classifier_cache'))"
   ]
  },
  {
   "cell_type": "code",
   "execution_count": 17,
   "metadata": {},
   "outputs": [],
   "source": [
    "import requests\n",
    "import json\n",
    "\n",
    "url = \"https://api.coingecko.com/api/v3/coins/defipulse-index/market_chart?vs_currency=usd&days=365\"\n",
    "\n",
    "headers = {\n",
    "    \"accept\": \"application/json\",\n",
    "    \"x-cg-demo-api-key\": COINGEKCO_KEY\n",
    "}\n",
    "\n",
    "response = requests.get(url, headers=headers)\n",
    "response_text = response.text\n",
    "data = json.loads(response_text)\n",
    "df_prices = pd.DataFrame(data[\"prices\"], columns=[\"timestamp\", \"price\"])\n",
    "df_prices[\"timestamp\"] = pd.to_datetime(df_prices[\"timestamp\"], unit='ms')  # Convert to datetime\n",
    "df_prices.set_index('timestamp',inplace=True)\n",
    "model_name = global_classifier_cache.get('current_model_name')\n",
    "df = pd.read_csv(f'E:/Projects/portfolio_optimizers/classifier_optimizer/results/{model_name}/norm_returns.csv')\n",
    "df['Unnamed: 0'] = pd.to_datetime(df['Unnamed: 0'])\n",
    "df.set_index('Unnamed: 0',inplace=True)\n",
    "daily_df = df.resample('D').last()\n",
    "daily_df.index = pd.to_datetime(daily_df.index.strftime('%Y-%m-%d'))\n",
    "df_prices.rename(columns={'price':'DPI Price'},inplace=True)\n",
    "daily_df.rename(columns={\"Return\":\"Portfolio Return\"},inplace=True)\n",
    "analysis_df = pd.merge(\n",
    "    df_prices,\n",
    "    daily_df,\n",
    "    left_index=True,\n",
    "    right_index=True,\n",
    "    how='inner'\n",
    ")"
   ]
  },
  {
   "cell_type": "code",
   "execution_count": 22,
   "metadata": {},
   "outputs": [
    {
     "data": {
      "text/html": [
       "<div>\n",
       "<style scoped>\n",
       "    .dataframe tbody tr th:only-of-type {\n",
       "        vertical-align: middle;\n",
       "    }\n",
       "\n",
       "    .dataframe tbody tr th {\n",
       "        vertical-align: top;\n",
       "    }\n",
       "\n",
       "    .dataframe thead th {\n",
       "        text-align: right;\n",
       "    }\n",
       "</style>\n",
       "<table border=\"1\" class=\"dataframe\">\n",
       "  <thead>\n",
       "    <tr style=\"text-align: right;\">\n",
       "      <th></th>\n",
       "      <th>DPI Price</th>\n",
       "      <th>Portfolio Return</th>\n",
       "    </tr>\n",
       "  </thead>\n",
       "  <tbody>\n",
       "    <tr>\n",
       "      <th>2025-01-12</th>\n",
       "      <td>132.884904</td>\n",
       "      <td>100.266505</td>\n",
       "    </tr>\n",
       "    <tr>\n",
       "      <th>2025-01-13</th>\n",
       "      <td>131.207207</td>\n",
       "      <td>99.559836</td>\n",
       "    </tr>\n",
       "    <tr>\n",
       "      <th>2025-01-14</th>\n",
       "      <td>127.816116</td>\n",
       "      <td>104.109374</td>\n",
       "    </tr>\n",
       "    <tr>\n",
       "      <th>2025-01-15</th>\n",
       "      <td>133.163905</td>\n",
       "      <td>113.872129</td>\n",
       "    </tr>\n",
       "    <tr>\n",
       "      <th>2025-01-16</th>\n",
       "      <td>144.168956</td>\n",
       "      <td>126.995832</td>\n",
       "    </tr>\n",
       "    <tr>\n",
       "      <th>2025-01-17</th>\n",
       "      <td>139.584260</td>\n",
       "      <td>154.843689</td>\n",
       "    </tr>\n",
       "    <tr>\n",
       "      <th>2025-01-18</th>\n",
       "      <td>149.700699</td>\n",
       "      <td>153.978711</td>\n",
       "    </tr>\n",
       "    <tr>\n",
       "      <th>2025-01-19</th>\n",
       "      <td>138.318733</td>\n",
       "      <td>165.542216</td>\n",
       "    </tr>\n",
       "    <tr>\n",
       "      <th>2025-01-20</th>\n",
       "      <td>133.915371</td>\n",
       "      <td>171.276958</td>\n",
       "    </tr>\n",
       "    <tr>\n",
       "      <th>2025-01-21</th>\n",
       "      <td>139.439875</td>\n",
       "      <td>170.633029</td>\n",
       "    </tr>\n",
       "    <tr>\n",
       "      <th>2025-01-22</th>\n",
       "      <td>145.637174</td>\n",
       "      <td>174.205578</td>\n",
       "    </tr>\n",
       "    <tr>\n",
       "      <th>2025-01-23</th>\n",
       "      <td>136.703619</td>\n",
       "      <td>173.925655</td>\n",
       "    </tr>\n",
       "    <tr>\n",
       "      <th>2025-01-24</th>\n",
       "      <td>136.155522</td>\n",
       "      <td>178.264701</td>\n",
       "    </tr>\n",
       "    <tr>\n",
       "      <th>2025-01-25</th>\n",
       "      <td>135.128705</td>\n",
       "      <td>176.977559</td>\n",
       "    </tr>\n",
       "    <tr>\n",
       "      <th>2025-01-26</th>\n",
       "      <td>135.088818</td>\n",
       "      <td>176.918971</td>\n",
       "    </tr>\n",
       "    <tr>\n",
       "      <th>2025-01-27</th>\n",
       "      <td>129.257752</td>\n",
       "      <td>177.178101</td>\n",
       "    </tr>\n",
       "    <tr>\n",
       "      <th>2025-01-28</th>\n",
       "      <td>124.374211</td>\n",
       "      <td>176.300175</td>\n",
       "    </tr>\n",
       "    <tr>\n",
       "      <th>2025-01-29</th>\n",
       "      <td>115.933171</td>\n",
       "      <td>176.999329</td>\n",
       "    </tr>\n",
       "    <tr>\n",
       "      <th>2025-01-30</th>\n",
       "      <td>120.802051</td>\n",
       "      <td>177.178101</td>\n",
       "    </tr>\n",
       "    <tr>\n",
       "      <th>2025-01-31</th>\n",
       "      <td>128.499554</td>\n",
       "      <td>176.916493</td>\n",
       "    </tr>\n",
       "    <tr>\n",
       "      <th>2025-02-01</th>\n",
       "      <td>132.994534</td>\n",
       "      <td>158.548138</td>\n",
       "    </tr>\n",
       "    <tr>\n",
       "      <th>2025-02-02</th>\n",
       "      <td>119.925272</td>\n",
       "      <td>139.293733</td>\n",
       "    </tr>\n",
       "    <tr>\n",
       "      <th>2025-02-03</th>\n",
       "      <td>104.734885</td>\n",
       "      <td>206.090836</td>\n",
       "    </tr>\n",
       "    <tr>\n",
       "      <th>2025-02-04</th>\n",
       "      <td>111.847078</td>\n",
       "      <td>186.939757</td>\n",
       "    </tr>\n",
       "    <tr>\n",
       "      <th>2025-02-05</th>\n",
       "      <td>104.134375</td>\n",
       "      <td>191.584033</td>\n",
       "    </tr>\n",
       "    <tr>\n",
       "      <th>2025-02-06</th>\n",
       "      <td>101.755116</td>\n",
       "      <td>191.239182</td>\n",
       "    </tr>\n",
       "    <tr>\n",
       "      <th>2025-02-07</th>\n",
       "      <td>96.114562</td>\n",
       "      <td>191.775617</td>\n",
       "    </tr>\n",
       "    <tr>\n",
       "      <th>2025-02-08</th>\n",
       "      <td>95.783755</td>\n",
       "      <td>191.775617</td>\n",
       "    </tr>\n",
       "    <tr>\n",
       "      <th>2025-02-09</th>\n",
       "      <td>97.185088</td>\n",
       "      <td>189.147042</td>\n",
       "    </tr>\n",
       "    <tr>\n",
       "      <th>2025-02-10</th>\n",
       "      <td>95.589051</td>\n",
       "      <td>188.138226</td>\n",
       "    </tr>\n",
       "    <tr>\n",
       "      <th>2025-02-11</th>\n",
       "      <td>99.724028</td>\n",
       "      <td>188.945584</td>\n",
       "    </tr>\n",
       "    <tr>\n",
       "      <th>2025-02-12</th>\n",
       "      <td>98.781501</td>\n",
       "      <td>189.437610</td>\n",
       "    </tr>\n",
       "    <tr>\n",
       "      <th>2025-02-13</th>\n",
       "      <td>103.050341</td>\n",
       "      <td>189.665453</td>\n",
       "    </tr>\n",
       "    <tr>\n",
       "      <th>2025-02-14</th>\n",
       "      <td>101.630499</td>\n",
       "      <td>193.815231</td>\n",
       "    </tr>\n",
       "    <tr>\n",
       "      <th>2025-02-15</th>\n",
       "      <td>105.813402</td>\n",
       "      <td>192.184506</td>\n",
       "    </tr>\n",
       "    <tr>\n",
       "      <th>2025-02-16</th>\n",
       "      <td>103.204766</td>\n",
       "      <td>191.305485</td>\n",
       "    </tr>\n",
       "    <tr>\n",
       "      <th>2025-02-17</th>\n",
       "      <td>101.801678</td>\n",
       "      <td>196.357899</td>\n",
       "    </tr>\n",
       "    <tr>\n",
       "      <th>2025-02-18</th>\n",
       "      <td>104.998820</td>\n",
       "      <td>193.636472</td>\n",
       "    </tr>\n",
       "    <tr>\n",
       "      <th>2025-02-19</th>\n",
       "      <td>100.402879</td>\n",
       "      <td>198.744126</td>\n",
       "    </tr>\n",
       "    <tr>\n",
       "      <th>2025-02-20</th>\n",
       "      <td>100.770774</td>\n",
       "      <td>196.352124</td>\n",
       "    </tr>\n",
       "    <tr>\n",
       "      <th>2025-02-21</th>\n",
       "      <td>104.930701</td>\n",
       "      <td>195.997973</td>\n",
       "    </tr>\n",
       "    <tr>\n",
       "      <th>2025-02-22</th>\n",
       "      <td>100.388639</td>\n",
       "      <td>195.755657</td>\n",
       "    </tr>\n",
       "    <tr>\n",
       "      <th>2025-02-23</th>\n",
       "      <td>102.847721</td>\n",
       "      <td>196.048946</td>\n",
       "    </tr>\n",
       "    <tr>\n",
       "      <th>2025-02-24</th>\n",
       "      <td>102.952884</td>\n",
       "      <td>196.244995</td>\n",
       "    </tr>\n",
       "    <tr>\n",
       "      <th>2025-02-25</th>\n",
       "      <td>88.867179</td>\n",
       "      <td>225.893193</td>\n",
       "    </tr>\n",
       "    <tr>\n",
       "      <th>2025-02-26</th>\n",
       "      <td>91.910677</td>\n",
       "      <td>224.322819</td>\n",
       "    </tr>\n",
       "  </tbody>\n",
       "</table>\n",
       "</div>"
      ],
      "text/plain": [
       "             DPI Price  Portfolio Return\n",
       "2025-01-12  132.884904        100.266505\n",
       "2025-01-13  131.207207         99.559836\n",
       "2025-01-14  127.816116        104.109374\n",
       "2025-01-15  133.163905        113.872129\n",
       "2025-01-16  144.168956        126.995832\n",
       "2025-01-17  139.584260        154.843689\n",
       "2025-01-18  149.700699        153.978711\n",
       "2025-01-19  138.318733        165.542216\n",
       "2025-01-20  133.915371        171.276958\n",
       "2025-01-21  139.439875        170.633029\n",
       "2025-01-22  145.637174        174.205578\n",
       "2025-01-23  136.703619        173.925655\n",
       "2025-01-24  136.155522        178.264701\n",
       "2025-01-25  135.128705        176.977559\n",
       "2025-01-26  135.088818        176.918971\n",
       "2025-01-27  129.257752        177.178101\n",
       "2025-01-28  124.374211        176.300175\n",
       "2025-01-29  115.933171        176.999329\n",
       "2025-01-30  120.802051        177.178101\n",
       "2025-01-31  128.499554        176.916493\n",
       "2025-02-01  132.994534        158.548138\n",
       "2025-02-02  119.925272        139.293733\n",
       "2025-02-03  104.734885        206.090836\n",
       "2025-02-04  111.847078        186.939757\n",
       "2025-02-05  104.134375        191.584033\n",
       "2025-02-06  101.755116        191.239182\n",
       "2025-02-07   96.114562        191.775617\n",
       "2025-02-08   95.783755        191.775617\n",
       "2025-02-09   97.185088        189.147042\n",
       "2025-02-10   95.589051        188.138226\n",
       "2025-02-11   99.724028        188.945584\n",
       "2025-02-12   98.781501        189.437610\n",
       "2025-02-13  103.050341        189.665453\n",
       "2025-02-14  101.630499        193.815231\n",
       "2025-02-15  105.813402        192.184506\n",
       "2025-02-16  103.204766        191.305485\n",
       "2025-02-17  101.801678        196.357899\n",
       "2025-02-18  104.998820        193.636472\n",
       "2025-02-19  100.402879        198.744126\n",
       "2025-02-20  100.770774        196.352124\n",
       "2025-02-21  104.930701        195.997973\n",
       "2025-02-22  100.388639        195.755657\n",
       "2025-02-23  102.847721        196.048946\n",
       "2025-02-24  102.952884        196.244995\n",
       "2025-02-25   88.867179        225.893193\n",
       "2025-02-26   91.910677        224.322819"
      ]
     },
     "execution_count": 22,
     "metadata": {},
     "output_type": "execute_result"
    }
   ],
   "source": [
    "analysis_df"
   ]
  },
  {
   "cell_type": "code",
   "execution_count": 18,
   "metadata": {},
   "outputs": [
    {
     "name": "stderr",
     "output_type": "stream",
     "text": [
      "e:\\Projects\\steth_optimizer\\steth_optimizer\\Lib\\site-packages\\pydantic\\_internal\\_config.py:341: UserWarning:\n",
      "\n",
      "Valid config keys have changed in V2:\n",
      "* 'fields' has been removed\n",
      "\n",
      "2025-02-27 15:56:14.463 WARNING streamlit.runtime.caching.cache_data_api: No runtime found, using MemoryCacheStorageManager\n"
     ]
    }
   ],
   "source": [
    "from python_scripts.utils import calculate_cagr, calculate_beta"
   ]
  },
  {
   "cell_type": "code",
   "execution_count": 19,
   "metadata": {},
   "outputs": [
    {
     "name": "stdout",
     "output_type": "stream",
     "text": [
      "cagr history: 2025-01-12    132.884904\n",
      "2025-01-13    131.207207\n",
      "2025-01-14    127.816116\n",
      "2025-01-15    133.163905\n",
      "2025-01-16    144.168956\n",
      "2025-01-17    139.584260\n",
      "2025-01-18    149.700699\n",
      "2025-01-19    138.318733\n",
      "2025-01-20    133.915371\n",
      "2025-01-21    139.439875\n",
      "2025-01-22    145.637174\n",
      "2025-01-23    136.703619\n",
      "2025-01-24    136.155522\n",
      "2025-01-25    135.128705\n",
      "2025-01-26    135.088818\n",
      "2025-01-27    129.257752\n",
      "2025-01-28    124.374211\n",
      "2025-01-29    115.933171\n",
      "2025-01-30    120.802051\n",
      "2025-01-31    128.499554\n",
      "2025-02-01    132.994534\n",
      "2025-02-02    119.925272\n",
      "2025-02-03    104.734885\n",
      "2025-02-04    111.847078\n",
      "2025-02-05    104.134375\n",
      "2025-02-06    101.755116\n",
      "2025-02-07     96.114562\n",
      "2025-02-08     95.783755\n",
      "2025-02-09     97.185088\n",
      "2025-02-10     95.589051\n",
      "2025-02-11     99.724028\n",
      "2025-02-12     98.781501\n",
      "2025-02-13    103.050341\n",
      "2025-02-14    101.630499\n",
      "2025-02-15    105.813402\n",
      "2025-02-16    103.204766\n",
      "2025-02-17    101.801678\n",
      "2025-02-18    104.998820\n",
      "2025-02-19    100.402879\n",
      "2025-02-20    100.770774\n",
      "2025-02-21    104.930701\n",
      "2025-02-22    100.388639\n",
      "2025-02-23    102.847721\n",
      "2025-02-24    102.952884\n",
      "2025-02-25     88.867179\n",
      "2025-02-26     91.910677\n",
      "Name: DPI Price, dtype: float64\n",
      "cagr history: 2025-01-12    100.266505\n",
      "2025-01-13     99.559836\n",
      "2025-01-14    104.109374\n",
      "2025-01-15    113.872129\n",
      "2025-01-16    126.995832\n",
      "2025-01-17    154.843689\n",
      "2025-01-18    153.978711\n",
      "2025-01-19    165.542216\n",
      "2025-01-20    171.276958\n",
      "2025-01-21    170.633029\n",
      "2025-01-22    174.205578\n",
      "2025-01-23    173.925655\n",
      "2025-01-24    178.264701\n",
      "2025-01-25    176.977559\n",
      "2025-01-26    176.918971\n",
      "2025-01-27    177.178101\n",
      "2025-01-28    176.300175\n",
      "2025-01-29    176.999329\n",
      "2025-01-30    177.178101\n",
      "2025-01-31    176.916493\n",
      "2025-02-01    158.548138\n",
      "2025-02-02    139.293733\n",
      "2025-02-03    206.090836\n",
      "2025-02-04    186.939757\n",
      "2025-02-05    191.584033\n",
      "2025-02-06    191.239182\n",
      "2025-02-07    191.775617\n",
      "2025-02-08    191.775617\n",
      "2025-02-09    189.147042\n",
      "2025-02-10    188.138226\n",
      "2025-02-11    188.945584\n",
      "2025-02-12    189.437610\n",
      "2025-02-13    189.665453\n",
      "2025-02-14    193.815231\n",
      "2025-02-15    192.184506\n",
      "2025-02-16    191.305485\n",
      "2025-02-17    196.357899\n",
      "2025-02-18    193.636472\n",
      "2025-02-19    198.744126\n",
      "2025-02-20    196.352124\n",
      "2025-02-21    195.997973\n",
      "2025-02-22    195.755657\n",
      "2025-02-23    196.048946\n",
      "2025-02-24    196.244995\n",
      "2025-02-25    225.893193\n",
      "2025-02-26    224.322819\n",
      "Name: Portfolio Return, dtype: float64\n"
     ]
    },
    {
     "data": {
      "text/plain": [
       "'72.50%'"
      ]
     },
     "execution_count": 19,
     "metadata": {},
     "output_type": "execute_result"
    }
   ],
   "source": [
    "dpi_cagr = calculate_cagr(analysis_df['DPI Price'])\n",
    "current_risk_free = 0.047\n",
    "dpi_cumulative_risk_premium = dpi_cagr - current_risk_free\n",
    "portfolio_cagr = calculate_cagr(analysis_df['Portfolio Return'])\n",
    "portfolio_beta = calculate_beta(analysis_df, 'DPI Price'\n",
    "                                ,'Portfolio Return')\n",
    "portfolio_expected_return = current_risk_free + (portfolio_beta*dpi_cumulative_risk_premium)\n",
    "f'{portfolio_expected_return * 100:.2f}%'"
   ]
  },
  {
   "cell_type": "markdown",
   "metadata": {},
   "source": [
    "# Expected return over one year (annualzied)\n",
    "\n",
    "Cost of Equity (14.98%) indicates the annualized rate of return required by investors for holding equity in this portfolio.\n",
    "It represents the compensation investors expect for the risk they take by investing in this portfolio instead of a risk-free asset."
   ]
  },
  {
   "cell_type": "code",
   "execution_count": 20,
   "metadata": {},
   "outputs": [
    {
     "data": {
      "text/plain": [
       "0.7249868530777032"
      ]
     },
     "execution_count": 20,
     "metadata": {},
     "output_type": "execute_result"
    }
   ],
   "source": [
    "portfolio_expected_return"
   ]
  },
  {
   "cell_type": "code",
   "execution_count": 21,
   "metadata": {},
   "outputs": [],
   "source": [
    "def calculate_expected_return():\n",
    "    url = \"https://api.coingecko.com/api/v3/coins/defipulse-index/market_chart?vs_currency=usd&days=365\"\n",
    "\n",
    "    headers = {\n",
    "        \"accept\": \"application/json\",\n",
    "        \"x-cg-demo-api-key\": COINGEKCO_KEY\n",
    "    }\n",
    "\n",
    "    response = requests.get(url, headers=headers)\n",
    "    response_text = response.text\n",
    "    data = json.loads(response_text)\n",
    "    df_prices = pd.DataFrame(data[\"prices\"], columns=[\"timestamp\", \"price\"])\n",
    "    df_prices[\"timestamp\"] = pd.to_datetime(df_prices[\"timestamp\"], unit='ms')  # Convert to datetime\n",
    "    df_prices.set_index('timestamp',inplace=True)\n",
    "    model_name = global_classifier_cache.get('current_model_name')\n",
    "    df = pd.read_csv(f'E:/Projects/portfolio_optimizers/classifier_optimizer/results/{model_name}/norm_returns.csv')\n",
    "    df['Unnamed: 0'] = pd.to_datetime(df['Unnamed: 0'])\n",
    "    df.set_index('Unnamed: 0',inplace=True)\n",
    "    daily_df = df.resample('D').last()\n",
    "    daily_df.index = pd.to_datetime(daily_df.index.strftime('%Y-%m-%d'))\n",
    "    df_prices.rename(columns={'price':'DPI Price'},inplace=True)\n",
    "    daily_df.rename(columns={\"Return\":\"Portfolio Return\"},inplace=True)\n",
    "    analysis_df = pd.merge(\n",
    "        df_prices,\n",
    "        daily_df,\n",
    "        left_index=True,\n",
    "        right_index=True,\n",
    "        how='inner'\n",
    "    )\n",
    "    dpi_cagr = calculate_cagr(analysis_df['DPI Price'])\n",
    "    # current_risk_free = 0.047\n",
    "    dpi_cumulative_risk_premium = dpi_cagr - current_risk_free\n",
    "    portfolio_cagr = calculate_cagr(analysis_df['Portfolio Return'])\n",
    "    portfolio_beta = calculate_beta(analysis_df, 'DPI Price'\n",
    "                                    ,'Portfolio Return')\n",
    "    portfolio_expected_return = current_risk_free + (portfolio_beta*dpi_cumulative_risk_premium)\n",
    "    f'{portfolio_expected_return * 100:.2f}%'\n",
    "    \n",
    "    return portfolio_expected_return\n",
    "    "
   ]
  }
 ],
 "metadata": {
  "kernelspec": {
   "display_name": "steth_optimizer",
   "language": "python",
   "name": "steth_optimizer"
  },
  "language_info": {
   "codemirror_mode": {
    "name": "ipython",
    "version": 3
   },
   "file_extension": ".py",
   "mimetype": "text/x-python",
   "name": "python",
   "nbconvert_exporter": "python",
   "pygments_lexer": "ipython3",
   "version": "3.11.9"
  }
 },
 "nbformat": 4,
 "nbformat_minor": 2
}
